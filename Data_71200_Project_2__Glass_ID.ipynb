{
  "nbformat": 4,
  "nbformat_minor": 0,
  "metadata": {
    "colab": {
      "provenance": [],
      "authorship_tag": "ABX9TyNOLnT5KCT94yNXzvNxXA5K",
      "include_colab_link": true
    },
    "kernelspec": {
      "name": "python3",
      "display_name": "Python 3"
    },
    "language_info": {
      "name": "python"
    }
  },
  "cells": [
    {
      "cell_type": "markdown",
      "metadata": {
        "id": "view-in-github",
        "colab_type": "text"
      },
      "source": [
        "<a href=\"https://colab.research.google.com/github/atoothman/Data-71200-Projects-/blob/main/Data_71200_Project_2__Glass_ID.ipynb\" target=\"_parent\"><img src=\"https://colab.research.google.com/assets/colab-badge.svg\" alt=\"Open In Colab\"/></a>"
      ]
    },
    {
      "cell_type": "markdown",
      "source": [
        "# DATA 71200 - Project 2 Glass Identification\n",
        "\n",
        "This project involves the analysis of the [Glass Identification](https://archive.ics.uci.edu/dataset/42/glass+identification) dataset, sourced from the UC Irvine Machine Learning Repository. The dataset contains information on 6 types of glass defined in terms of their oxide content. The study of classification of types of glass was motivated by criminological investigation and broken glass left at crime scenes.\n",
        "\n",
        "**Dataset Description**\n",
        "\n",
        "1. ID Number\n",
        "2. RI (refractive Index)\n",
        "3. Na (Sodium)\n",
        "4. MG (Magnesium)\n",
        "5. Al (Aluminum)\n",
        "6. Si (Silicon)\n",
        "7. K (Potassium)\n",
        "8. Ca (Calcium)\n",
        "9. Ba (Barium)\n",
        "10. Fe (Iron)\n",
        "11. Type of Glass (Class)\n",
        "      *   building_windows_float_processed\n",
        "      *   building_windows_non_float_processed\n",
        "      *   vehicle_windows_float_processed\n",
        "      *   vehicle_windows_non_float_processed (none in this database)\n",
        "      *   containers\n",
        "      *   tableware\n",
        "      *   headlamps\n",
        "\n",
        "9 Features are included in the dataset. There are 8 continuous features, 1 integer feature and 1 categorical feature.\n",
        "\n",
        "The categorical feature Type of Glass/\"Class\" is divided into seven distinct categories (listed above) which are associated with the product the glass created. \"Class\" will serve as the target in this project.\n",
        "\n",
        "**Objective**\n",
        "Project 2 is building off the work of [Project 1](https://colab.research.google.com/drive/1i24JixOkYadlSOzYcKsIA-W-WyRru1XJ#scrollTo=VQdeW82USQMA).\n",
        "\n",
        "The objective of this project is the application of two supervised learning algorithms (K-Nearest Neighbor and Decision Trees) with a range of parameter settings to determine which performs better.\n",
        "\n",
        "The categorical feature \"Class\" is divided into seven distinct categories which are associated with the types the glass. \"Class\" will serve as the target in this project."
      ],
      "metadata": {
        "id": "VNSuLZ6eeNBo"
      }
    },
    {
      "cell_type": "markdown",
      "source": [
        "# Step 1: Load your data, including testing/training split from Project 1"
      ],
      "metadata": {
        "id": "EJ9kT9SVejGQ"
      }
    },
    {
      "cell_type": "markdown",
      "source": [
        "### Load Data from project 1 and drop ID Column\n"
      ],
      "metadata": {
        "id": "BpjsZ0_sfURG"
      }
    },
    {
      "cell_type": "code",
      "source": [
        "import pandas as pd\n",
        "\n",
        "# Raw URL of the dataset file on GitHub\n",
        "url = \"https://raw.githubusercontent.com/atoothman/Data-71200-Projects-/main/glass%2Bidentification/glass.data\"\n",
        "\n",
        "\n",
        "# Load the dataset into DataFrame\n",
        "glass_df = pd.read_csv(url, header=None, index_col=False, names=[\n",
        "    'ID', 'Refractive Index', 'Sodium', 'Magnesium', 'Aluminum',\n",
        "    'Silicon', 'Potassium', 'Calcium', 'Barium', 'Iron', 'Class'])\n",
        "\n",
        "# Display the DataFrame before dropping 'ID'\n",
        "print(\"Before dropping 'ID':\")\n",
        "print(glass_df.head())\n",
        "\n",
        "# Drop the 'ID' column\n",
        "glass_df.drop(columns=['ID'], inplace=True)\n",
        "\n",
        "# Display the DataFrame after dropping 'ID'\n",
        "print(\"\\nAfter dropping 'ID':\")\n",
        "print(glass_df.head())"
      ],
      "metadata": {
        "colab": {
          "base_uri": "https://localhost:8080/"
        },
        "id": "8PCOWjHvfOUf",
        "outputId": "8f1834b7-45c0-4c4d-895f-f0ed7ccdc76e"
      },
      "execution_count": 5,
      "outputs": [
        {
          "output_type": "stream",
          "name": "stdout",
          "text": [
            "Before dropping 'ID':\n",
            "   ID  Refractive Index  Sodium  Magnesium  Aluminum  Silicon  Potassium  \\\n",
            "0   1           1.52101   13.64       4.49      1.10    71.78       0.06   \n",
            "1   2           1.51761   13.89       3.60      1.36    72.73       0.48   \n",
            "2   3           1.51618   13.53       3.55      1.54    72.99       0.39   \n",
            "3   4           1.51766   13.21       3.69      1.29    72.61       0.57   \n",
            "4   5           1.51742   13.27       3.62      1.24    73.08       0.55   \n",
            "\n",
            "   Calcium  Barium  Iron  Class  \n",
            "0     8.75     0.0   0.0      1  \n",
            "1     7.83     0.0   0.0      1  \n",
            "2     7.78     0.0   0.0      1  \n",
            "3     8.22     0.0   0.0      1  \n",
            "4     8.07     0.0   0.0      1  \n",
            "\n",
            "After dropping 'ID':\n",
            "   Refractive Index  Sodium  Magnesium  Aluminum  Silicon  Potassium  Calcium  \\\n",
            "0           1.52101   13.64       4.49      1.10    71.78       0.06     8.75   \n",
            "1           1.51761   13.89       3.60      1.36    72.73       0.48     7.83   \n",
            "2           1.51618   13.53       3.55      1.54    72.99       0.39     7.78   \n",
            "3           1.51766   13.21       3.69      1.29    72.61       0.57     8.22   \n",
            "4           1.51742   13.27       3.62      1.24    73.08       0.55     8.07   \n",
            "\n",
            "   Barium  Iron  Class  \n",
            "0     0.0   0.0      1  \n",
            "1     0.0   0.0      1  \n",
            "2     0.0   0.0      1  \n",
            "3     0.0   0.0      1  \n",
            "4     0.0   0.0      1  \n"
          ]
        }
      ]
    },
    {
      "cell_type": "markdown",
      "source": [
        "Dropped ID column as it contained sequential numbers for the dataset which is redundant information and provided by the index column"
      ],
      "metadata": {
        "id": "8jnqNpBuhFPp"
      }
    },
    {
      "cell_type": "markdown",
      "source": [
        "### Show info and description of data\n"
      ],
      "metadata": {
        "id": "x9aML0XSfne-"
      }
    },
    {
      "cell_type": "code",
      "source": [
        "# Display glass_data DF and check that all features are listed\n",
        "display(glass_df)\n",
        "\n",
        "# Show info on glass_df\n",
        "print(\"Info on glass_df:\")\n",
        "glass_df.info()\n",
        "print()\n",
        "\n",
        "# Show description of glass_df\n",
        "print(\"Description of glass_df:\")\n",
        "glass_df.describe()"
      ],
      "metadata": {
        "colab": {
          "base_uri": "https://localhost:8080/",
          "height": 1308
        },
        "id": "AqplZ7WUfzNi",
        "outputId": "1a2c15c8-7763-4b80-a45a-35806f471277"
      },
      "execution_count": 6,
      "outputs": [
        {
          "output_type": "display_data",
          "data": {
            "text/plain": [
              "     Refractive Index  Sodium  Magnesium  Aluminum  Silicon  Potassium  \\\n",
              "0             1.52101   13.64       4.49      1.10    71.78       0.06   \n",
              "1             1.51761   13.89       3.60      1.36    72.73       0.48   \n",
              "2             1.51618   13.53       3.55      1.54    72.99       0.39   \n",
              "3             1.51766   13.21       3.69      1.29    72.61       0.57   \n",
              "4             1.51742   13.27       3.62      1.24    73.08       0.55   \n",
              "..                ...     ...        ...       ...      ...        ...   \n",
              "209           1.51623   14.14       0.00      2.88    72.61       0.08   \n",
              "210           1.51685   14.92       0.00      1.99    73.06       0.00   \n",
              "211           1.52065   14.36       0.00      2.02    73.42       0.00   \n",
              "212           1.51651   14.38       0.00      1.94    73.61       0.00   \n",
              "213           1.51711   14.23       0.00      2.08    73.36       0.00   \n",
              "\n",
              "     Calcium  Barium  Iron  Class  \n",
              "0       8.75    0.00   0.0      1  \n",
              "1       7.83    0.00   0.0      1  \n",
              "2       7.78    0.00   0.0      1  \n",
              "3       8.22    0.00   0.0      1  \n",
              "4       8.07    0.00   0.0      1  \n",
              "..       ...     ...   ...    ...  \n",
              "209     9.18    1.06   0.0      7  \n",
              "210     8.40    1.59   0.0      7  \n",
              "211     8.44    1.64   0.0      7  \n",
              "212     8.48    1.57   0.0      7  \n",
              "213     8.62    1.67   0.0      7  \n",
              "\n",
              "[214 rows x 10 columns]"
            ],
            "text/html": [
              "\n",
              "  <div id=\"df-953f7300-baef-4310-9570-651eaaa683a7\" class=\"colab-df-container\">\n",
              "    <div>\n",
              "<style scoped>\n",
              "    .dataframe tbody tr th:only-of-type {\n",
              "        vertical-align: middle;\n",
              "    }\n",
              "\n",
              "    .dataframe tbody tr th {\n",
              "        vertical-align: top;\n",
              "    }\n",
              "\n",
              "    .dataframe thead th {\n",
              "        text-align: right;\n",
              "    }\n",
              "</style>\n",
              "<table border=\"1\" class=\"dataframe\">\n",
              "  <thead>\n",
              "    <tr style=\"text-align: right;\">\n",
              "      <th></th>\n",
              "      <th>Refractive Index</th>\n",
              "      <th>Sodium</th>\n",
              "      <th>Magnesium</th>\n",
              "      <th>Aluminum</th>\n",
              "      <th>Silicon</th>\n",
              "      <th>Potassium</th>\n",
              "      <th>Calcium</th>\n",
              "      <th>Barium</th>\n",
              "      <th>Iron</th>\n",
              "      <th>Class</th>\n",
              "    </tr>\n",
              "  </thead>\n",
              "  <tbody>\n",
              "    <tr>\n",
              "      <th>0</th>\n",
              "      <td>1.52101</td>\n",
              "      <td>13.64</td>\n",
              "      <td>4.49</td>\n",
              "      <td>1.10</td>\n",
              "      <td>71.78</td>\n",
              "      <td>0.06</td>\n",
              "      <td>8.75</td>\n",
              "      <td>0.00</td>\n",
              "      <td>0.0</td>\n",
              "      <td>1</td>\n",
              "    </tr>\n",
              "    <tr>\n",
              "      <th>1</th>\n",
              "      <td>1.51761</td>\n",
              "      <td>13.89</td>\n",
              "      <td>3.60</td>\n",
              "      <td>1.36</td>\n",
              "      <td>72.73</td>\n",
              "      <td>0.48</td>\n",
              "      <td>7.83</td>\n",
              "      <td>0.00</td>\n",
              "      <td>0.0</td>\n",
              "      <td>1</td>\n",
              "    </tr>\n",
              "    <tr>\n",
              "      <th>2</th>\n",
              "      <td>1.51618</td>\n",
              "      <td>13.53</td>\n",
              "      <td>3.55</td>\n",
              "      <td>1.54</td>\n",
              "      <td>72.99</td>\n",
              "      <td>0.39</td>\n",
              "      <td>7.78</td>\n",
              "      <td>0.00</td>\n",
              "      <td>0.0</td>\n",
              "      <td>1</td>\n",
              "    </tr>\n",
              "    <tr>\n",
              "      <th>3</th>\n",
              "      <td>1.51766</td>\n",
              "      <td>13.21</td>\n",
              "      <td>3.69</td>\n",
              "      <td>1.29</td>\n",
              "      <td>72.61</td>\n",
              "      <td>0.57</td>\n",
              "      <td>8.22</td>\n",
              "      <td>0.00</td>\n",
              "      <td>0.0</td>\n",
              "      <td>1</td>\n",
              "    </tr>\n",
              "    <tr>\n",
              "      <th>4</th>\n",
              "      <td>1.51742</td>\n",
              "      <td>13.27</td>\n",
              "      <td>3.62</td>\n",
              "      <td>1.24</td>\n",
              "      <td>73.08</td>\n",
              "      <td>0.55</td>\n",
              "      <td>8.07</td>\n",
              "      <td>0.00</td>\n",
              "      <td>0.0</td>\n",
              "      <td>1</td>\n",
              "    </tr>\n",
              "    <tr>\n",
              "      <th>...</th>\n",
              "      <td>...</td>\n",
              "      <td>...</td>\n",
              "      <td>...</td>\n",
              "      <td>...</td>\n",
              "      <td>...</td>\n",
              "      <td>...</td>\n",
              "      <td>...</td>\n",
              "      <td>...</td>\n",
              "      <td>...</td>\n",
              "      <td>...</td>\n",
              "    </tr>\n",
              "    <tr>\n",
              "      <th>209</th>\n",
              "      <td>1.51623</td>\n",
              "      <td>14.14</td>\n",
              "      <td>0.00</td>\n",
              "      <td>2.88</td>\n",
              "      <td>72.61</td>\n",
              "      <td>0.08</td>\n",
              "      <td>9.18</td>\n",
              "      <td>1.06</td>\n",
              "      <td>0.0</td>\n",
              "      <td>7</td>\n",
              "    </tr>\n",
              "    <tr>\n",
              "      <th>210</th>\n",
              "      <td>1.51685</td>\n",
              "      <td>14.92</td>\n",
              "      <td>0.00</td>\n",
              "      <td>1.99</td>\n",
              "      <td>73.06</td>\n",
              "      <td>0.00</td>\n",
              "      <td>8.40</td>\n",
              "      <td>1.59</td>\n",
              "      <td>0.0</td>\n",
              "      <td>7</td>\n",
              "    </tr>\n",
              "    <tr>\n",
              "      <th>211</th>\n",
              "      <td>1.52065</td>\n",
              "      <td>14.36</td>\n",
              "      <td>0.00</td>\n",
              "      <td>2.02</td>\n",
              "      <td>73.42</td>\n",
              "      <td>0.00</td>\n",
              "      <td>8.44</td>\n",
              "      <td>1.64</td>\n",
              "      <td>0.0</td>\n",
              "      <td>7</td>\n",
              "    </tr>\n",
              "    <tr>\n",
              "      <th>212</th>\n",
              "      <td>1.51651</td>\n",
              "      <td>14.38</td>\n",
              "      <td>0.00</td>\n",
              "      <td>1.94</td>\n",
              "      <td>73.61</td>\n",
              "      <td>0.00</td>\n",
              "      <td>8.48</td>\n",
              "      <td>1.57</td>\n",
              "      <td>0.0</td>\n",
              "      <td>7</td>\n",
              "    </tr>\n",
              "    <tr>\n",
              "      <th>213</th>\n",
              "      <td>1.51711</td>\n",
              "      <td>14.23</td>\n",
              "      <td>0.00</td>\n",
              "      <td>2.08</td>\n",
              "      <td>73.36</td>\n",
              "      <td>0.00</td>\n",
              "      <td>8.62</td>\n",
              "      <td>1.67</td>\n",
              "      <td>0.0</td>\n",
              "      <td>7</td>\n",
              "    </tr>\n",
              "  </tbody>\n",
              "</table>\n",
              "<p>214 rows × 10 columns</p>\n",
              "</div>\n",
              "    <div class=\"colab-df-buttons\">\n",
              "\n",
              "  <div class=\"colab-df-container\">\n",
              "    <button class=\"colab-df-convert\" onclick=\"convertToInteractive('df-953f7300-baef-4310-9570-651eaaa683a7')\"\n",
              "            title=\"Convert this dataframe to an interactive table.\"\n",
              "            style=\"display:none;\">\n",
              "\n",
              "  <svg xmlns=\"http://www.w3.org/2000/svg\" height=\"24px\" viewBox=\"0 -960 960 960\">\n",
              "    <path d=\"M120-120v-720h720v720H120Zm60-500h600v-160H180v160Zm220 220h160v-160H400v160Zm0 220h160v-160H400v160ZM180-400h160v-160H180v160Zm440 0h160v-160H620v160ZM180-180h160v-160H180v160Zm440 0h160v-160H620v160Z\"/>\n",
              "  </svg>\n",
              "    </button>\n",
              "\n",
              "  <style>\n",
              "    .colab-df-container {\n",
              "      display:flex;\n",
              "      gap: 12px;\n",
              "    }\n",
              "\n",
              "    .colab-df-convert {\n",
              "      background-color: #E8F0FE;\n",
              "      border: none;\n",
              "      border-radius: 50%;\n",
              "      cursor: pointer;\n",
              "      display: none;\n",
              "      fill: #1967D2;\n",
              "      height: 32px;\n",
              "      padding: 0 0 0 0;\n",
              "      width: 32px;\n",
              "    }\n",
              "\n",
              "    .colab-df-convert:hover {\n",
              "      background-color: #E2EBFA;\n",
              "      box-shadow: 0px 1px 2px rgba(60, 64, 67, 0.3), 0px 1px 3px 1px rgba(60, 64, 67, 0.15);\n",
              "      fill: #174EA6;\n",
              "    }\n",
              "\n",
              "    .colab-df-buttons div {\n",
              "      margin-bottom: 4px;\n",
              "    }\n",
              "\n",
              "    [theme=dark] .colab-df-convert {\n",
              "      background-color: #3B4455;\n",
              "      fill: #D2E3FC;\n",
              "    }\n",
              "\n",
              "    [theme=dark] .colab-df-convert:hover {\n",
              "      background-color: #434B5C;\n",
              "      box-shadow: 0px 1px 3px 1px rgba(0, 0, 0, 0.15);\n",
              "      filter: drop-shadow(0px 1px 2px rgba(0, 0, 0, 0.3));\n",
              "      fill: #FFFFFF;\n",
              "    }\n",
              "  </style>\n",
              "\n",
              "    <script>\n",
              "      const buttonEl =\n",
              "        document.querySelector('#df-953f7300-baef-4310-9570-651eaaa683a7 button.colab-df-convert');\n",
              "      buttonEl.style.display =\n",
              "        google.colab.kernel.accessAllowed ? 'block' : 'none';\n",
              "\n",
              "      async function convertToInteractive(key) {\n",
              "        const element = document.querySelector('#df-953f7300-baef-4310-9570-651eaaa683a7');\n",
              "        const dataTable =\n",
              "          await google.colab.kernel.invokeFunction('convertToInteractive',\n",
              "                                                    [key], {});\n",
              "        if (!dataTable) return;\n",
              "\n",
              "        const docLinkHtml = 'Like what you see? Visit the ' +\n",
              "          '<a target=\"_blank\" href=https://colab.research.google.com/notebooks/data_table.ipynb>data table notebook</a>'\n",
              "          + ' to learn more about interactive tables.';\n",
              "        element.innerHTML = '';\n",
              "        dataTable['output_type'] = 'display_data';\n",
              "        await google.colab.output.renderOutput(dataTable, element);\n",
              "        const docLink = document.createElement('div');\n",
              "        docLink.innerHTML = docLinkHtml;\n",
              "        element.appendChild(docLink);\n",
              "      }\n",
              "    </script>\n",
              "  </div>\n",
              "\n",
              "\n",
              "<div id=\"df-e7d4f211-8cdb-43d9-9eed-92e0799d6b33\">\n",
              "  <button class=\"colab-df-quickchart\" onclick=\"quickchart('df-e7d4f211-8cdb-43d9-9eed-92e0799d6b33')\"\n",
              "            title=\"Suggest charts\"\n",
              "            style=\"display:none;\">\n",
              "\n",
              "<svg xmlns=\"http://www.w3.org/2000/svg\" height=\"24px\"viewBox=\"0 0 24 24\"\n",
              "     width=\"24px\">\n",
              "    <g>\n",
              "        <path d=\"M19 3H5c-1.1 0-2 .9-2 2v14c0 1.1.9 2 2 2h14c1.1 0 2-.9 2-2V5c0-1.1-.9-2-2-2zM9 17H7v-7h2v7zm4 0h-2V7h2v10zm4 0h-2v-4h2v4z\"/>\n",
              "    </g>\n",
              "</svg>\n",
              "  </button>\n",
              "\n",
              "<style>\n",
              "  .colab-df-quickchart {\n",
              "      --bg-color: #E8F0FE;\n",
              "      --fill-color: #1967D2;\n",
              "      --hover-bg-color: #E2EBFA;\n",
              "      --hover-fill-color: #174EA6;\n",
              "      --disabled-fill-color: #AAA;\n",
              "      --disabled-bg-color: #DDD;\n",
              "  }\n",
              "\n",
              "  [theme=dark] .colab-df-quickchart {\n",
              "      --bg-color: #3B4455;\n",
              "      --fill-color: #D2E3FC;\n",
              "      --hover-bg-color: #434B5C;\n",
              "      --hover-fill-color: #FFFFFF;\n",
              "      --disabled-bg-color: #3B4455;\n",
              "      --disabled-fill-color: #666;\n",
              "  }\n",
              "\n",
              "  .colab-df-quickchart {\n",
              "    background-color: var(--bg-color);\n",
              "    border: none;\n",
              "    border-radius: 50%;\n",
              "    cursor: pointer;\n",
              "    display: none;\n",
              "    fill: var(--fill-color);\n",
              "    height: 32px;\n",
              "    padding: 0;\n",
              "    width: 32px;\n",
              "  }\n",
              "\n",
              "  .colab-df-quickchart:hover {\n",
              "    background-color: var(--hover-bg-color);\n",
              "    box-shadow: 0 1px 2px rgba(60, 64, 67, 0.3), 0 1px 3px 1px rgba(60, 64, 67, 0.15);\n",
              "    fill: var(--button-hover-fill-color);\n",
              "  }\n",
              "\n",
              "  .colab-df-quickchart-complete:disabled,\n",
              "  .colab-df-quickchart-complete:disabled:hover {\n",
              "    background-color: var(--disabled-bg-color);\n",
              "    fill: var(--disabled-fill-color);\n",
              "    box-shadow: none;\n",
              "  }\n",
              "\n",
              "  .colab-df-spinner {\n",
              "    border: 2px solid var(--fill-color);\n",
              "    border-color: transparent;\n",
              "    border-bottom-color: var(--fill-color);\n",
              "    animation:\n",
              "      spin 1s steps(1) infinite;\n",
              "  }\n",
              "\n",
              "  @keyframes spin {\n",
              "    0% {\n",
              "      border-color: transparent;\n",
              "      border-bottom-color: var(--fill-color);\n",
              "      border-left-color: var(--fill-color);\n",
              "    }\n",
              "    20% {\n",
              "      border-color: transparent;\n",
              "      border-left-color: var(--fill-color);\n",
              "      border-top-color: var(--fill-color);\n",
              "    }\n",
              "    30% {\n",
              "      border-color: transparent;\n",
              "      border-left-color: var(--fill-color);\n",
              "      border-top-color: var(--fill-color);\n",
              "      border-right-color: var(--fill-color);\n",
              "    }\n",
              "    40% {\n",
              "      border-color: transparent;\n",
              "      border-right-color: var(--fill-color);\n",
              "      border-top-color: var(--fill-color);\n",
              "    }\n",
              "    60% {\n",
              "      border-color: transparent;\n",
              "      border-right-color: var(--fill-color);\n",
              "    }\n",
              "    80% {\n",
              "      border-color: transparent;\n",
              "      border-right-color: var(--fill-color);\n",
              "      border-bottom-color: var(--fill-color);\n",
              "    }\n",
              "    90% {\n",
              "      border-color: transparent;\n",
              "      border-bottom-color: var(--fill-color);\n",
              "    }\n",
              "  }\n",
              "</style>\n",
              "\n",
              "  <script>\n",
              "    async function quickchart(key) {\n",
              "      const quickchartButtonEl =\n",
              "        document.querySelector('#' + key + ' button');\n",
              "      quickchartButtonEl.disabled = true;  // To prevent multiple clicks.\n",
              "      quickchartButtonEl.classList.add('colab-df-spinner');\n",
              "      try {\n",
              "        const charts = await google.colab.kernel.invokeFunction(\n",
              "            'suggestCharts', [key], {});\n",
              "      } catch (error) {\n",
              "        console.error('Error during call to suggestCharts:', error);\n",
              "      }\n",
              "      quickchartButtonEl.classList.remove('colab-df-spinner');\n",
              "      quickchartButtonEl.classList.add('colab-df-quickchart-complete');\n",
              "    }\n",
              "    (() => {\n",
              "      let quickchartButtonEl =\n",
              "        document.querySelector('#df-e7d4f211-8cdb-43d9-9eed-92e0799d6b33 button');\n",
              "      quickchartButtonEl.style.display =\n",
              "        google.colab.kernel.accessAllowed ? 'block' : 'none';\n",
              "    })();\n",
              "  </script>\n",
              "</div>\n",
              "\n",
              "  <div id=\"id_a721481e-b8d2-4e97-b2b2-0a8a44653ab9\">\n",
              "    <style>\n",
              "      .colab-df-generate {\n",
              "        background-color: #E8F0FE;\n",
              "        border: none;\n",
              "        border-radius: 50%;\n",
              "        cursor: pointer;\n",
              "        display: none;\n",
              "        fill: #1967D2;\n",
              "        height: 32px;\n",
              "        padding: 0 0 0 0;\n",
              "        width: 32px;\n",
              "      }\n",
              "\n",
              "      .colab-df-generate:hover {\n",
              "        background-color: #E2EBFA;\n",
              "        box-shadow: 0px 1px 2px rgba(60, 64, 67, 0.3), 0px 1px 3px 1px rgba(60, 64, 67, 0.15);\n",
              "        fill: #174EA6;\n",
              "      }\n",
              "\n",
              "      [theme=dark] .colab-df-generate {\n",
              "        background-color: #3B4455;\n",
              "        fill: #D2E3FC;\n",
              "      }\n",
              "\n",
              "      [theme=dark] .colab-df-generate:hover {\n",
              "        background-color: #434B5C;\n",
              "        box-shadow: 0px 1px 3px 1px rgba(0, 0, 0, 0.15);\n",
              "        filter: drop-shadow(0px 1px 2px rgba(0, 0, 0, 0.3));\n",
              "        fill: #FFFFFF;\n",
              "      }\n",
              "    </style>\n",
              "    <button class=\"colab-df-generate\" onclick=\"generateWithVariable('glass_df')\"\n",
              "            title=\"Generate code using this dataframe.\"\n",
              "            style=\"display:none;\">\n",
              "\n",
              "  <svg xmlns=\"http://www.w3.org/2000/svg\" height=\"24px\"viewBox=\"0 0 24 24\"\n",
              "       width=\"24px\">\n",
              "    <path d=\"M7,19H8.4L18.45,9,17,7.55,7,17.6ZM5,21V16.75L18.45,3.32a2,2,0,0,1,2.83,0l1.4,1.43a1.91,1.91,0,0,1,.58,1.4,1.91,1.91,0,0,1-.58,1.4L9.25,21ZM18.45,9,17,7.55Zm-12,3A5.31,5.31,0,0,0,4.9,8.1,5.31,5.31,0,0,0,1,6.5,5.31,5.31,0,0,0,4.9,4.9,5.31,5.31,0,0,0,6.5,1,5.31,5.31,0,0,0,8.1,4.9,5.31,5.31,0,0,0,12,6.5,5.46,5.46,0,0,0,6.5,12Z\"/>\n",
              "  </svg>\n",
              "    </button>\n",
              "    <script>\n",
              "      (() => {\n",
              "      const buttonEl =\n",
              "        document.querySelector('#id_a721481e-b8d2-4e97-b2b2-0a8a44653ab9 button.colab-df-generate');\n",
              "      buttonEl.style.display =\n",
              "        google.colab.kernel.accessAllowed ? 'block' : 'none';\n",
              "\n",
              "      buttonEl.onclick = () => {\n",
              "        google.colab.notebook.generateWithVariable('glass_df');\n",
              "      }\n",
              "      })();\n",
              "    </script>\n",
              "  </div>\n",
              "\n",
              "    </div>\n",
              "  </div>\n"
            ],
            "application/vnd.google.colaboratory.intrinsic+json": {
              "type": "dataframe",
              "variable_name": "glass_df",
              "summary": "{\n  \"name\": \"glass_df\",\n  \"rows\": 214,\n  \"fields\": [\n    {\n      \"column\": \"Refractive Index\",\n      \"properties\": {\n        \"dtype\": \"number\",\n        \"std\": 0.0030368637393854334,\n        \"min\": 1.51115,\n        \"max\": 1.53393,\n        \"num_unique_values\": 178,\n        \"samples\": [\n          1.51966,\n          1.51808,\n          1.51969\n        ],\n        \"semantic_type\": \"\",\n        \"description\": \"\"\n      }\n    },\n    {\n      \"column\": \"Sodium\",\n      \"properties\": {\n        \"dtype\": \"number\",\n        \"std\": 0.816603555714983,\n        \"min\": 10.73,\n        \"max\": 17.38,\n        \"num_unique_values\": 142,\n        \"samples\": [\n          14.38,\n          13.02,\n          13.83\n        ],\n        \"semantic_type\": \"\",\n        \"description\": \"\"\n      }\n    },\n    {\n      \"column\": \"Magnesium\",\n      \"properties\": {\n        \"dtype\": \"number\",\n        \"std\": 1.442407844870442,\n        \"min\": 0.0,\n        \"max\": 4.49,\n        \"num_unique_values\": 94,\n        \"samples\": [\n          3.86,\n          3.47,\n          2.9\n        ],\n        \"semantic_type\": \"\",\n        \"description\": \"\"\n      }\n    },\n    {\n      \"column\": \"Aluminum\",\n      \"properties\": {\n        \"dtype\": \"number\",\n        \"std\": 0.4992696456004845,\n        \"min\": 0.29,\n        \"max\": 3.5,\n        \"num_unique_values\": 118,\n        \"samples\": [\n          1.48,\n          1.65,\n          1.24\n        ],\n        \"semantic_type\": \"\",\n        \"description\": \"\"\n      }\n    },\n    {\n      \"column\": \"Silicon\",\n      \"properties\": {\n        \"dtype\": \"number\",\n        \"std\": 0.7745457947651124,\n        \"min\": 69.81,\n        \"max\": 75.41,\n        \"num_unique_values\": 133,\n        \"samples\": [\n          72.22,\n          73.06,\n          71.81\n        ],\n        \"semantic_type\": \"\",\n        \"description\": \"\"\n      }\n    },\n    {\n      \"column\": \"Potassium\",\n      \"properties\": {\n        \"dtype\": \"number\",\n        \"std\": 0.65219184555898,\n        \"min\": 0.0,\n        \"max\": 6.21,\n        \"num_unique_values\": 65,\n        \"samples\": [\n          0.47,\n          0.31,\n          0.06\n        ],\n        \"semantic_type\": \"\",\n        \"description\": \"\"\n      }\n    },\n    {\n      \"column\": \"Calcium\",\n      \"properties\": {\n        \"dtype\": \"number\",\n        \"std\": 1.423153487281395,\n        \"min\": 5.43,\n        \"max\": 16.19,\n        \"num_unique_values\": 143,\n        \"samples\": [\n          12.5,\n          8.52,\n          11.52\n        ],\n        \"semantic_type\": \"\",\n        \"description\": \"\"\n      }\n    },\n    {\n      \"column\": \"Barium\",\n      \"properties\": {\n        \"dtype\": \"number\",\n        \"std\": 0.49721926059970356,\n        \"min\": 0.0,\n        \"max\": 3.15,\n        \"num_unique_values\": 34,\n        \"samples\": [\n          0.64,\n          0.61,\n          1.55\n        ],\n        \"semantic_type\": \"\",\n        \"description\": \"\"\n      }\n    },\n    {\n      \"column\": \"Iron\",\n      \"properties\": {\n        \"dtype\": \"number\",\n        \"std\": 0.09743870063650084,\n        \"min\": 0.0,\n        \"max\": 0.51,\n        \"num_unique_values\": 32,\n        \"samples\": [\n          0.51,\n          0.03,\n          0.21\n        ],\n        \"semantic_type\": \"\",\n        \"description\": \"\"\n      }\n    },\n    {\n      \"column\": \"Class\",\n      \"properties\": {\n        \"dtype\": \"number\",\n        \"std\": 2,\n        \"min\": 1,\n        \"max\": 7,\n        \"num_unique_values\": 6,\n        \"samples\": [\n          1,\n          2,\n          7\n        ],\n        \"semantic_type\": \"\",\n        \"description\": \"\"\n      }\n    }\n  ]\n}"
            }
          },
          "metadata": {}
        },
        {
          "output_type": "stream",
          "name": "stdout",
          "text": [
            "Info on glass_df:\n",
            "<class 'pandas.core.frame.DataFrame'>\n",
            "RangeIndex: 214 entries, 0 to 213\n",
            "Data columns (total 10 columns):\n",
            " #   Column            Non-Null Count  Dtype  \n",
            "---  ------            --------------  -----  \n",
            " 0   Refractive Index  214 non-null    float64\n",
            " 1   Sodium            214 non-null    float64\n",
            " 2   Magnesium         214 non-null    float64\n",
            " 3   Aluminum          214 non-null    float64\n",
            " 4   Silicon           214 non-null    float64\n",
            " 5   Potassium         214 non-null    float64\n",
            " 6   Calcium           214 non-null    float64\n",
            " 7   Barium            214 non-null    float64\n",
            " 8   Iron              214 non-null    float64\n",
            " 9   Class             214 non-null    int64  \n",
            "dtypes: float64(9), int64(1)\n",
            "memory usage: 16.8 KB\n",
            "\n",
            "Description of glass_df:\n"
          ]
        },
        {
          "output_type": "execute_result",
          "data": {
            "text/plain": [
              "       Refractive Index      Sodium   Magnesium    Aluminum     Silicon  \\\n",
              "count        214.000000  214.000000  214.000000  214.000000  214.000000   \n",
              "mean           1.518365   13.407850    2.684533    1.444907   72.650935   \n",
              "std            0.003037    0.816604    1.442408    0.499270    0.774546   \n",
              "min            1.511150   10.730000    0.000000    0.290000   69.810000   \n",
              "25%            1.516522   12.907500    2.115000    1.190000   72.280000   \n",
              "50%            1.517680   13.300000    3.480000    1.360000   72.790000   \n",
              "75%            1.519157   13.825000    3.600000    1.630000   73.087500   \n",
              "max            1.533930   17.380000    4.490000    3.500000   75.410000   \n",
              "\n",
              "        Potassium     Calcium      Barium        Iron       Class  \n",
              "count  214.000000  214.000000  214.000000  214.000000  214.000000  \n",
              "mean     0.497056    8.956963    0.175047    0.057009    2.780374  \n",
              "std      0.652192    1.423153    0.497219    0.097439    2.103739  \n",
              "min      0.000000    5.430000    0.000000    0.000000    1.000000  \n",
              "25%      0.122500    8.240000    0.000000    0.000000    1.000000  \n",
              "50%      0.555000    8.600000    0.000000    0.000000    2.000000  \n",
              "75%      0.610000    9.172500    0.000000    0.100000    3.000000  \n",
              "max      6.210000   16.190000    3.150000    0.510000    7.000000  "
            ],
            "text/html": [
              "\n",
              "  <div id=\"df-805a0aed-7a1f-4ec4-ac30-e5975740dd9f\" class=\"colab-df-container\">\n",
              "    <div>\n",
              "<style scoped>\n",
              "    .dataframe tbody tr th:only-of-type {\n",
              "        vertical-align: middle;\n",
              "    }\n",
              "\n",
              "    .dataframe tbody tr th {\n",
              "        vertical-align: top;\n",
              "    }\n",
              "\n",
              "    .dataframe thead th {\n",
              "        text-align: right;\n",
              "    }\n",
              "</style>\n",
              "<table border=\"1\" class=\"dataframe\">\n",
              "  <thead>\n",
              "    <tr style=\"text-align: right;\">\n",
              "      <th></th>\n",
              "      <th>Refractive Index</th>\n",
              "      <th>Sodium</th>\n",
              "      <th>Magnesium</th>\n",
              "      <th>Aluminum</th>\n",
              "      <th>Silicon</th>\n",
              "      <th>Potassium</th>\n",
              "      <th>Calcium</th>\n",
              "      <th>Barium</th>\n",
              "      <th>Iron</th>\n",
              "      <th>Class</th>\n",
              "    </tr>\n",
              "  </thead>\n",
              "  <tbody>\n",
              "    <tr>\n",
              "      <th>count</th>\n",
              "      <td>214.000000</td>\n",
              "      <td>214.000000</td>\n",
              "      <td>214.000000</td>\n",
              "      <td>214.000000</td>\n",
              "      <td>214.000000</td>\n",
              "      <td>214.000000</td>\n",
              "      <td>214.000000</td>\n",
              "      <td>214.000000</td>\n",
              "      <td>214.000000</td>\n",
              "      <td>214.000000</td>\n",
              "    </tr>\n",
              "    <tr>\n",
              "      <th>mean</th>\n",
              "      <td>1.518365</td>\n",
              "      <td>13.407850</td>\n",
              "      <td>2.684533</td>\n",
              "      <td>1.444907</td>\n",
              "      <td>72.650935</td>\n",
              "      <td>0.497056</td>\n",
              "      <td>8.956963</td>\n",
              "      <td>0.175047</td>\n",
              "      <td>0.057009</td>\n",
              "      <td>2.780374</td>\n",
              "    </tr>\n",
              "    <tr>\n",
              "      <th>std</th>\n",
              "      <td>0.003037</td>\n",
              "      <td>0.816604</td>\n",
              "      <td>1.442408</td>\n",
              "      <td>0.499270</td>\n",
              "      <td>0.774546</td>\n",
              "      <td>0.652192</td>\n",
              "      <td>1.423153</td>\n",
              "      <td>0.497219</td>\n",
              "      <td>0.097439</td>\n",
              "      <td>2.103739</td>\n",
              "    </tr>\n",
              "    <tr>\n",
              "      <th>min</th>\n",
              "      <td>1.511150</td>\n",
              "      <td>10.730000</td>\n",
              "      <td>0.000000</td>\n",
              "      <td>0.290000</td>\n",
              "      <td>69.810000</td>\n",
              "      <td>0.000000</td>\n",
              "      <td>5.430000</td>\n",
              "      <td>0.000000</td>\n",
              "      <td>0.000000</td>\n",
              "      <td>1.000000</td>\n",
              "    </tr>\n",
              "    <tr>\n",
              "      <th>25%</th>\n",
              "      <td>1.516522</td>\n",
              "      <td>12.907500</td>\n",
              "      <td>2.115000</td>\n",
              "      <td>1.190000</td>\n",
              "      <td>72.280000</td>\n",
              "      <td>0.122500</td>\n",
              "      <td>8.240000</td>\n",
              "      <td>0.000000</td>\n",
              "      <td>0.000000</td>\n",
              "      <td>1.000000</td>\n",
              "    </tr>\n",
              "    <tr>\n",
              "      <th>50%</th>\n",
              "      <td>1.517680</td>\n",
              "      <td>13.300000</td>\n",
              "      <td>3.480000</td>\n",
              "      <td>1.360000</td>\n",
              "      <td>72.790000</td>\n",
              "      <td>0.555000</td>\n",
              "      <td>8.600000</td>\n",
              "      <td>0.000000</td>\n",
              "      <td>0.000000</td>\n",
              "      <td>2.000000</td>\n",
              "    </tr>\n",
              "    <tr>\n",
              "      <th>75%</th>\n",
              "      <td>1.519157</td>\n",
              "      <td>13.825000</td>\n",
              "      <td>3.600000</td>\n",
              "      <td>1.630000</td>\n",
              "      <td>73.087500</td>\n",
              "      <td>0.610000</td>\n",
              "      <td>9.172500</td>\n",
              "      <td>0.000000</td>\n",
              "      <td>0.100000</td>\n",
              "      <td>3.000000</td>\n",
              "    </tr>\n",
              "    <tr>\n",
              "      <th>max</th>\n",
              "      <td>1.533930</td>\n",
              "      <td>17.380000</td>\n",
              "      <td>4.490000</td>\n",
              "      <td>3.500000</td>\n",
              "      <td>75.410000</td>\n",
              "      <td>6.210000</td>\n",
              "      <td>16.190000</td>\n",
              "      <td>3.150000</td>\n",
              "      <td>0.510000</td>\n",
              "      <td>7.000000</td>\n",
              "    </tr>\n",
              "  </tbody>\n",
              "</table>\n",
              "</div>\n",
              "    <div class=\"colab-df-buttons\">\n",
              "\n",
              "  <div class=\"colab-df-container\">\n",
              "    <button class=\"colab-df-convert\" onclick=\"convertToInteractive('df-805a0aed-7a1f-4ec4-ac30-e5975740dd9f')\"\n",
              "            title=\"Convert this dataframe to an interactive table.\"\n",
              "            style=\"display:none;\">\n",
              "\n",
              "  <svg xmlns=\"http://www.w3.org/2000/svg\" height=\"24px\" viewBox=\"0 -960 960 960\">\n",
              "    <path d=\"M120-120v-720h720v720H120Zm60-500h600v-160H180v160Zm220 220h160v-160H400v160Zm0 220h160v-160H400v160ZM180-400h160v-160H180v160Zm440 0h160v-160H620v160ZM180-180h160v-160H180v160Zm440 0h160v-160H620v160Z\"/>\n",
              "  </svg>\n",
              "    </button>\n",
              "\n",
              "  <style>\n",
              "    .colab-df-container {\n",
              "      display:flex;\n",
              "      gap: 12px;\n",
              "    }\n",
              "\n",
              "    .colab-df-convert {\n",
              "      background-color: #E8F0FE;\n",
              "      border: none;\n",
              "      border-radius: 50%;\n",
              "      cursor: pointer;\n",
              "      display: none;\n",
              "      fill: #1967D2;\n",
              "      height: 32px;\n",
              "      padding: 0 0 0 0;\n",
              "      width: 32px;\n",
              "    }\n",
              "\n",
              "    .colab-df-convert:hover {\n",
              "      background-color: #E2EBFA;\n",
              "      box-shadow: 0px 1px 2px rgba(60, 64, 67, 0.3), 0px 1px 3px 1px rgba(60, 64, 67, 0.15);\n",
              "      fill: #174EA6;\n",
              "    }\n",
              "\n",
              "    .colab-df-buttons div {\n",
              "      margin-bottom: 4px;\n",
              "    }\n",
              "\n",
              "    [theme=dark] .colab-df-convert {\n",
              "      background-color: #3B4455;\n",
              "      fill: #D2E3FC;\n",
              "    }\n",
              "\n",
              "    [theme=dark] .colab-df-convert:hover {\n",
              "      background-color: #434B5C;\n",
              "      box-shadow: 0px 1px 3px 1px rgba(0, 0, 0, 0.15);\n",
              "      filter: drop-shadow(0px 1px 2px rgba(0, 0, 0, 0.3));\n",
              "      fill: #FFFFFF;\n",
              "    }\n",
              "  </style>\n",
              "\n",
              "    <script>\n",
              "      const buttonEl =\n",
              "        document.querySelector('#df-805a0aed-7a1f-4ec4-ac30-e5975740dd9f button.colab-df-convert');\n",
              "      buttonEl.style.display =\n",
              "        google.colab.kernel.accessAllowed ? 'block' : 'none';\n",
              "\n",
              "      async function convertToInteractive(key) {\n",
              "        const element = document.querySelector('#df-805a0aed-7a1f-4ec4-ac30-e5975740dd9f');\n",
              "        const dataTable =\n",
              "          await google.colab.kernel.invokeFunction('convertToInteractive',\n",
              "                                                    [key], {});\n",
              "        if (!dataTable) return;\n",
              "\n",
              "        const docLinkHtml = 'Like what you see? Visit the ' +\n",
              "          '<a target=\"_blank\" href=https://colab.research.google.com/notebooks/data_table.ipynb>data table notebook</a>'\n",
              "          + ' to learn more about interactive tables.';\n",
              "        element.innerHTML = '';\n",
              "        dataTable['output_type'] = 'display_data';\n",
              "        await google.colab.output.renderOutput(dataTable, element);\n",
              "        const docLink = document.createElement('div');\n",
              "        docLink.innerHTML = docLinkHtml;\n",
              "        element.appendChild(docLink);\n",
              "      }\n",
              "    </script>\n",
              "  </div>\n",
              "\n",
              "\n",
              "<div id=\"df-9c14fffd-bc6d-4de1-818a-be07e3791164\">\n",
              "  <button class=\"colab-df-quickchart\" onclick=\"quickchart('df-9c14fffd-bc6d-4de1-818a-be07e3791164')\"\n",
              "            title=\"Suggest charts\"\n",
              "            style=\"display:none;\">\n",
              "\n",
              "<svg xmlns=\"http://www.w3.org/2000/svg\" height=\"24px\"viewBox=\"0 0 24 24\"\n",
              "     width=\"24px\">\n",
              "    <g>\n",
              "        <path d=\"M19 3H5c-1.1 0-2 .9-2 2v14c0 1.1.9 2 2 2h14c1.1 0 2-.9 2-2V5c0-1.1-.9-2-2-2zM9 17H7v-7h2v7zm4 0h-2V7h2v10zm4 0h-2v-4h2v4z\"/>\n",
              "    </g>\n",
              "</svg>\n",
              "  </button>\n",
              "\n",
              "<style>\n",
              "  .colab-df-quickchart {\n",
              "      --bg-color: #E8F0FE;\n",
              "      --fill-color: #1967D2;\n",
              "      --hover-bg-color: #E2EBFA;\n",
              "      --hover-fill-color: #174EA6;\n",
              "      --disabled-fill-color: #AAA;\n",
              "      --disabled-bg-color: #DDD;\n",
              "  }\n",
              "\n",
              "  [theme=dark] .colab-df-quickchart {\n",
              "      --bg-color: #3B4455;\n",
              "      --fill-color: #D2E3FC;\n",
              "      --hover-bg-color: #434B5C;\n",
              "      --hover-fill-color: #FFFFFF;\n",
              "      --disabled-bg-color: #3B4455;\n",
              "      --disabled-fill-color: #666;\n",
              "  }\n",
              "\n",
              "  .colab-df-quickchart {\n",
              "    background-color: var(--bg-color);\n",
              "    border: none;\n",
              "    border-radius: 50%;\n",
              "    cursor: pointer;\n",
              "    display: none;\n",
              "    fill: var(--fill-color);\n",
              "    height: 32px;\n",
              "    padding: 0;\n",
              "    width: 32px;\n",
              "  }\n",
              "\n",
              "  .colab-df-quickchart:hover {\n",
              "    background-color: var(--hover-bg-color);\n",
              "    box-shadow: 0 1px 2px rgba(60, 64, 67, 0.3), 0 1px 3px 1px rgba(60, 64, 67, 0.15);\n",
              "    fill: var(--button-hover-fill-color);\n",
              "  }\n",
              "\n",
              "  .colab-df-quickchart-complete:disabled,\n",
              "  .colab-df-quickchart-complete:disabled:hover {\n",
              "    background-color: var(--disabled-bg-color);\n",
              "    fill: var(--disabled-fill-color);\n",
              "    box-shadow: none;\n",
              "  }\n",
              "\n",
              "  .colab-df-spinner {\n",
              "    border: 2px solid var(--fill-color);\n",
              "    border-color: transparent;\n",
              "    border-bottom-color: var(--fill-color);\n",
              "    animation:\n",
              "      spin 1s steps(1) infinite;\n",
              "  }\n",
              "\n",
              "  @keyframes spin {\n",
              "    0% {\n",
              "      border-color: transparent;\n",
              "      border-bottom-color: var(--fill-color);\n",
              "      border-left-color: var(--fill-color);\n",
              "    }\n",
              "    20% {\n",
              "      border-color: transparent;\n",
              "      border-left-color: var(--fill-color);\n",
              "      border-top-color: var(--fill-color);\n",
              "    }\n",
              "    30% {\n",
              "      border-color: transparent;\n",
              "      border-left-color: var(--fill-color);\n",
              "      border-top-color: var(--fill-color);\n",
              "      border-right-color: var(--fill-color);\n",
              "    }\n",
              "    40% {\n",
              "      border-color: transparent;\n",
              "      border-right-color: var(--fill-color);\n",
              "      border-top-color: var(--fill-color);\n",
              "    }\n",
              "    60% {\n",
              "      border-color: transparent;\n",
              "      border-right-color: var(--fill-color);\n",
              "    }\n",
              "    80% {\n",
              "      border-color: transparent;\n",
              "      border-right-color: var(--fill-color);\n",
              "      border-bottom-color: var(--fill-color);\n",
              "    }\n",
              "    90% {\n",
              "      border-color: transparent;\n",
              "      border-bottom-color: var(--fill-color);\n",
              "    }\n",
              "  }\n",
              "</style>\n",
              "\n",
              "  <script>\n",
              "    async function quickchart(key) {\n",
              "      const quickchartButtonEl =\n",
              "        document.querySelector('#' + key + ' button');\n",
              "      quickchartButtonEl.disabled = true;  // To prevent multiple clicks.\n",
              "      quickchartButtonEl.classList.add('colab-df-spinner');\n",
              "      try {\n",
              "        const charts = await google.colab.kernel.invokeFunction(\n",
              "            'suggestCharts', [key], {});\n",
              "      } catch (error) {\n",
              "        console.error('Error during call to suggestCharts:', error);\n",
              "      }\n",
              "      quickchartButtonEl.classList.remove('colab-df-spinner');\n",
              "      quickchartButtonEl.classList.add('colab-df-quickchart-complete');\n",
              "    }\n",
              "    (() => {\n",
              "      let quickchartButtonEl =\n",
              "        document.querySelector('#df-9c14fffd-bc6d-4de1-818a-be07e3791164 button');\n",
              "      quickchartButtonEl.style.display =\n",
              "        google.colab.kernel.accessAllowed ? 'block' : 'none';\n",
              "    })();\n",
              "  </script>\n",
              "</div>\n",
              "\n",
              "    </div>\n",
              "  </div>\n"
            ],
            "application/vnd.google.colaboratory.intrinsic+json": {
              "type": "dataframe",
              "summary": "{\n  \"name\": \"glass_df\",\n  \"rows\": 8,\n  \"fields\": [\n    {\n      \"column\": \"Refractive Index\",\n      \"properties\": {\n        \"dtype\": \"number\",\n        \"std\": 75.20167645196685,\n        \"min\": 0.0030368637393854334,\n        \"max\": 214.0,\n        \"num_unique_values\": 8,\n        \"samples\": [\n          1.5183654205607477,\n          1.51768,\n          214.0\n        ],\n        \"semantic_type\": \"\",\n        \"description\": \"\"\n      }\n    },\n    {\n      \"column\": \"Sodium\",\n      \"properties\": {\n        \"dtype\": \"number\",\n        \"std\": 71.66298840222413,\n        \"min\": 0.816603555714983,\n        \"max\": 214.0,\n        \"num_unique_values\": 8,\n        \"samples\": [\n          13.407850467289718,\n          13.3,\n          214.0\n        ],\n        \"semantic_type\": \"\",\n        \"description\": \"\"\n      }\n    },\n    {\n      \"column\": \"Magnesium\",\n      \"properties\": {\n        \"dtype\": \"number\",\n        \"std\": 74.77384379224597,\n        \"min\": 0.0,\n        \"max\": 214.0,\n        \"num_unique_values\": 8,\n        \"samples\": [\n          2.684532710280374,\n          3.48,\n          214.0\n        ],\n        \"semantic_type\": \"\",\n        \"description\": \"\"\n      }\n    },\n    {\n      \"column\": \"Aluminum\",\n      \"properties\": {\n        \"dtype\": \"number\",\n        \"std\": 75.16591071743483,\n        \"min\": 0.29,\n        \"max\": 214.0,\n        \"num_unique_values\": 8,\n        \"samples\": [\n          1.444906542056075,\n          1.36,\n          214.0\n        ],\n        \"semantic_type\": \"\",\n        \"description\": \"\"\n      }\n    },\n    {\n      \"column\": \"Silicon\",\n      \"properties\": {\n        \"dtype\": \"number\",\n        \"std\": 59.22880894669753,\n        \"min\": 0.7745457947651124,\n        \"max\": 214.0,\n        \"num_unique_values\": 8,\n        \"samples\": [\n          72.65093457943925,\n          72.79,\n          214.0\n        ],\n        \"semantic_type\": \"\",\n        \"description\": \"\"\n      }\n    },\n    {\n      \"column\": \"Potassium\",\n      \"properties\": {\n        \"dtype\": \"number\",\n        \"std\": 75.25146876142092,\n        \"min\": 0.0,\n        \"max\": 214.0,\n        \"num_unique_values\": 8,\n        \"samples\": [\n          0.4970560747663551,\n          0.555,\n          214.0\n        ],\n        \"semantic_type\": \"\",\n        \"description\": \"\"\n      }\n    },\n    {\n      \"column\": \"Calcium\",\n      \"properties\": {\n        \"dtype\": \"number\",\n        \"std\": 72.8471864212463,\n        \"min\": 1.423153487281395,\n        \"max\": 214.0,\n        \"num_unique_values\": 8,\n        \"samples\": [\n          8.95696261682243,\n          8.6,\n          214.0\n        ],\n        \"semantic_type\": \"\",\n        \"description\": \"\"\n      }\n    },\n    {\n      \"column\": \"Barium\",\n      \"properties\": {\n        \"dtype\": \"number\",\n        \"std\": 75.47505067735626,\n        \"min\": 0.0,\n        \"max\": 214.0,\n        \"num_unique_values\": 5,\n        \"samples\": [\n          0.17504672897196263,\n          3.15,\n          0.49721926059970356\n        ],\n        \"semantic_type\": \"\",\n        \"description\": \"\"\n      }\n    },\n    {\n      \"column\": \"Iron\",\n      \"properties\": {\n        \"dtype\": \"number\",\n        \"std\": 75.6220034365281,\n        \"min\": 0.0,\n        \"max\": 214.0,\n        \"num_unique_values\": 6,\n        \"samples\": [\n          214.0,\n          0.05700934579439253,\n          0.51\n        ],\n        \"semantic_type\": \"\",\n        \"description\": \"\"\n      }\n    },\n    {\n      \"column\": \"Class\",\n      \"properties\": {\n        \"dtype\": \"number\",\n        \"std\": 74.73073565843298,\n        \"min\": 1.0,\n        \"max\": 214.0,\n        \"num_unique_values\": 7,\n        \"samples\": [\n          214.0,\n          2.7803738317757007,\n          3.0\n        ],\n        \"semantic_type\": \"\",\n        \"description\": \"\"\n      }\n    }\n  ]\n}"
            }
          },
          "metadata": {},
          "execution_count": 6
        }
      ]
    },
    {
      "cell_type": "markdown",
      "source": [
        "### Divide into a training set and testing set\n",
        "\n",
        "To create a balanced split StratifiedShuffleSplit will be utilized below with a 20% test size and 80% training size"
      ],
      "metadata": {
        "id": "wkaeReXugOZc"
      }
    },
    {
      "cell_type": "code",
      "source": [
        "# Utilize scikitlearn for a stratify split\n",
        "from sklearn.model_selection import StratifiedShuffleSplit\n",
        "\n",
        "# Separate the features (X) and the target variable (y) aka Class\n",
        "X = glass_df.drop('Class', axis=1)\n",
        "y = glass_df['Class']\n",
        "\n",
        "# Create StratifiedShuffleSplit with 1 split, 20% test size, 80% training and random state 42\n",
        "split = StratifiedShuffleSplit(n_splits=1, test_size=0.2, random_state=42)\n",
        "# Split data\n",
        "for train_index, test_index in split.split(X, y):\n",
        "   X_train = X.iloc[train_index]\n",
        "   X_test = X.iloc[test_index]\n",
        "   y_train = y.iloc[train_index]\n",
        "   y_test = y.iloc[test_index]\n",
        "\n",
        "# Check to confirm successful 80 : 20 split\n",
        "print(\"X_train:\", X_train.shape)\n",
        "print(\"X_test:\", X_test.shape)\n",
        "print(\"y_train:\", y_train.shape)\n",
        "print(\"y_test:\", y_test.shape)"
      ],
      "metadata": {
        "colab": {
          "base_uri": "https://localhost:8080/"
        },
        "id": "XLLcD8lugR9c",
        "outputId": "387e7c23-374b-4233-c7d2-2ffafad9bc48"
      },
      "execution_count": 7,
      "outputs": [
        {
          "output_type": "stream",
          "name": "stdout",
          "text": [
            "X_train: (171, 9)\n",
            "X_test: (43, 9)\n",
            "y_train: (171,)\n",
            "y_test: (43,)\n"
          ]
        }
      ]
    },
    {
      "cell_type": "markdown",
      "source": [
        "Confirming the split was successful. The training set has 80% of the original 214 instances, while the testing set has 20% of the original instances. 9 in the X-train and X_test show the number of columns/features."
      ],
      "metadata": {
        "id": "i92PiJ3Vgaaa"
      }
    },
    {
      "cell_type": "markdown",
      "source": [
        "### Check for missing values in the training and testing set"
      ],
      "metadata": {
        "id": "J89ldtiDgq3j"
      }
    },
    {
      "cell_type": "code",
      "source": [
        "# Checking missing values in training set\n",
        "\n",
        "# Check for missing values in X_train\n",
        "missing_values = X_train.isnull().sum()\n",
        "\n",
        "# Print missing values in X_train\n",
        "print(\"Missing Values in X_train:\")\n",
        "print(missing_values)\n",
        "print()\n",
        "\n",
        "# Check for missing values in y_train\n",
        "missing_values = y_train.isnull().sum()\n",
        "\n",
        "# Print missing values in y_train\n",
        "print(\"Missing Values in y_train:\")\n",
        "print(missing_values)\n",
        "\n",
        "# Checking missing values in test set\n",
        "\n",
        "# Check for missing values in X_test\n",
        "missing_values = X_test.isnull().sum()\n",
        "\n",
        "# Print missing values in X_test\n",
        "print(\"Missing Values in X_test:\")\n",
        "print(missing_values)\n",
        "print()\n",
        "\n",
        "# Check for missing values in y_test\n",
        "missing_values = y_test.isnull().sum()\n",
        "\n",
        "# Print missing values in y_test\n",
        "print(\"Missing Values in y_test:\")\n",
        "print(missing_values)"
      ],
      "metadata": {
        "colab": {
          "base_uri": "https://localhost:8080/"
        },
        "id": "Tu4hEZQlgzZf",
        "outputId": "5a894037-2229-4fd1-93f1-1b7b9d228c63"
      },
      "execution_count": 8,
      "outputs": [
        {
          "output_type": "stream",
          "name": "stdout",
          "text": [
            "Missing Values in X_train:\n",
            "Refractive Index    0\n",
            "Sodium              0\n",
            "Magnesium           0\n",
            "Aluminum            0\n",
            "Silicon             0\n",
            "Potassium           0\n",
            "Calcium             0\n",
            "Barium              0\n",
            "Iron                0\n",
            "dtype: int64\n",
            "\n",
            "Missing Values in y_train:\n",
            "0\n",
            "Missing Values in X_test:\n",
            "Refractive Index    0\n",
            "Sodium              0\n",
            "Magnesium           0\n",
            "Aluminum            0\n",
            "Silicon             0\n",
            "Potassium           0\n",
            "Calcium             0\n",
            "Barium              0\n",
            "Iron                0\n",
            "dtype: int64\n",
            "\n",
            "Missing Values in y_test:\n",
            "0\n"
          ]
        }
      ]
    },
    {
      "cell_type": "markdown",
      "source": [
        "0 missing values in training and testing set"
      ],
      "metadata": {
        "id": "XBqViQHug9rr"
      }
    },
    {
      "cell_type": "markdown",
      "source": [
        "# Step 2: Prepare your data\n",
        "\n",
        "\n",
        "\n",
        "*   Variables are converted to categorical variables\n",
        "*   Perform any necessary feature scaling"
      ],
      "metadata": {
        "id": "UWbDubWMeuds"
      }
    },
    {
      "cell_type": "markdown",
      "source": [
        "### Convert Variables\n",
        "\n",
        "The target variable \"Class\" is already a categorical variable an encoded as an integer: 1, 2, 3, 4, 5, 6, or 7. No need to convert with on hot encoded. No need to convert to ordinal as the classes are associated with glass from a particular object. For example, class 6 is table glass. They are not actually ranked."
      ],
      "metadata": {
        "id": "rRzo8m-uh5PY"
      }
    },
    {
      "cell_type": "code",
      "source": [
        "# Target is already encoded as integer\n",
        "display(y_train)"
      ],
      "metadata": {
        "colab": {
          "base_uri": "https://localhost:8080/",
          "height": 225
        },
        "id": "z4LMg0erjG9s",
        "outputId": "2562e304-fa1a-43bb-f4cb-84153c74960f"
      },
      "execution_count": 9,
      "outputs": [
        {
          "output_type": "display_data",
          "data": {
            "text/plain": [
              "201    7\n",
              "38     1\n",
              "30     1\n",
              "48     1\n",
              "71     2\n",
              "      ..\n",
              "198    7\n",
              "63     1\n",
              "157    3\n",
              "150    3\n",
              "178    6\n",
              "Name: Class, Length: 171, dtype: int64"
            ]
          },
          "metadata": {}
        }
      ]
    },
    {
      "cell_type": "markdown",
      "source": [
        "### Feature Scaling\n",
        "\n",
        "Feature scaling on X_Train and X_test in preparation to use in Step 4 for K-nearest Neighbors (KNN) algorithm. KNN is sensitive to the scale of features due to it calculating distances between points to understand similarity. The features will be scaled on the range between 0 and 1.\n",
        "\n",
        "y_train and y_test will not have feature scaling applied. Feature scaling will not be applied to the decision tree algorthim in Step 4 because it uses splits in the data."
      ],
      "metadata": {
        "id": "OG1ZnIlvjMtz"
      }
    },
    {
      "cell_type": "code",
      "source": [
        "# Feature Scaling on X_train, no scaling needed for y_train\n",
        "\n",
        "# Scaling method below used from class 6 lab\n",
        "\n",
        "# Compute the minimum value per feature on the training set\n",
        "min_on_training = X_train.min(axis=0)\n",
        "\n",
        "# Compute the range of each feature (max - min) on the training set\n",
        "range_on_training = (X_train - min_on_training).max(axis=0)\n",
        "\n",
        "# subtract the min, divide by range\n",
        "# afterward, min=0 and max=1 for each feature\n",
        "X_train_scaled = (X_train - min_on_training) / range_on_training\n",
        "print(\"X_train: Minimum for each feature\\n\", X_train_scaled.min(axis=0))\n",
        "print()\n",
        "print(\"X_train: Maximum for each feature\\n\", X_train_scaled.max(axis=0))\n",
        "print()\n"
      ],
      "metadata": {
        "colab": {
          "base_uri": "https://localhost:8080/"
        },
        "id": "zZfxA0eSkrE7",
        "outputId": "f43580b2-2002-4864-fd8f-e0c5ecbec5e2"
      },
      "execution_count": 10,
      "outputs": [
        {
          "output_type": "stream",
          "name": "stdout",
          "text": [
            "X_train: Minimum for each feature\n",
            " Refractive Index    0.0\n",
            "Sodium              0.0\n",
            "Magnesium           0.0\n",
            "Aluminum            0.0\n",
            "Silicon             0.0\n",
            "Potassium           0.0\n",
            "Calcium             0.0\n",
            "Barium              0.0\n",
            "Iron                0.0\n",
            "dtype: float64\n",
            "\n",
            "X_train: Maximum for each feature\n",
            " Refractive Index    1.0\n",
            "Sodium              1.0\n",
            "Magnesium           1.0\n",
            "Aluminum            1.0\n",
            "Silicon             1.0\n",
            "Potassium           1.0\n",
            "Calcium             1.0\n",
            "Barium              1.0\n",
            "Iron                1.0\n",
            "dtype: float64\n",
            "\n"
          ]
        }
      ]
    },
    {
      "cell_type": "code",
      "source": [
        "# Feature Scaling on X_test, no scaling needed for y_test\n",
        "\n",
        "# Compute the minimum value per feature on the test set\n",
        "min_on_testing = X_test.min(axis=0)\n",
        "\n",
        "# Compute the range of each feature (max - min) on the test set\n",
        "range_on_testing = (X_test - min_on_testing).max(axis=0)\n",
        "\n",
        "# subtract the min, divide by range\n",
        "# afterward, min=0 and max=1 for each feature\n",
        "X_test_scaled = (X_test - min_on_testing) / range_on_testing\n",
        "print(\"X_test: Minimum for each feature\\n\", X_test_scaled.min(axis=0))\n",
        "print()\n",
        "print(\"X_test: Maximum for each feature\\n\", X_test_scaled.max(axis=0))"
      ],
      "metadata": {
        "colab": {
          "base_uri": "https://localhost:8080/"
        },
        "id": "ZZ01A3q1kyj7",
        "outputId": "a673c188-7433-43a6-b94e-199f4227a8ce"
      },
      "execution_count": 11,
      "outputs": [
        {
          "output_type": "stream",
          "name": "stdout",
          "text": [
            "X_test: Minimum for each feature\n",
            " Refractive Index    0.0\n",
            "Sodium              0.0\n",
            "Magnesium           0.0\n",
            "Aluminum            0.0\n",
            "Silicon             0.0\n",
            "Potassium           0.0\n",
            "Calcium             0.0\n",
            "Barium              0.0\n",
            "Iron                0.0\n",
            "dtype: float64\n",
            "\n",
            "X_test: Maximum for each feature\n",
            " Refractive Index    1.0\n",
            "Sodium              1.0\n",
            "Magnesium           1.0\n",
            "Aluminum            1.0\n",
            "Silicon             1.0\n",
            "Potassium           1.0\n",
            "Calcium             1.0\n",
            "Barium              1.0\n",
            "Iron                1.0\n",
            "dtype: float64\n"
          ]
        }
      ]
    },
    {
      "cell_type": "markdown",
      "source": [
        "# Step 3: Examine your target attribute\n",
        "\n",
        "Examine and plot the distribution of the target attribute in your training set (e.g., is it Gaussian, uniform, logarithmic). This will help you interpret the performance of different algorithms on your data."
      ],
      "metadata": {
        "id": "_2eQma2Yevcs"
      }
    },
    {
      "cell_type": "code",
      "source": [
        "%matplotlib inline\n",
        "import numpy as np\n",
        "import matplotlib.pyplot as plt\n",
        "from pandas.plotting import scatter_matrix"
      ],
      "metadata": {
        "id": "WPn0P--UlfZO"
      },
      "execution_count": 12,
      "outputs": []
    },
    {
      "cell_type": "code",
      "source": [
        "# y_train is the target variable\n",
        "\n",
        "# Plotting histogram of class distribution in training set\n",
        "# 7 Bins selected because there are 7 in unique classes in target variable\n",
        "plt.figure(figsize=(8, 6))\n",
        "plt.hist(y_train, bins=7)\n",
        "plt.xlabel('Class')\n",
        "plt.ylabel('Frequency')\n",
        "plt.title('Distribution of \"Class\" in Training Set')\n",
        "plt.xticks([1, 2, 3, 4, 5, 6, 7])\n",
        "plt.grid(True)\n",
        "plt.show()"
      ],
      "metadata": {
        "colab": {
          "base_uri": "https://localhost:8080/",
          "height": 564
        },
        "id": "jtGBTf7tl2ry",
        "outputId": "c5aef785-2da3-48eb-e7ed-e79b1dfc8562"
      },
      "execution_count": 14,
      "outputs": [
        {
          "output_type": "display_data",
          "data": {
            "text/plain": [
              "<Figure size 800x600 with 1 Axes>"
            ],
            "image/png": "[encoded data removed]"
          },
          "metadata": {}
        }
      ]
    },
    {
      "cell_type": "markdown",
      "source": [
        "When examining the histogram above, the distrubution shows an imbalance across the dataset. The above graph does not display typical gaussian, uniform or logarithmic distribution. Due to the imbalance, this could impact the performance when using algorithms that are sensitive to distribution, like K-Nearest Neighbors. Becuase of the drastic difference in frequency seen in classes, class 2 could potientally influence the predictions, by creating a bias where the class 2 neighbors outnumber another class like 6. This will need to be taken into account when examining how KNN performs.\n",
        "\n",
        "Decision trees are less sensitive to class imbalance and will be used in Step 4."
      ],
      "metadata": {
        "id": "cs2kydu3nw0r"
      }
    },
    {
      "cell_type": "markdown",
      "source": [
        "# Step 4: Apply 2 Supervised Learning algorithms\n",
        "\n",
        "1. Decision Tree (Single Tree)\n",
        "2. K-Nearest Neighbor"
      ],
      "metadata": {
        "id": "lVypTOn2e3yq"
      }
    },
    {
      "cell_type": "markdown",
      "source": [
        "### Decision Tree"
      ],
      "metadata": {
        "id": "LHxAYrxbq6g_"
      }
    },
    {
      "cell_type": "code",
      "source": [
        "from sklearn.tree import DecisionTreeClassifier\n",
        "from sklearn.metrics import classification_report"
      ],
      "metadata": {
        "id": "MPDXvLRlq5xG"
      },
      "execution_count": 15,
      "outputs": []
    },
    {
      "cell_type": "code",
      "source": [
        "# Instantiate the DecisionTreeClassifier\n",
        "tree = DecisionTreeClassifier(random_state=0)\n",
        "\n",
        "# Not going to use the X_train_scaled as it is not needed for Decision trees\n",
        "# Fit the model\n",
        "tree.fit(X_train, y_train)\n",
        "\n",
        "# Evaluate model's accuracy\n",
        "print(\"Accuracy on training set: {:.3f}\".format(tree.score(X_train, y_train)))\n",
        "print(\"Accuracy on test set: {:.3f}\".format(tree.score(X_test, y_test)))"
      ],
      "metadata": {
        "colab": {
          "base_uri": "https://localhost:8080/"
        },
        "id": "zoPjXWXfrW0v",
        "outputId": "84996117-821c-49a8-82cc-c47d5b545ec3"
      },
      "execution_count": 26,
      "outputs": [
        {
          "output_type": "stream",
          "name": "stdout",
          "text": [
            "Accuracy on training set: 1.000\n",
            "Accuracy on test set: 0.651\n"
          ]
        }
      ]
    },
    {
      "cell_type": "markdown",
      "source": [
        "The accuracy of the training set of 100% shows the model made zero errors. 100% accuracy can signify overfitting.\n",
        "The accuracy on the test set of 65% shows the model does not generalize well. Due to the high accuracy on the training set and low on testing set, it is suggesting that the model is overfitting.\n",
        "Pruning the tree will be required to address overfitting and to see if the model then preforms better."
      ],
      "metadata": {
        "id": "oSA8qb3jtiyE"
      }
    },
    {
      "cell_type": "markdown",
      "source": [
        "Feature importance"
      ],
      "metadata": {
        "id": "AfLg-Vn2zSlQ"
      }
    },
    {
      "cell_type": "code",
      "source": [
        "# Feature names for plotting\n",
        "feature_names = ['Refractive Index', 'Sodium', 'Magnesium', 'Aluminum',\n",
        "    'Silicon', 'Potassium', 'Calcium', 'Barium', 'Iron']\n",
        "\n",
        "# Plotting feature importances\n",
        "def plot_feature_importances(model):\n",
        "    n_features = X_train.shape[1]\n",
        "    plt.barh(np.arange(n_features), model.feature_importances_, align='center')\n",
        "    plt.yticks(np.arange(n_features), feature_names)\n",
        "    plt.xlabel(\"Feature Importance\")\n",
        "    plt.ylabel(\"Feature\")\n",
        "    plt.title(\"Feature Importances in Decision Tree\")\n",
        "    plt.ylim(-1, n_features)\n",
        "    plt.show()\n",
        "\n",
        "\n",
        "plot_feature_importances(tree)"
      ],
      "metadata": {
        "colab": {
          "base_uri": "https://localhost:8080/",
          "height": 472
        },
        "id": "wYBqZYk10Hk4",
        "outputId": "4ed62cc4-b131-4fbf-86a0-462f7cf66958"
      },
      "execution_count": 28,
      "outputs": [
        {
          "output_type": "display_data",
          "data": {
            "text/plain": [
              "<Figure size 640x480 with 1 Axes>"
            ],
            "image/png": "[encoded data removed]"
          },
          "metadata": {}
        }
      ]
    },
    {
      "cell_type": "markdown",
      "source": [
        "Feature importance for decision trees indicates the significance of each feature in predicting the target variable. A higher value is an important feature and impacts the model predicitons. Low scores are less important, possible can be prunned in next ideration.\n",
        "\n",
        "From the graph above, Barium, Magnesium, Aluminum, Refractive index and Calcium have the greatest impact on the models predictions. Iron can be seen to have the least importance.\n",
        "\n"
      ],
      "metadata": {
        "id": "fBH_iPm90-z3"
      }
    },
    {
      "cell_type": "markdown",
      "source": [
        "### K-Nearest Neighbor"
      ],
      "metadata": {
        "id": "wmRCN1jXJQ0-"
      }
    },
    {
      "cell_type": "code",
      "source": [
        "from sklearn.neighbors import KNeighborsClassifier\n",
        "from sklearn.metrics import classification_report\n",
        "import numpy as np"
      ],
      "metadata": {
        "id": "aorPU0CKJUEL"
      },
      "execution_count": 89,
      "outputs": []
    },
    {
      "cell_type": "code",
      "source": [
        "# KNN with scaled data\n",
        "\n",
        "# Instantiate K-Nearest Neighbor\n",
        "knn = KNeighborsClassifier()\n",
        "knn.fit(X_train_scaled, y_train)\n",
        "print(\"KNN score on training set: {}\".format(knn.score(X_train_scaled, y_train)))\n",
        "print(\"KNN score on test set: {}\".format(knn.score(X_test_scaled, y_test)))"
      ],
      "metadata": {
        "colab": {
          "base_uri": "https://localhost:8080/"
        },
        "id": "5b6ZD5G_JsZb",
        "outputId": "727f8d83-52d9-4b92-c7d0-654ce213cb07"
      },
      "execution_count": 96,
      "outputs": [
        {
          "output_type": "stream",
          "name": "stdout",
          "text": [
            "KNN score on training set: 0.7192982456140351\n",
            "KNN score on test set: 0.627906976744186\n"
          ]
        }
      ]
    },
    {
      "cell_type": "markdown",
      "source": [
        "The model is preforming at ~72% accuracy on the training set and ~63% on the testing set."
      ],
      "metadata": {
        "id": "mXgjrpCLM6om"
      }
    },
    {
      "cell_type": "markdown",
      "source": [
        "# Step 5: For each of your selected models (KNN and Decision tree)\n",
        "\n",
        "\n",
        "\n",
        "*   Run with the default parameters, training on your training set and testing on your testing set\n",
        "  *   Calculate precision, recall, and F1\n",
        "\n",
        "\n",
        "\n",
        "*   Run with the default parameters using cross-validation on the whole dataset\n",
        "  *   Calculate precision, recall, and F1\n",
        "\n",
        "\n",
        "\n",
        "\n",
        "*   (Where possible) adjust 2-3 parameters for each model using grid search\n",
        "  *   Report evaluation metrics for the best and worst-performing parameter settings\n"
      ],
      "metadata": {
        "id": "u1g5FBi6e7mV"
      }
    },
    {
      "cell_type": "code",
      "source": [
        "from sklearn.metrics import classification_report\n",
        "from sklearn.model_selection import GridSearchCV\n",
        "from sklearn.metrics import confusion_matrix\n",
        "from sklearn.model_selection import cross_val_score"
      ],
      "metadata": {
        "id": "Us1JprKJ20bW"
      },
      "execution_count": 47,
      "outputs": []
    },
    {
      "cell_type": "markdown",
      "source": [
        "### Decision Tree Default Parameters\n",
        "\n",
        "\n",
        "*   Calculate precision, recall, and F1 for both Testing and Training sets\n",
        "\n"
      ],
      "metadata": {
        "id": "pX_4aWYyym3U"
      }
    },
    {
      "cell_type": "markdown",
      "source": [
        "Classification report\n",
        "\n",
        "When checking it looks like an error occured due to class 4 not exisiting in the dataset. this is confirmed in UCI webpage which states \"Class attribute: 4 vehicle_windows_non_float_processed (none in this database)\". In the classification report, \"class 4\" will be omited, as it is nonexistent."
      ],
      "metadata": {
        "id": "CTIZNwtexFZE"
      }
    },
    {
      "cell_type": "code",
      "source": [
        "# classification report throwing error, checking the unique classes in y_test. Suspect that because unique class 4 has 0 there is an issue\n",
        "unique_classes = np.unique(y_test)\n",
        "print(\"Unique classes in y_test:\", unique_classes)"
      ],
      "metadata": {
        "colab": {
          "base_uri": "https://localhost:8080/"
        },
        "id": "Ol9kIz3Bvwa8",
        "outputId": "3cd30d11-2c2d-4102-b9fd-d8e8b0656471"
      },
      "execution_count": 48,
      "outputs": [
        {
          "output_type": "stream",
          "name": "stdout",
          "text": [
            "Unique classes in y_test: [1 2 3 5 6 7]\n"
          ]
        }
      ]
    },
    {
      "cell_type": "code",
      "source": [
        "# Examine Classification Report on testing set, omitting \"class 4\"\n",
        "print(\"Classification Report for Decision Tree testing set:\")\n",
        "print(classification_report(y_test, tree.predict(X_test),\n",
        "                            target_names=[\"class 1\", \"class 2\",\"class 3\", \"class 5\", \"class 6\", \"class 7\"]))"
      ],
      "metadata": {
        "colab": {
          "base_uri": "https://localhost:8080/"
        },
        "id": "kTJXd_5CudUP",
        "outputId": "ce6dfade-99a7-48b5-947b-7ad07cddab35"
      },
      "execution_count": 100,
      "outputs": [
        {
          "output_type": "stream",
          "name": "stdout",
          "text": [
            "Classification Report for Decision Tree testing set:\n",
            "              precision    recall  f1-score   support\n",
            "\n",
            "     class 1       0.80      0.57      0.67        14\n",
            "     class 2       0.73      0.53      0.62        15\n",
            "     class 3       0.29      0.67      0.40         3\n",
            "     class 5       1.00      0.67      0.80         3\n",
            "     class 6       0.33      1.00      0.50         2\n",
            "     class 7       0.86      1.00      0.92         6\n",
            "\n",
            "    accuracy                           0.65        43\n",
            "   macro avg       0.67      0.74      0.65        43\n",
            "weighted avg       0.74      0.65      0.67        43\n",
            "\n"
          ]
        }
      ]
    },
    {
      "cell_type": "code",
      "source": [
        "# Examine Classification Report on training set, omitting \"class 4\"\n",
        "print(\"Classification Report for Decision Tree:\")\n",
        "print(classification_report(y_train, tree.predict(X_train),\n",
        "                            target_names=[\"class 1\", \"class 2\",\"class 3\", \"class 5\", \"class 6\", \"class 7\"]))"
      ],
      "metadata": {
        "colab": {
          "base_uri": "https://localhost:8080/"
        },
        "id": "kfAh4SSS2L9w",
        "outputId": "e170519f-e6cb-4376-f609-f1d086fbd88a"
      },
      "execution_count": 50,
      "outputs": [
        {
          "output_type": "stream",
          "name": "stdout",
          "text": [
            "Classification Report for Decision Tree:\n",
            "              precision    recall  f1-score   support\n",
            "\n",
            "     class 1       1.00      1.00      1.00        56\n",
            "     class 2       1.00      1.00      1.00        61\n",
            "     class 3       1.00      1.00      1.00        14\n",
            "     class 5       1.00      1.00      1.00        10\n",
            "     class 6       1.00      1.00      1.00         7\n",
            "     class 7       1.00      1.00      1.00        23\n",
            "\n",
            "    accuracy                           1.00       171\n",
            "   macro avg       1.00      1.00      1.00       171\n",
            "weighted avg       1.00      1.00      1.00       171\n",
            "\n"
          ]
        }
      ]
    },
    {
      "cell_type": "markdown",
      "source": [
        "### Decision Tree using Cross Validation on entire Dataset"
      ],
      "metadata": {
        "id": "7n5Eh8go23-w"
      }
    },
    {
      "cell_type": "code",
      "source": [
        "# Instantiate the Decision Tree classifier\n",
        "tree_cv = DecisionTreeClassifier(random_state=0)\n",
        "\n",
        "# Perform 5-fold cross-validation on the entire dataset\n",
        "cv_scores_all = cross_val_score(tree_cv, X, y, cv=5)\n",
        "\n",
        "# Print cross-validation scores and mean\n",
        "print(\"cv_scores:\\n{}\".format(cv_scores_all))\n",
        "print(\"cv_scores mean:\\n{}\".format(np.mean(cv_scores_all)))\n"
      ],
      "metadata": {
        "colab": {
          "base_uri": "https://localhost:8080/"
        },
        "id": "I2cDAmQO3Grn",
        "outputId": "2bd2998f-1959-4af1-bad2-b724cf9c5df3"
      },
      "execution_count": 51,
      "outputs": [
        {
          "output_type": "stream",
          "name": "stdout",
          "text": [
            "cv_scores:\n",
            "[0.62790698 0.55813953 0.62790698 0.41860465 0.52380952]\n",
            "cv_scores mean:\n",
            "0.5512735326688815\n"
          ]
        }
      ]
    },
    {
      "cell_type": "markdown",
      "source": [
        "Cross Validation show how well the model preforms on each fold of the split. The cv_score mean of ~55% indicates that the decision tree model is accurately predicting the class labels 55% of time during cross validation. This indicates room for improvement in the model."
      ],
      "metadata": {
        "id": "ylig7sle5Lxz"
      }
    },
    {
      "cell_type": "markdown",
      "source": [
        "### Decision Tree Parameter Adjustment 1 : Max_depth\n",
        "\n",
        "Adjust parameters using grid search for best and worst performing parameters\n",
        "\n",
        "\n"
      ],
      "metadata": {
        "id": "j_m6964r6irn"
      }
    },
    {
      "cell_type": "markdown",
      "source": [
        "Max_depth chosen to help determine overfitting by limiting the depth to prevent overcomplextion and overfitting of training data. Depth is determined by the number of nodes from root to deepest leaf. Deep trees can lead to overfitting. Selecting the range for the max_depth was base on the 9 features in the dataset and including None."
      ],
      "metadata": {
        "id": "DEd1zT_n7Mc4"
      }
    },
    {
      "cell_type": "code",
      "source": [
        "# Grid Search for max_depth\n",
        "\n",
        "# Max_depth\n",
        "param_grid = {\"max_depth\": [None, 1, 2, 3, 4, 5, 6, 7, 8, 9]}\n",
        "\n",
        "# Grid search\n",
        "grid_search_max_depth = GridSearchCV(DecisionTreeClassifier(random_state=0), param_grid, cv=5)\n",
        "grid_search_max_depth.fit(X_train, y_train)"
      ],
      "metadata": {
        "colab": {
          "base_uri": "https://localhost:8080/",
          "height": 205
        },
        "id": "eZa1wFzw7Qsp",
        "outputId": "6c5d9c22-2533-4bc7-b555-73d44652f7b7"
      },
      "execution_count": 53,
      "outputs": [
        {
          "output_type": "execute_result",
          "data": {
            "text/plain": [
              "GridSearchCV(cv=5, estimator=DecisionTreeClassifier(random_state=0),\n",
              "             param_grid={'max_depth': [None, 1, 2, 3, 4, 5, 6, 7, 8, 9]})"
            ],
            "text/html": [
              "<style>#sk-container-id-3 {color: black;background-color: white;}#sk-container-id-3 pre{padding: 0;}#sk-container-id-3 div.sk-toggleable {background-color: white;}#sk-container-id-3 label.sk-toggleable__label {cursor: pointer;display: block;width: 100%;margin-bottom: 0;padding: 0.3em;box-sizing: border-box;text-align: center;}#sk-container-id-3 label.sk-toggleable__label-arrow:before {content: \"▸\";float: left;margin-right: 0.25em;color: #696969;}#sk-container-id-3 label.sk-toggleable__label-arrow:hover:before {color: black;}#sk-container-id-3 div.sk-estimator:hover label.sk-toggleable__label-arrow:before {color: black;}#sk-container-id-3 div.sk-toggleable__content {max-height: 0;max-width: 0;overflow: hidden;text-align: left;background-color: #f0f8ff;}#sk-container-id-3 div.sk-toggleable__content pre {margin: 0.2em;color: black;border-radius: 0.25em;background-color: #f0f8ff;}#sk-container-id-3 input.sk-toggleable__control:checked~div.sk-toggleable__content {max-height: 200px;max-width: 100%;overflow: auto;}#sk-container-id-3 input.sk-toggleable__control:checked~label.sk-toggleable__label-arrow:before {content: \"▾\";}#sk-container-id-3 div.sk-estimator input.sk-toggleable__control:checked~label.sk-toggleable__label {background-color: #d4ebff;}#sk-container-id-3 div.sk-label input.sk-toggleable__control:checked~label.sk-toggleable__label {background-color: #d4ebff;}#sk-container-id-3 input.sk-hidden--visually {border: 0;clip: rect(1px 1px 1px 1px);clip: rect(1px, 1px, 1px, 1px);height: 1px;margin: -1px;overflow: hidden;padding: 0;position: absolute;width: 1px;}#sk-container-id-3 div.sk-estimator {font-family: monospace;background-color: #f0f8ff;border: 1px dotted black;border-radius: 0.25em;box-sizing: border-box;margin-bottom: 0.5em;}#sk-container-id-3 div.sk-estimator:hover {background-color: #d4ebff;}#sk-container-id-3 div.sk-parallel-item::after {content: \"\";width: 100%;border-bottom: 1px solid gray;flex-grow: 1;}#sk-container-id-3 div.sk-label:hover label.sk-toggleable__label {background-color: #d4ebff;}#sk-container-id-3 div.sk-serial::before {content: \"\";position: absolute;border-left: 1px solid gray;box-sizing: border-box;top: 0;bottom: 0;left: 50%;z-index: 0;}#sk-container-id-3 div.sk-serial {display: flex;flex-direction: column;align-items: center;background-color: white;padding-right: 0.2em;padding-left: 0.2em;position: relative;}#sk-container-id-3 div.sk-item {position: relative;z-index: 1;}#sk-container-id-3 div.sk-parallel {display: flex;align-items: stretch;justify-content: center;background-color: white;position: relative;}#sk-container-id-3 div.sk-item::before, #sk-container-id-3 div.sk-parallel-item::before {content: \"\";position: absolute;border-left: 1px solid gray;box-sizing: border-box;top: 0;bottom: 0;left: 50%;z-index: -1;}#sk-container-id-3 div.sk-parallel-item {display: flex;flex-direction: column;z-index: 1;position: relative;background-color: white;}#sk-container-id-3 div.sk-parallel-item:first-child::after {align-self: flex-end;width: 50%;}#sk-container-id-3 div.sk-parallel-item:last-child::after {align-self: flex-start;width: 50%;}#sk-container-id-3 div.sk-parallel-item:only-child::after {width: 0;}#sk-container-id-3 div.sk-dashed-wrapped {border: 1px dashed gray;margin: 0 0.4em 0.5em 0.4em;box-sizing: border-box;padding-bottom: 0.4em;background-color: white;}#sk-container-id-3 div.sk-label label {font-family: monospace;font-weight: bold;display: inline-block;line-height: 1.2em;}#sk-container-id-3 div.sk-label-container {text-align: center;}#sk-container-id-3 div.sk-container {/* jupyter's `normalize.less` sets `[hidden] { display: none; }` but bootstrap.min.css set `[hidden] { display: none !important; }` so we also need the `!important` here to be able to override the default hidden behavior on the sphinx rendered scikit-learn.org. See: https://github.com/scikit-learn/scikit-learn/issues/21755 */display: inline-block !important;position: relative;}#sk-container-id-3 div.sk-text-repr-fallback {display: none;}</style><div id=\"sk-container-id-3\" class=\"sk-top-container\"><div class=\"sk-text-repr-fallback\"><pre>GridSearchCV(cv=5, estimator=DecisionTreeClassifier(random_state=0),\n",
              "             param_grid={&#x27;max_depth&#x27;: [None, 1, 2, 3, 4, 5, 6, 7, 8, 9]})</pre><b>In a Jupyter environment, please rerun this cell to show the HTML representation or trust the notebook. <br />On GitHub, the HTML representation is unable to render, please try loading this page with nbviewer.org.</b></div><div class=\"sk-container\" hidden><div class=\"sk-item sk-dashed-wrapped\"><div class=\"sk-label-container\"><div class=\"sk-label sk-toggleable\"><input class=\"sk-toggleable__control sk-hidden--visually\" id=\"sk-estimator-id-5\" type=\"checkbox\" ><label for=\"sk-estimator-id-5\" class=\"sk-toggleable__label sk-toggleable__label-arrow\">GridSearchCV</label><div class=\"sk-toggleable__content\"><pre>GridSearchCV(cv=5, estimator=DecisionTreeClassifier(random_state=0),\n",
              "             param_grid={&#x27;max_depth&#x27;: [None, 1, 2, 3, 4, 5, 6, 7, 8, 9]})</pre></div></div></div><div class=\"sk-parallel\"><div class=\"sk-parallel-item\"><div class=\"sk-item\"><div class=\"sk-label-container\"><div class=\"sk-label sk-toggleable\"><input class=\"sk-toggleable__control sk-hidden--visually\" id=\"sk-estimator-id-6\" type=\"checkbox\" ><label for=\"sk-estimator-id-6\" class=\"sk-toggleable__label sk-toggleable__label-arrow\">estimator: DecisionTreeClassifier</label><div class=\"sk-toggleable__content\"><pre>DecisionTreeClassifier(random_state=0)</pre></div></div></div><div class=\"sk-serial\"><div class=\"sk-item\"><div class=\"sk-estimator sk-toggleable\"><input class=\"sk-toggleable__control sk-hidden--visually\" id=\"sk-estimator-id-7\" type=\"checkbox\" ><label for=\"sk-estimator-id-7\" class=\"sk-toggleable__label sk-toggleable__label-arrow\">DecisionTreeClassifier</label><div class=\"sk-toggleable__content\"><pre>DecisionTreeClassifier(random_state=0)</pre></div></div></div></div></div></div></div></div></div></div>"
            ]
          },
          "metadata": {},
          "execution_count": 53
        }
      ]
    },
    {
      "cell_type": "code",
      "source": [
        "# Best performing on max_depth\n",
        "grid_search_max_depth.best_params_"
      ],
      "metadata": {
        "colab": {
          "base_uri": "https://localhost:8080/"
        },
        "id": "hNnWJoqi8VAf",
        "outputId": "9a9b325f-9340-4cba-865d-a42e2b4dd627"
      },
      "execution_count": 54,
      "outputs": [
        {
          "output_type": "execute_result",
          "data": {
            "text/plain": [
              "{'max_depth': 3}"
            ]
          },
          "metadata": {},
          "execution_count": 54
        }
      ]
    },
    {
      "cell_type": "code",
      "source": [
        "# Accuracy of best performing\n",
        "grid_search_max_depth.best_score_"
      ],
      "metadata": {
        "colab": {
          "base_uri": "https://localhost:8080/"
        },
        "id": "LYpRrAOL8YDQ",
        "outputId": "2a50bb12-923d-4133-c0dc-96c2f48034cc"
      },
      "execution_count": 55,
      "outputs": [
        {
          "output_type": "execute_result",
          "data": {
            "text/plain": [
              "0.678655462184874"
            ]
          },
          "metadata": {},
          "execution_count": 55
        }
      ]
    },
    {
      "cell_type": "code",
      "source": [
        "# Cross validation results with max_depth\n",
        "grid_search_max_depth.cv_results_"
      ],
      "metadata": {
        "colab": {
          "base_uri": "https://localhost:8080/"
        },
        "id": "Og7BqY2u8cXe",
        "outputId": "38121360-4ca1-4e79-e1a7-f13c10ceac73"
      },
      "execution_count": 56,
      "outputs": [
        {
          "output_type": "execute_result",
          "data": {
            "text/plain": [
              "{'mean_fit_time': array([0.00501208, 0.00413108, 0.00279846, 0.00274701, 0.00360808,\n",
              "        0.00293732, 0.00295763, 0.00418067, 0.00496435, 0.00310555]),\n",
              " 'std_fit_time': array([1.66751839e-03, 7.31414034e-04, 1.88388857e-04, 5.57747437e-05,\n",
              "        6.58120354e-04, 8.05887244e-05, 7.30301288e-05, 7.41201421e-04,\n",
              "        2.01957567e-03, 3.11318797e-05]),\n",
              " 'mean_score_time': array([0.00310998, 0.00251584, 0.00207543, 0.00190148, 0.00231476,\n",
              "        0.00183749, 0.00177765, 0.00268292, 0.00246201, 0.00190125]),\n",
              " 'std_score_time': array([7.68884480e-04, 4.75453070e-04, 5.14681007e-04, 1.53373588e-04,\n",
              "        5.30961449e-04, 9.43616039e-05, 3.25215527e-05, 5.99523075e-04,\n",
              "        7.00650355e-04, 3.85435471e-05]),\n",
              " 'param_max_depth': masked_array(data=[None, 1, 2, 3, 4, 5, 6, 7, 8, 9],\n",
              "              mask=[False, False, False, False, False, False, False, False,\n",
              "                    False, False],\n",
              "        fill_value='?',\n",
              "             dtype=object),\n",
              " 'params': [{'max_depth': None},\n",
              "  {'max_depth': 1},\n",
              "  {'max_depth': 2},\n",
              "  {'max_depth': 3},\n",
              "  {'max_depth': 4},\n",
              "  {'max_depth': 5},\n",
              "  {'max_depth': 6},\n",
              "  {'max_depth': 7},\n",
              "  {'max_depth': 8},\n",
              "  {'max_depth': 9}],\n",
              " 'split0_test_score': array([0.62857143, 0.42857143, 0.57142857, 0.62857143, 0.45714286,\n",
              "        0.48571429, 0.57142857, 0.57142857, 0.6       , 0.51428571]),\n",
              " 'split1_test_score': array([0.58823529, 0.41176471, 0.61764706, 0.64705882, 0.61764706,\n",
              "        0.58823529, 0.61764706, 0.58823529, 0.58823529, 0.58823529]),\n",
              " 'split2_test_score': array([0.67647059, 0.5       , 0.61764706, 0.70588235, 0.70588235,\n",
              "        0.64705882, 0.64705882, 0.70588235, 0.64705882, 0.64705882]),\n",
              " 'split3_test_score': array([0.76470588, 0.47058824, 0.64705882, 0.73529412, 0.64705882,\n",
              "        0.64705882, 0.67647059, 0.70588235, 0.70588235, 0.76470588]),\n",
              " 'split4_test_score': array([0.5       , 0.5       , 0.58823529, 0.67647059, 0.61764706,\n",
              "        0.61764706, 0.58823529, 0.5       , 0.58823529, 0.5       ]),\n",
              " 'mean_test_score': array([0.63159664, 0.46218487, 0.60840336, 0.67865546, 0.60907563,\n",
              "        0.59714286, 0.62016807, 0.61428571, 0.62588235, 0.60285714]),\n",
              " 'std_test_score': array([0.08824826, 0.03633907, 0.02622603, 0.03862842, 0.08251639,\n",
              "        0.05983193, 0.03819603, 0.08044436, 0.04550372, 0.09673375]),\n",
              " 'rank_test_score': array([ 2, 10,  7,  1,  6,  9,  4,  5,  3,  8], dtype=int32)}"
            ]
          },
          "metadata": {},
          "execution_count": 56
        }
      ]
    },
    {
      "cell_type": "markdown",
      "source": [
        "Best performing paramter setting is 4 and the worst performing is 2"
      ],
      "metadata": {
        "id": "SERCFQNH9TiW"
      }
    },
    {
      "cell_type": "code",
      "source": [
        "# Best Performing Accuracy of max_depth 4 on testing data\n",
        "tree_4 = DecisionTreeClassifier(max_depth=4, random_state=0)\n",
        "tree_4.fit(X_train, y_train)\n",
        "print(\"Best Performing Accuracy of max_depth 4 : {}\".format(tree_4.score(X_test, y_test)))"
      ],
      "metadata": {
        "colab": {
          "base_uri": "https://localhost:8080/"
        },
        "id": "XspgeHrK8ka_",
        "outputId": "16393235-987e-4285-9bdc-11bc518ccc48"
      },
      "execution_count": 57,
      "outputs": [
        {
          "output_type": "stream",
          "name": "stdout",
          "text": [
            "Best Performing Accuracy of max_depth 4 : 0.6744186046511628\n"
          ]
        }
      ]
    },
    {
      "cell_type": "code",
      "source": [
        "# worst Performing Accuracy of max_depth 2 on testing data\n",
        "tree_2 = DecisionTreeClassifier(max_depth=2, random_state=0)\n",
        "tree_2.fit(X_train, y_train)\n",
        "print(\"Worst Performing Accuracy of max_depth 2: {}\".format(tree_2.score(X_test, y_test)))"
      ],
      "metadata": {
        "colab": {
          "base_uri": "https://localhost:8080/"
        },
        "id": "Zxi7rpwM893g",
        "outputId": "66b17121-3848-4588-9969-d06153ce7623"
      },
      "execution_count": 58,
      "outputs": [
        {
          "output_type": "stream",
          "name": "stdout",
          "text": [
            "Worst Performing Accuracy of max_depth 2: 0.6046511627906976\n"
          ]
        }
      ]
    },
    {
      "cell_type": "code",
      "source": [
        "# Confusion matrix of best performing max_depth decision tree\n",
        "confusion = confusion_matrix(y_test, tree_4.predict(X_test))\n",
        "print(\"Confusion matrix best performer max_depth 4:\\n{}\".format(confusion))"
      ],
      "metadata": {
        "colab": {
          "base_uri": "https://localhost:8080/"
        },
        "id": "jwBnypOw9gpZ",
        "outputId": "48c584d3-4a52-49a2-85e6-4ed9b601638b"
      },
      "execution_count": 59,
      "outputs": [
        {
          "output_type": "stream",
          "name": "stdout",
          "text": [
            "Confusion matrix max_depth 4:\n",
            "[[10  3  0  0  0  1]\n",
            " [ 2  9  0  0  4  0]\n",
            " [ 3  0  0  0  0  0]\n",
            " [ 0  1  0  2  0  0]\n",
            " [ 0  0  0  0  2  0]\n",
            " [ 0  0  0  0  0  6]]\n"
          ]
        }
      ]
    },
    {
      "cell_type": "markdown",
      "source": [
        "Confusion matrix summarizes the performance of a classification model. Rows represent the instances of a class and columns show the predicted instances in a class. Diagonal show correctly classified instances. Ones that do not fall in digonal show misclassifications.\n",
        "\n",
        "Row 1 has 10 instances correctly clasified as class 1, but 3 instance in class3 and 1 in class 6.\n",
        "In row 2, there are 9 instances correctly classifed as class 2, but 2 incorrectly classifed as class 1, and 4 incorrectly classifed as class 5.\n",
        "In row 3, there are 3 instance misclassifed as class 1, and no other instances classifed.\n",
        "Row 4 has one misclassifed as class 2, but 2 correctly classifed as class 4.\n",
        "Row 5 has 2 instances correct classifed in class 5 and zero missclassifed.\n",
        "Row 6 has 6 correct for class 6 and zero others incorrectly classified."
      ],
      "metadata": {
        "id": "anoxkJ_592Mz"
      }
    },
    {
      "cell_type": "code",
      "source": [
        "# Confusion matrix of worst performing max_depth decision tree\n",
        "confusion = confusion_matrix(y_test, tree_2.predict(X_test))\n",
        "print(\"Confusion matrix worst performer max_depth 2:\\n{}\".format(confusion))"
      ],
      "metadata": {
        "colab": {
          "base_uri": "https://localhost:8080/"
        },
        "id": "5REWuD3g9nFS",
        "outputId": "e749729a-c8f7-494c-d060-693ad2ba8058"
      },
      "execution_count": 60,
      "outputs": [
        {
          "output_type": "stream",
          "name": "stdout",
          "text": [
            "Confusion matrix worst performer max_depth 2:\n",
            "[[11  2  0  0  0  1]\n",
            " [ 6  9  0  0  0  0]\n",
            " [ 3  0  0  0  0  0]\n",
            " [ 1  2  0  0  0  0]\n",
            " [ 0  2  0  0  0  0]\n",
            " [ 0  0  0  0  0  6]]\n"
          ]
        }
      ]
    },
    {
      "cell_type": "markdown",
      "source": [
        "### Decision Tree Parameter Adjustment 2 : class_weight\n",
        "\n",
        "Adjust parameters using grid search for best and worst performing parameters"
      ],
      "metadata": {
        "id": "fbrMUkP97Dyv"
      }
    },
    {
      "cell_type": "markdown",
      "source": [
        "Class_weight elected to help control the imbalance seen in the previously where some classes has more instances than others. This can help reduce bias in the model."
      ],
      "metadata": {
        "id": "0_3TTFtHAJt7"
      }
    },
    {
      "cell_type": "code",
      "source": [
        "# Grid Search for class_weight on decision tree\n",
        "\n",
        "# class_weight\n",
        "param_grid = {\"class_weight\": [None, \"balanced\"]}\n",
        "\n",
        "# Grid search\n",
        "grid_search_class_weight = GridSearchCV(DecisionTreeClassifier(random_state=0), param_grid, cv=5)\n",
        "grid_search_class_weight.fit(X_train, y_train)"
      ],
      "metadata": {
        "colab": {
          "base_uri": "https://localhost:8080/",
          "height": 119
        },
        "id": "4FV37-AcAeE0",
        "outputId": "11f3d8fa-97f0-4031-c53b-aa060a1b4e5e"
      },
      "execution_count": 73,
      "outputs": [
        {
          "output_type": "execute_result",
          "data": {
            "text/plain": [
              "GridSearchCV(cv=5, estimator=DecisionTreeClassifier(random_state=0),\n",
              "             param_grid={'class_weight': [None, 'balanced']})"
            ],
            "text/html": [
              "<style>#sk-container-id-7 {color: black;background-color: white;}#sk-container-id-7 pre{padding: 0;}#sk-container-id-7 div.sk-toggleable {background-color: white;}#sk-container-id-7 label.sk-toggleable__label {cursor: pointer;display: block;width: 100%;margin-bottom: 0;padding: 0.3em;box-sizing: border-box;text-align: center;}#sk-container-id-7 label.sk-toggleable__label-arrow:before {content: \"▸\";float: left;margin-right: 0.25em;color: #696969;}#sk-container-id-7 label.sk-toggleable__label-arrow:hover:before {color: black;}#sk-container-id-7 div.sk-estimator:hover label.sk-toggleable__label-arrow:before {color: black;}#sk-container-id-7 div.sk-toggleable__content {max-height: 0;max-width: 0;overflow: hidden;text-align: left;background-color: #f0f8ff;}#sk-container-id-7 div.sk-toggleable__content pre {margin: 0.2em;color: black;border-radius: 0.25em;background-color: #f0f8ff;}#sk-container-id-7 input.sk-toggleable__control:checked~div.sk-toggleable__content {max-height: 200px;max-width: 100%;overflow: auto;}#sk-container-id-7 input.sk-toggleable__control:checked~label.sk-toggleable__label-arrow:before {content: \"▾\";}#sk-container-id-7 div.sk-estimator input.sk-toggleable__control:checked~label.sk-toggleable__label {background-color: #d4ebff;}#sk-container-id-7 div.sk-label input.sk-toggleable__control:checked~label.sk-toggleable__label {background-color: #d4ebff;}#sk-container-id-7 input.sk-hidden--visually {border: 0;clip: rect(1px 1px 1px 1px);clip: rect(1px, 1px, 1px, 1px);height: 1px;margin: -1px;overflow: hidden;padding: 0;position: absolute;width: 1px;}#sk-container-id-7 div.sk-estimator {font-family: monospace;background-color: #f0f8ff;border: 1px dotted black;border-radius: 0.25em;box-sizing: border-box;margin-bottom: 0.5em;}#sk-container-id-7 div.sk-estimator:hover {background-color: #d4ebff;}#sk-container-id-7 div.sk-parallel-item::after {content: \"\";width: 100%;border-bottom: 1px solid gray;flex-grow: 1;}#sk-container-id-7 div.sk-label:hover label.sk-toggleable__label {background-color: #d4ebff;}#sk-container-id-7 div.sk-serial::before {content: \"\";position: absolute;border-left: 1px solid gray;box-sizing: border-box;top: 0;bottom: 0;left: 50%;z-index: 0;}#sk-container-id-7 div.sk-serial {display: flex;flex-direction: column;align-items: center;background-color: white;padding-right: 0.2em;padding-left: 0.2em;position: relative;}#sk-container-id-7 div.sk-item {position: relative;z-index: 1;}#sk-container-id-7 div.sk-parallel {display: flex;align-items: stretch;justify-content: center;background-color: white;position: relative;}#sk-container-id-7 div.sk-item::before, #sk-container-id-7 div.sk-parallel-item::before {content: \"\";position: absolute;border-left: 1px solid gray;box-sizing: border-box;top: 0;bottom: 0;left: 50%;z-index: -1;}#sk-container-id-7 div.sk-parallel-item {display: flex;flex-direction: column;z-index: 1;position: relative;background-color: white;}#sk-container-id-7 div.sk-parallel-item:first-child::after {align-self: flex-end;width: 50%;}#sk-container-id-7 div.sk-parallel-item:last-child::after {align-self: flex-start;width: 50%;}#sk-container-id-7 div.sk-parallel-item:only-child::after {width: 0;}#sk-container-id-7 div.sk-dashed-wrapped {border: 1px dashed gray;margin: 0 0.4em 0.5em 0.4em;box-sizing: border-box;padding-bottom: 0.4em;background-color: white;}#sk-container-id-7 div.sk-label label {font-family: monospace;font-weight: bold;display: inline-block;line-height: 1.2em;}#sk-container-id-7 div.sk-label-container {text-align: center;}#sk-container-id-7 div.sk-container {/* jupyter's `normalize.less` sets `[hidden] { display: none; }` but bootstrap.min.css set `[hidden] { display: none !important; }` so we also need the `!important` here to be able to override the default hidden behavior on the sphinx rendered scikit-learn.org. See: https://github.com/scikit-learn/scikit-learn/issues/21755 */display: inline-block !important;position: relative;}#sk-container-id-7 div.sk-text-repr-fallback {display: none;}</style><div id=\"sk-container-id-7\" class=\"sk-top-container\"><div class=\"sk-text-repr-fallback\"><pre>GridSearchCV(cv=5, estimator=DecisionTreeClassifier(random_state=0),\n",
              "             param_grid={&#x27;class_weight&#x27;: [None, &#x27;balanced&#x27;]})</pre><b>In a Jupyter environment, please rerun this cell to show the HTML representation or trust the notebook. <br />On GitHub, the HTML representation is unable to render, please try loading this page with nbviewer.org.</b></div><div class=\"sk-container\" hidden><div class=\"sk-item sk-dashed-wrapped\"><div class=\"sk-label-container\"><div class=\"sk-label sk-toggleable\"><input class=\"sk-toggleable__control sk-hidden--visually\" id=\"sk-estimator-id-17\" type=\"checkbox\" ><label for=\"sk-estimator-id-17\" class=\"sk-toggleable__label sk-toggleable__label-arrow\">GridSearchCV</label><div class=\"sk-toggleable__content\"><pre>GridSearchCV(cv=5, estimator=DecisionTreeClassifier(random_state=0),\n",
              "             param_grid={&#x27;class_weight&#x27;: [None, &#x27;balanced&#x27;]})</pre></div></div></div><div class=\"sk-parallel\"><div class=\"sk-parallel-item\"><div class=\"sk-item\"><div class=\"sk-label-container\"><div class=\"sk-label sk-toggleable\"><input class=\"sk-toggleable__control sk-hidden--visually\" id=\"sk-estimator-id-18\" type=\"checkbox\" ><label for=\"sk-estimator-id-18\" class=\"sk-toggleable__label sk-toggleable__label-arrow\">estimator: DecisionTreeClassifier</label><div class=\"sk-toggleable__content\"><pre>DecisionTreeClassifier(random_state=0)</pre></div></div></div><div class=\"sk-serial\"><div class=\"sk-item\"><div class=\"sk-estimator sk-toggleable\"><input class=\"sk-toggleable__control sk-hidden--visually\" id=\"sk-estimator-id-19\" type=\"checkbox\" ><label for=\"sk-estimator-id-19\" class=\"sk-toggleable__label sk-toggleable__label-arrow\">DecisionTreeClassifier</label><div class=\"sk-toggleable__content\"><pre>DecisionTreeClassifier(random_state=0)</pre></div></div></div></div></div></div></div></div></div></div>"
            ]
          },
          "metadata": {},
          "execution_count": 73
        }
      ]
    },
    {
      "cell_type": "code",
      "source": [
        "# Best performing\n",
        "print(\"Best parameters found: \", grid_search_class_weight.best_params_)"
      ],
      "metadata": {
        "colab": {
          "base_uri": "https://localhost:8080/"
        },
        "id": "FbAPvkDbAirQ",
        "outputId": "3b7065a6-bcc2-4276-ab30-1a1e571ab450"
      },
      "execution_count": 74,
      "outputs": [
        {
          "output_type": "stream",
          "name": "stdout",
          "text": [
            "Best parameters found:  {'class_weight': 'balanced'}\n"
          ]
        }
      ]
    },
    {
      "cell_type": "code",
      "source": [
        "# Accuracy of best performing with class_weight\n",
        "print(\"Accuracy of best parameters found: \", grid_search_class_weight.best_score_)"
      ],
      "metadata": {
        "colab": {
          "base_uri": "https://localhost:8080/"
        },
        "id": "ZM8gC41zAm0U",
        "outputId": "0b4de6fa-02c9-4b60-dbae-9f7eb34023a7"
      },
      "execution_count": 75,
      "outputs": [
        {
          "output_type": "stream",
          "name": "stdout",
          "text": [
            "Accuracy of best parameters found:  0.6376470588235295\n"
          ]
        }
      ]
    },
    {
      "cell_type": "code",
      "source": [
        "# Cross validation results with max_features\n",
        "grid_search_class_weight.cv_results_"
      ],
      "metadata": {
        "colab": {
          "base_uri": "https://localhost:8080/"
        },
        "id": "vqL90YPkAsGi",
        "outputId": "c15f4ece-9d20-4051-f693-6f1831729a1e"
      },
      "execution_count": 76,
      "outputs": [
        {
          "output_type": "execute_result",
          "data": {
            "text/plain": [
              "{'mean_fit_time': array([0.01004953, 0.00641065]),\n",
              " 'std_fit_time': array([0.00343119, 0.00015066]),\n",
              " 'mean_score_time': array([0.00354133, 0.00415125]),\n",
              " 'std_score_time': array([0.00017593, 0.00135868]),\n",
              " 'param_class_weight': masked_array(data=[None, 'balanced'],\n",
              "              mask=[False, False],\n",
              "        fill_value='?',\n",
              "             dtype=object),\n",
              " 'params': [{'class_weight': None}, {'class_weight': 'balanced'}],\n",
              " 'split0_test_score': array([0.62857143, 0.6       ]),\n",
              " 'split1_test_score': array([0.58823529, 0.47058824]),\n",
              " 'split2_test_score': array([0.67647059, 0.73529412]),\n",
              " 'split3_test_score': array([0.76470588, 0.70588235]),\n",
              " 'split4_test_score': array([0.5       , 0.67647059]),\n",
              " 'mean_test_score': array([0.63159664, 0.63764706]),\n",
              " 'std_test_score': array([0.08824826, 0.09489386]),\n",
              " 'rank_test_score': array([2, 1], dtype=int32)}"
            ]
          },
          "metadata": {},
          "execution_count": 76
        }
      ]
    },
    {
      "cell_type": "markdown",
      "source": [
        "Showing Balanced as the best parametered and None as the worst performing parameter."
      ],
      "metadata": {
        "id": "E2Ns8tZGA5Z1"
      }
    },
    {
      "cell_type": "code",
      "source": [
        "# Best Performing Accuracy of class_weight balanced on testing data\n",
        "tree_balanced = DecisionTreeClassifier(class_weight='balanced', random_state=0)\n",
        "tree_balanced.fit(X_train, y_train)\n",
        "print(\"Accuracy of Balanced: {}\".format(tree_balanced.score(X_test, y_test)))"
      ],
      "metadata": {
        "colab": {
          "base_uri": "https://localhost:8080/"
        },
        "id": "-iwUelSVA-Mi",
        "outputId": "510a2413-fba1-4924-8870-01a4b4e1cf82"
      },
      "execution_count": 77,
      "outputs": [
        {
          "output_type": "stream",
          "name": "stdout",
          "text": [
            "Accuracy of Balanced: 0.627906976744186\n"
          ]
        }
      ]
    },
    {
      "cell_type": "code",
      "source": [
        "# worst Performing Accuracy of class_weight None on testing data\n",
        "tree_none = DecisionTreeClassifier(class_weight=None, random_state=0)\n",
        "tree_none.fit(X_train, y_train)\n",
        "print(\"Accuracy of None: {}\".format(tree_none.score(X_test, y_test)))"
      ],
      "metadata": {
        "colab": {
          "base_uri": "https://localhost:8080/"
        },
        "id": "XDYLvqN0BCEp",
        "outputId": "584b2c4c-4b6c-4d96-fc1c-ffd8cc660d25"
      },
      "execution_count": 78,
      "outputs": [
        {
          "output_type": "stream",
          "name": "stdout",
          "text": [
            "Accuracy of None: 0.6511627906976745\n"
          ]
        }
      ]
    },
    {
      "cell_type": "markdown",
      "source": [
        "Accuracy of none is higher than balanced, even though it said balanced was a better paramet. When examining the cross validation the mean_test_score is showing they they have about the same score. this could be why the accuracy is not showing what was expected. Even though this occured it still may benefit the model to have a class_weight of balance and provide better generalization. It may also not be as beneficial as expected due to decision trees not being greatly impacted by an umbalanced distribution."
      ],
      "metadata": {
        "id": "sHiBxQAQE5p9"
      }
    },
    {
      "cell_type": "code",
      "source": [
        "# Confusion matrix of best performing class_weight balanced decision tree\n",
        "\n",
        "confusion = confusion_matrix(y_test, tree_balanced.predict(X_test))\n",
        "print(\"Confusion matrix class_weight balanced:\\n{}\".format(confusion))"
      ],
      "metadata": {
        "colab": {
          "base_uri": "https://localhost:8080/"
        },
        "id": "BgzbwgMuF0Ms",
        "outputId": "12b16ce8-157f-4da0-8e9c-72e5453f814a"
      },
      "execution_count": 79,
      "outputs": [
        {
          "output_type": "stream",
          "name": "stdout",
          "text": [
            "Confusion matrix class_weight balanced:\n",
            "[[10  2  2  0  0  0]\n",
            " [ 4  6  2  0  1  2]\n",
            " [ 0  0  3  0  0  0]\n",
            " [ 0  0  0  2  0  1]\n",
            " [ 0  0  0  0  2  0]\n",
            " [ 0  1  0  1  0  4]]\n"
          ]
        }
      ]
    },
    {
      "cell_type": "code",
      "source": [
        "# Confusion matrix of worst performing class_weight none decision tree\n",
        "\n",
        "confusion = confusion_matrix(y_test, tree_none.predict(X_test))\n",
        "print(\"Confusion matrix class_weight None:\\n{}\".format(confusion))"
      ],
      "metadata": {
        "colab": {
          "base_uri": "https://localhost:8080/"
        },
        "id": "7O5hxuZBF-uP",
        "outputId": "9a6f8fc6-a89a-45a4-8486-c50e35ceac2d"
      },
      "execution_count": 80,
      "outputs": [
        {
          "output_type": "stream",
          "name": "stdout",
          "text": [
            "Confusion matrix class_weight None:\n",
            "[[8 2 3 0 0 1]\n",
            " [1 8 2 0 4 0]\n",
            " [1 0 2 0 0 0]\n",
            " [0 1 0 2 0 0]\n",
            " [0 0 0 0 2 0]\n",
            " [0 0 0 0 0 6]]\n"
          ]
        }
      ]
    },
    {
      "cell_type": "markdown",
      "source": [
        "### Decision Tree Parameter Adjustment 3 : max_leaf_nodes\n",
        "\n",
        "Adjust parameters using grid search for best and worst performing parameters"
      ],
      "metadata": {
        "id": "0dsrSf4SGt3p"
      }
    },
    {
      "cell_type": "markdown",
      "source": [
        "max_leaf_nodes parameter adjustment elected as it can limit complexity and help precent overfitting. This will limited the number of times the leaf nodes are created to improve accuracy."
      ],
      "metadata": {
        "id": "a4psPg2FGx5I"
      }
    },
    {
      "cell_type": "code",
      "source": [
        "# Grid Search for max_leaf_nodes on decision tree\n",
        "\n",
        "# parameters for max_leaf_nodes\n",
        "param_grid = {\"max_leaf_nodes\": [None, 5, 10, 15, 20]}\n",
        "\n",
        "# Grid search\n",
        "grid_search_max_leaf_nodes = GridSearchCV(DecisionTreeClassifier(random_state=0), param_grid, cv=5)\n",
        "grid_search_max_leaf_nodes.fit(X_train, y_train)"
      ],
      "metadata": {
        "colab": {
          "base_uri": "https://localhost:8080/",
          "height": 119
        },
        "id": "vBovKEhAHL75",
        "outputId": "922d047a-df44-4fc1-c16e-ec8895dbf96d"
      },
      "execution_count": 81,
      "outputs": [
        {
          "output_type": "execute_result",
          "data": {
            "text/plain": [
              "GridSearchCV(cv=5, estimator=DecisionTreeClassifier(random_state=0),\n",
              "             param_grid={'max_leaf_nodes': [None, 5, 10, 15, 20]})"
            ],
            "text/html": [
              "<style>#sk-container-id-8 {color: black;background-color: white;}#sk-container-id-8 pre{padding: 0;}#sk-container-id-8 div.sk-toggleable {background-color: white;}#sk-container-id-8 label.sk-toggleable__label {cursor: pointer;display: block;width: 100%;margin-bottom: 0;padding: 0.3em;box-sizing: border-box;text-align: center;}#sk-container-id-8 label.sk-toggleable__label-arrow:before {content: \"▸\";float: left;margin-right: 0.25em;color: #696969;}#sk-container-id-8 label.sk-toggleable__label-arrow:hover:before {color: black;}#sk-container-id-8 div.sk-estimator:hover label.sk-toggleable__label-arrow:before {color: black;}#sk-container-id-8 div.sk-toggleable__content {max-height: 0;max-width: 0;overflow: hidden;text-align: left;background-color: #f0f8ff;}#sk-container-id-8 div.sk-toggleable__content pre {margin: 0.2em;color: black;border-radius: 0.25em;background-color: #f0f8ff;}#sk-container-id-8 input.sk-toggleable__control:checked~div.sk-toggleable__content {max-height: 200px;max-width: 100%;overflow: auto;}#sk-container-id-8 input.sk-toggleable__control:checked~label.sk-toggleable__label-arrow:before {content: \"▾\";}#sk-container-id-8 div.sk-estimator input.sk-toggleable__control:checked~label.sk-toggleable__label {background-color: #d4ebff;}#sk-container-id-8 div.sk-label input.sk-toggleable__control:checked~label.sk-toggleable__label {background-color: #d4ebff;}#sk-container-id-8 input.sk-hidden--visually {border: 0;clip: rect(1px 1px 1px 1px);clip: rect(1px, 1px, 1px, 1px);height: 1px;margin: -1px;overflow: hidden;padding: 0;position: absolute;width: 1px;}#sk-container-id-8 div.sk-estimator {font-family: monospace;background-color: #f0f8ff;border: 1px dotted black;border-radius: 0.25em;box-sizing: border-box;margin-bottom: 0.5em;}#sk-container-id-8 div.sk-estimator:hover {background-color: #d4ebff;}#sk-container-id-8 div.sk-parallel-item::after {content: \"\";width: 100%;border-bottom: 1px solid gray;flex-grow: 1;}#sk-container-id-8 div.sk-label:hover label.sk-toggleable__label {background-color: #d4ebff;}#sk-container-id-8 div.sk-serial::before {content: \"\";position: absolute;border-left: 1px solid gray;box-sizing: border-box;top: 0;bottom: 0;left: 50%;z-index: 0;}#sk-container-id-8 div.sk-serial {display: flex;flex-direction: column;align-items: center;background-color: white;padding-right: 0.2em;padding-left: 0.2em;position: relative;}#sk-container-id-8 div.sk-item {position: relative;z-index: 1;}#sk-container-id-8 div.sk-parallel {display: flex;align-items: stretch;justify-content: center;background-color: white;position: relative;}#sk-container-id-8 div.sk-item::before, #sk-container-id-8 div.sk-parallel-item::before {content: \"\";position: absolute;border-left: 1px solid gray;box-sizing: border-box;top: 0;bottom: 0;left: 50%;z-index: -1;}#sk-container-id-8 div.sk-parallel-item {display: flex;flex-direction: column;z-index: 1;position: relative;background-color: white;}#sk-container-id-8 div.sk-parallel-item:first-child::after {align-self: flex-end;width: 50%;}#sk-container-id-8 div.sk-parallel-item:last-child::after {align-self: flex-start;width: 50%;}#sk-container-id-8 div.sk-parallel-item:only-child::after {width: 0;}#sk-container-id-8 div.sk-dashed-wrapped {border: 1px dashed gray;margin: 0 0.4em 0.5em 0.4em;box-sizing: border-box;padding-bottom: 0.4em;background-color: white;}#sk-container-id-8 div.sk-label label {font-family: monospace;font-weight: bold;display: inline-block;line-height: 1.2em;}#sk-container-id-8 div.sk-label-container {text-align: center;}#sk-container-id-8 div.sk-container {/* jupyter's `normalize.less` sets `[hidden] { display: none; }` but bootstrap.min.css set `[hidden] { display: none !important; }` so we also need the `!important` here to be able to override the default hidden behavior on the sphinx rendered scikit-learn.org. See: https://github.com/scikit-learn/scikit-learn/issues/21755 */display: inline-block !important;position: relative;}#sk-container-id-8 div.sk-text-repr-fallback {display: none;}</style><div id=\"sk-container-id-8\" class=\"sk-top-container\"><div class=\"sk-text-repr-fallback\"><pre>GridSearchCV(cv=5, estimator=DecisionTreeClassifier(random_state=0),\n",
              "             param_grid={&#x27;max_leaf_nodes&#x27;: [None, 5, 10, 15, 20]})</pre><b>In a Jupyter environment, please rerun this cell to show the HTML representation or trust the notebook. <br />On GitHub, the HTML representation is unable to render, please try loading this page with nbviewer.org.</b></div><div class=\"sk-container\" hidden><div class=\"sk-item sk-dashed-wrapped\"><div class=\"sk-label-container\"><div class=\"sk-label sk-toggleable\"><input class=\"sk-toggleable__control sk-hidden--visually\" id=\"sk-estimator-id-20\" type=\"checkbox\" ><label for=\"sk-estimator-id-20\" class=\"sk-toggleable__label sk-toggleable__label-arrow\">GridSearchCV</label><div class=\"sk-toggleable__content\"><pre>GridSearchCV(cv=5, estimator=DecisionTreeClassifier(random_state=0),\n",
              "             param_grid={&#x27;max_leaf_nodes&#x27;: [None, 5, 10, 15, 20]})</pre></div></div></div><div class=\"sk-parallel\"><div class=\"sk-parallel-item\"><div class=\"sk-item\"><div class=\"sk-label-container\"><div class=\"sk-label sk-toggleable\"><input class=\"sk-toggleable__control sk-hidden--visually\" id=\"sk-estimator-id-21\" type=\"checkbox\" ><label for=\"sk-estimator-id-21\" class=\"sk-toggleable__label sk-toggleable__label-arrow\">estimator: DecisionTreeClassifier</label><div class=\"sk-toggleable__content\"><pre>DecisionTreeClassifier(random_state=0)</pre></div></div></div><div class=\"sk-serial\"><div class=\"sk-item\"><div class=\"sk-estimator sk-toggleable\"><input class=\"sk-toggleable__control sk-hidden--visually\" id=\"sk-estimator-id-22\" type=\"checkbox\" ><label for=\"sk-estimator-id-22\" class=\"sk-toggleable__label sk-toggleable__label-arrow\">DecisionTreeClassifier</label><div class=\"sk-toggleable__content\"><pre>DecisionTreeClassifier(random_state=0)</pre></div></div></div></div></div></div></div></div></div></div>"
            ]
          },
          "metadata": {},
          "execution_count": 81
        }
      ]
    },
    {
      "cell_type": "code",
      "source": [
        "# Best performing\n",
        "print(\"Best parameters found: \", grid_search_max_leaf_nodes.best_params_)"
      ],
      "metadata": {
        "colab": {
          "base_uri": "https://localhost:8080/"
        },
        "id": "1vPaR_lOHrUL",
        "outputId": "0608b523-a2ea-4ca3-d6c9-7ad9d3503cdc"
      },
      "execution_count": 82,
      "outputs": [
        {
          "output_type": "stream",
          "name": "stdout",
          "text": [
            "Best parameters found:  {'max_leaf_nodes': 5}\n"
          ]
        }
      ]
    },
    {
      "cell_type": "code",
      "source": [
        "# Accuracy of best performing with max_leaf_nodes\n",
        "print(\"Accuracy of best parameters found: \", grid_search_max_leaf_nodes.best_score_)"
      ],
      "metadata": {
        "colab": {
          "base_uri": "https://localhost:8080/"
        },
        "id": "tEUdqUQUHuUo",
        "outputId": "e8bddbc3-f753-44d5-db67-d322989e445b"
      },
      "execution_count": 83,
      "outputs": [
        {
          "output_type": "stream",
          "name": "stdout",
          "text": [
            "Accuracy of best parameters found:  0.6845378151260505\n"
          ]
        }
      ]
    },
    {
      "cell_type": "code",
      "source": [
        "# Cross validation results with max_leaf_nodes\n",
        "grid_search_max_leaf_nodes.cv_results_"
      ],
      "metadata": {
        "colab": {
          "base_uri": "https://localhost:8080/"
        },
        "id": "CBW9kdKyHwfK",
        "outputId": "3706f244-de64-4ad2-f155-a71973784631"
      },
      "execution_count": 84,
      "outputs": [
        {
          "output_type": "execute_result",
          "data": {
            "text/plain": [
              "{'mean_fit_time': array([0.01498399, 0.03252869, 0.03898783, 0.02509661, 0.00807071]),\n",
              " 'std_fit_time': array([0.00529437, 0.02929649, 0.01099258, 0.01098071, 0.00474057]),\n",
              " 'mean_score_time': array([0.01181355, 0.00709314, 0.02924418, 0.01380806, 0.00521574]),\n",
              " 'std_score_time': array([0.00172123, 0.0044663 , 0.00829333, 0.00772993, 0.00415753]),\n",
              " 'param_max_leaf_nodes': masked_array(data=[None, 5, 10, 15, 20],\n",
              "              mask=[False, False, False, False, False],\n",
              "        fill_value='?',\n",
              "             dtype=object),\n",
              " 'params': [{'max_leaf_nodes': None},\n",
              "  {'max_leaf_nodes': 5},\n",
              "  {'max_leaf_nodes': 10},\n",
              "  {'max_leaf_nodes': 15},\n",
              "  {'max_leaf_nodes': 20}],\n",
              " 'split0_test_score': array([0.62857143, 0.62857143, 0.48571429, 0.42857143, 0.45714286]),\n",
              " 'split1_test_score': array([0.58823529, 0.64705882, 0.58823529, 0.64705882, 0.61764706]),\n",
              " 'split2_test_score': array([0.67647059, 0.73529412, 0.64705882, 0.70588235, 0.67647059]),\n",
              " 'split3_test_score': array([0.76470588, 0.73529412, 0.67647059, 0.73529412, 0.73529412]),\n",
              " 'split4_test_score': array([0.5       , 0.67647059, 0.58823529, 0.5       , 0.58823529]),\n",
              " 'mean_test_score': array([0.63159664, 0.68453782, 0.59714286, 0.60336134, 0.61495798]),\n",
              " 'std_test_score': array([0.08824826, 0.04416876, 0.06535979, 0.11921524, 0.09369262]),\n",
              " 'rank_test_score': array([2, 1, 5, 4, 3], dtype=int32)}"
            ]
          },
          "metadata": {},
          "execution_count": 84
        }
      ]
    },
    {
      "cell_type": "markdown",
      "source": [
        "Showing that 5 is the best amount max_leaf_nodes, followed by None. The worst is 10."
      ],
      "metadata": {
        "id": "s_GELbS9H62i"
      }
    },
    {
      "cell_type": "code",
      "source": [
        "# Best Performing Accuracy of max_leaf_nodes 5 on testing data\n",
        "tree_max_leaf_nodes_5 = DecisionTreeClassifier(max_leaf_nodes=5, random_state=0)\n",
        "tree_max_leaf_nodes_5.fit(X_train, y_train)\n",
        "print(\"Accuracy of Balanced: {}\".format(tree_max_leaf_nodes_5.score(X_test, y_test)))"
      ],
      "metadata": {
        "colab": {
          "base_uri": "https://localhost:8080/"
        },
        "id": "eSAde7HcIGJz",
        "outputId": "90f37095-7c9b-4583-b70a-d7f650955e3e"
      },
      "execution_count": 85,
      "outputs": [
        {
          "output_type": "stream",
          "name": "stdout",
          "text": [
            "Accuracy of Balanced: 0.6976744186046512\n"
          ]
        }
      ]
    },
    {
      "cell_type": "code",
      "source": [
        "# worst Performing Accuracy of max_leaf_nodes None on testing data\n",
        "tree_max_leaf_nodes_none = DecisionTreeClassifier(class_weight=None, random_state=0)\n",
        "tree_max_leaf_nodes_none.fit(X_train, y_train)\n",
        "print(\"Accuracy of None: {}\".format(tree_max_leaf_nodes_none.score(X_test, y_test)))"
      ],
      "metadata": {
        "colab": {
          "base_uri": "https://localhost:8080/"
        },
        "id": "NGGabFOeIIQ-",
        "outputId": "c723c071-22c0-48d8-98db-6415b351b7d0"
      },
      "execution_count": 86,
      "outputs": [
        {
          "output_type": "stream",
          "name": "stdout",
          "text": [
            "Accuracy of None: 0.6511627906976745\n"
          ]
        }
      ]
    },
    {
      "cell_type": "code",
      "source": [
        "# Confusion matrix of best performing max_leaf_nodes 5 decision tree\n",
        "\n",
        "confusion = confusion_matrix(y_test, tree_balanced.predict(X_test))\n",
        "print(\"Confusion matrix max_leaf_nodes 5:\\n{}\".format(confusion))"
      ],
      "metadata": {
        "colab": {
          "base_uri": "https://localhost:8080/"
        },
        "id": "bf168l0xIKUZ",
        "outputId": "3d9123a8-9cdd-41f4-ab22-964f3a4279b6"
      },
      "execution_count": 87,
      "outputs": [
        {
          "output_type": "stream",
          "name": "stdout",
          "text": [
            "Confusion matrix max_leaf_nodes 5:\n",
            "[[10  2  2  0  0  0]\n",
            " [ 4  6  2  0  1  2]\n",
            " [ 0  0  3  0  0  0]\n",
            " [ 0  0  0  2  0  1]\n",
            " [ 0  0  0  0  2  0]\n",
            " [ 0  1  0  1  0  4]]\n"
          ]
        }
      ]
    },
    {
      "cell_type": "code",
      "source": [
        "# Confusion matrix of worst performing max_leaf_nodes_none decision tree\n",
        "\n",
        "confusion = confusion_matrix(y_test, tree_max_leaf_nodes_none.predict(X_test))\n",
        "print(\"Confusion matrix max_leaf_nodes None:\\n{}\".format(confusion))"
      ],
      "metadata": {
        "colab": {
          "base_uri": "https://localhost:8080/"
        },
        "id": "VkShBH8AIL_6",
        "outputId": "fcb52c93-5fd3-40bf-f730-410193444b32"
      },
      "execution_count": 88,
      "outputs": [
        {
          "output_type": "stream",
          "name": "stdout",
          "text": [
            "Confusion matrix max_leaf_nodes None:\n",
            "[[8 2 3 0 0 1]\n",
            " [1 8 2 0 4 0]\n",
            " [1 0 2 0 0 0]\n",
            " [0 1 0 2 0 0]\n",
            " [0 0 0 0 2 0]\n",
            " [0 0 0 0 0 6]]\n"
          ]
        }
      ]
    },
    {
      "cell_type": "markdown",
      "source": [
        "### K-Nearest Neighbors Default Parameters\n",
        "\n",
        "*   Calculate precision, recall, and F1 for both Testing and Training sets\n"
      ],
      "metadata": {
        "id": "kMdSQlhZNxR8"
      }
    },
    {
      "cell_type": "markdown",
      "source": [
        "Classification Report\n",
        "\n",
        "Similar as the decision tree, class 4 will be omitted as it does not exist in the dataset."
      ],
      "metadata": {
        "id": "fgGutb57OIxO"
      }
    },
    {
      "cell_type": "code",
      "source": [
        "# Examine Classification Report on testing set, omitting \"class 4\"\n",
        "print(\"Classification Report for KNN on testing set:\")\n",
        "print(classification_report(y_test, knn.predict(X_test),\n",
        "                            target_names=[\"class 1\", \"class 2\",\"class 3\", \"class 5\", \"class 6\", \"class 7\"]))"
      ],
      "metadata": {
        "colab": {
          "base_uri": "https://localhost:8080/"
        },
        "id": "C4T6ZTbZOZd_",
        "outputId": "b6209d62-ff1a-498b-8a3c-81ce37173996"
      },
      "execution_count": 99,
      "outputs": [
        {
          "output_type": "stream",
          "name": "stdout",
          "text": [
            "Classification Report for KNN on testing set:\n",
            "              precision    recall  f1-score   support\n",
            "\n",
            "     class 1       0.00      0.00      0.00        14\n",
            "     class 2       0.00      0.00      0.00        15\n",
            "     class 3       0.00      0.00      0.00         3\n",
            "     class 5       0.00      0.00      0.00         3\n",
            "     class 6       0.00      0.00      0.00         2\n",
            "     class 7       0.14      1.00      0.24         6\n",
            "\n",
            "    accuracy                           0.14        43\n",
            "   macro avg       0.02      0.17      0.04        43\n",
            "weighted avg       0.02      0.14      0.03        43\n",
            "\n"
          ]
        },
        {
          "output_type": "stream",
          "name": "stderr",
          "text": [
            "/usr/local/lib/python3.10/dist-packages/sklearn/metrics/_classification.py:1344: UndefinedMetricWarning: Precision and F-score are ill-defined and being set to 0.0 in labels with no predicted samples. Use `zero_division` parameter to control this behavior.\n",
            "  _warn_prf(average, modifier, msg_start, len(result))\n",
            "/usr/local/lib/python3.10/dist-packages/sklearn/metrics/_classification.py:1344: UndefinedMetricWarning: Precision and F-score are ill-defined and being set to 0.0 in labels with no predicted samples. Use `zero_division` parameter to control this behavior.\n",
            "  _warn_prf(average, modifier, msg_start, len(result))\n",
            "/usr/local/lib/python3.10/dist-packages/sklearn/metrics/_classification.py:1344: UndefinedMetricWarning: Precision and F-score are ill-defined and being set to 0.0 in labels with no predicted samples. Use `zero_division` parameter to control this behavior.\n",
            "  _warn_prf(average, modifier, msg_start, len(result))\n"
          ]
        }
      ]
    },
    {
      "cell_type": "code",
      "source": [
        "# Examine Classification Report on training set, omitting \"class 4\"\n",
        "print(\"Classification Report for KNN on training set:\")\n",
        "print(classification_report(y_train, knn.predict(X_train),\n",
        "                            target_names=[\"class 1\", \"class 2\",\"class 3\", \"class 5\", \"class 6\", \"class 7\"]))"
      ],
      "metadata": {
        "colab": {
          "base_uri": "https://localhost:8080/"
        },
        "id": "oCrpqjSxOkyE",
        "outputId": "caa2aefa-7856-48f1-a74f-7c7479f7646b"
      },
      "execution_count": 101,
      "outputs": [
        {
          "output_type": "stream",
          "name": "stdout",
          "text": [
            "Classification Report for KNN on training set:\n",
            "              precision    recall  f1-score   support\n",
            "\n",
            "     class 1       0.00      0.00      0.00        56\n",
            "     class 2       0.00      0.00      0.00        61\n",
            "     class 3       0.00      0.00      0.00        14\n",
            "     class 5       0.00      0.00      0.00        10\n",
            "     class 6       0.00      0.00      0.00         7\n",
            "     class 7       0.13      1.00      0.24        23\n",
            "\n",
            "    accuracy                           0.13       171\n",
            "   macro avg       0.02      0.17      0.04       171\n",
            "weighted avg       0.02      0.13      0.03       171\n",
            "\n"
          ]
        },
        {
          "output_type": "stream",
          "name": "stderr",
          "text": [
            "/usr/local/lib/python3.10/dist-packages/sklearn/metrics/_classification.py:1344: UndefinedMetricWarning: Precision and F-score are ill-defined and being set to 0.0 in labels with no predicted samples. Use `zero_division` parameter to control this behavior.\n",
            "  _warn_prf(average, modifier, msg_start, len(result))\n",
            "/usr/local/lib/python3.10/dist-packages/sklearn/metrics/_classification.py:1344: UndefinedMetricWarning: Precision and F-score are ill-defined and being set to 0.0 in labels with no predicted samples. Use `zero_division` parameter to control this behavior.\n",
            "  _warn_prf(average, modifier, msg_start, len(result))\n",
            "/usr/local/lib/python3.10/dist-packages/sklearn/metrics/_classification.py:1344: UndefinedMetricWarning: Precision and F-score are ill-defined and being set to 0.0 in labels with no predicted samples. Use `zero_division` parameter to control this behavior.\n",
            "  _warn_prf(average, modifier, msg_start, len(result))\n"
          ]
        }
      ]
    },
    {
      "cell_type": "markdown",
      "source": [
        "### K-Nearest Neighbors using Cross Validation on entire Dataset"
      ],
      "metadata": {
        "id": "c12vE34PPafr"
      }
    },
    {
      "cell_type": "code",
      "source": [
        "# Instantiate the KNN classifier\n",
        "knn_cv = KNeighborsClassifier()\n",
        "\n",
        "# Perform 5-fold cross-validation on the entire dataset\n",
        "cv_scores_all = cross_val_score(knn_cv, X, y, cv=5)\n",
        "\n",
        "# Print cross-validation scores and mean\n",
        "print(\"cv_scores:\\n{}\".format(cv_scores_all))\n",
        "print(\"cv_scores mean:\\n{}\".format(np.mean(cv_scores_all)))"
      ],
      "metadata": {
        "colab": {
          "base_uri": "https://localhost:8080/"
        },
        "id": "Lz1r4xQUPTPx",
        "outputId": "c857a2c3-eccd-45f0-9a54-7d7db67e13dc"
      },
      "execution_count": 103,
      "outputs": [
        {
          "output_type": "stream",
          "name": "stdout",
          "text": [
            "cv_scores:\n",
            "[0.53488372 0.62790698 0.60465116 0.58139535 0.71428571]\n",
            "cv_scores mean:\n",
            "0.612624584717608\n"
          ]
        }
      ]
    },
    {
      "cell_type": "markdown",
      "source": [
        "Cross Validation show how well the model preforms on each fold of the split. The cv_score mean of ~61% indicates that the KNN model is accurately predicting the class labels 61% of time during cross validation. This indicates room for improvement in the model."
      ],
      "metadata": {
        "id": "p9CZyoORPpZ7"
      }
    },
    {
      "cell_type": "markdown",
      "source": [
        "### K-Nearest Neighbor Parameter Adjustment 1 : n_neighbors\n",
        "Adjust parameters using grid search for best and worst performing parameters"
      ],
      "metadata": {
        "id": "NTwklXU-QFix"
      }
    },
    {
      "cell_type": "markdown",
      "source": [
        "It is important to adjust n_neighbors when using KNN because it helps to determine the number of neighbors used for classification. Below will examine what is the best number to set n_neighbors to."
      ],
      "metadata": {
        "id": "zSiGCm00QtWY"
      }
    },
    {
      "cell_type": "code",
      "source": [
        "# Dictionary of all values of k\n",
        "param_grid = {\"n_neighbors\": np.arange(1, 25)}\n",
        "\n",
        "# Grid search on all values of k in dictionary\n",
        "knn_gscv = GridSearchCV(knn, param_grid, cv=5)\n",
        "knn_gscv.fit(X_train_scaled, y_train)"
      ],
      "metadata": {
        "colab": {
          "base_uri": "https://localhost:8080/",
          "height": 119
        },
        "id": "PhlcDhNiQrCO",
        "outputId": "288b09db-56c3-4cd6-dd75-3fdf04cec67b"
      },
      "execution_count": 108,
      "outputs": [
        {
          "output_type": "execute_result",
          "data": {
            "text/plain": [
              "GridSearchCV(cv=5,\n",
              "             estimator=KNeighborsClassifier(metric='euclidean', n_neighbors=10),\n",
              "             param_grid={'n_neighbors': array([ 1,  2,  3,  4,  5,  6,  7,  8,  9, 10, 11, 12, 13, 14, 15, 16, 17,\n",
              "       18, 19, 20, 21, 22, 23, 24])})"
            ],
            "text/html": [
              "<style>#sk-container-id-10 {color: black;background-color: white;}#sk-container-id-10 pre{padding: 0;}#sk-container-id-10 div.sk-toggleable {background-color: white;}#sk-container-id-10 label.sk-toggleable__label {cursor: pointer;display: block;width: 100%;margin-bottom: 0;padding: 0.3em;box-sizing: border-box;text-align: center;}#sk-container-id-10 label.sk-toggleable__label-arrow:before {content: \"▸\";float: left;margin-right: 0.25em;color: #696969;}#sk-container-id-10 label.sk-toggleable__label-arrow:hover:before {color: black;}#sk-container-id-10 div.sk-estimator:hover label.sk-toggleable__label-arrow:before {color: black;}#sk-container-id-10 div.sk-toggleable__content {max-height: 0;max-width: 0;overflow: hidden;text-align: left;background-color: #f0f8ff;}#sk-container-id-10 div.sk-toggleable__content pre {margin: 0.2em;color: black;border-radius: 0.25em;background-color: #f0f8ff;}#sk-container-id-10 input.sk-toggleable__control:checked~div.sk-toggleable__content {max-height: 200px;max-width: 100%;overflow: auto;}#sk-container-id-10 input.sk-toggleable__control:checked~label.sk-toggleable__label-arrow:before {content: \"▾\";}#sk-container-id-10 div.sk-estimator input.sk-toggleable__control:checked~label.sk-toggleable__label {background-color: #d4ebff;}#sk-container-id-10 div.sk-label input.sk-toggleable__control:checked~label.sk-toggleable__label {background-color: #d4ebff;}#sk-container-id-10 input.sk-hidden--visually {border: 0;clip: rect(1px 1px 1px 1px);clip: rect(1px, 1px, 1px, 1px);height: 1px;margin: -1px;overflow: hidden;padding: 0;position: absolute;width: 1px;}#sk-container-id-10 div.sk-estimator {font-family: monospace;background-color: #f0f8ff;border: 1px dotted black;border-radius: 0.25em;box-sizing: border-box;margin-bottom: 0.5em;}#sk-container-id-10 div.sk-estimator:hover {background-color: #d4ebff;}#sk-container-id-10 div.sk-parallel-item::after {content: \"\";width: 100%;border-bottom: 1px solid gray;flex-grow: 1;}#sk-container-id-10 div.sk-label:hover label.sk-toggleable__label {background-color: #d4ebff;}#sk-container-id-10 div.sk-serial::before {content: \"\";position: absolute;border-left: 1px solid gray;box-sizing: border-box;top: 0;bottom: 0;left: 50%;z-index: 0;}#sk-container-id-10 div.sk-serial {display: flex;flex-direction: column;align-items: center;background-color: white;padding-right: 0.2em;padding-left: 0.2em;position: relative;}#sk-container-id-10 div.sk-item {position: relative;z-index: 1;}#sk-container-id-10 div.sk-parallel {display: flex;align-items: stretch;justify-content: center;background-color: white;position: relative;}#sk-container-id-10 div.sk-item::before, #sk-container-id-10 div.sk-parallel-item::before {content: \"\";position: absolute;border-left: 1px solid gray;box-sizing: border-box;top: 0;bottom: 0;left: 50%;z-index: -1;}#sk-container-id-10 div.sk-parallel-item {display: flex;flex-direction: column;z-index: 1;position: relative;background-color: white;}#sk-container-id-10 div.sk-parallel-item:first-child::after {align-self: flex-end;width: 50%;}#sk-container-id-10 div.sk-parallel-item:last-child::after {align-self: flex-start;width: 50%;}#sk-container-id-10 div.sk-parallel-item:only-child::after {width: 0;}#sk-container-id-10 div.sk-dashed-wrapped {border: 1px dashed gray;margin: 0 0.4em 0.5em 0.4em;box-sizing: border-box;padding-bottom: 0.4em;background-color: white;}#sk-container-id-10 div.sk-label label {font-family: monospace;font-weight: bold;display: inline-block;line-height: 1.2em;}#sk-container-id-10 div.sk-label-container {text-align: center;}#sk-container-id-10 div.sk-container {/* jupyter's `normalize.less` sets `[hidden] { display: none; }` but bootstrap.min.css set `[hidden] { display: none !important; }` so we also need the `!important` here to be able to override the default hidden behavior on the sphinx rendered scikit-learn.org. See: https://github.com/scikit-learn/scikit-learn/issues/21755 */display: inline-block !important;position: relative;}#sk-container-id-10 div.sk-text-repr-fallback {display: none;}</style><div id=\"sk-container-id-10\" class=\"sk-top-container\"><div class=\"sk-text-repr-fallback\"><pre>GridSearchCV(cv=5,\n",
              "             estimator=KNeighborsClassifier(metric=&#x27;euclidean&#x27;, n_neighbors=10),\n",
              "             param_grid={&#x27;n_neighbors&#x27;: array([ 1,  2,  3,  4,  5,  6,  7,  8,  9, 10, 11, 12, 13, 14, 15, 16, 17,\n",
              "       18, 19, 20, 21, 22, 23, 24])})</pre><b>In a Jupyter environment, please rerun this cell to show the HTML representation or trust the notebook. <br />On GitHub, the HTML representation is unable to render, please try loading this page with nbviewer.org.</b></div><div class=\"sk-container\" hidden><div class=\"sk-item sk-dashed-wrapped\"><div class=\"sk-label-container\"><div class=\"sk-label sk-toggleable\"><input class=\"sk-toggleable__control sk-hidden--visually\" id=\"sk-estimator-id-26\" type=\"checkbox\" ><label for=\"sk-estimator-id-26\" class=\"sk-toggleable__label sk-toggleable__label-arrow\">GridSearchCV</label><div class=\"sk-toggleable__content\"><pre>GridSearchCV(cv=5,\n",
              "             estimator=KNeighborsClassifier(metric=&#x27;euclidean&#x27;, n_neighbors=10),\n",
              "             param_grid={&#x27;n_neighbors&#x27;: array([ 1,  2,  3,  4,  5,  6,  7,  8,  9, 10, 11, 12, 13, 14, 15, 16, 17,\n",
              "       18, 19, 20, 21, 22, 23, 24])})</pre></div></div></div><div class=\"sk-parallel\"><div class=\"sk-parallel-item\"><div class=\"sk-item\"><div class=\"sk-label-container\"><div class=\"sk-label sk-toggleable\"><input class=\"sk-toggleable__control sk-hidden--visually\" id=\"sk-estimator-id-27\" type=\"checkbox\" ><label for=\"sk-estimator-id-27\" class=\"sk-toggleable__label sk-toggleable__label-arrow\">estimator: KNeighborsClassifier</label><div class=\"sk-toggleable__content\"><pre>KNeighborsClassifier(metric=&#x27;euclidean&#x27;, n_neighbors=10)</pre></div></div></div><div class=\"sk-serial\"><div class=\"sk-item\"><div class=\"sk-estimator sk-toggleable\"><input class=\"sk-toggleable__control sk-hidden--visually\" id=\"sk-estimator-id-28\" type=\"checkbox\" ><label for=\"sk-estimator-id-28\" class=\"sk-toggleable__label sk-toggleable__label-arrow\">KNeighborsClassifier</label><div class=\"sk-toggleable__content\"><pre>KNeighborsClassifier(metric=&#x27;euclidean&#x27;, n_neighbors=10)</pre></div></div></div></div></div></div></div></div></div></div>"
            ]
          },
          "metadata": {},
          "execution_count": 108
        }
      ]
    },
    {
      "cell_type": "code",
      "source": [
        "# What is the best performing k (on training set)\n",
        "knn_gscv.best_params_"
      ],
      "metadata": {
        "colab": {
          "base_uri": "https://localhost:8080/"
        },
        "id": "y2qtSmWSRZas",
        "outputId": "4b19d50c-5700-4d95-aada-94d4ac2a1277"
      },
      "execution_count": 109,
      "outputs": [
        {
          "output_type": "execute_result",
          "data": {
            "text/plain": [
              "{'n_neighbors': 1}"
            ]
          },
          "metadata": {},
          "execution_count": 109
        }
      ]
    },
    {
      "cell_type": "code",
      "source": [
        "# Accuracy of best performing k\n",
        "knn_gscv.best_score_"
      ],
      "metadata": {
        "colab": {
          "base_uri": "https://localhost:8080/"
        },
        "id": "nllduX4BRdId",
        "outputId": "ebbf027c-7364-4564-f52b-9d38da555521"
      },
      "execution_count": 110,
      "outputs": [
        {
          "output_type": "execute_result",
          "data": {
            "text/plain": [
              "0.673109243697479"
            ]
          },
          "metadata": {},
          "execution_count": 110
        }
      ]
    },
    {
      "cell_type": "code",
      "source": [
        "# Full cross valiadation results from grid search\n",
        "knn_gscv.cv_results_"
      ],
      "metadata": {
        "colab": {
          "base_uri": "https://localhost:8080/"
        },
        "id": "Thnxb_lsRgUU",
        "outputId": "b5c56314-b99e-4a5d-b9a9-1d8abfef38a3"
      },
      "execution_count": 111,
      "outputs": [
        {
          "output_type": "execute_result",
          "data": {
            "text/plain": [
              "{'mean_fit_time': array([0.01146417, 0.01384287, 0.00765929, 0.01394305, 0.01353827,\n",
              "        0.00587387, 0.01044621, 0.00772548, 0.00987024, 0.00588222,\n",
              "        0.01127968, 0.01242108, 0.00988245, 0.01193638, 0.00879631,\n",
              "        0.00980043, 0.01065354, 0.01178961, 0.01257482, 0.00674138,\n",
              "        0.00469604, 0.00463033, 0.00463939, 0.00500398]),\n",
              " 'std_fit_time': array([0.00432062, 0.00392347, 0.00456969, 0.00614665, 0.00495872,\n",
              "        0.00145111, 0.00744739, 0.0036785 , 0.00707417, 0.00313098,\n",
              "        0.00241488, 0.00311547, 0.0047593 , 0.00456137, 0.00363157,\n",
              "        0.00472457, 0.00135804, 0.00363182, 0.00219848, 0.00260208,\n",
              "        0.00015431, 0.00012328, 0.00017977, 0.00021302]),\n",
              " 'mean_score_time': array([0.0189733 , 0.02738085, 0.02450624, 0.02770209, 0.01798778,\n",
              "        0.01716948, 0.01744275, 0.01830068, 0.01666427, 0.01128693,\n",
              "        0.01975045, 0.01872821, 0.01731501, 0.01465883, 0.02095642,\n",
              "        0.01881118, 0.01799984, 0.02298007, 0.01921358, 0.01310749,\n",
              "        0.00923462, 0.00930243, 0.01005096, 0.00980077]),\n",
              " 'std_score_time': array([0.00338935, 0.00450312, 0.00715808, 0.00694013, 0.00653855,\n",
              "        0.00862612, 0.00735287, 0.00983467, 0.00479168, 0.00367998,\n",
              "        0.00211503, 0.00553794, 0.0045631 , 0.00242771, 0.00724509,\n",
              "        0.00422928, 0.00255708, 0.00147035, 0.00431144, 0.00393353,\n",
              "        0.00041492, 0.00045247, 0.00124157, 0.00015199]),\n",
              " 'param_n_neighbors': masked_array(data=[1, 2, 3, 4, 5, 6, 7, 8, 9, 10, 11, 12, 13, 14, 15, 16,\n",
              "                    17, 18, 19, 20, 21, 22, 23, 24],\n",
              "              mask=[False, False, False, False, False, False, False, False,\n",
              "                    False, False, False, False, False, False, False, False,\n",
              "                    False, False, False, False, False, False, False, False],\n",
              "        fill_value='?',\n",
              "             dtype=object),\n",
              " 'params': [{'n_neighbors': 1},\n",
              "  {'n_neighbors': 2},\n",
              "  {'n_neighbors': 3},\n",
              "  {'n_neighbors': 4},\n",
              "  {'n_neighbors': 5},\n",
              "  {'n_neighbors': 6},\n",
              "  {'n_neighbors': 7},\n",
              "  {'n_neighbors': 8},\n",
              "  {'n_neighbors': 9},\n",
              "  {'n_neighbors': 10},\n",
              "  {'n_neighbors': 11},\n",
              "  {'n_neighbors': 12},\n",
              "  {'n_neighbors': 13},\n",
              "  {'n_neighbors': 14},\n",
              "  {'n_neighbors': 15},\n",
              "  {'n_neighbors': 16},\n",
              "  {'n_neighbors': 17},\n",
              "  {'n_neighbors': 18},\n",
              "  {'n_neighbors': 19},\n",
              "  {'n_neighbors': 20},\n",
              "  {'n_neighbors': 21},\n",
              "  {'n_neighbors': 22},\n",
              "  {'n_neighbors': 23},\n",
              "  {'n_neighbors': 24}],\n",
              " 'split0_test_score': array([0.57142857, 0.54285714, 0.54285714, 0.51428571, 0.45714286,\n",
              "        0.51428571, 0.6       , 0.57142857, 0.57142857, 0.62857143,\n",
              "        0.51428571, 0.6       , 0.51428571, 0.51428571, 0.57142857,\n",
              "        0.51428571, 0.54285714, 0.51428571, 0.54285714, 0.48571429,\n",
              "        0.51428571, 0.48571429, 0.51428571, 0.51428571]),\n",
              " 'split1_test_score': array([0.67647059, 0.64705882, 0.64705882, 0.67647059, 0.61764706,\n",
              "        0.67647059, 0.67647059, 0.67647059, 0.67647059, 0.67647059,\n",
              "        0.64705882, 0.64705882, 0.61764706, 0.67647059, 0.61764706,\n",
              "        0.64705882, 0.58823529, 0.61764706, 0.58823529, 0.58823529,\n",
              "        0.55882353, 0.55882353, 0.55882353, 0.58823529]),\n",
              " 'split2_test_score': array([0.73529412, 0.67647059, 0.61764706, 0.61764706, 0.61764706,\n",
              "        0.61764706, 0.58823529, 0.58823529, 0.58823529, 0.58823529,\n",
              "        0.58823529, 0.55882353, 0.55882353, 0.55882353, 0.55882353,\n",
              "        0.58823529, 0.61764706, 0.58823529, 0.58823529, 0.58823529,\n",
              "        0.58823529, 0.58823529, 0.58823529, 0.58823529]),\n",
              " 'split3_test_score': array([0.70588235, 0.67647059, 0.70588235, 0.70588235, 0.67647059,\n",
              "        0.64705882, 0.61764706, 0.64705882, 0.67647059, 0.70588235,\n",
              "        0.67647059, 0.67647059, 0.64705882, 0.61764706, 0.64705882,\n",
              "        0.61764706, 0.64705882, 0.58823529, 0.64705882, 0.61764706,\n",
              "        0.64705882, 0.61764706, 0.61764706, 0.61764706]),\n",
              " 'split4_test_score': array([0.67647059, 0.67647059, 0.67647059, 0.61764706, 0.67647059,\n",
              "        0.58823529, 0.5       , 0.52941176, 0.55882353, 0.55882353,\n",
              "        0.52941176, 0.58823529, 0.55882353, 0.55882353, 0.55882353,\n",
              "        0.61764706, 0.61764706, 0.64705882, 0.61764706, 0.61764706,\n",
              "        0.58823529, 0.55882353, 0.58823529, 0.64705882]),\n",
              " 'mean_test_score': array([0.67310924, 0.64386555, 0.63798319, 0.62638655, 0.60907563,\n",
              "        0.6087395 , 0.59647059, 0.60252101, 0.61428571, 0.63159664,\n",
              "        0.59109244, 0.61411765, 0.57932773, 0.58521008, 0.5907563 ,\n",
              "        0.59697479, 0.60268908, 0.59109244, 0.59680672, 0.5794958 ,\n",
              "        0.57932773, 0.56184874, 0.57344538, 0.59109244]),\n",
              " 'std_test_score': array([0.05532195, 0.05177289, 0.05592221, 0.06564655, 0.08039237,\n",
              "        0.0556366 , 0.05698297, 0.0528544 , 0.05162428, 0.0542537 ,\n",
              "        0.06345645, 0.04218923, 0.04717453, 0.05621993, 0.03551352,\n",
              "        0.04533643, 0.03522763, 0.04416556, 0.03469031, 0.04870065,\n",
              "        0.04335222, 0.04387359, 0.03494263, 0.04416556]),\n",
              " 'rank_test_score': array([ 1,  2,  3,  5,  8,  9, 14, 11,  6,  4, 15,  7, 21, 19, 18, 12, 10,\n",
              "        15, 13, 20, 22, 24, 23, 15], dtype=int32)}"
            ]
          },
          "metadata": {},
          "execution_count": 111
        }
      ]
    },
    {
      "cell_type": "markdown",
      "source": [
        "Rank_test_score is showing that 1, 2, and 3 are the best performing while 24 is the worst."
      ],
      "metadata": {
        "id": "x3w73b_4R0FG"
      }
    },
    {
      "cell_type": "code",
      "source": [
        "# Best Performing Accuracy of k=1 on testing data\n",
        "\n",
        "knn1 = KNeighborsClassifier(n_neighbors=1)\n",
        "knn1.fit(X_train_scaled, y_train)\n",
        "print(\"Best Performing k = 1 score: {}\".format(knn1.score(X_test_scaled, y_test)))"
      ],
      "metadata": {
        "colab": {
          "base_uri": "https://localhost:8080/"
        },
        "id": "mQ1yupJASBZ_",
        "outputId": "4461ae17-99e1-4ebd-e37c-ba150a357e06"
      },
      "execution_count": 130,
      "outputs": [
        {
          "output_type": "stream",
          "name": "stdout",
          "text": [
            "Best Performing k = 1 score: 0.6744186046511628\n"
          ]
        }
      ]
    },
    {
      "cell_type": "code",
      "source": [
        "# Worst Performing Accuracy of k=24 on testing data\n",
        "\n",
        "knn24 = KNeighborsClassifier(n_neighbors=24)\n",
        "knn24.fit(X_train_scaled, y_train)\n",
        "print(\"Worst Performing k = 24 score: {}\".format(knn24.score(X_test_scaled, y_test)))"
      ],
      "metadata": {
        "colab": {
          "base_uri": "https://localhost:8080/"
        },
        "id": "ub1PLK1hSrUC",
        "outputId": "f34a3c30-91b7-4e16-ed37-169da917cb49"
      },
      "execution_count": 126,
      "outputs": [
        {
          "output_type": "stream",
          "name": "stdout",
          "text": [
            "Worst Performing k = 24 score: 0.627906976744186\n"
          ]
        }
      ]
    },
    {
      "cell_type": "code",
      "source": [
        "# Confusion matrix of best performing k=1\n",
        "confusion = confusion_matrix(y_test, knn1.predict(X_test))\n",
        "print(\"Confusion matrix best performer k = 1:\\n{}\".format(confusion))"
      ],
      "metadata": {
        "colab": {
          "base_uri": "https://localhost:8080/"
        },
        "id": "w_mA4eMgTKyL",
        "outputId": "283bce90-2651-478b-f7ef-ab2f27d44b90"
      },
      "execution_count": 127,
      "outputs": [
        {
          "output_type": "stream",
          "name": "stdout",
          "text": [
            "Confusion matrix best performer k = 1:\n",
            "[[ 0  0  0  0 14  0]\n",
            " [ 0  0  0  0 15  0]\n",
            " [ 0  0  0  0  3  0]\n",
            " [ 0  0  0  0  3  0]\n",
            " [ 0  0  0  0  2  0]\n",
            " [ 0  0  0  0  6  0]]\n"
          ]
        }
      ]
    },
    {
      "cell_type": "code",
      "source": [
        "# Confusion matrix of worst performing k=24\n",
        "confusion = confusion_matrix(y_test, knn24.predict(X_test))\n",
        "print(\"Confusion matrix best performer k = 24:\\n{}\".format(confusion))"
      ],
      "metadata": {
        "colab": {
          "base_uri": "https://localhost:8080/"
        },
        "id": "tUhQ8uzfTZbV",
        "outputId": "6db540bb-c57b-429f-ff5f-75c8b82a35c3"
      },
      "execution_count": 128,
      "outputs": [
        {
          "output_type": "stream",
          "name": "stdout",
          "text": [
            "Confusion matrix best performer k = 24:\n",
            "[[ 0  0  0  0  0 14]\n",
            " [ 0  0  0  0  0 15]\n",
            " [ 0  0  0  0  0  3]\n",
            " [ 0  0  0  0  0  3]\n",
            " [ 0  0  0  0  0  2]\n",
            " [ 0  0  0  0  0  6]]\n"
          ]
        }
      ]
    },
    {
      "cell_type": "markdown",
      "source": [
        "### K-Nearest Neighbor Parameter Adjustment 2 : weights\n",
        "Adjust parameters using grid search for best and worst performing parameters"
      ],
      "metadata": {
        "id": "sHCVYh-SQR26"
      }
    },
    {
      "cell_type": "markdown",
      "source": [
        "Knowing that there is a class imbalance in the dataset, adjusting the weights parameters to distance might help improve the model. When weight = 'distance' closer neighbors are more influencial in classification than farther neighbors."
      ],
      "metadata": {
        "id": "AK2JmbbAUaIk"
      }
    },
    {
      "cell_type": "code",
      "source": [
        "# Dictionary of all values of k\n",
        "param_grid = {\"n_neighbors\": np.arange(1, 25),\n",
        "              'weights': ['uniform', 'distance']}\n",
        "\n",
        "# Grid search on all values of k in dictionary,\n",
        "grid_search_weights = GridSearchCV(knn, param_grid, cv=5)\n",
        "grid_search_weights.fit(X_train_scaled, y_train)"
      ],
      "metadata": {
        "colab": {
          "base_uri": "https://localhost:8080/",
          "height": 119
        },
        "id": "_Av7UtTiVXuL",
        "outputId": "2e04d3a4-199a-46f6-b644-94b7ae95dfe2"
      },
      "execution_count": 179,
      "outputs": [
        {
          "output_type": "execute_result",
          "data": {
            "text/plain": [
              "GridSearchCV(cv=5, estimator=KNeighborsClassifier(weights='distance'),\n",
              "             param_grid={'n_neighbors': array([ 1,  2,  3,  4,  5,  6,  7,  8,  9, 10, 11, 12, 13, 14, 15, 16, 17,\n",
              "       18, 19, 20, 21, 22, 23, 24]),\n",
              "                         'weights': ['uniform', 'distance']})"
            ],
            "text/html": [
              "<style>#sk-container-id-26 {color: black;background-color: white;}#sk-container-id-26 pre{padding: 0;}#sk-container-id-26 div.sk-toggleable {background-color: white;}#sk-container-id-26 label.sk-toggleable__label {cursor: pointer;display: block;width: 100%;margin-bottom: 0;padding: 0.3em;box-sizing: border-box;text-align: center;}#sk-container-id-26 label.sk-toggleable__label-arrow:before {content: \"▸\";float: left;margin-right: 0.25em;color: #696969;}#sk-container-id-26 label.sk-toggleable__label-arrow:hover:before {color: black;}#sk-container-id-26 div.sk-estimator:hover label.sk-toggleable__label-arrow:before {color: black;}#sk-container-id-26 div.sk-toggleable__content {max-height: 0;max-width: 0;overflow: hidden;text-align: left;background-color: #f0f8ff;}#sk-container-id-26 div.sk-toggleable__content pre {margin: 0.2em;color: black;border-radius: 0.25em;background-color: #f0f8ff;}#sk-container-id-26 input.sk-toggleable__control:checked~div.sk-toggleable__content {max-height: 200px;max-width: 100%;overflow: auto;}#sk-container-id-26 input.sk-toggleable__control:checked~label.sk-toggleable__label-arrow:before {content: \"▾\";}#sk-container-id-26 div.sk-estimator input.sk-toggleable__control:checked~label.sk-toggleable__label {background-color: #d4ebff;}#sk-container-id-26 div.sk-label input.sk-toggleable__control:checked~label.sk-toggleable__label {background-color: #d4ebff;}#sk-container-id-26 input.sk-hidden--visually {border: 0;clip: rect(1px 1px 1px 1px);clip: rect(1px, 1px, 1px, 1px);height: 1px;margin: -1px;overflow: hidden;padding: 0;position: absolute;width: 1px;}#sk-container-id-26 div.sk-estimator {font-family: monospace;background-color: #f0f8ff;border: 1px dotted black;border-radius: 0.25em;box-sizing: border-box;margin-bottom: 0.5em;}#sk-container-id-26 div.sk-estimator:hover {background-color: #d4ebff;}#sk-container-id-26 div.sk-parallel-item::after {content: \"\";width: 100%;border-bottom: 1px solid gray;flex-grow: 1;}#sk-container-id-26 div.sk-label:hover label.sk-toggleable__label {background-color: #d4ebff;}#sk-container-id-26 div.sk-serial::before {content: \"\";position: absolute;border-left: 1px solid gray;box-sizing: border-box;top: 0;bottom: 0;left: 50%;z-index: 0;}#sk-container-id-26 div.sk-serial {display: flex;flex-direction: column;align-items: center;background-color: white;padding-right: 0.2em;padding-left: 0.2em;position: relative;}#sk-container-id-26 div.sk-item {position: relative;z-index: 1;}#sk-container-id-26 div.sk-parallel {display: flex;align-items: stretch;justify-content: center;background-color: white;position: relative;}#sk-container-id-26 div.sk-item::before, #sk-container-id-26 div.sk-parallel-item::before {content: \"\";position: absolute;border-left: 1px solid gray;box-sizing: border-box;top: 0;bottom: 0;left: 50%;z-index: -1;}#sk-container-id-26 div.sk-parallel-item {display: flex;flex-direction: column;z-index: 1;position: relative;background-color: white;}#sk-container-id-26 div.sk-parallel-item:first-child::after {align-self: flex-end;width: 50%;}#sk-container-id-26 div.sk-parallel-item:last-child::after {align-self: flex-start;width: 50%;}#sk-container-id-26 div.sk-parallel-item:only-child::after {width: 0;}#sk-container-id-26 div.sk-dashed-wrapped {border: 1px dashed gray;margin: 0 0.4em 0.5em 0.4em;box-sizing: border-box;padding-bottom: 0.4em;background-color: white;}#sk-container-id-26 div.sk-label label {font-family: monospace;font-weight: bold;display: inline-block;line-height: 1.2em;}#sk-container-id-26 div.sk-label-container {text-align: center;}#sk-container-id-26 div.sk-container {/* jupyter's `normalize.less` sets `[hidden] { display: none; }` but bootstrap.min.css set `[hidden] { display: none !important; }` so we also need the `!important` here to be able to override the default hidden behavior on the sphinx rendered scikit-learn.org. See: https://github.com/scikit-learn/scikit-learn/issues/21755 */display: inline-block !important;position: relative;}#sk-container-id-26 div.sk-text-repr-fallback {display: none;}</style><div id=\"sk-container-id-26\" class=\"sk-top-container\"><div class=\"sk-text-repr-fallback\"><pre>GridSearchCV(cv=5, estimator=KNeighborsClassifier(weights=&#x27;distance&#x27;),\n",
              "             param_grid={&#x27;n_neighbors&#x27;: array([ 1,  2,  3,  4,  5,  6,  7,  8,  9, 10, 11, 12, 13, 14, 15, 16, 17,\n",
              "       18, 19, 20, 21, 22, 23, 24]),\n",
              "                         &#x27;weights&#x27;: [&#x27;uniform&#x27;, &#x27;distance&#x27;]})</pre><b>In a Jupyter environment, please rerun this cell to show the HTML representation or trust the notebook. <br />On GitHub, the HTML representation is unable to render, please try loading this page with nbviewer.org.</b></div><div class=\"sk-container\" hidden><div class=\"sk-item sk-dashed-wrapped\"><div class=\"sk-label-container\"><div class=\"sk-label sk-toggleable\"><input class=\"sk-toggleable__control sk-hidden--visually\" id=\"sk-estimator-id-74\" type=\"checkbox\" ><label for=\"sk-estimator-id-74\" class=\"sk-toggleable__label sk-toggleable__label-arrow\">GridSearchCV</label><div class=\"sk-toggleable__content\"><pre>GridSearchCV(cv=5, estimator=KNeighborsClassifier(weights=&#x27;distance&#x27;),\n",
              "             param_grid={&#x27;n_neighbors&#x27;: array([ 1,  2,  3,  4,  5,  6,  7,  8,  9, 10, 11, 12, 13, 14, 15, 16, 17,\n",
              "       18, 19, 20, 21, 22, 23, 24]),\n",
              "                         &#x27;weights&#x27;: [&#x27;uniform&#x27;, &#x27;distance&#x27;]})</pre></div></div></div><div class=\"sk-parallel\"><div class=\"sk-parallel-item\"><div class=\"sk-item\"><div class=\"sk-label-container\"><div class=\"sk-label sk-toggleable\"><input class=\"sk-toggleable__control sk-hidden--visually\" id=\"sk-estimator-id-75\" type=\"checkbox\" ><label for=\"sk-estimator-id-75\" class=\"sk-toggleable__label sk-toggleable__label-arrow\">estimator: KNeighborsClassifier</label><div class=\"sk-toggleable__content\"><pre>KNeighborsClassifier(weights=&#x27;distance&#x27;)</pre></div></div></div><div class=\"sk-serial\"><div class=\"sk-item\"><div class=\"sk-estimator sk-toggleable\"><input class=\"sk-toggleable__control sk-hidden--visually\" id=\"sk-estimator-id-76\" type=\"checkbox\" ><label for=\"sk-estimator-id-76\" class=\"sk-toggleable__label sk-toggleable__label-arrow\">KNeighborsClassifier</label><div class=\"sk-toggleable__content\"><pre>KNeighborsClassifier(weights=&#x27;distance&#x27;)</pre></div></div></div></div></div></div></div></div></div></div>"
            ]
          },
          "metadata": {},
          "execution_count": 179
        }
      ]
    },
    {
      "cell_type": "code",
      "source": [
        "# Best performing weight\n",
        "grid_search_weights.best_params_"
      ],
      "metadata": {
        "colab": {
          "base_uri": "https://localhost:8080/"
        },
        "id": "od0L5_3EVb4C",
        "outputId": "fb02c765-b5fe-406c-c34b-7b4ef7a4225e"
      },
      "execution_count": 180,
      "outputs": [
        {
          "output_type": "execute_result",
          "data": {
            "text/plain": [
              "{'n_neighbors': 1, 'weights': 'uniform'}"
            ]
          },
          "metadata": {},
          "execution_count": 180
        }
      ]
    },
    {
      "cell_type": "markdown",
      "source": [
        "When k =1 the best identifed weight is uniform\n",
        "\n",
        "When K is not set the best weight is distance"
      ],
      "metadata": {
        "id": "FSk8tV3_Xumd"
      }
    },
    {
      "cell_type": "code",
      "source": [
        "# Accuracy of best weight\n",
        "\n",
        "grid_search_weights.best_score_"
      ],
      "metadata": {
        "colab": {
          "base_uri": "https://localhost:8080/"
        },
        "id": "EpKLGtD6XNiQ",
        "outputId": "cbfdc6cc-5411-4d1b-ad9e-acc23fb96e96"
      },
      "execution_count": 181,
      "outputs": [
        {
          "output_type": "execute_result",
          "data": {
            "text/plain": [
              "0.673109243697479"
            ]
          },
          "metadata": {},
          "execution_count": 181
        }
      ]
    },
    {
      "cell_type": "markdown",
      "source": [
        "when k = 1 the accuracy of uniform is ~67%\n",
        "when k is not set the accuracy falls to ~65%"
      ],
      "metadata": {
        "id": "kfwOQj3fXmub"
      }
    },
    {
      "cell_type": "code",
      "source": [
        "# Cross validation results with weights\n",
        "grid_search_weights.cv_results_"
      ],
      "metadata": {
        "colab": {
          "base_uri": "https://localhost:8080/"
        },
        "id": "HqiI46tUXZJp",
        "outputId": "c1244e94-47cd-45ad-8426-b1bf1f5af9d4"
      },
      "execution_count": 182,
      "outputs": [
        {
          "output_type": "execute_result",
          "data": {
            "text/plain": [
              "{'mean_fit_time': array([0.00649171, 0.00580258, 0.00561323, 0.00454721, 0.00588403,\n",
              "        0.00440187, 0.00461931, 0.00477047, 0.00444322, 0.00440598,\n",
              "        0.00468326, 0.00444369, 0.00454597, 0.00438671, 0.00463076,\n",
              "        0.00452528, 0.00455995, 0.0047976 , 0.00438571, 0.00491171,\n",
              "        0.00514212, 0.00611329, 0.00465102, 0.00418863, 0.00455866,\n",
              "        0.00434942, 0.00453   , 0.00592866, 0.00673108, 0.00444584,\n",
              "        0.00468416, 0.0046134 , 0.00479221, 0.00425158, 0.0061583 ,\n",
              "        0.00415173, 0.00446577, 0.0051003 , 0.0050509 , 0.00450921,\n",
              "        0.00591383, 0.00469303, 0.00449429, 0.00464501, 0.00498805,\n",
              "        0.00464854, 0.00472851, 0.00481644]),\n",
              " 'std_fit_time': array([3.65614014e-03, 1.96978990e-03, 1.33631779e-03, 2.21994078e-04,\n",
              "        1.32778228e-03, 1.11675364e-04, 4.14286963e-04, 6.66367763e-04,\n",
              "        2.28109916e-04, 2.91815419e-04, 2.66655508e-04, 3.07349658e-04,\n",
              "        2.40462856e-04, 3.16211799e-04, 1.26215688e-04, 2.34377110e-04,\n",
              "        2.37276077e-04, 5.06492551e-04, 2.15763730e-04, 1.20007780e-03,\n",
              "        6.42726515e-04, 3.61630017e-03, 1.47463647e-04, 3.82711909e-04,\n",
              "        2.86586296e-04, 1.86481460e-04, 3.12716752e-04, 3.17018496e-03,\n",
              "        3.24636217e-03, 3.26256374e-04, 4.14054632e-04, 1.24006543e-04,\n",
              "        4.82835003e-04, 9.97016897e-05, 3.18586317e-03, 2.59389360e-04,\n",
              "        2.07662303e-04, 1.33463752e-03, 5.88280497e-04, 1.79057083e-04,\n",
              "        2.55097945e-03, 1.59279243e-04, 3.70870092e-04, 5.34229732e-04,\n",
              "        2.04310483e-04, 1.45809022e-04, 2.32491950e-04, 7.79143346e-04]),\n",
              " 'mean_score_time': array([0.01011181, 0.00519385, 0.00920782, 0.00507851, 0.01004167,\n",
              "        0.00479684, 0.0092217 , 0.00531774, 0.00917501, 0.004882  ,\n",
              "        0.00934997, 0.00572567, 0.00977526, 0.0050879 , 0.00980587,\n",
              "        0.00598412, 0.00906253, 0.00601802, 0.00933952, 0.00495019,\n",
              "        0.00969672, 0.0055191 , 0.0120718 , 0.00482159, 0.00884657,\n",
              "        0.00498648, 0.00912175, 0.00688248, 0.00895166, 0.00532846,\n",
              "        0.00960727, 0.00507655, 0.00941586, 0.0049262 , 0.01044397,\n",
              "        0.00490351, 0.00971003, 0.00509   , 0.0103302 , 0.00514364,\n",
              "        0.00953155, 0.00515919, 0.00951686, 0.0065742 , 0.00975337,\n",
              "        0.00520091, 0.01390886, 0.00562396]),\n",
              " 'std_score_time': array([1.48686759e-03, 5.60298445e-04, 6.02142113e-04, 5.11184054e-04,\n",
              "        1.37500766e-03, 1.18846398e-04, 6.92714727e-04, 7.07911703e-04,\n",
              "        1.88841988e-04, 9.66027363e-05, 3.25756448e-04, 1.72593153e-03,\n",
              "        1.19747223e-03, 1.39218274e-04, 1.42960094e-03, 2.23802127e-03,\n",
              "        1.16140736e-04, 1.96723180e-03, 4.24756557e-04, 7.26288268e-05,\n",
              "        1.00250253e-03, 1.30141244e-03, 4.48604305e-03, 2.56971097e-04,\n",
              "        2.30789894e-04, 1.92996881e-04, 4.79605521e-04, 2.60089424e-03,\n",
              "        4.09933302e-04, 3.45950350e-04, 3.64381298e-04, 1.08522899e-04,\n",
              "        2.65314912e-04, 8.54740415e-05, 1.85351063e-03, 1.81865930e-04,\n",
              "        1.41659816e-03, 1.85710596e-04, 1.36378863e-03, 2.86138294e-04,\n",
              "        5.45693481e-04, 8.66513491e-05, 8.81581389e-04, 1.43121072e-03,\n",
              "        3.66332505e-04, 1.27313860e-04, 7.67439532e-03, 1.26270517e-03]),\n",
              " 'param_n_neighbors': masked_array(data=[1, 1, 2, 2, 3, 3, 4, 4, 5, 5, 6, 6, 7, 7, 8, 8, 9, 9,\n",
              "                    10, 10, 11, 11, 12, 12, 13, 13, 14, 14, 15, 15, 16, 16,\n",
              "                    17, 17, 18, 18, 19, 19, 20, 20, 21, 21, 22, 22, 23, 23,\n",
              "                    24, 24],\n",
              "              mask=[False, False, False, False, False, False, False, False,\n",
              "                    False, False, False, False, False, False, False, False,\n",
              "                    False, False, False, False, False, False, False, False,\n",
              "                    False, False, False, False, False, False, False, False,\n",
              "                    False, False, False, False, False, False, False, False,\n",
              "                    False, False, False, False, False, False, False, False],\n",
              "        fill_value='?',\n",
              "             dtype=object),\n",
              " 'param_weights': masked_array(data=['uniform', 'distance', 'uniform', 'distance',\n",
              "                    'uniform', 'distance', 'uniform', 'distance',\n",
              "                    'uniform', 'distance', 'uniform', 'distance',\n",
              "                    'uniform', 'distance', 'uniform', 'distance',\n",
              "                    'uniform', 'distance', 'uniform', 'distance',\n",
              "                    'uniform', 'distance', 'uniform', 'distance',\n",
              "                    'uniform', 'distance', 'uniform', 'distance',\n",
              "                    'uniform', 'distance', 'uniform', 'distance',\n",
              "                    'uniform', 'distance', 'uniform', 'distance',\n",
              "                    'uniform', 'distance', 'uniform', 'distance',\n",
              "                    'uniform', 'distance', 'uniform', 'distance',\n",
              "                    'uniform', 'distance', 'uniform', 'distance'],\n",
              "              mask=[False, False, False, False, False, False, False, False,\n",
              "                    False, False, False, False, False, False, False, False,\n",
              "                    False, False, False, False, False, False, False, False,\n",
              "                    False, False, False, False, False, False, False, False,\n",
              "                    False, False, False, False, False, False, False, False,\n",
              "                    False, False, False, False, False, False, False, False],\n",
              "        fill_value='?',\n",
              "             dtype=object),\n",
              " 'params': [{'n_neighbors': 1, 'weights': 'uniform'},\n",
              "  {'n_neighbors': 1, 'weights': 'distance'},\n",
              "  {'n_neighbors': 2, 'weights': 'uniform'},\n",
              "  {'n_neighbors': 2, 'weights': 'distance'},\n",
              "  {'n_neighbors': 3, 'weights': 'uniform'},\n",
              "  {'n_neighbors': 3, 'weights': 'distance'},\n",
              "  {'n_neighbors': 4, 'weights': 'uniform'},\n",
              "  {'n_neighbors': 4, 'weights': 'distance'},\n",
              "  {'n_neighbors': 5, 'weights': 'uniform'},\n",
              "  {'n_neighbors': 5, 'weights': 'distance'},\n",
              "  {'n_neighbors': 6, 'weights': 'uniform'},\n",
              "  {'n_neighbors': 6, 'weights': 'distance'},\n",
              "  {'n_neighbors': 7, 'weights': 'uniform'},\n",
              "  {'n_neighbors': 7, 'weights': 'distance'},\n",
              "  {'n_neighbors': 8, 'weights': 'uniform'},\n",
              "  {'n_neighbors': 8, 'weights': 'distance'},\n",
              "  {'n_neighbors': 9, 'weights': 'uniform'},\n",
              "  {'n_neighbors': 9, 'weights': 'distance'},\n",
              "  {'n_neighbors': 10, 'weights': 'uniform'},\n",
              "  {'n_neighbors': 10, 'weights': 'distance'},\n",
              "  {'n_neighbors': 11, 'weights': 'uniform'},\n",
              "  {'n_neighbors': 11, 'weights': 'distance'},\n",
              "  {'n_neighbors': 12, 'weights': 'uniform'},\n",
              "  {'n_neighbors': 12, 'weights': 'distance'},\n",
              "  {'n_neighbors': 13, 'weights': 'uniform'},\n",
              "  {'n_neighbors': 13, 'weights': 'distance'},\n",
              "  {'n_neighbors': 14, 'weights': 'uniform'},\n",
              "  {'n_neighbors': 14, 'weights': 'distance'},\n",
              "  {'n_neighbors': 15, 'weights': 'uniform'},\n",
              "  {'n_neighbors': 15, 'weights': 'distance'},\n",
              "  {'n_neighbors': 16, 'weights': 'uniform'},\n",
              "  {'n_neighbors': 16, 'weights': 'distance'},\n",
              "  {'n_neighbors': 17, 'weights': 'uniform'},\n",
              "  {'n_neighbors': 17, 'weights': 'distance'},\n",
              "  {'n_neighbors': 18, 'weights': 'uniform'},\n",
              "  {'n_neighbors': 18, 'weights': 'distance'},\n",
              "  {'n_neighbors': 19, 'weights': 'uniform'},\n",
              "  {'n_neighbors': 19, 'weights': 'distance'},\n",
              "  {'n_neighbors': 20, 'weights': 'uniform'},\n",
              "  {'n_neighbors': 20, 'weights': 'distance'},\n",
              "  {'n_neighbors': 21, 'weights': 'uniform'},\n",
              "  {'n_neighbors': 21, 'weights': 'distance'},\n",
              "  {'n_neighbors': 22, 'weights': 'uniform'},\n",
              "  {'n_neighbors': 22, 'weights': 'distance'},\n",
              "  {'n_neighbors': 23, 'weights': 'uniform'},\n",
              "  {'n_neighbors': 23, 'weights': 'distance'},\n",
              "  {'n_neighbors': 24, 'weights': 'uniform'},\n",
              "  {'n_neighbors': 24, 'weights': 'distance'}],\n",
              " 'split0_test_score': array([0.57142857, 0.57142857, 0.54285714, 0.57142857, 0.54285714,\n",
              "        0.57142857, 0.51428571, 0.51428571, 0.45714286, 0.51428571,\n",
              "        0.51428571, 0.57142857, 0.6       , 0.68571429, 0.57142857,\n",
              "        0.62857143, 0.57142857, 0.6       , 0.62857143, 0.62857143,\n",
              "        0.51428571, 0.54285714, 0.6       , 0.6       , 0.51428571,\n",
              "        0.57142857, 0.51428571, 0.57142857, 0.57142857, 0.6       ,\n",
              "        0.51428571, 0.6       , 0.54285714, 0.6       , 0.51428571,\n",
              "        0.57142857, 0.54285714, 0.6       , 0.48571429, 0.6       ,\n",
              "        0.51428571, 0.6       , 0.48571429, 0.57142857, 0.51428571,\n",
              "        0.54285714, 0.51428571, 0.51428571]),\n",
              " 'split1_test_score': array([0.67647059, 0.67647059, 0.64705882, 0.67647059, 0.64705882,\n",
              "        0.61764706, 0.67647059, 0.61764706, 0.61764706, 0.67647059,\n",
              "        0.67647059, 0.70588235, 0.67647059, 0.70588235, 0.67647059,\n",
              "        0.70588235, 0.67647059, 0.73529412, 0.67647059, 0.73529412,\n",
              "        0.64705882, 0.67647059, 0.64705882, 0.67647059, 0.61764706,\n",
              "        0.67647059, 0.67647059, 0.67647059, 0.61764706, 0.61764706,\n",
              "        0.64705882, 0.64705882, 0.58823529, 0.58823529, 0.61764706,\n",
              "        0.61764706, 0.58823529, 0.61764706, 0.58823529, 0.58823529,\n",
              "        0.55882353, 0.55882353, 0.55882353, 0.52941176, 0.55882353,\n",
              "        0.52941176, 0.58823529, 0.52941176]),\n",
              " 'split2_test_score': array([0.73529412, 0.73529412, 0.67647059, 0.73529412, 0.61764706,\n",
              "        0.64705882, 0.61764706, 0.64705882, 0.61764706, 0.67647059,\n",
              "        0.61764706, 0.67647059, 0.58823529, 0.67647059, 0.58823529,\n",
              "        0.64705882, 0.58823529, 0.58823529, 0.58823529, 0.58823529,\n",
              "        0.58823529, 0.58823529, 0.55882353, 0.58823529, 0.55882353,\n",
              "        0.58823529, 0.55882353, 0.58823529, 0.55882353, 0.58823529,\n",
              "        0.58823529, 0.58823529, 0.61764706, 0.64705882, 0.58823529,\n",
              "        0.58823529, 0.58823529, 0.61764706, 0.58823529, 0.58823529,\n",
              "        0.58823529, 0.58823529, 0.58823529, 0.58823529, 0.58823529,\n",
              "        0.58823529, 0.58823529, 0.58823529]),\n",
              " 'split3_test_score': array([0.70588235, 0.70588235, 0.67647059, 0.70588235, 0.70588235,\n",
              "        0.73529412, 0.70588235, 0.70588235, 0.67647059, 0.73529412,\n",
              "        0.64705882, 0.70588235, 0.61764706, 0.67647059, 0.64705882,\n",
              "        0.73529412, 0.67647059, 0.67647059, 0.70588235, 0.70588235,\n",
              "        0.67647059, 0.67647059, 0.67647059, 0.73529412, 0.64705882,\n",
              "        0.70588235, 0.61764706, 0.73529412, 0.64705882, 0.67647059,\n",
              "        0.61764706, 0.67647059, 0.64705882, 0.67647059, 0.58823529,\n",
              "        0.70588235, 0.64705882, 0.67647059, 0.61764706, 0.64705882,\n",
              "        0.64705882, 0.64705882, 0.61764706, 0.61764706, 0.61764706,\n",
              "        0.64705882, 0.61764706, 0.64705882]),\n",
              " 'split4_test_score': array([0.67647059, 0.67647059, 0.67647059, 0.67647059, 0.67647059,\n",
              "        0.67647059, 0.61764706, 0.64705882, 0.67647059, 0.67647059,\n",
              "        0.58823529, 0.67647059, 0.5       , 0.61764706, 0.52941176,\n",
              "        0.55882353, 0.55882353, 0.58823529, 0.55882353, 0.58823529,\n",
              "        0.52941176, 0.61764706, 0.58823529, 0.61764706, 0.55882353,\n",
              "        0.58823529, 0.55882353, 0.58823529, 0.55882353, 0.58823529,\n",
              "        0.61764706, 0.58823529, 0.61764706, 0.58823529, 0.64705882,\n",
              "        0.61764706, 0.61764706, 0.58823529, 0.61764706, 0.61764706,\n",
              "        0.58823529, 0.61764706, 0.55882353, 0.55882353, 0.58823529,\n",
              "        0.55882353, 0.64705882, 0.58823529]),\n",
              " 'mean_test_score': array([0.67310924, 0.67310924, 0.64386555, 0.67310924, 0.63798319,\n",
              "        0.64957983, 0.62638655, 0.62638655, 0.60907563, 0.65579832,\n",
              "        0.6087395 , 0.66722689, 0.59647059, 0.67243697, 0.60252101,\n",
              "        0.65512605, 0.61428571, 0.63764706, 0.63159664, 0.6492437 ,\n",
              "        0.59109244, 0.62033613, 0.61411765, 0.64352941, 0.57932773,\n",
              "        0.62605042, 0.58521008, 0.63193277, 0.5907563 , 0.61411765,\n",
              "        0.59697479, 0.62      , 0.60268908, 0.62      , 0.59109244,\n",
              "        0.62016807, 0.59680672, 0.62      , 0.5794958 , 0.60823529,\n",
              "        0.57932773, 0.60235294, 0.56184874, 0.57310924, 0.57344538,\n",
              "        0.57327731, 0.59109244, 0.57344538]),\n",
              " 'std_test_score': array([0.05532195, 0.05532195, 0.05177289, 0.05532195, 0.05592221,\n",
              "        0.05514296, 0.06564655, 0.06295593, 0.08039237, 0.07433361,\n",
              "        0.0556366 , 0.04967233, 0.05698297, 0.02942569, 0.0528544 ,\n",
              "        0.06172119, 0.05162428, 0.05889408, 0.0542537 , 0.06080132,\n",
              "        0.06345645, 0.05165819, 0.04218923, 0.0550055 , 0.04717453,\n",
              "        0.05433018, 0.05621993, 0.06347737, 0.03551352, 0.03298317,\n",
              "        0.04533643, 0.03560646, 0.03522763, 0.03560646, 0.04416556,\n",
              "        0.04637864, 0.03469031, 0.03036115, 0.04870065, 0.0221976 ,\n",
              "        0.04335222, 0.02943528, 0.04387359, 0.02942377, 0.03494263,\n",
              "        0.04177544, 0.04416556, 0.04752946]),\n",
              " 'rank_test_score': array([ 1,  1, 10,  1, 12,  8, 16, 16, 27,  6, 28,  5, 35,  4, 31,  7, 24,\n",
              "        13, 15,  9, 36, 19, 25, 11, 42, 18, 40, 14, 39, 25, 33, 21, 30, 21,\n",
              "        36, 20, 34, 21, 41, 29, 43, 32, 48, 47, 44, 46, 36, 44],\n",
              "       dtype=int32)}"
            ]
          },
          "metadata": {},
          "execution_count": 182
        }
      ]
    },
    {
      "cell_type": "markdown",
      "source": [
        "That is of interest. Both weight uniform and distance are the same when k =1\n",
        "\n",
        "When k is not set distance is identifed as the best option."
      ],
      "metadata": {
        "id": "N6VO1HldXdWB"
      }
    },
    {
      "cell_type": "code",
      "source": [
        "# Best Performing Accuracy weights=distance\n",
        "knn_distance = KNeighborsClassifier(weights='distance')\n",
        "knn_distance.fit(X_train_scaled, y_train)\n",
        "print(\"Weights = distance knn score: {}\".format(knn_distance.score(X_test_scaled, y_test)))"
      ],
      "metadata": {
        "colab": {
          "base_uri": "https://localhost:8080/"
        },
        "id": "gyvIfXYVYcNq",
        "outputId": "b9b3fea4-a61c-4d9b-e7d2-84ab849176e5"
      },
      "execution_count": 183,
      "outputs": [
        {
          "output_type": "stream",
          "name": "stdout",
          "text": [
            "Weights = distance knn score: 0.6976744186046512\n"
          ]
        }
      ]
    },
    {
      "cell_type": "code",
      "source": [
        "# Worst Performing Accuracy weights = uniform\n",
        "knn_uniform = KNeighborsClassifier(weights='uniform')\n",
        "knn_uniform.fit(X_train_scaled, y_train)\n",
        "print(\"Weights = uniform knn score: {}\".format(knn_uniform.score(X_test_scaled, y_test)))"
      ],
      "metadata": {
        "colab": {
          "base_uri": "https://localhost:8080/"
        },
        "id": "ZwZv8HsbYzce",
        "outputId": "8de53002-0577-4fff-9ae5-fb75791da605"
      },
      "execution_count": 184,
      "outputs": [
        {
          "output_type": "stream",
          "name": "stdout",
          "text": [
            "Weights = uniform knn score: 0.627906976744186\n"
          ]
        }
      ]
    },
    {
      "cell_type": "markdown",
      "source": [
        "The accuracy of weights = distance is ~70% while uniform is about ~63%."
      ],
      "metadata": {
        "id": "bvyIqaw0ZBVC"
      }
    },
    {
      "cell_type": "code",
      "source": [
        "# Confusion matrix of weights=distance\n",
        "confusion = confusion_matrix(y_test, knn_distance.predict(X_test))\n",
        "print(\"Confusion matrix weights = distance:\\n{}\".format(confusion))"
      ],
      "metadata": {
        "colab": {
          "base_uri": "https://localhost:8080/"
        },
        "id": "obYFTE0HaIPN",
        "outputId": "6fb22408-733c-4be3-b5fc-88485c1fb8f6"
      },
      "execution_count": 185,
      "outputs": [
        {
          "output_type": "stream",
          "name": "stdout",
          "text": [
            "Confusion matrix weights = distance:\n",
            "[[ 0  0  0  0  0 14]\n",
            " [ 0  0  0  0  1 14]\n",
            " [ 0  0  0  0  0  3]\n",
            " [ 0  0  0  0  0  3]\n",
            " [ 0  0  0  0  0  2]\n",
            " [ 0  0  0  0  0  6]]\n"
          ]
        }
      ]
    },
    {
      "cell_type": "code",
      "source": [
        "# Confusion matrix of weights=uniform\n",
        "confusion = confusion_matrix(y_test, knn_uniform.predict(X_test))\n",
        "print(\"Confusion matrix weights = uniform:\\n{}\".format(confusion))"
      ],
      "metadata": {
        "colab": {
          "base_uri": "https://localhost:8080/"
        },
        "id": "fT8ySrVEaRVD",
        "outputId": "41c9691b-cfca-4ccb-becf-054a0873b44e"
      },
      "execution_count": 186,
      "outputs": [
        {
          "output_type": "stream",
          "name": "stdout",
          "text": [
            "Confusion matrix weights = uniform:\n",
            "[[ 0  0  0  0  0 14]\n",
            " [ 0  0  0  4  0 11]\n",
            " [ 0  0  0  0  0  3]\n",
            " [ 0  0  0  3  0  0]\n",
            " [ 0  0  0  2  0  0]\n",
            " [ 0  0  0  3  0  3]]\n"
          ]
        }
      ]
    },
    {
      "cell_type": "markdown",
      "source": [
        "### K-Nearest Neighbor Parameter Adjustment 3 : metric\n",
        "Adjust parameters using grid search for best and worst performing parameters"
      ],
      "metadata": {
        "id": "BQC14a-xbjS9"
      }
    },
    {
      "cell_type": "code",
      "source": [
        "# Dictionary of all values of k\n",
        "param_grid = {\"n_neighbors\": np.arange(1, 25),\n",
        "              #'weights': ['uniform', 'distance'],\n",
        "               'metric': ['euclidean', 'manhattan', 'chebyshev']}\n",
        "\n",
        "# Grid search on all values of k in dictionary,\n",
        "grid_search_metric = GridSearchCV(knn, param_grid, cv=5)\n",
        "grid_search_metric.fit(X_train_scaled, y_train)"
      ],
      "metadata": {
        "colab": {
          "base_uri": "https://localhost:8080/",
          "height": 119
        },
        "id": "ec_5pQ57br6N",
        "outputId": "fa96ab5f-c01d-4a27-db74-6b5a128a1d16"
      },
      "execution_count": 218,
      "outputs": [
        {
          "output_type": "execute_result",
          "data": {
            "text/plain": [
              "GridSearchCV(cv=5, estimator=KNeighborsClassifier(weights='distance'),\n",
              "             param_grid={'metric': ['euclidean', 'manhattan', 'chebyshev'],\n",
              "                         'n_neighbors': array([ 1,  2,  3,  4,  5,  6,  7,  8,  9, 10, 11, 12, 13, 14, 15, 16, 17,\n",
              "       18, 19, 20, 21, 22, 23, 24])})"
            ],
            "text/html": [
              "<style>#sk-container-id-35 {color: black;background-color: white;}#sk-container-id-35 pre{padding: 0;}#sk-container-id-35 div.sk-toggleable {background-color: white;}#sk-container-id-35 label.sk-toggleable__label {cursor: pointer;display: block;width: 100%;margin-bottom: 0;padding: 0.3em;box-sizing: border-box;text-align: center;}#sk-container-id-35 label.sk-toggleable__label-arrow:before {content: \"▸\";float: left;margin-right: 0.25em;color: #696969;}#sk-container-id-35 label.sk-toggleable__label-arrow:hover:before {color: black;}#sk-container-id-35 div.sk-estimator:hover label.sk-toggleable__label-arrow:before {color: black;}#sk-container-id-35 div.sk-toggleable__content {max-height: 0;max-width: 0;overflow: hidden;text-align: left;background-color: #f0f8ff;}#sk-container-id-35 div.sk-toggleable__content pre {margin: 0.2em;color: black;border-radius: 0.25em;background-color: #f0f8ff;}#sk-container-id-35 input.sk-toggleable__control:checked~div.sk-toggleable__content {max-height: 200px;max-width: 100%;overflow: auto;}#sk-container-id-35 input.sk-toggleable__control:checked~label.sk-toggleable__label-arrow:before {content: \"▾\";}#sk-container-id-35 div.sk-estimator input.sk-toggleable__control:checked~label.sk-toggleable__label {background-color: #d4ebff;}#sk-container-id-35 div.sk-label input.sk-toggleable__control:checked~label.sk-toggleable__label {background-color: #d4ebff;}#sk-container-id-35 input.sk-hidden--visually {border: 0;clip: rect(1px 1px 1px 1px);clip: rect(1px, 1px, 1px, 1px);height: 1px;margin: -1px;overflow: hidden;padding: 0;position: absolute;width: 1px;}#sk-container-id-35 div.sk-estimator {font-family: monospace;background-color: #f0f8ff;border: 1px dotted black;border-radius: 0.25em;box-sizing: border-box;margin-bottom: 0.5em;}#sk-container-id-35 div.sk-estimator:hover {background-color: #d4ebff;}#sk-container-id-35 div.sk-parallel-item::after {content: \"\";width: 100%;border-bottom: 1px solid gray;flex-grow: 1;}#sk-container-id-35 div.sk-label:hover label.sk-toggleable__label {background-color: #d4ebff;}#sk-container-id-35 div.sk-serial::before {content: \"\";position: absolute;border-left: 1px solid gray;box-sizing: border-box;top: 0;bottom: 0;left: 50%;z-index: 0;}#sk-container-id-35 div.sk-serial {display: flex;flex-direction: column;align-items: center;background-color: white;padding-right: 0.2em;padding-left: 0.2em;position: relative;}#sk-container-id-35 div.sk-item {position: relative;z-index: 1;}#sk-container-id-35 div.sk-parallel {display: flex;align-items: stretch;justify-content: center;background-color: white;position: relative;}#sk-container-id-35 div.sk-item::before, #sk-container-id-35 div.sk-parallel-item::before {content: \"\";position: absolute;border-left: 1px solid gray;box-sizing: border-box;top: 0;bottom: 0;left: 50%;z-index: -1;}#sk-container-id-35 div.sk-parallel-item {display: flex;flex-direction: column;z-index: 1;position: relative;background-color: white;}#sk-container-id-35 div.sk-parallel-item:first-child::after {align-self: flex-end;width: 50%;}#sk-container-id-35 div.sk-parallel-item:last-child::after {align-self: flex-start;width: 50%;}#sk-container-id-35 div.sk-parallel-item:only-child::after {width: 0;}#sk-container-id-35 div.sk-dashed-wrapped {border: 1px dashed gray;margin: 0 0.4em 0.5em 0.4em;box-sizing: border-box;padding-bottom: 0.4em;background-color: white;}#sk-container-id-35 div.sk-label label {font-family: monospace;font-weight: bold;display: inline-block;line-height: 1.2em;}#sk-container-id-35 div.sk-label-container {text-align: center;}#sk-container-id-35 div.sk-container {/* jupyter's `normalize.less` sets `[hidden] { display: none; }` but bootstrap.min.css set `[hidden] { display: none !important; }` so we also need the `!important` here to be able to override the default hidden behavior on the sphinx rendered scikit-learn.org. See: https://github.com/scikit-learn/scikit-learn/issues/21755 */display: inline-block !important;position: relative;}#sk-container-id-35 div.sk-text-repr-fallback {display: none;}</style><div id=\"sk-container-id-35\" class=\"sk-top-container\"><div class=\"sk-text-repr-fallback\"><pre>GridSearchCV(cv=5, estimator=KNeighborsClassifier(weights=&#x27;distance&#x27;),\n",
              "             param_grid={&#x27;metric&#x27;: [&#x27;euclidean&#x27;, &#x27;manhattan&#x27;, &#x27;chebyshev&#x27;],\n",
              "                         &#x27;n_neighbors&#x27;: array([ 1,  2,  3,  4,  5,  6,  7,  8,  9, 10, 11, 12, 13, 14, 15, 16, 17,\n",
              "       18, 19, 20, 21, 22, 23, 24])})</pre><b>In a Jupyter environment, please rerun this cell to show the HTML representation or trust the notebook. <br />On GitHub, the HTML representation is unable to render, please try loading this page with nbviewer.org.</b></div><div class=\"sk-container\" hidden><div class=\"sk-item sk-dashed-wrapped\"><div class=\"sk-label-container\"><div class=\"sk-label sk-toggleable\"><input class=\"sk-toggleable__control sk-hidden--visually\" id=\"sk-estimator-id-101\" type=\"checkbox\" ><label for=\"sk-estimator-id-101\" class=\"sk-toggleable__label sk-toggleable__label-arrow\">GridSearchCV</label><div class=\"sk-toggleable__content\"><pre>GridSearchCV(cv=5, estimator=KNeighborsClassifier(weights=&#x27;distance&#x27;),\n",
              "             param_grid={&#x27;metric&#x27;: [&#x27;euclidean&#x27;, &#x27;manhattan&#x27;, &#x27;chebyshev&#x27;],\n",
              "                         &#x27;n_neighbors&#x27;: array([ 1,  2,  3,  4,  5,  6,  7,  8,  9, 10, 11, 12, 13, 14, 15, 16, 17,\n",
              "       18, 19, 20, 21, 22, 23, 24])})</pre></div></div></div><div class=\"sk-parallel\"><div class=\"sk-parallel-item\"><div class=\"sk-item\"><div class=\"sk-label-container\"><div class=\"sk-label sk-toggleable\"><input class=\"sk-toggleable__control sk-hidden--visually\" id=\"sk-estimator-id-102\" type=\"checkbox\" ><label for=\"sk-estimator-id-102\" class=\"sk-toggleable__label sk-toggleable__label-arrow\">estimator: KNeighborsClassifier</label><div class=\"sk-toggleable__content\"><pre>KNeighborsClassifier(weights=&#x27;distance&#x27;)</pre></div></div></div><div class=\"sk-serial\"><div class=\"sk-item\"><div class=\"sk-estimator sk-toggleable\"><input class=\"sk-toggleable__control sk-hidden--visually\" id=\"sk-estimator-id-103\" type=\"checkbox\" ><label for=\"sk-estimator-id-103\" class=\"sk-toggleable__label sk-toggleable__label-arrow\">KNeighborsClassifier</label><div class=\"sk-toggleable__content\"><pre>KNeighborsClassifier(weights=&#x27;distance&#x27;)</pre></div></div></div></div></div></div></div></div></div></div>"
            ]
          },
          "metadata": {},
          "execution_count": 218
        }
      ]
    },
    {
      "cell_type": "code",
      "source": [
        "# Best performing weight\n",
        "grid_search_metric.best_params_"
      ],
      "metadata": {
        "colab": {
          "base_uri": "https://localhost:8080/"
        },
        "id": "Dyl6ldPfb4hV",
        "outputId": "3522d515-6014-4224-bedc-bfdb6af00b96"
      },
      "execution_count": 216,
      "outputs": [
        {
          "output_type": "execute_result",
          "data": {
            "text/plain": [
              "{'metric': 'manhattan', 'n_neighbors': 4, 'weights': 'distance'}"
            ]
          },
          "metadata": {},
          "execution_count": 216
        }
      ]
    },
    {
      "cell_type": "code",
      "source": [
        "# Accuracy of best weight\n",
        "grid_search_metric.best_score_"
      ],
      "metadata": {
        "colab": {
          "base_uri": "https://localhost:8080/"
        },
        "id": "-iale-0EcI3L",
        "outputId": "2c1d74d4-7737-49a7-f5db-7a3b69efc4ae"
      },
      "execution_count": 217,
      "outputs": [
        {
          "output_type": "execute_result",
          "data": {
            "text/plain": [
              "0.725546218487395"
            ]
          },
          "metadata": {},
          "execution_count": 217
        }
      ]
    },
    {
      "cell_type": "markdown",
      "source": [
        "Accuracy is jumping from ~67% without the adjusted metric parameter to 72% with metric = manhattan"
      ],
      "metadata": {
        "id": "TFMhKQC3cY42"
      }
    },
    {
      "cell_type": "code",
      "source": [
        "# Cross validation results with weights\n",
        "grid_search_metric.cv_results_"
      ],
      "metadata": {
        "colab": {
          "base_uri": "https://localhost:8080/"
        },
        "id": "vyy4-Pb3ck3W",
        "outputId": "5365aacb-1413-455f-9766-9ced955cba7b"
      },
      "execution_count": 211,
      "outputs": [
        {
          "output_type": "execute_result",
          "data": {
            "text/plain": [
              "{'mean_fit_time': array([0.00961466, 0.00759716, 0.01194582, 0.00946875, 0.00639119,\n",
              "        0.01789088, 0.00792632, 0.01033416, 0.00845561, 0.01886292,\n",
              "        0.00566359, 0.01098995, 0.00886927, 0.0103528 , 0.01139898,\n",
              "        0.00963211, 0.01582923, 0.01020498, 0.0100328 , 0.0107657 ,\n",
              "        0.01035972, 0.00637989, 0.00535235, 0.00805249, 0.00463939,\n",
              "        0.00484338, 0.0052176 , 0.00458736, 0.00669298, 0.00489721,\n",
              "        0.00479083, 0.00473375, 0.00467396, 0.00478601, 0.00456991,\n",
              "        0.00463338, 0.00450611, 0.00515976, 0.00899153, 0.00544324,\n",
              "        0.00468402, 0.00423431, 0.00409579, 0.00390081, 0.00421057,\n",
              "        0.00499616, 0.00449386, 0.00411525, 0.00426021, 0.00428667,\n",
              "        0.00410023, 0.00489464, 0.00419116, 0.00409393, 0.00426493,\n",
              "        0.0047502 , 0.0041863 , 0.00418468, 0.0039999 , 0.00417352,\n",
              "        0.00418434, 0.00407143, 0.00393043, 0.00405102, 0.00427995,\n",
              "        0.00425372, 0.00416923, 0.00497513, 0.00420127, 0.00478697,\n",
              "        0.00425873, 0.00462165]),\n",
              " 'std_fit_time': array([4.36183312e-03, 4.46725717e-03, 1.13395257e-02, 4.46318245e-03,\n",
              "        3.14209446e-03, 1.01528836e-02, 3.05362661e-03, 3.15191509e-03,\n",
              "        3.38595884e-03, 4.08176530e-03, 2.79070193e-03, 3.94743346e-03,\n",
              "        3.68488641e-03, 3.10171834e-03, 3.77879419e-03, 4.58008740e-03,\n",
              "        6.83690194e-03, 2.76236068e-03, 3.93326495e-03, 3.68357474e-03,\n",
              "        2.77739542e-03, 2.80235857e-03, 8.60445083e-04, 3.98500492e-03,\n",
              "        1.53794436e-04, 3.73903052e-04, 6.82202365e-04, 9.76330806e-05,\n",
              "        2.53957921e-03, 1.97690418e-04, 2.91866466e-04, 1.14583721e-04,\n",
              "        2.17636283e-04, 7.30607273e-05, 1.12376629e-04, 2.24097353e-04,\n",
              "        7.35829419e-05, 9.89783245e-04, 5.33113690e-03, 1.13398861e-03,\n",
              "        7.95229914e-04, 1.57839222e-04, 1.18388497e-04, 1.77294275e-04,\n",
              "        3.79526272e-04, 1.77595002e-03, 7.82897330e-04, 1.20596501e-04,\n",
              "        3.29297872e-04, 2.51495716e-04, 9.15572791e-05, 1.19312222e-03,\n",
              "        1.00482273e-04, 1.80999082e-04, 1.75687453e-04, 1.44088760e-03,\n",
              "        7.94257565e-05, 1.37325161e-04, 1.59411262e-04, 1.75808444e-04,\n",
              "        1.86505673e-04, 1.98558703e-04, 1.51738814e-04, 8.46383135e-05,\n",
              "        1.63099960e-04, 2.79871875e-04, 2.14129459e-04, 1.55497273e-03,\n",
              "        1.87943211e-04, 1.36924932e-03, 3.64690364e-04, 1.73386208e-03]),\n",
              " 'mean_score_time': array([0.00918069, 0.01487975, 0.01775079, 0.01039057, 0.01601276,\n",
              "        0.01418509, 0.0103272 , 0.01258821, 0.01101046, 0.01551957,\n",
              "        0.00791121, 0.01195307, 0.01053944, 0.00912018, 0.01139207,\n",
              "        0.01140575, 0.01869488, 0.00975628, 0.01143303, 0.01129937,\n",
              "        0.01117649, 0.00655437, 0.00679474, 0.01023355, 0.00512857,\n",
              "        0.00531764, 0.00600214, 0.00515132, 0.00711918, 0.00554805,\n",
              "        0.00523043, 0.00557561, 0.00533133, 0.00541158, 0.00518823,\n",
              "        0.00510111, 0.00510192, 0.00707827, 0.00971737, 0.00542235,\n",
              "        0.00483103, 0.00498018, 0.00489745, 0.00477219, 0.00490193,\n",
              "        0.00496836, 0.0065383 , 0.0065011 , 0.00522032, 0.00457764,\n",
              "        0.00442581, 0.00469155, 0.00472593, 0.00543609, 0.00480394,\n",
              "        0.00666027, 0.00463071, 0.00461445, 0.00462017, 0.00473375,\n",
              "        0.00477157, 0.0046762 , 0.00466385, 0.0048068 , 0.00532031,\n",
              "        0.00473418, 0.0053555 , 0.00856414, 0.00543351, 0.00625076,\n",
              "        0.00618601, 0.00532074]),\n",
              " 'std_score_time': array([5.58121071e-03, 3.59518332e-03, 6.67178161e-03, 4.70035202e-03,\n",
              "        6.35884154e-03, 4.53057003e-03, 3.62064366e-03, 3.61880090e-03,\n",
              "        1.59002411e-03, 3.03759451e-03, 4.95251495e-03, 3.62748885e-03,\n",
              "        2.75062402e-03, 4.16681350e-03, 1.33128369e-03, 3.37295751e-03,\n",
              "        1.06704151e-02, 3.36995596e-03, 1.55847730e-03, 3.10724180e-03,\n",
              "        2.95215067e-03, 2.15383303e-03, 2.53967284e-03, 5.57520536e-03,\n",
              "        8.85746553e-05, 1.17440394e-04, 1.34839426e-03, 1.30623828e-04,\n",
              "        2.48601883e-03, 2.38683525e-04, 1.63394499e-04, 2.36181416e-04,\n",
              "        2.87224611e-04, 1.42091185e-04, 1.23057804e-04, 5.28822083e-05,\n",
              "        1.75846657e-04, 1.96432001e-03, 4.96482943e-03, 2.25460186e-04,\n",
              "        2.19325884e-04, 1.12205528e-04, 1.70540235e-04, 7.32365062e-05,\n",
              "        3.78243555e-04, 2.36627979e-04, 3.15641692e-03, 2.57811064e-03,\n",
              "        1.29339564e-03, 1.53584504e-04, 1.14528444e-04, 1.12673442e-04,\n",
              "        1.60138999e-04, 1.55356144e-03, 1.50453300e-04, 4.04289166e-03,\n",
              "        1.38431059e-04, 1.92586825e-04, 2.49552835e-04, 1.91182589e-04,\n",
              "        1.55844113e-04, 1.52858375e-04, 1.47577411e-04, 2.17397764e-04,\n",
              "        7.19326515e-04, 4.11349372e-05, 1.22904233e-03, 4.41393515e-03,\n",
              "        1.33722464e-03, 2.01326698e-03, 2.80898041e-03, 1.16152691e-03]),\n",
              " 'param_metric': masked_array(data=['euclidean', 'euclidean', 'euclidean', 'euclidean',\n",
              "                    'euclidean', 'euclidean', 'euclidean', 'euclidean',\n",
              "                    'euclidean', 'euclidean', 'euclidean', 'euclidean',\n",
              "                    'euclidean', 'euclidean', 'euclidean', 'euclidean',\n",
              "                    'euclidean', 'euclidean', 'euclidean', 'euclidean',\n",
              "                    'euclidean', 'euclidean', 'euclidean', 'euclidean',\n",
              "                    'manhattan', 'manhattan', 'manhattan', 'manhattan',\n",
              "                    'manhattan', 'manhattan', 'manhattan', 'manhattan',\n",
              "                    'manhattan', 'manhattan', 'manhattan', 'manhattan',\n",
              "                    'manhattan', 'manhattan', 'manhattan', 'manhattan',\n",
              "                    'manhattan', 'manhattan', 'manhattan', 'manhattan',\n",
              "                    'manhattan', 'manhattan', 'manhattan', 'manhattan',\n",
              "                    'chebyshev', 'chebyshev', 'chebyshev', 'chebyshev',\n",
              "                    'chebyshev', 'chebyshev', 'chebyshev', 'chebyshev',\n",
              "                    'chebyshev', 'chebyshev', 'chebyshev', 'chebyshev',\n",
              "                    'chebyshev', 'chebyshev', 'chebyshev', 'chebyshev',\n",
              "                    'chebyshev', 'chebyshev', 'chebyshev', 'chebyshev',\n",
              "                    'chebyshev', 'chebyshev', 'chebyshev', 'chebyshev'],\n",
              "              mask=[False, False, False, False, False, False, False, False,\n",
              "                    False, False, False, False, False, False, False, False,\n",
              "                    False, False, False, False, False, False, False, False,\n",
              "                    False, False, False, False, False, False, False, False,\n",
              "                    False, False, False, False, False, False, False, False,\n",
              "                    False, False, False, False, False, False, False, False,\n",
              "                    False, False, False, False, False, False, False, False,\n",
              "                    False, False, False, False, False, False, False, False,\n",
              "                    False, False, False, False, False, False, False, False],\n",
              "        fill_value='?',\n",
              "             dtype=object),\n",
              " 'param_n_neighbors': masked_array(data=[1, 2, 3, 4, 5, 6, 7, 8, 9, 10, 11, 12, 13, 14, 15, 16,\n",
              "                    17, 18, 19, 20, 21, 22, 23, 24, 1, 2, 3, 4, 5, 6, 7, 8,\n",
              "                    9, 10, 11, 12, 13, 14, 15, 16, 17, 18, 19, 20, 21, 22,\n",
              "                    23, 24, 1, 2, 3, 4, 5, 6, 7, 8, 9, 10, 11, 12, 13, 14,\n",
              "                    15, 16, 17, 18, 19, 20, 21, 22, 23, 24],\n",
              "              mask=[False, False, False, False, False, False, False, False,\n",
              "                    False, False, False, False, False, False, False, False,\n",
              "                    False, False, False, False, False, False, False, False,\n",
              "                    False, False, False, False, False, False, False, False,\n",
              "                    False, False, False, False, False, False, False, False,\n",
              "                    False, False, False, False, False, False, False, False,\n",
              "                    False, False, False, False, False, False, False, False,\n",
              "                    False, False, False, False, False, False, False, False,\n",
              "                    False, False, False, False, False, False, False, False],\n",
              "        fill_value='?',\n",
              "             dtype=object),\n",
              " 'params': [{'metric': 'euclidean', 'n_neighbors': 1},\n",
              "  {'metric': 'euclidean', 'n_neighbors': 2},\n",
              "  {'metric': 'euclidean', 'n_neighbors': 3},\n",
              "  {'metric': 'euclidean', 'n_neighbors': 4},\n",
              "  {'metric': 'euclidean', 'n_neighbors': 5},\n",
              "  {'metric': 'euclidean', 'n_neighbors': 6},\n",
              "  {'metric': 'euclidean', 'n_neighbors': 7},\n",
              "  {'metric': 'euclidean', 'n_neighbors': 8},\n",
              "  {'metric': 'euclidean', 'n_neighbors': 9},\n",
              "  {'metric': 'euclidean', 'n_neighbors': 10},\n",
              "  {'metric': 'euclidean', 'n_neighbors': 11},\n",
              "  {'metric': 'euclidean', 'n_neighbors': 12},\n",
              "  {'metric': 'euclidean', 'n_neighbors': 13},\n",
              "  {'metric': 'euclidean', 'n_neighbors': 14},\n",
              "  {'metric': 'euclidean', 'n_neighbors': 15},\n",
              "  {'metric': 'euclidean', 'n_neighbors': 16},\n",
              "  {'metric': 'euclidean', 'n_neighbors': 17},\n",
              "  {'metric': 'euclidean', 'n_neighbors': 18},\n",
              "  {'metric': 'euclidean', 'n_neighbors': 19},\n",
              "  {'metric': 'euclidean', 'n_neighbors': 20},\n",
              "  {'metric': 'euclidean', 'n_neighbors': 21},\n",
              "  {'metric': 'euclidean', 'n_neighbors': 22},\n",
              "  {'metric': 'euclidean', 'n_neighbors': 23},\n",
              "  {'metric': 'euclidean', 'n_neighbors': 24},\n",
              "  {'metric': 'manhattan', 'n_neighbors': 1},\n",
              "  {'metric': 'manhattan', 'n_neighbors': 2},\n",
              "  {'metric': 'manhattan', 'n_neighbors': 3},\n",
              "  {'metric': 'manhattan', 'n_neighbors': 4},\n",
              "  {'metric': 'manhattan', 'n_neighbors': 5},\n",
              "  {'metric': 'manhattan', 'n_neighbors': 6},\n",
              "  {'metric': 'manhattan', 'n_neighbors': 7},\n",
              "  {'metric': 'manhattan', 'n_neighbors': 8},\n",
              "  {'metric': 'manhattan', 'n_neighbors': 9},\n",
              "  {'metric': 'manhattan', 'n_neighbors': 10},\n",
              "  {'metric': 'manhattan', 'n_neighbors': 11},\n",
              "  {'metric': 'manhattan', 'n_neighbors': 12},\n",
              "  {'metric': 'manhattan', 'n_neighbors': 13},\n",
              "  {'metric': 'manhattan', 'n_neighbors': 14},\n",
              "  {'metric': 'manhattan', 'n_neighbors': 15},\n",
              "  {'metric': 'manhattan', 'n_neighbors': 16},\n",
              "  {'metric': 'manhattan', 'n_neighbors': 17},\n",
              "  {'metric': 'manhattan', 'n_neighbors': 18},\n",
              "  {'metric': 'manhattan', 'n_neighbors': 19},\n",
              "  {'metric': 'manhattan', 'n_neighbors': 20},\n",
              "  {'metric': 'manhattan', 'n_neighbors': 21},\n",
              "  {'metric': 'manhattan', 'n_neighbors': 22},\n",
              "  {'metric': 'manhattan', 'n_neighbors': 23},\n",
              "  {'metric': 'manhattan', 'n_neighbors': 24},\n",
              "  {'metric': 'chebyshev', 'n_neighbors': 1},\n",
              "  {'metric': 'chebyshev', 'n_neighbors': 2},\n",
              "  {'metric': 'chebyshev', 'n_neighbors': 3},\n",
              "  {'metric': 'chebyshev', 'n_neighbors': 4},\n",
              "  {'metric': 'chebyshev', 'n_neighbors': 5},\n",
              "  {'metric': 'chebyshev', 'n_neighbors': 6},\n",
              "  {'metric': 'chebyshev', 'n_neighbors': 7},\n",
              "  {'metric': 'chebyshev', 'n_neighbors': 8},\n",
              "  {'metric': 'chebyshev', 'n_neighbors': 9},\n",
              "  {'metric': 'chebyshev', 'n_neighbors': 10},\n",
              "  {'metric': 'chebyshev', 'n_neighbors': 11},\n",
              "  {'metric': 'chebyshev', 'n_neighbors': 12},\n",
              "  {'metric': 'chebyshev', 'n_neighbors': 13},\n",
              "  {'metric': 'chebyshev', 'n_neighbors': 14},\n",
              "  {'metric': 'chebyshev', 'n_neighbors': 15},\n",
              "  {'metric': 'chebyshev', 'n_neighbors': 16},\n",
              "  {'metric': 'chebyshev', 'n_neighbors': 17},\n",
              "  {'metric': 'chebyshev', 'n_neighbors': 18},\n",
              "  {'metric': 'chebyshev', 'n_neighbors': 19},\n",
              "  {'metric': 'chebyshev', 'n_neighbors': 20},\n",
              "  {'metric': 'chebyshev', 'n_neighbors': 21},\n",
              "  {'metric': 'chebyshev', 'n_neighbors': 22},\n",
              "  {'metric': 'chebyshev', 'n_neighbors': 23},\n",
              "  {'metric': 'chebyshev', 'n_neighbors': 24}],\n",
              " 'split0_test_score': array([0.57142857, 0.57142857, 0.57142857, 0.51428571, 0.51428571,\n",
              "        0.57142857, 0.68571429, 0.62857143, 0.6       , 0.62857143,\n",
              "        0.54285714, 0.6       , 0.57142857, 0.57142857, 0.6       ,\n",
              "        0.6       , 0.6       , 0.57142857, 0.6       , 0.6       ,\n",
              "        0.6       , 0.57142857, 0.54285714, 0.51428571, 0.68571429,\n",
              "        0.68571429, 0.62857143, 0.65714286, 0.62857143, 0.65714286,\n",
              "        0.62857143, 0.65714286, 0.62857143, 0.62857143, 0.6       ,\n",
              "        0.62857143, 0.68571429, 0.68571429, 0.62857143, 0.68571429,\n",
              "        0.65714286, 0.57142857, 0.62857143, 0.62857143, 0.62857143,\n",
              "        0.57142857, 0.62857143, 0.6       , 0.62857143, 0.62857143,\n",
              "        0.54285714, 0.54285714, 0.42857143, 0.48571429, 0.42857143,\n",
              "        0.51428571, 0.51428571, 0.42857143, 0.48571429, 0.57142857,\n",
              "        0.57142857, 0.62857143, 0.6       , 0.57142857, 0.57142857,\n",
              "        0.6       , 0.54285714, 0.45714286, 0.51428571, 0.51428571,\n",
              "        0.54285714, 0.48571429]),\n",
              " 'split1_test_score': array([0.67647059, 0.67647059, 0.61764706, 0.61764706, 0.67647059,\n",
              "        0.70588235, 0.70588235, 0.70588235, 0.73529412, 0.73529412,\n",
              "        0.67647059, 0.67647059, 0.67647059, 0.67647059, 0.61764706,\n",
              "        0.64705882, 0.58823529, 0.61764706, 0.61764706, 0.58823529,\n",
              "        0.55882353, 0.52941176, 0.52941176, 0.52941176, 0.64705882,\n",
              "        0.64705882, 0.64705882, 0.67647059, 0.70588235, 0.73529412,\n",
              "        0.70588235, 0.67647059, 0.67647059, 0.67647059, 0.64705882,\n",
              "        0.70588235, 0.64705882, 0.64705882, 0.67647059, 0.64705882,\n",
              "        0.64705882, 0.64705882, 0.70588235, 0.67647059, 0.67647059,\n",
              "        0.67647059, 0.64705882, 0.64705882, 0.64705882, 0.64705882,\n",
              "        0.61764706, 0.52941176, 0.58823529, 0.55882353, 0.52941176,\n",
              "        0.52941176, 0.52941176, 0.55882353, 0.52941176, 0.52941176,\n",
              "        0.5       , 0.5       , 0.5       , 0.5       , 0.47058824,\n",
              "        0.47058824, 0.52941176, 0.5       , 0.52941176, 0.52941176,\n",
              "        0.52941176, 0.52941176]),\n",
              " 'split2_test_score': array([0.73529412, 0.73529412, 0.64705882, 0.64705882, 0.67647059,\n",
              "        0.67647059, 0.67647059, 0.64705882, 0.58823529, 0.58823529,\n",
              "        0.58823529, 0.58823529, 0.58823529, 0.58823529, 0.58823529,\n",
              "        0.58823529, 0.64705882, 0.58823529, 0.61764706, 0.58823529,\n",
              "        0.58823529, 0.58823529, 0.58823529, 0.58823529, 0.76470588,\n",
              "        0.76470588, 0.67647059, 0.73529412, 0.67647059, 0.67647059,\n",
              "        0.70588235, 0.70588235, 0.73529412, 0.67647059, 0.70588235,\n",
              "        0.70588235, 0.67647059, 0.70588235, 0.70588235, 0.70588235,\n",
              "        0.70588235, 0.70588235, 0.67647059, 0.67647059, 0.64705882,\n",
              "        0.64705882, 0.67647059, 0.64705882, 0.70588235, 0.70588235,\n",
              "        0.64705882, 0.73529412, 0.64705882, 0.67647059, 0.67647059,\n",
              "        0.64705882, 0.64705882, 0.61764706, 0.61764706, 0.58823529,\n",
              "        0.58823529, 0.58823529, 0.61764706, 0.61764706, 0.58823529,\n",
              "        0.58823529, 0.58823529, 0.61764706, 0.64705882, 0.64705882,\n",
              "        0.61764706, 0.61764706]),\n",
              " 'split3_test_score': array([0.70588235, 0.70588235, 0.73529412, 0.70588235, 0.73529412,\n",
              "        0.70588235, 0.67647059, 0.73529412, 0.67647059, 0.70588235,\n",
              "        0.67647059, 0.73529412, 0.70588235, 0.73529412, 0.67647059,\n",
              "        0.67647059, 0.67647059, 0.70588235, 0.67647059, 0.64705882,\n",
              "        0.64705882, 0.61764706, 0.64705882, 0.64705882, 0.73529412,\n",
              "        0.73529412, 0.82352941, 0.79411765, 0.82352941, 0.82352941,\n",
              "        0.76470588, 0.76470588, 0.70588235, 0.70588235, 0.73529412,\n",
              "        0.73529412, 0.73529412, 0.73529412, 0.73529412, 0.73529412,\n",
              "        0.73529412, 0.76470588, 0.73529412, 0.76470588, 0.73529412,\n",
              "        0.76470588, 0.73529412, 0.73529412, 0.70588235, 0.70588235,\n",
              "        0.67647059, 0.73529412, 0.70588235, 0.70588235, 0.70588235,\n",
              "        0.70588235, 0.70588235, 0.73529412, 0.70588235, 0.64705882,\n",
              "        0.64705882, 0.64705882, 0.61764706, 0.61764706, 0.61764706,\n",
              "        0.70588235, 0.67647059, 0.64705882, 0.64705882, 0.64705882,\n",
              "        0.61764706, 0.61764706]),\n",
              " 'split4_test_score': array([0.67647059, 0.67647059, 0.67647059, 0.64705882, 0.67647059,\n",
              "        0.67647059, 0.61764706, 0.55882353, 0.58823529, 0.58823529,\n",
              "        0.61764706, 0.61764706, 0.58823529, 0.58823529, 0.58823529,\n",
              "        0.58823529, 0.58823529, 0.61764706, 0.58823529, 0.61764706,\n",
              "        0.61764706, 0.55882353, 0.55882353, 0.58823529, 0.70588235,\n",
              "        0.70588235, 0.70588235, 0.76470588, 0.73529412, 0.73529412,\n",
              "        0.70588235, 0.70588235, 0.70588235, 0.73529412, 0.67647059,\n",
              "        0.64705882, 0.67647059, 0.67647059, 0.64705882, 0.64705882,\n",
              "        0.64705882, 0.64705882, 0.64705882, 0.67647059, 0.64705882,\n",
              "        0.61764706, 0.64705882, 0.64705882, 0.61764706, 0.61764706,\n",
              "        0.61764706, 0.61764706, 0.58823529, 0.61764706, 0.58823529,\n",
              "        0.55882353, 0.52941176, 0.55882353, 0.52941176, 0.52941176,\n",
              "        0.52941176, 0.55882353, 0.55882353, 0.55882353, 0.5       ,\n",
              "        0.52941176, 0.5       , 0.47058824, 0.5       , 0.5       ,\n",
              "        0.5       , 0.5       ]),\n",
              " 'mean_test_score': array([0.67310924, 0.67310924, 0.64957983, 0.62638655, 0.65579832,\n",
              "        0.66722689, 0.67243697, 0.65512605, 0.63764706, 0.6492437 ,\n",
              "        0.62033613, 0.64352941, 0.62605042, 0.63193277, 0.61411765,\n",
              "        0.62      , 0.62      , 0.62016807, 0.62      , 0.60823529,\n",
              "        0.60235294, 0.57310924, 0.57327731, 0.57344538, 0.70773109,\n",
              "        0.70773109, 0.69630252, 0.72554622, 0.71394958, 0.72554622,\n",
              "        0.70218487, 0.70201681, 0.69042017, 0.68453782, 0.67294118,\n",
              "        0.68453782, 0.68420168, 0.69008403, 0.67865546, 0.68420168,\n",
              "        0.67848739, 0.66722689, 0.67865546, 0.68453782, 0.66689076,\n",
              "        0.65546218, 0.66689076, 0.65529412, 0.6610084 , 0.6610084 ,\n",
              "        0.62033613, 0.63210084, 0.59159664, 0.60890756, 0.58571429,\n",
              "        0.59109244, 0.58521008, 0.57983193, 0.57361345, 0.57310924,\n",
              "        0.56722689, 0.58453782, 0.57882353, 0.57310924, 0.54957983,\n",
              "        0.57882353, 0.56739496, 0.53848739, 0.56756303, 0.56756303,\n",
              "        0.56151261, 0.55008403]),\n",
              " 'std_test_score': array([0.05532195, 0.05532195, 0.05514296, 0.06295593, 0.07433361,\n",
              "        0.04967233, 0.02942569, 0.06172119, 0.05889408, 0.06080132,\n",
              "        0.05165819, 0.0550055 , 0.05433018, 0.06347737, 0.03298317,\n",
              "        0.03560646, 0.03560646, 0.04637864, 0.03036115, 0.0221976 ,\n",
              "        0.02943528, 0.02942377, 0.04177544, 0.04752946, 0.04043545,\n",
              "        0.04043545, 0.06882471, 0.05180343, 0.06514985, 0.05810024,\n",
              "        0.04328702, 0.03640353, 0.03608791, 0.0354801 , 0.04685249,\n",
              "        0.04006068, 0.02867702, 0.02949281, 0.03862842, 0.03418175,\n",
              "        0.03580108, 0.06478768, 0.03862842, 0.04416876, 0.0374854 ,\n",
              "        0.06471134, 0.0374854 , 0.04395657, 0.0378267 , 0.0378267 ,\n",
              "        0.04445815, 0.08946072, 0.09245225, 0.07966209, 0.10054579,\n",
              "        0.07355817, 0.07699901, 0.09935887, 0.07882622, 0.04363279,\n",
              "        0.05056003, 0.05228647, 0.04489126, 0.04363279, 0.05532195,\n",
              "        0.07853327, 0.06151215, 0.07843789, 0.06557121, 0.06557121,\n",
              "        0.04788412, 0.05693635]),\n",
              " 'rank_test_score': array([19, 19, 33, 39, 29, 24, 22, 32, 36, 34, 41, 35, 40, 38, 47, 44, 44,\n",
              "        43, 44, 49, 50, 62, 61, 60,  4,  4,  8,  1,  3,  2,  6,  7,  9, 11,\n",
              "        21, 11, 14, 10, 16, 14, 18, 23, 16, 11, 25, 30, 25, 31, 27, 27, 41,\n",
              "        37, 51, 48, 53, 52, 54, 56, 59, 63, 68, 55, 57, 63, 71, 57, 67, 72,\n",
              "        65, 65, 69, 70], dtype=int32)}"
            ]
          },
          "metadata": {},
          "execution_count": 211
        }
      ]
    },
    {
      "cell_type": "markdown",
      "source": [
        "KNN Distances - KNN using Manhattan distance metric plotted below."
      ],
      "metadata": {
        "id": "9qUwEYi7f889"
      }
    },
    {
      "cell_type": "code",
      "source": [
        "# Test with cross validation on test set\n",
        "training_accuracy = []\n",
        "test_accuracy = []\n",
        "# n_neighbors from 1 to 10\n",
        "neighbors_settings = range(1, 11)\n",
        "\n",
        "for n_neighbors in neighbors_settings:\n",
        "    # Build the model\n",
        "    knn = KNeighborsClassifier(n_neighbors=n_neighbors,metric='manhattan')\n",
        "    knn.fit(X_train_scaled, y_train)\n",
        "    # Record training set accuracy\n",
        "    training_accuracy.append(knn.score(X_train_scaled, y_train))\n",
        "    # Record generalization accuracy\n",
        "    test_accuracy.append(knn.score(X_test_scaled, y_test))\n",
        "\n",
        "plt.plot(neighbors_settings, training_accuracy, label=\"training accuracy\")\n",
        "plt.plot(neighbors_settings, test_accuracy, label=\"test accuracy\")\n",
        "plt.title(\"K-Nearest Neighbors (Manhattan Distance): Accuracy vs. Number of Neighbors\")\n",
        "plt.ylabel(\"Accuracy\")\n",
        "plt.xlabel(\"n_neighbors\")\n",
        "plt.legend()"
      ],
      "metadata": {
        "colab": {
          "base_uri": "https://localhost:8080/",
          "height": 489
        },
        "id": "Bp0Qb5UufSMd",
        "outputId": "576f3160-68fb-4ce5-a1cc-1e5f76557adf"
      },
      "execution_count": 219,
      "outputs": [
        {
          "output_type": "execute_result",
          "data": {
            "text/plain": [
              "<matplotlib.legend.Legend at 0x7d6969cd1210>"
            ]
          },
          "metadata": {},
          "execution_count": 219
        },
        {
          "output_type": "display_data",
          "data": {
            "text/plain": [
              "<Figure size 640x480 with 1 Axes>"
            ],
            "image/png": "[encoded data removed]"
          },
          "metadata": {}
        }
      ]
    },
    {
      "cell_type": "markdown",
      "source": [
        "KNN Distances - KNN using Euclidean distance metric plotted below."
      ],
      "metadata": {
        "id": "Lvg7u5Orf56s"
      }
    },
    {
      "cell_type": "code",
      "source": [
        "# Lists to store training and test accuracies\n",
        "training_accuracy = []\n",
        "test_accuracy = []\n",
        "\n",
        "# Define range of neighbors settings to try\n",
        "neighbors_settings = range(1, 11)\n",
        "\n",
        "\n",
        "# Loop over different values of n_neighbors\n",
        "for n_neighbors in neighbors_settings:\n",
        "    # Build the model with Euclidean distance\n",
        "    knn = KNeighborsClassifier(n_neighbors=n_neighbors, metric='euclidean')\n",
        "    knn.fit(X_train_scaled, y_train)\n",
        "    # Record training set accuracy\n",
        "    training_accuracy.append(knn.score(X_train_scaled, y_train))\n",
        "    # Record generalization accuracy\n",
        "    test_accuracy.append(knn.score(X_test_scaled, y_test))\n",
        "\n",
        "plt.plot(neighbors_settings, training_accuracy, label=\"training accuracy\")\n",
        "plt.plot(neighbors_settings, test_accuracy, label=\"test accuracy\")\n",
        "plt.title(\"K-Nearest Neighbors (Euclidean Distance): Accuracy vs. Number of Neighbors\")\n",
        "plt.ylabel(\"Accuracy\")\n",
        "plt.xlabel(\"n_neighbors\")\n",
        "plt.legend()"
      ],
      "metadata": {
        "colab": {
          "base_uri": "https://localhost:8080/",
          "height": 489
        },
        "id": "19QpSm6SMlrT",
        "outputId": "d4b1db50-9e04-4430-dfbf-78e9e7c561b4"
      },
      "execution_count": 221,
      "outputs": [
        {
          "output_type": "execute_result",
          "data": {
            "text/plain": [
              "<matplotlib.legend.Legend at 0x7d6969ca8820>"
            ]
          },
          "metadata": {},
          "execution_count": 221
        },
        {
          "output_type": "display_data",
          "data": {
            "text/plain": [
              "<Figure size 640x480 with 1 Axes>"
            ],
            "image/png": "[encoded data removed]"
          },
          "metadata": {}
        }
      ]
    },
    {
      "cell_type": "markdown",
      "source": [
        "The graph above is showing that the training accuracy is falling after 3 and not increasing again. At the same time there is a spike in testing accuracy at 3. This would be a point that would want to be examined further."
      ],
      "metadata": {
        "id": "1QhNr3BhNVTV"
      }
    }
  ]
}