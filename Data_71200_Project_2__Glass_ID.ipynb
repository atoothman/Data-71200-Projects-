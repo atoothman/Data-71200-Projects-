{
  "nbformat": 4,
  "nbformat_minor": 0,
  "metadata": {
    "colab": {
      "provenance": [],
      "authorship_tag": "ABX9TyNOLnT5KCT94yNXzvNxXA5K",
      "include_colab_link": true
    },
    "kernelspec": {
      "name": "python3",
      "display_name": "Python 3"
    },
    "language_info": {
      "name": "python"
    }
  },
  "cells": [
    {
      "cell_type": "markdown",
      "metadata": {
        "id": "view-in-github",
        "colab_type": "text"
      },
      "source": [
        "<a href=\"https://colab.research.google.com/github/atoothman/Data-71200-Projects-/blob/main/Data_71200_Project_2__Glass_ID.ipynb\" target=\"_parent\"><img src=\"https://colab.research.google.com/assets/colab-badge.svg\" alt=\"Open In Colab\"/></a>"
      ]
    },
    {
      "cell_type": "markdown",
      "source": [
        "# DATA 71200 - Project 2 Glass Identification\n",
        "\n",
        "This project involves the analysis of the [Glass Identification](https://archive.ics.uci.edu/dataset/42/glass+identification) dataset, sourced from the UC Irvine Machine Learning Repository. The dataset contains information on 6 types of glass defined in terms of their oxide content. The study of classification of types of glass was motivated by criminological investigation and broken glass left at crime scenes.\n",
        "\n",
        "**Dataset Description**\n",
        "\n",
        "1. ID Number\n",
        "2. RI (refractive Index)\n",
        "3. Na (Sodium)\n",
        "4. MG (Magnesium)\n",
        "5. Al (Aluminum)\n",
        "6. Si (Silicon)\n",
        "7. K (Potassium)\n",
        "8. Ca (Calcium)\n",
        "9. Ba (Barium)\n",
        "10. Fe (Iron)\n",
        "11. Type of Glass (Class)\n",
        "      *   building_windows_float_processed\n",
        "      *   building_windows_non_float_processed\n",
        "      *   vehicle_windows_float_processed\n",
        "      *   vehicle_windows_non_float_processed (none in this database)\n",
        "      *   containers\n",
        "      *   tableware\n",
        "      *   headlamps\n",
        "\n",
        "9 Features are included in the dataset. There are 8 continuous features, 1 integer feature and 1 categorical feature.\n",
        "\n",
        "The categorical feature Type of Glass/\"Class\" is divided into seven distinct categories (listed above) which are associated with the product the glass created. \"Class\" will serve as the target in this project.\n",
        "\n",
        "**Objective**\n",
        "Project 2 is building off the work of [Project 1](https://colab.research.google.com/drive/1i24JixOkYadlSOzYcKsIA-W-WyRru1XJ#scrollTo=VQdeW82USQMA).\n",
        "\n",
        "The objective of this project is the application of two supervised learning algorithms (K-Nearest Neighbor and Decision Trees) with a range of parameter settings to determine which performs better.\n",
        "\n",
        "The categorical feature \"Class\" is divided into seven distinct categories which are associated with the types the glass. \"Class\" will serve as the target in this project."
      ],
      "metadata": {
        "id": "VNSuLZ6eeNBo"
      }
    },
    {
      "cell_type": "markdown",
      "source": [
        "# Step 1: Load your data, including testing/training split from Project 1"
      ],
      "metadata": {
        "id": "EJ9kT9SVejGQ"
      }
    },
    {
      "cell_type": "markdown",
      "source": [
        "### Load Data from project 1 and drop ID Column\n"
      ],
      "metadata": {
        "id": "BpjsZ0_sfURG"
      }
    },
    {
      "cell_type": "code",
      "source": [
        "import pandas as pd\n",
        "\n",
        "# Raw URL of the dataset file on GitHub\n",
        "url = \"https://raw.githubusercontent.com/atoothman/Data-71200-Projects-/main/glass%2Bidentification/glass.data\"\n",
        "\n",
        "\n",
        "# Load the dataset into DataFrame\n",
        "glass_df = pd.read_csv(url, header=None, index_col=False, names=[\n",
        "    'ID', 'Refractive Index', 'Sodium', 'Magnesium', 'Aluminum',\n",
        "    'Silicon', 'Potassium', 'Calcium', 'Barium', 'Iron', 'Class'])\n",
        "\n",
        "# Display the DataFrame before dropping 'ID'\n",
        "print(\"Before dropping 'ID':\")\n",
        "print(glass_df.head())\n",
        "\n",
        "# Drop the 'ID' column\n",
        "glass_df.drop(columns=['ID'], inplace=True)\n",
        "\n",
        "# Display the DataFrame after dropping 'ID'\n",
        "print(\"\\nAfter dropping 'ID':\")\n",
        "print(glass_df.head())"
      ],
      "metadata": {
        "colab": {
          "base_uri": "https://localhost:8080/"
        },
        "id": "8PCOWjHvfOUf",
        "outputId": "a919d832-1a04-400a-85f6-9bf4af889586"
      },
      "execution_count": 293,
      "outputs": [
        {
          "output_type": "stream",
          "name": "stdout",
          "text": [
            "Before dropping 'ID':\n",
            "   ID  Refractive Index  Sodium  Magnesium  Aluminum  Silicon  Potassium  \\\n",
            "0   1           1.52101   13.64       4.49      1.10    71.78       0.06   \n",
            "1   2           1.51761   13.89       3.60      1.36    72.73       0.48   \n",
            "2   3           1.51618   13.53       3.55      1.54    72.99       0.39   \n",
            "3   4           1.51766   13.21       3.69      1.29    72.61       0.57   \n",
            "4   5           1.51742   13.27       3.62      1.24    73.08       0.55   \n",
            "\n",
            "   Calcium  Barium  Iron  Class  \n",
            "0     8.75     0.0   0.0      1  \n",
            "1     7.83     0.0   0.0      1  \n",
            "2     7.78     0.0   0.0      1  \n",
            "3     8.22     0.0   0.0      1  \n",
            "4     8.07     0.0   0.0      1  \n",
            "\n",
            "After dropping 'ID':\n",
            "   Refractive Index  Sodium  Magnesium  Aluminum  Silicon  Potassium  Calcium  \\\n",
            "0           1.52101   13.64       4.49      1.10    71.78       0.06     8.75   \n",
            "1           1.51761   13.89       3.60      1.36    72.73       0.48     7.83   \n",
            "2           1.51618   13.53       3.55      1.54    72.99       0.39     7.78   \n",
            "3           1.51766   13.21       3.69      1.29    72.61       0.57     8.22   \n",
            "4           1.51742   13.27       3.62      1.24    73.08       0.55     8.07   \n",
            "\n",
            "   Barium  Iron  Class  \n",
            "0     0.0   0.0      1  \n",
            "1     0.0   0.0      1  \n",
            "2     0.0   0.0      1  \n",
            "3     0.0   0.0      1  \n",
            "4     0.0   0.0      1  \n"
          ]
        }
      ]
    },
    {
      "cell_type": "markdown",
      "source": [
        "Dropped ID column as it contained sequential numbers for the dataset which is redundant information and provided by the index column"
      ],
      "metadata": {
        "id": "8jnqNpBuhFPp"
      }
    },
    {
      "cell_type": "markdown",
      "source": [
        "### Show info and description of data\n"
      ],
      "metadata": {
        "id": "x9aML0XSfne-"
      }
    },
    {
      "cell_type": "code",
      "source": [
        "# Display glass_data DF and check that all features are listed\n",
        "display(glass_df)\n",
        "\n",
        "# Show info on glass_df\n",
        "print(\"Info on glass_df:\")\n",
        "glass_df.info()\n",
        "print()\n",
        "\n",
        "# Show description of glass_df\n",
        "print(\"Description of glass_df:\")\n",
        "glass_df.describe()"
      ],
      "metadata": {
        "colab": {
          "base_uri": "https://localhost:8080/",
          "height": 1000
        },
        "id": "AqplZ7WUfzNi",
        "outputId": "355363cb-c10f-4db7-f71d-e2b74840fa53"
      },
      "execution_count": 294,
      "outputs": [
        {
          "output_type": "display_data",
          "data": {
            "text/plain": [
              "     Refractive Index  Sodium  Magnesium  Aluminum  Silicon  Potassium  \\\n",
              "0             1.52101   13.64       4.49      1.10    71.78       0.06   \n",
              "1             1.51761   13.89       3.60      1.36    72.73       0.48   \n",
              "2             1.51618   13.53       3.55      1.54    72.99       0.39   \n",
              "3             1.51766   13.21       3.69      1.29    72.61       0.57   \n",
              "4             1.51742   13.27       3.62      1.24    73.08       0.55   \n",
              "..                ...     ...        ...       ...      ...        ...   \n",
              "209           1.51623   14.14       0.00      2.88    72.61       0.08   \n",
              "210           1.51685   14.92       0.00      1.99    73.06       0.00   \n",
              "211           1.52065   14.36       0.00      2.02    73.42       0.00   \n",
              "212           1.51651   14.38       0.00      1.94    73.61       0.00   \n",
              "213           1.51711   14.23       0.00      2.08    73.36       0.00   \n",
              "\n",
              "     Calcium  Barium  Iron  Class  \n",
              "0       8.75    0.00   0.0      1  \n",
              "1       7.83    0.00   0.0      1  \n",
              "2       7.78    0.00   0.0      1  \n",
              "3       8.22    0.00   0.0      1  \n",
              "4       8.07    0.00   0.0      1  \n",
              "..       ...     ...   ...    ...  \n",
              "209     9.18    1.06   0.0      7  \n",
              "210     8.40    1.59   0.0      7  \n",
              "211     8.44    1.64   0.0      7  \n",
              "212     8.48    1.57   0.0      7  \n",
              "213     8.62    1.67   0.0      7  \n",
              "\n",
              "[214 rows x 10 columns]"
            ],
            "text/html": [
              "\n",
              "  <div id=\"df-9d58683d-277c-49e4-a57e-83914abff773\" class=\"colab-df-container\">\n",
              "    <div>\n",
              "<style scoped>\n",
              "    .dataframe tbody tr th:only-of-type {\n",
              "        vertical-align: middle;\n",
              "    }\n",
              "\n",
              "    .dataframe tbody tr th {\n",
              "        vertical-align: top;\n",
              "    }\n",
              "\n",
              "    .dataframe thead th {\n",
              "        text-align: right;\n",
              "    }\n",
              "</style>\n",
              "<table border=\"1\" class=\"dataframe\">\n",
              "  <thead>\n",
              "    <tr style=\"text-align: right;\">\n",
              "      <th></th>\n",
              "      <th>Refractive Index</th>\n",
              "      <th>Sodium</th>\n",
              "      <th>Magnesium</th>\n",
              "      <th>Aluminum</th>\n",
              "      <th>Silicon</th>\n",
              "      <th>Potassium</th>\n",
              "      <th>Calcium</th>\n",
              "      <th>Barium</th>\n",
              "      <th>Iron</th>\n",
              "      <th>Class</th>\n",
              "    </tr>\n",
              "  </thead>\n",
              "  <tbody>\n",
              "    <tr>\n",
              "      <th>0</th>\n",
              "      <td>1.52101</td>\n",
              "      <td>13.64</td>\n",
              "      <td>4.49</td>\n",
              "      <td>1.10</td>\n",
              "      <td>71.78</td>\n",
              "      <td>0.06</td>\n",
              "      <td>8.75</td>\n",
              "      <td>0.00</td>\n",
              "      <td>0.0</td>\n",
              "      <td>1</td>\n",
              "    </tr>\n",
              "    <tr>\n",
              "      <th>1</th>\n",
              "      <td>1.51761</td>\n",
              "      <td>13.89</td>\n",
              "      <td>3.60</td>\n",
              "      <td>1.36</td>\n",
              "      <td>72.73</td>\n",
              "      <td>0.48</td>\n",
              "      <td>7.83</td>\n",
              "      <td>0.00</td>\n",
              "      <td>0.0</td>\n",
              "      <td>1</td>\n",
              "    </tr>\n",
              "    <tr>\n",
              "      <th>2</th>\n",
              "      <td>1.51618</td>\n",
              "      <td>13.53</td>\n",
              "      <td>3.55</td>\n",
              "      <td>1.54</td>\n",
              "      <td>72.99</td>\n",
              "      <td>0.39</td>\n",
              "      <td>7.78</td>\n",
              "      <td>0.00</td>\n",
              "      <td>0.0</td>\n",
              "      <td>1</td>\n",
              "    </tr>\n",
              "    <tr>\n",
              "      <th>3</th>\n",
              "      <td>1.51766</td>\n",
              "      <td>13.21</td>\n",
              "      <td>3.69</td>\n",
              "      <td>1.29</td>\n",
              "      <td>72.61</td>\n",
              "      <td>0.57</td>\n",
              "      <td>8.22</td>\n",
              "      <td>0.00</td>\n",
              "      <td>0.0</td>\n",
              "      <td>1</td>\n",
              "    </tr>\n",
              "    <tr>\n",
              "      <th>4</th>\n",
              "      <td>1.51742</td>\n",
              "      <td>13.27</td>\n",
              "      <td>3.62</td>\n",
              "      <td>1.24</td>\n",
              "      <td>73.08</td>\n",
              "      <td>0.55</td>\n",
              "      <td>8.07</td>\n",
              "      <td>0.00</td>\n",
              "      <td>0.0</td>\n",
              "      <td>1</td>\n",
              "    </tr>\n",
              "    <tr>\n",
              "      <th>...</th>\n",
              "      <td>...</td>\n",
              "      <td>...</td>\n",
              "      <td>...</td>\n",
              "      <td>...</td>\n",
              "      <td>...</td>\n",
              "      <td>...</td>\n",
              "      <td>...</td>\n",
              "      <td>...</td>\n",
              "      <td>...</td>\n",
              "      <td>...</td>\n",
              "    </tr>\n",
              "    <tr>\n",
              "      <th>209</th>\n",
              "      <td>1.51623</td>\n",
              "      <td>14.14</td>\n",
              "      <td>0.00</td>\n",
              "      <td>2.88</td>\n",
              "      <td>72.61</td>\n",
              "      <td>0.08</td>\n",
              "      <td>9.18</td>\n",
              "      <td>1.06</td>\n",
              "      <td>0.0</td>\n",
              "      <td>7</td>\n",
              "    </tr>\n",
              "    <tr>\n",
              "      <th>210</th>\n",
              "      <td>1.51685</td>\n",
              "      <td>14.92</td>\n",
              "      <td>0.00</td>\n",
              "      <td>1.99</td>\n",
              "      <td>73.06</td>\n",
              "      <td>0.00</td>\n",
              "      <td>8.40</td>\n",
              "      <td>1.59</td>\n",
              "      <td>0.0</td>\n",
              "      <td>7</td>\n",
              "    </tr>\n",
              "    <tr>\n",
              "      <th>211</th>\n",
              "      <td>1.52065</td>\n",
              "      <td>14.36</td>\n",
              "      <td>0.00</td>\n",
              "      <td>2.02</td>\n",
              "      <td>73.42</td>\n",
              "      <td>0.00</td>\n",
              "      <td>8.44</td>\n",
              "      <td>1.64</td>\n",
              "      <td>0.0</td>\n",
              "      <td>7</td>\n",
              "    </tr>\n",
              "    <tr>\n",
              "      <th>212</th>\n",
              "      <td>1.51651</td>\n",
              "      <td>14.38</td>\n",
              "      <td>0.00</td>\n",
              "      <td>1.94</td>\n",
              "      <td>73.61</td>\n",
              "      <td>0.00</td>\n",
              "      <td>8.48</td>\n",
              "      <td>1.57</td>\n",
              "      <td>0.0</td>\n",
              "      <td>7</td>\n",
              "    </tr>\n",
              "    <tr>\n",
              "      <th>213</th>\n",
              "      <td>1.51711</td>\n",
              "      <td>14.23</td>\n",
              "      <td>0.00</td>\n",
              "      <td>2.08</td>\n",
              "      <td>73.36</td>\n",
              "      <td>0.00</td>\n",
              "      <td>8.62</td>\n",
              "      <td>1.67</td>\n",
              "      <td>0.0</td>\n",
              "      <td>7</td>\n",
              "    </tr>\n",
              "  </tbody>\n",
              "</table>\n",
              "<p>214 rows × 10 columns</p>\n",
              "</div>\n",
              "    <div class=\"colab-df-buttons\">\n",
              "\n",
              "  <div class=\"colab-df-container\">\n",
              "    <button class=\"colab-df-convert\" onclick=\"convertToInteractive('df-9d58683d-277c-49e4-a57e-83914abff773')\"\n",
              "            title=\"Convert this dataframe to an interactive table.\"\n",
              "            style=\"display:none;\">\n",
              "\n",
              "  <svg xmlns=\"http://www.w3.org/2000/svg\" height=\"24px\" viewBox=\"0 -960 960 960\">\n",
              "    <path d=\"M120-120v-720h720v720H120Zm60-500h600v-160H180v160Zm220 220h160v-160H400v160Zm0 220h160v-160H400v160ZM180-400h160v-160H180v160Zm440 0h160v-160H620v160ZM180-180h160v-160H180v160Zm440 0h160v-160H620v160Z\"/>\n",
              "  </svg>\n",
              "    </button>\n",
              "\n",
              "  <style>\n",
              "    .colab-df-container {\n",
              "      display:flex;\n",
              "      gap: 12px;\n",
              "    }\n",
              "\n",
              "    .colab-df-convert {\n",
              "      background-color: #E8F0FE;\n",
              "      border: none;\n",
              "      border-radius: 50%;\n",
              "      cursor: pointer;\n",
              "      display: none;\n",
              "      fill: #1967D2;\n",
              "      height: 32px;\n",
              "      padding: 0 0 0 0;\n",
              "      width: 32px;\n",
              "    }\n",
              "\n",
              "    .colab-df-convert:hover {\n",
              "      background-color: #E2EBFA;\n",
              "      box-shadow: 0px 1px 2px rgba(60, 64, 67, 0.3), 0px 1px 3px 1px rgba(60, 64, 67, 0.15);\n",
              "      fill: #174EA6;\n",
              "    }\n",
              "\n",
              "    .colab-df-buttons div {\n",
              "      margin-bottom: 4px;\n",
              "    }\n",
              "\n",
              "    [theme=dark] .colab-df-convert {\n",
              "      background-color: #3B4455;\n",
              "      fill: #D2E3FC;\n",
              "    }\n",
              "\n",
              "    [theme=dark] .colab-df-convert:hover {\n",
              "      background-color: #434B5C;\n",
              "      box-shadow: 0px 1px 3px 1px rgba(0, 0, 0, 0.15);\n",
              "      filter: drop-shadow(0px 1px 2px rgba(0, 0, 0, 0.3));\n",
              "      fill: #FFFFFF;\n",
              "    }\n",
              "  </style>\n",
              "\n",
              "    <script>\n",
              "      const buttonEl =\n",
              "        document.querySelector('#df-9d58683d-277c-49e4-a57e-83914abff773 button.colab-df-convert');\n",
              "      buttonEl.style.display =\n",
              "        google.colab.kernel.accessAllowed ? 'block' : 'none';\n",
              "\n",
              "      async function convertToInteractive(key) {\n",
              "        const element = document.querySelector('#df-9d58683d-277c-49e4-a57e-83914abff773');\n",
              "        const dataTable =\n",
              "          await google.colab.kernel.invokeFunction('convertToInteractive',\n",
              "                                                    [key], {});\n",
              "        if (!dataTable) return;\n",
              "\n",
              "        const docLinkHtml = 'Like what you see? Visit the ' +\n",
              "          '<a target=\"_blank\" href=https://colab.research.google.com/notebooks/data_table.ipynb>data table notebook</a>'\n",
              "          + ' to learn more about interactive tables.';\n",
              "        element.innerHTML = '';\n",
              "        dataTable['output_type'] = 'display_data';\n",
              "        await google.colab.output.renderOutput(dataTable, element);\n",
              "        const docLink = document.createElement('div');\n",
              "        docLink.innerHTML = docLinkHtml;\n",
              "        element.appendChild(docLink);\n",
              "      }\n",
              "    </script>\n",
              "  </div>\n",
              "\n",
              "\n",
              "<div id=\"df-ebb1d333-8379-433f-b413-e7c9d8fbaa85\">\n",
              "  <button class=\"colab-df-quickchart\" onclick=\"quickchart('df-ebb1d333-8379-433f-b413-e7c9d8fbaa85')\"\n",
              "            title=\"Suggest charts\"\n",
              "            style=\"display:none;\">\n",
              "\n",
              "<svg xmlns=\"http://www.w3.org/2000/svg\" height=\"24px\"viewBox=\"0 0 24 24\"\n",
              "     width=\"24px\">\n",
              "    <g>\n",
              "        <path d=\"M19 3H5c-1.1 0-2 .9-2 2v14c0 1.1.9 2 2 2h14c1.1 0 2-.9 2-2V5c0-1.1-.9-2-2-2zM9 17H7v-7h2v7zm4 0h-2V7h2v10zm4 0h-2v-4h2v4z\"/>\n",
              "    </g>\n",
              "</svg>\n",
              "  </button>\n",
              "\n",
              "<style>\n",
              "  .colab-df-quickchart {\n",
              "      --bg-color: #E8F0FE;\n",
              "      --fill-color: #1967D2;\n",
              "      --hover-bg-color: #E2EBFA;\n",
              "      --hover-fill-color: #174EA6;\n",
              "      --disabled-fill-color: #AAA;\n",
              "      --disabled-bg-color: #DDD;\n",
              "  }\n",
              "\n",
              "  [theme=dark] .colab-df-quickchart {\n",
              "      --bg-color: #3B4455;\n",
              "      --fill-color: #D2E3FC;\n",
              "      --hover-bg-color: #434B5C;\n",
              "      --hover-fill-color: #FFFFFF;\n",
              "      --disabled-bg-color: #3B4455;\n",
              "      --disabled-fill-color: #666;\n",
              "  }\n",
              "\n",
              "  .colab-df-quickchart {\n",
              "    background-color: var(--bg-color);\n",
              "    border: none;\n",
              "    border-radius: 50%;\n",
              "    cursor: pointer;\n",
              "    display: none;\n",
              "    fill: var(--fill-color);\n",
              "    height: 32px;\n",
              "    padding: 0;\n",
              "    width: 32px;\n",
              "  }\n",
              "\n",
              "  .colab-df-quickchart:hover {\n",
              "    background-color: var(--hover-bg-color);\n",
              "    box-shadow: 0 1px 2px rgba(60, 64, 67, 0.3), 0 1px 3px 1px rgba(60, 64, 67, 0.15);\n",
              "    fill: var(--button-hover-fill-color);\n",
              "  }\n",
              "\n",
              "  .colab-df-quickchart-complete:disabled,\n",
              "  .colab-df-quickchart-complete:disabled:hover {\n",
              "    background-color: var(--disabled-bg-color);\n",
              "    fill: var(--disabled-fill-color);\n",
              "    box-shadow: none;\n",
              "  }\n",
              "\n",
              "  .colab-df-spinner {\n",
              "    border: 2px solid var(--fill-color);\n",
              "    border-color: transparent;\n",
              "    border-bottom-color: var(--fill-color);\n",
              "    animation:\n",
              "      spin 1s steps(1) infinite;\n",
              "  }\n",
              "\n",
              "  @keyframes spin {\n",
              "    0% {\n",
              "      border-color: transparent;\n",
              "      border-bottom-color: var(--fill-color);\n",
              "      border-left-color: var(--fill-color);\n",
              "    }\n",
              "    20% {\n",
              "      border-color: transparent;\n",
              "      border-left-color: var(--fill-color);\n",
              "      border-top-color: var(--fill-color);\n",
              "    }\n",
              "    30% {\n",
              "      border-color: transparent;\n",
              "      border-left-color: var(--fill-color);\n",
              "      border-top-color: var(--fill-color);\n",
              "      border-right-color: var(--fill-color);\n",
              "    }\n",
              "    40% {\n",
              "      border-color: transparent;\n",
              "      border-right-color: var(--fill-color);\n",
              "      border-top-color: var(--fill-color);\n",
              "    }\n",
              "    60% {\n",
              "      border-color: transparent;\n",
              "      border-right-color: var(--fill-color);\n",
              "    }\n",
              "    80% {\n",
              "      border-color: transparent;\n",
              "      border-right-color: var(--fill-color);\n",
              "      border-bottom-color: var(--fill-color);\n",
              "    }\n",
              "    90% {\n",
              "      border-color: transparent;\n",
              "      border-bottom-color: var(--fill-color);\n",
              "    }\n",
              "  }\n",
              "</style>\n",
              "\n",
              "  <script>\n",
              "    async function quickchart(key) {\n",
              "      const quickchartButtonEl =\n",
              "        document.querySelector('#' + key + ' button');\n",
              "      quickchartButtonEl.disabled = true;  // To prevent multiple clicks.\n",
              "      quickchartButtonEl.classList.add('colab-df-spinner');\n",
              "      try {\n",
              "        const charts = await google.colab.kernel.invokeFunction(\n",
              "            'suggestCharts', [key], {});\n",
              "      } catch (error) {\n",
              "        console.error('Error during call to suggestCharts:', error);\n",
              "      }\n",
              "      quickchartButtonEl.classList.remove('colab-df-spinner');\n",
              "      quickchartButtonEl.classList.add('colab-df-quickchart-complete');\n",
              "    }\n",
              "    (() => {\n",
              "      let quickchartButtonEl =\n",
              "        document.querySelector('#df-ebb1d333-8379-433f-b413-e7c9d8fbaa85 button');\n",
              "      quickchartButtonEl.style.display =\n",
              "        google.colab.kernel.accessAllowed ? 'block' : 'none';\n",
              "    })();\n",
              "  </script>\n",
              "</div>\n",
              "\n",
              "  <div id=\"id_1b698005-ea20-48b2-97a1-d97efc9e8179\">\n",
              "    <style>\n",
              "      .colab-df-generate {\n",
              "        background-color: #E8F0FE;\n",
              "        border: none;\n",
              "        border-radius: 50%;\n",
              "        cursor: pointer;\n",
              "        display: none;\n",
              "        fill: #1967D2;\n",
              "        height: 32px;\n",
              "        padding: 0 0 0 0;\n",
              "        width: 32px;\n",
              "      }\n",
              "\n",
              "      .colab-df-generate:hover {\n",
              "        background-color: #E2EBFA;\n",
              "        box-shadow: 0px 1px 2px rgba(60, 64, 67, 0.3), 0px 1px 3px 1px rgba(60, 64, 67, 0.15);\n",
              "        fill: #174EA6;\n",
              "      }\n",
              "\n",
              "      [theme=dark] .colab-df-generate {\n",
              "        background-color: #3B4455;\n",
              "        fill: #D2E3FC;\n",
              "      }\n",
              "\n",
              "      [theme=dark] .colab-df-generate:hover {\n",
              "        background-color: #434B5C;\n",
              "        box-shadow: 0px 1px 3px 1px rgba(0, 0, 0, 0.15);\n",
              "        filter: drop-shadow(0px 1px 2px rgba(0, 0, 0, 0.3));\n",
              "        fill: #FFFFFF;\n",
              "      }\n",
              "    </style>\n",
              "    <button class=\"colab-df-generate\" onclick=\"generateWithVariable('glass_df')\"\n",
              "            title=\"Generate code using this dataframe.\"\n",
              "            style=\"display:none;\">\n",
              "\n",
              "  <svg xmlns=\"http://www.w3.org/2000/svg\" height=\"24px\"viewBox=\"0 0 24 24\"\n",
              "       width=\"24px\">\n",
              "    <path d=\"M7,19H8.4L18.45,9,17,7.55,7,17.6ZM5,21V16.75L18.45,3.32a2,2,0,0,1,2.83,0l1.4,1.43a1.91,1.91,0,0,1,.58,1.4,1.91,1.91,0,0,1-.58,1.4L9.25,21ZM18.45,9,17,7.55Zm-12,3A5.31,5.31,0,0,0,4.9,8.1,5.31,5.31,0,0,0,1,6.5,5.31,5.31,0,0,0,4.9,4.9,5.31,5.31,0,0,0,6.5,1,5.31,5.31,0,0,0,8.1,4.9,5.31,5.31,0,0,0,12,6.5,5.46,5.46,0,0,0,6.5,12Z\"/>\n",
              "  </svg>\n",
              "    </button>\n",
              "    <script>\n",
              "      (() => {\n",
              "      const buttonEl =\n",
              "        document.querySelector('#id_1b698005-ea20-48b2-97a1-d97efc9e8179 button.colab-df-generate');\n",
              "      buttonEl.style.display =\n",
              "        google.colab.kernel.accessAllowed ? 'block' : 'none';\n",
              "\n",
              "      buttonEl.onclick = () => {\n",
              "        google.colab.notebook.generateWithVariable('glass_df');\n",
              "      }\n",
              "      })();\n",
              "    </script>\n",
              "  </div>\n",
              "\n",
              "    </div>\n",
              "  </div>\n"
            ],
            "application/vnd.google.colaboratory.intrinsic+json": {
              "type": "dataframe",
              "variable_name": "glass_df",
              "summary": "{\n  \"name\": \"glass_df\",\n  \"rows\": 214,\n  \"fields\": [\n    {\n      \"column\": \"Refractive Index\",\n      \"properties\": {\n        \"dtype\": \"number\",\n        \"std\": 0.0030368637393854334,\n        \"min\": 1.51115,\n        \"max\": 1.53393,\n        \"num_unique_values\": 178,\n        \"samples\": [\n          1.51966,\n          1.51808,\n          1.51969\n        ],\n        \"semantic_type\": \"\",\n        \"description\": \"\"\n      }\n    },\n    {\n      \"column\": \"Sodium\",\n      \"properties\": {\n        \"dtype\": \"number\",\n        \"std\": 0.816603555714983,\n        \"min\": 10.73,\n        \"max\": 17.38,\n        \"num_unique_values\": 142,\n        \"samples\": [\n          14.38,\n          13.02,\n          13.83\n        ],\n        \"semantic_type\": \"\",\n        \"description\": \"\"\n      }\n    },\n    {\n      \"column\": \"Magnesium\",\n      \"properties\": {\n        \"dtype\": \"number\",\n        \"std\": 1.442407844870442,\n        \"min\": 0.0,\n        \"max\": 4.49,\n        \"num_unique_values\": 94,\n        \"samples\": [\n          3.86,\n          3.47,\n          2.9\n        ],\n        \"semantic_type\": \"\",\n        \"description\": \"\"\n      }\n    },\n    {\n      \"column\": \"Aluminum\",\n      \"properties\": {\n        \"dtype\": \"number\",\n        \"std\": 0.4992696456004845,\n        \"min\": 0.29,\n        \"max\": 3.5,\n        \"num_unique_values\": 118,\n        \"samples\": [\n          1.48,\n          1.65,\n          1.24\n        ],\n        \"semantic_type\": \"\",\n        \"description\": \"\"\n      }\n    },\n    {\n      \"column\": \"Silicon\",\n      \"properties\": {\n        \"dtype\": \"number\",\n        \"std\": 0.7745457947651124,\n        \"min\": 69.81,\n        \"max\": 75.41,\n        \"num_unique_values\": 133,\n        \"samples\": [\n          72.22,\n          73.06,\n          71.81\n        ],\n        \"semantic_type\": \"\",\n        \"description\": \"\"\n      }\n    },\n    {\n      \"column\": \"Potassium\",\n      \"properties\": {\n        \"dtype\": \"number\",\n        \"std\": 0.65219184555898,\n        \"min\": 0.0,\n        \"max\": 6.21,\n        \"num_unique_values\": 65,\n        \"samples\": [\n          0.47,\n          0.31,\n          0.06\n        ],\n        \"semantic_type\": \"\",\n        \"description\": \"\"\n      }\n    },\n    {\n      \"column\": \"Calcium\",\n      \"properties\": {\n        \"dtype\": \"number\",\n        \"std\": 1.423153487281395,\n        \"min\": 5.43,\n        \"max\": 16.19,\n        \"num_unique_values\": 143,\n        \"samples\": [\n          12.5,\n          8.52,\n          11.52\n        ],\n        \"semantic_type\": \"\",\n        \"description\": \"\"\n      }\n    },\n    {\n      \"column\": \"Barium\",\n      \"properties\": {\n        \"dtype\": \"number\",\n        \"std\": 0.49721926059970356,\n        \"min\": 0.0,\n        \"max\": 3.15,\n        \"num_unique_values\": 34,\n        \"samples\": [\n          0.64,\n          0.61,\n          1.55\n        ],\n        \"semantic_type\": \"\",\n        \"description\": \"\"\n      }\n    },\n    {\n      \"column\": \"Iron\",\n      \"properties\": {\n        \"dtype\": \"number\",\n        \"std\": 0.09743870063650084,\n        \"min\": 0.0,\n        \"max\": 0.51,\n        \"num_unique_values\": 32,\n        \"samples\": [\n          0.51,\n          0.03,\n          0.21\n        ],\n        \"semantic_type\": \"\",\n        \"description\": \"\"\n      }\n    },\n    {\n      \"column\": \"Class\",\n      \"properties\": {\n        \"dtype\": \"number\",\n        \"std\": 2,\n        \"min\": 1,\n        \"max\": 7,\n        \"num_unique_values\": 6,\n        \"samples\": [\n          1,\n          2,\n          7\n        ],\n        \"semantic_type\": \"\",\n        \"description\": \"\"\n      }\n    }\n  ]\n}"
            }
          },
          "metadata": {}
        },
        {
          "output_type": "stream",
          "name": "stdout",
          "text": [
            "Info on glass_df:\n",
            "<class 'pandas.core.frame.DataFrame'>\n",
            "RangeIndex: 214 entries, 0 to 213\n",
            "Data columns (total 10 columns):\n",
            " #   Column            Non-Null Count  Dtype  \n",
            "---  ------            --------------  -----  \n",
            " 0   Refractive Index  214 non-null    float64\n",
            " 1   Sodium            214 non-null    float64\n",
            " 2   Magnesium         214 non-null    float64\n",
            " 3   Aluminum          214 non-null    float64\n",
            " 4   Silicon           214 non-null    float64\n",
            " 5   Potassium         214 non-null    float64\n",
            " 6   Calcium           214 non-null    float64\n",
            " 7   Barium            214 non-null    float64\n",
            " 8   Iron              214 non-null    float64\n",
            " 9   Class             214 non-null    int64  \n",
            "dtypes: float64(9), int64(1)\n",
            "memory usage: 16.8 KB\n",
            "\n",
            "Description of glass_df:\n"
          ]
        },
        {
          "output_type": "execute_result",
          "data": {
            "text/plain": [
              "       Refractive Index      Sodium   Magnesium    Aluminum     Silicon  \\\n",
              "count        214.000000  214.000000  214.000000  214.000000  214.000000   \n",
              "mean           1.518365   13.407850    2.684533    1.444907   72.650935   \n",
              "std            0.003037    0.816604    1.442408    0.499270    0.774546   \n",
              "min            1.511150   10.730000    0.000000    0.290000   69.810000   \n",
              "25%            1.516522   12.907500    2.115000    1.190000   72.280000   \n",
              "50%            1.517680   13.300000    3.480000    1.360000   72.790000   \n",
              "75%            1.519157   13.825000    3.600000    1.630000   73.087500   \n",
              "max            1.533930   17.380000    4.490000    3.500000   75.410000   \n",
              "\n",
              "        Potassium     Calcium      Barium        Iron       Class  \n",
              "count  214.000000  214.000000  214.000000  214.000000  214.000000  \n",
              "mean     0.497056    8.956963    0.175047    0.057009    2.780374  \n",
              "std      0.652192    1.423153    0.497219    0.097439    2.103739  \n",
              "min      0.000000    5.430000    0.000000    0.000000    1.000000  \n",
              "25%      0.122500    8.240000    0.000000    0.000000    1.000000  \n",
              "50%      0.555000    8.600000    0.000000    0.000000    2.000000  \n",
              "75%      0.610000    9.172500    0.000000    0.100000    3.000000  \n",
              "max      6.210000   16.190000    3.150000    0.510000    7.000000  "
            ],
            "text/html": [
              "\n",
              "  <div id=\"df-c44cacaa-63dc-4ed5-9913-30e8bbcce546\" class=\"colab-df-container\">\n",
              "    <div>\n",
              "<style scoped>\n",
              "    .dataframe tbody tr th:only-of-type {\n",
              "        vertical-align: middle;\n",
              "    }\n",
              "\n",
              "    .dataframe tbody tr th {\n",
              "        vertical-align: top;\n",
              "    }\n",
              "\n",
              "    .dataframe thead th {\n",
              "        text-align: right;\n",
              "    }\n",
              "</style>\n",
              "<table border=\"1\" class=\"dataframe\">\n",
              "  <thead>\n",
              "    <tr style=\"text-align: right;\">\n",
              "      <th></th>\n",
              "      <th>Refractive Index</th>\n",
              "      <th>Sodium</th>\n",
              "      <th>Magnesium</th>\n",
              "      <th>Aluminum</th>\n",
              "      <th>Silicon</th>\n",
              "      <th>Potassium</th>\n",
              "      <th>Calcium</th>\n",
              "      <th>Barium</th>\n",
              "      <th>Iron</th>\n",
              "      <th>Class</th>\n",
              "    </tr>\n",
              "  </thead>\n",
              "  <tbody>\n",
              "    <tr>\n",
              "      <th>count</th>\n",
              "      <td>214.000000</td>\n",
              "      <td>214.000000</td>\n",
              "      <td>214.000000</td>\n",
              "      <td>214.000000</td>\n",
              "      <td>214.000000</td>\n",
              "      <td>214.000000</td>\n",
              "      <td>214.000000</td>\n",
              "      <td>214.000000</td>\n",
              "      <td>214.000000</td>\n",
              "      <td>214.000000</td>\n",
              "    </tr>\n",
              "    <tr>\n",
              "      <th>mean</th>\n",
              "      <td>1.518365</td>\n",
              "      <td>13.407850</td>\n",
              "      <td>2.684533</td>\n",
              "      <td>1.444907</td>\n",
              "      <td>72.650935</td>\n",
              "      <td>0.497056</td>\n",
              "      <td>8.956963</td>\n",
              "      <td>0.175047</td>\n",
              "      <td>0.057009</td>\n",
              "      <td>2.780374</td>\n",
              "    </tr>\n",
              "    <tr>\n",
              "      <th>std</th>\n",
              "      <td>0.003037</td>\n",
              "      <td>0.816604</td>\n",
              "      <td>1.442408</td>\n",
              "      <td>0.499270</td>\n",
              "      <td>0.774546</td>\n",
              "      <td>0.652192</td>\n",
              "      <td>1.423153</td>\n",
              "      <td>0.497219</td>\n",
              "      <td>0.097439</td>\n",
              "      <td>2.103739</td>\n",
              "    </tr>\n",
              "    <tr>\n",
              "      <th>min</th>\n",
              "      <td>1.511150</td>\n",
              "      <td>10.730000</td>\n",
              "      <td>0.000000</td>\n",
              "      <td>0.290000</td>\n",
              "      <td>69.810000</td>\n",
              "      <td>0.000000</td>\n",
              "      <td>5.430000</td>\n",
              "      <td>0.000000</td>\n",
              "      <td>0.000000</td>\n",
              "      <td>1.000000</td>\n",
              "    </tr>\n",
              "    <tr>\n",
              "      <th>25%</th>\n",
              "      <td>1.516522</td>\n",
              "      <td>12.907500</td>\n",
              "      <td>2.115000</td>\n",
              "      <td>1.190000</td>\n",
              "      <td>72.280000</td>\n",
              "      <td>0.122500</td>\n",
              "      <td>8.240000</td>\n",
              "      <td>0.000000</td>\n",
              "      <td>0.000000</td>\n",
              "      <td>1.000000</td>\n",
              "    </tr>\n",
              "    <tr>\n",
              "      <th>50%</th>\n",
              "      <td>1.517680</td>\n",
              "      <td>13.300000</td>\n",
              "      <td>3.480000</td>\n",
              "      <td>1.360000</td>\n",
              "      <td>72.790000</td>\n",
              "      <td>0.555000</td>\n",
              "      <td>8.600000</td>\n",
              "      <td>0.000000</td>\n",
              "      <td>0.000000</td>\n",
              "      <td>2.000000</td>\n",
              "    </tr>\n",
              "    <tr>\n",
              "      <th>75%</th>\n",
              "      <td>1.519157</td>\n",
              "      <td>13.825000</td>\n",
              "      <td>3.600000</td>\n",
              "      <td>1.630000</td>\n",
              "      <td>73.087500</td>\n",
              "      <td>0.610000</td>\n",
              "      <td>9.172500</td>\n",
              "      <td>0.000000</td>\n",
              "      <td>0.100000</td>\n",
              "      <td>3.000000</td>\n",
              "    </tr>\n",
              "    <tr>\n",
              "      <th>max</th>\n",
              "      <td>1.533930</td>\n",
              "      <td>17.380000</td>\n",
              "      <td>4.490000</td>\n",
              "      <td>3.500000</td>\n",
              "      <td>75.410000</td>\n",
              "      <td>6.210000</td>\n",
              "      <td>16.190000</td>\n",
              "      <td>3.150000</td>\n",
              "      <td>0.510000</td>\n",
              "      <td>7.000000</td>\n",
              "    </tr>\n",
              "  </tbody>\n",
              "</table>\n",
              "</div>\n",
              "    <div class=\"colab-df-buttons\">\n",
              "\n",
              "  <div class=\"colab-df-container\">\n",
              "    <button class=\"colab-df-convert\" onclick=\"convertToInteractive('df-c44cacaa-63dc-4ed5-9913-30e8bbcce546')\"\n",
              "            title=\"Convert this dataframe to an interactive table.\"\n",
              "            style=\"display:none;\">\n",
              "\n",
              "  <svg xmlns=\"http://www.w3.org/2000/svg\" height=\"24px\" viewBox=\"0 -960 960 960\">\n",
              "    <path d=\"M120-120v-720h720v720H120Zm60-500h600v-160H180v160Zm220 220h160v-160H400v160Zm0 220h160v-160H400v160ZM180-400h160v-160H180v160Zm440 0h160v-160H620v160ZM180-180h160v-160H180v160Zm440 0h160v-160H620v160Z\"/>\n",
              "  </svg>\n",
              "    </button>\n",
              "\n",
              "  <style>\n",
              "    .colab-df-container {\n",
              "      display:flex;\n",
              "      gap: 12px;\n",
              "    }\n",
              "\n",
              "    .colab-df-convert {\n",
              "      background-color: #E8F0FE;\n",
              "      border: none;\n",
              "      border-radius: 50%;\n",
              "      cursor: pointer;\n",
              "      display: none;\n",
              "      fill: #1967D2;\n",
              "      height: 32px;\n",
              "      padding: 0 0 0 0;\n",
              "      width: 32px;\n",
              "    }\n",
              "\n",
              "    .colab-df-convert:hover {\n",
              "      background-color: #E2EBFA;\n",
              "      box-shadow: 0px 1px 2px rgba(60, 64, 67, 0.3), 0px 1px 3px 1px rgba(60, 64, 67, 0.15);\n",
              "      fill: #174EA6;\n",
              "    }\n",
              "\n",
              "    .colab-df-buttons div {\n",
              "      margin-bottom: 4px;\n",
              "    }\n",
              "\n",
              "    [theme=dark] .colab-df-convert {\n",
              "      background-color: #3B4455;\n",
              "      fill: #D2E3FC;\n",
              "    }\n",
              "\n",
              "    [theme=dark] .colab-df-convert:hover {\n",
              "      background-color: #434B5C;\n",
              "      box-shadow: 0px 1px 3px 1px rgba(0, 0, 0, 0.15);\n",
              "      filter: drop-shadow(0px 1px 2px rgba(0, 0, 0, 0.3));\n",
              "      fill: #FFFFFF;\n",
              "    }\n",
              "  </style>\n",
              "\n",
              "    <script>\n",
              "      const buttonEl =\n",
              "        document.querySelector('#df-c44cacaa-63dc-4ed5-9913-30e8bbcce546 button.colab-df-convert');\n",
              "      buttonEl.style.display =\n",
              "        google.colab.kernel.accessAllowed ? 'block' : 'none';\n",
              "\n",
              "      async function convertToInteractive(key) {\n",
              "        const element = document.querySelector('#df-c44cacaa-63dc-4ed5-9913-30e8bbcce546');\n",
              "        const dataTable =\n",
              "          await google.colab.kernel.invokeFunction('convertToInteractive',\n",
              "                                                    [key], {});\n",
              "        if (!dataTable) return;\n",
              "\n",
              "        const docLinkHtml = 'Like what you see? Visit the ' +\n",
              "          '<a target=\"_blank\" href=https://colab.research.google.com/notebooks/data_table.ipynb>data table notebook</a>'\n",
              "          + ' to learn more about interactive tables.';\n",
              "        element.innerHTML = '';\n",
              "        dataTable['output_type'] = 'display_data';\n",
              "        await google.colab.output.renderOutput(dataTable, element);\n",
              "        const docLink = document.createElement('div');\n",
              "        docLink.innerHTML = docLinkHtml;\n",
              "        element.appendChild(docLink);\n",
              "      }\n",
              "    </script>\n",
              "  </div>\n",
              "\n",
              "\n",
              "<div id=\"df-19992224-f6e2-4315-8d6c-e28c8c46c60a\">\n",
              "  <button class=\"colab-df-quickchart\" onclick=\"quickchart('df-19992224-f6e2-4315-8d6c-e28c8c46c60a')\"\n",
              "            title=\"Suggest charts\"\n",
              "            style=\"display:none;\">\n",
              "\n",
              "<svg xmlns=\"http://www.w3.org/2000/svg\" height=\"24px\"viewBox=\"0 0 24 24\"\n",
              "     width=\"24px\">\n",
              "    <g>\n",
              "        <path d=\"M19 3H5c-1.1 0-2 .9-2 2v14c0 1.1.9 2 2 2h14c1.1 0 2-.9 2-2V5c0-1.1-.9-2-2-2zM9 17H7v-7h2v7zm4 0h-2V7h2v10zm4 0h-2v-4h2v4z\"/>\n",
              "    </g>\n",
              "</svg>\n",
              "  </button>\n",
              "\n",
              "<style>\n",
              "  .colab-df-quickchart {\n",
              "      --bg-color: #E8F0FE;\n",
              "      --fill-color: #1967D2;\n",
              "      --hover-bg-color: #E2EBFA;\n",
              "      --hover-fill-color: #174EA6;\n",
              "      --disabled-fill-color: #AAA;\n",
              "      --disabled-bg-color: #DDD;\n",
              "  }\n",
              "\n",
              "  [theme=dark] .colab-df-quickchart {\n",
              "      --bg-color: #3B4455;\n",
              "      --fill-color: #D2E3FC;\n",
              "      --hover-bg-color: #434B5C;\n",
              "      --hover-fill-color: #FFFFFF;\n",
              "      --disabled-bg-color: #3B4455;\n",
              "      --disabled-fill-color: #666;\n",
              "  }\n",
              "\n",
              "  .colab-df-quickchart {\n",
              "    background-color: var(--bg-color);\n",
              "    border: none;\n",
              "    border-radius: 50%;\n",
              "    cursor: pointer;\n",
              "    display: none;\n",
              "    fill: var(--fill-color);\n",
              "    height: 32px;\n",
              "    padding: 0;\n",
              "    width: 32px;\n",
              "  }\n",
              "\n",
              "  .colab-df-quickchart:hover {\n",
              "    background-color: var(--hover-bg-color);\n",
              "    box-shadow: 0 1px 2px rgba(60, 64, 67, 0.3), 0 1px 3px 1px rgba(60, 64, 67, 0.15);\n",
              "    fill: var(--button-hover-fill-color);\n",
              "  }\n",
              "\n",
              "  .colab-df-quickchart-complete:disabled,\n",
              "  .colab-df-quickchart-complete:disabled:hover {\n",
              "    background-color: var(--disabled-bg-color);\n",
              "    fill: var(--disabled-fill-color);\n",
              "    box-shadow: none;\n",
              "  }\n",
              "\n",
              "  .colab-df-spinner {\n",
              "    border: 2px solid var(--fill-color);\n",
              "    border-color: transparent;\n",
              "    border-bottom-color: var(--fill-color);\n",
              "    animation:\n",
              "      spin 1s steps(1) infinite;\n",
              "  }\n",
              "\n",
              "  @keyframes spin {\n",
              "    0% {\n",
              "      border-color: transparent;\n",
              "      border-bottom-color: var(--fill-color);\n",
              "      border-left-color: var(--fill-color);\n",
              "    }\n",
              "    20% {\n",
              "      border-color: transparent;\n",
              "      border-left-color: var(--fill-color);\n",
              "      border-top-color: var(--fill-color);\n",
              "    }\n",
              "    30% {\n",
              "      border-color: transparent;\n",
              "      border-left-color: var(--fill-color);\n",
              "      border-top-color: var(--fill-color);\n",
              "      border-right-color: var(--fill-color);\n",
              "    }\n",
              "    40% {\n",
              "      border-color: transparent;\n",
              "      border-right-color: var(--fill-color);\n",
              "      border-top-color: var(--fill-color);\n",
              "    }\n",
              "    60% {\n",
              "      border-color: transparent;\n",
              "      border-right-color: var(--fill-color);\n",
              "    }\n",
              "    80% {\n",
              "      border-color: transparent;\n",
              "      border-right-color: var(--fill-color);\n",
              "      border-bottom-color: var(--fill-color);\n",
              "    }\n",
              "    90% {\n",
              "      border-color: transparent;\n",
              "      border-bottom-color: var(--fill-color);\n",
              "    }\n",
              "  }\n",
              "</style>\n",
              "\n",
              "  <script>\n",
              "    async function quickchart(key) {\n",
              "      const quickchartButtonEl =\n",
              "        document.querySelector('#' + key + ' button');\n",
              "      quickchartButtonEl.disabled = true;  // To prevent multiple clicks.\n",
              "      quickchartButtonEl.classList.add('colab-df-spinner');\n",
              "      try {\n",
              "        const charts = await google.colab.kernel.invokeFunction(\n",
              "            'suggestCharts', [key], {});\n",
              "      } catch (error) {\n",
              "        console.error('Error during call to suggestCharts:', error);\n",
              "      }\n",
              "      quickchartButtonEl.classList.remove('colab-df-spinner');\n",
              "      quickchartButtonEl.classList.add('colab-df-quickchart-complete');\n",
              "    }\n",
              "    (() => {\n",
              "      let quickchartButtonEl =\n",
              "        document.querySelector('#df-19992224-f6e2-4315-8d6c-e28c8c46c60a button');\n",
              "      quickchartButtonEl.style.display =\n",
              "        google.colab.kernel.accessAllowed ? 'block' : 'none';\n",
              "    })();\n",
              "  </script>\n",
              "</div>\n",
              "\n",
              "    </div>\n",
              "  </div>\n"
            ],
            "application/vnd.google.colaboratory.intrinsic+json": {
              "type": "dataframe",
              "summary": "{\n  \"name\": \"glass_df\",\n  \"rows\": 8,\n  \"fields\": [\n    {\n      \"column\": \"Refractive Index\",\n      \"properties\": {\n        \"dtype\": \"number\",\n        \"std\": 75.20167645196685,\n        \"min\": 0.0030368637393854334,\n        \"max\": 214.0,\n        \"num_unique_values\": 8,\n        \"samples\": [\n          1.5183654205607477,\n          1.51768,\n          214.0\n        ],\n        \"semantic_type\": \"\",\n        \"description\": \"\"\n      }\n    },\n    {\n      \"column\": \"Sodium\",\n      \"properties\": {\n        \"dtype\": \"number\",\n        \"std\": 71.66298840222413,\n        \"min\": 0.816603555714983,\n        \"max\": 214.0,\n        \"num_unique_values\": 8,\n        \"samples\": [\n          13.407850467289718,\n          13.3,\n          214.0\n        ],\n        \"semantic_type\": \"\",\n        \"description\": \"\"\n      }\n    },\n    {\n      \"column\": \"Magnesium\",\n      \"properties\": {\n        \"dtype\": \"number\",\n        \"std\": 74.77384379224597,\n        \"min\": 0.0,\n        \"max\": 214.0,\n        \"num_unique_values\": 8,\n        \"samples\": [\n          2.684532710280374,\n          3.48,\n          214.0\n        ],\n        \"semantic_type\": \"\",\n        \"description\": \"\"\n      }\n    },\n    {\n      \"column\": \"Aluminum\",\n      \"properties\": {\n        \"dtype\": \"number\",\n        \"std\": 75.16591071743483,\n        \"min\": 0.29,\n        \"max\": 214.0,\n        \"num_unique_values\": 8,\n        \"samples\": [\n          1.444906542056075,\n          1.36,\n          214.0\n        ],\n        \"semantic_type\": \"\",\n        \"description\": \"\"\n      }\n    },\n    {\n      \"column\": \"Silicon\",\n      \"properties\": {\n        \"dtype\": \"number\",\n        \"std\": 59.22880894669753,\n        \"min\": 0.7745457947651124,\n        \"max\": 214.0,\n        \"num_unique_values\": 8,\n        \"samples\": [\n          72.65093457943925,\n          72.79,\n          214.0\n        ],\n        \"semantic_type\": \"\",\n        \"description\": \"\"\n      }\n    },\n    {\n      \"column\": \"Potassium\",\n      \"properties\": {\n        \"dtype\": \"number\",\n        \"std\": 75.25146876142092,\n        \"min\": 0.0,\n        \"max\": 214.0,\n        \"num_unique_values\": 8,\n        \"samples\": [\n          0.4970560747663551,\n          0.555,\n          214.0\n        ],\n        \"semantic_type\": \"\",\n        \"description\": \"\"\n      }\n    },\n    {\n      \"column\": \"Calcium\",\n      \"properties\": {\n        \"dtype\": \"number\",\n        \"std\": 72.8471864212463,\n        \"min\": 1.423153487281395,\n        \"max\": 214.0,\n        \"num_unique_values\": 8,\n        \"samples\": [\n          8.95696261682243,\n          8.6,\n          214.0\n        ],\n        \"semantic_type\": \"\",\n        \"description\": \"\"\n      }\n    },\n    {\n      \"column\": \"Barium\",\n      \"properties\": {\n        \"dtype\": \"number\",\n        \"std\": 75.47505067735626,\n        \"min\": 0.0,\n        \"max\": 214.0,\n        \"num_unique_values\": 5,\n        \"samples\": [\n          0.17504672897196263,\n          3.15,\n          0.49721926059970356\n        ],\n        \"semantic_type\": \"\",\n        \"description\": \"\"\n      }\n    },\n    {\n      \"column\": \"Iron\",\n      \"properties\": {\n        \"dtype\": \"number\",\n        \"std\": 75.6220034365281,\n        \"min\": 0.0,\n        \"max\": 214.0,\n        \"num_unique_values\": 6,\n        \"samples\": [\n          214.0,\n          0.05700934579439253,\n          0.51\n        ],\n        \"semantic_type\": \"\",\n        \"description\": \"\"\n      }\n    },\n    {\n      \"column\": \"Class\",\n      \"properties\": {\n        \"dtype\": \"number\",\n        \"std\": 74.73073565843298,\n        \"min\": 1.0,\n        \"max\": 214.0,\n        \"num_unique_values\": 7,\n        \"samples\": [\n          214.0,\n          2.7803738317757007,\n          3.0\n        ],\n        \"semantic_type\": \"\",\n        \"description\": \"\"\n      }\n    }\n  ]\n}"
            }
          },
          "metadata": {},
          "execution_count": 294
        }
      ]
    },
    {
      "cell_type": "markdown",
      "source": [
        "### Divide into a training set and testing set\n",
        "\n",
        "To create a balanced split StratifiedShuffleSplit will be utilized below with a 20% test size and 80% training size"
      ],
      "metadata": {
        "id": "wkaeReXugOZc"
      }
    },
    {
      "cell_type": "code",
      "source": [
        "# Utilize scikitlearn for a stratify split\n",
        "from sklearn.model_selection import StratifiedShuffleSplit\n",
        "\n",
        "# Separate the features (X) and the target variable (y) aka Class\n",
        "X = glass_df.drop('Class', axis=1)\n",
        "y = glass_df['Class']\n",
        "\n",
        "# Create StratifiedShuffleSplit with 1 split, 20% test size, 80% training and random state 42\n",
        "split = StratifiedShuffleSplit(n_splits=1, test_size=0.2, random_state=42)\n",
        "# Split data\n",
        "for train_index, test_index in split.split(X, y):\n",
        "   X_train = X.iloc[train_index]\n",
        "   X_test = X.iloc[test_index]\n",
        "   y_train = y.iloc[train_index]\n",
        "   y_test = y.iloc[test_index]\n",
        "\n",
        "# Check to confirm successful 80 : 20 split\n",
        "print(\"X_train:\", X_train.shape)\n",
        "print(\"X_test:\", X_test.shape)\n",
        "print(\"y_train:\", y_train.shape)\n",
        "print(\"y_test:\", y_test.shape)"
      ],
      "metadata": {
        "colab": {
          "base_uri": "https://localhost:8080/"
        },
        "id": "XLLcD8lugR9c",
        "outputId": "403332e7-d4fa-4e20-a567-d9abc3e0d464"
      },
      "execution_count": 295,
      "outputs": [
        {
          "output_type": "stream",
          "name": "stdout",
          "text": [
            "X_train: (171, 9)\n",
            "X_test: (43, 9)\n",
            "y_train: (171,)\n",
            "y_test: (43,)\n"
          ]
        }
      ]
    },
    {
      "cell_type": "markdown",
      "source": [
        "Confirming the split was successful. The training set has 80% of the original 214 instances, while the testing set has 20% of the original instances. 9 in the X-train and X_test show the number of columns/features."
      ],
      "metadata": {
        "id": "i92PiJ3Vgaaa"
      }
    },
    {
      "cell_type": "markdown",
      "source": [
        "### Check for missing values in the training and testing set"
      ],
      "metadata": {
        "id": "J89ldtiDgq3j"
      }
    },
    {
      "cell_type": "code",
      "source": [
        "# Checking missing values in training set\n",
        "\n",
        "# Check for missing values in X_train\n",
        "missing_values = X_train.isnull().sum()\n",
        "\n",
        "# Print missing values in X_train\n",
        "print(\"Missing Values in X_train:\")\n",
        "print(missing_values)\n",
        "print()\n",
        "\n",
        "# Check for missing values in y_train\n",
        "missing_values = y_train.isnull().sum()\n",
        "\n",
        "# Print missing values in y_train\n",
        "print(\"Missing Values in y_train:\")\n",
        "print(missing_values)\n",
        "\n",
        "# Checking missing values in test set\n",
        "\n",
        "# Check for missing values in X_test\n",
        "missing_values = X_test.isnull().sum()\n",
        "\n",
        "# Print missing values in X_test\n",
        "print(\"Missing Values in X_test:\")\n",
        "print(missing_values)\n",
        "print()\n",
        "\n",
        "# Check for missing values in y_test\n",
        "missing_values = y_test.isnull().sum()\n",
        "\n",
        "# Print missing values in y_test\n",
        "print(\"Missing Values in y_test:\")\n",
        "print(missing_values)"
      ],
      "metadata": {
        "colab": {
          "base_uri": "https://localhost:8080/"
        },
        "id": "Tu4hEZQlgzZf",
        "outputId": "248455fa-0eeb-4c85-e645-9848d1999b76"
      },
      "execution_count": 296,
      "outputs": [
        {
          "output_type": "stream",
          "name": "stdout",
          "text": [
            "Missing Values in X_train:\n",
            "Refractive Index    0\n",
            "Sodium              0\n",
            "Magnesium           0\n",
            "Aluminum            0\n",
            "Silicon             0\n",
            "Potassium           0\n",
            "Calcium             0\n",
            "Barium              0\n",
            "Iron                0\n",
            "dtype: int64\n",
            "\n",
            "Missing Values in y_train:\n",
            "0\n",
            "Missing Values in X_test:\n",
            "Refractive Index    0\n",
            "Sodium              0\n",
            "Magnesium           0\n",
            "Aluminum            0\n",
            "Silicon             0\n",
            "Potassium           0\n",
            "Calcium             0\n",
            "Barium              0\n",
            "Iron                0\n",
            "dtype: int64\n",
            "\n",
            "Missing Values in y_test:\n",
            "0\n"
          ]
        }
      ]
    },
    {
      "cell_type": "markdown",
      "source": [
        "0 missing values in training and testing set"
      ],
      "metadata": {
        "id": "XBqViQHug9rr"
      }
    },
    {
      "cell_type": "markdown",
      "source": [
        "# Step 2: Prepare your data\n",
        "\n",
        "\n",
        "\n",
        "*   Variables are converted to categorical variables\n",
        "*   Perform any necessary feature scaling"
      ],
      "metadata": {
        "id": "UWbDubWMeuds"
      }
    },
    {
      "cell_type": "markdown",
      "source": [
        "### Convert Variables\n",
        "\n",
        "The target variable \"Class\" is already a categorical variable an encoded as an integer: 1, 2, 3, 4, 5, 6, or 7. No need to convert with on hot encoded. No need to convert to ordinal as the classes are associated with glass from a particular object. For example, class 6 is table glass. They are not actually ranked."
      ],
      "metadata": {
        "id": "rRzo8m-uh5PY"
      }
    },
    {
      "cell_type": "code",
      "source": [
        "# Target is already encoded as integer\n",
        "display(y_train)"
      ],
      "metadata": {
        "colab": {
          "base_uri": "https://localhost:8080/",
          "height": 225
        },
        "id": "z4LMg0erjG9s",
        "outputId": "58d0d27b-6981-43fe-dfea-d7424c1c800e"
      },
      "execution_count": 297,
      "outputs": [
        {
          "output_type": "display_data",
          "data": {
            "text/plain": [
              "201    7\n",
              "38     1\n",
              "30     1\n",
              "48     1\n",
              "71     2\n",
              "      ..\n",
              "198    7\n",
              "63     1\n",
              "157    3\n",
              "150    3\n",
              "178    6\n",
              "Name: Class, Length: 171, dtype: int64"
            ]
          },
          "metadata": {}
        }
      ]
    },
    {
      "cell_type": "markdown",
      "source": [
        "### Feature Scaling\n",
        "\n",
        "Feature scaling on X_Train and X_test in preparation to use in Step 4 for K-nearest Neighbors (KNN) algorithm. KNN is sensitive to the scale of features due to it calculating distances between points to understand similarity. The features will be scaled on the range between 0 and 1.\n",
        "\n",
        "y_train and y_test will not have feature scaling applied. Feature scaling will not be applied to the decision tree algorthim in Step 4 because it uses splits in the data."
      ],
      "metadata": {
        "id": "OG1ZnIlvjMtz"
      }
    },
    {
      "cell_type": "code",
      "source": [
        "# Feature Scaling on X_train, no scaling needed for y_train\n",
        "\n",
        "# Scaling method below used from class 6 lab\n",
        "\n",
        "# Compute the minimum value per feature on the training set\n",
        "min_on_training = X_train.min(axis=0)\n",
        "\n",
        "# Compute the range of each feature (max - min) on the training set\n",
        "range_on_training = (X_train - min_on_training).max(axis=0)\n",
        "\n",
        "# subtract the min, divide by range\n",
        "# afterward, min=0 and max=1 for each feature\n",
        "X_train_scaled = (X_train - min_on_training) / range_on_training\n",
        "print(\"X_train: Minimum for each feature\\n\", X_train_scaled.min(axis=0))\n",
        "print()\n",
        "print(\"X_train: Maximum for each feature\\n\", X_train_scaled.max(axis=0))\n",
        "print()\n"
      ],
      "metadata": {
        "colab": {
          "base_uri": "https://localhost:8080/"
        },
        "id": "zZfxA0eSkrE7",
        "outputId": "07828b0d-6c7e-4071-c971-04a828a642df"
      },
      "execution_count": 298,
      "outputs": [
        {
          "output_type": "stream",
          "name": "stdout",
          "text": [
            "X_train: Minimum for each feature\n",
            " Refractive Index    0.0\n",
            "Sodium              0.0\n",
            "Magnesium           0.0\n",
            "Aluminum            0.0\n",
            "Silicon             0.0\n",
            "Potassium           0.0\n",
            "Calcium             0.0\n",
            "Barium              0.0\n",
            "Iron                0.0\n",
            "dtype: float64\n",
            "\n",
            "X_train: Maximum for each feature\n",
            " Refractive Index    1.0\n",
            "Sodium              1.0\n",
            "Magnesium           1.0\n",
            "Aluminum            1.0\n",
            "Silicon             1.0\n",
            "Potassium           1.0\n",
            "Calcium             1.0\n",
            "Barium              1.0\n",
            "Iron                1.0\n",
            "dtype: float64\n",
            "\n"
          ]
        }
      ]
    },
    {
      "cell_type": "code",
      "source": [
        "# Feature Scaling on X_test, no scaling needed for y_test\n",
        "\n",
        "# Compute the minimum value per feature on the test set\n",
        "min_on_testing = X_test.min(axis=0)\n",
        "\n",
        "# Compute the range of each feature (max - min) on the test set\n",
        "range_on_testing = (X_test - min_on_testing).max(axis=0)\n",
        "\n",
        "# subtract the min, divide by range\n",
        "# afterward, min=0 and max=1 for each feature\n",
        "X_test_scaled = (X_test - min_on_testing) / range_on_testing\n",
        "print(\"X_test: Minimum for each feature\\n\", X_test_scaled.min(axis=0))\n",
        "print()\n",
        "print(\"X_test: Maximum for each feature\\n\", X_test_scaled.max(axis=0))"
      ],
      "metadata": {
        "colab": {
          "base_uri": "https://localhost:8080/"
        },
        "id": "ZZ01A3q1kyj7",
        "outputId": "1c3588a9-a363-46d5-f9ec-8d5d682e7dc7"
      },
      "execution_count": 299,
      "outputs": [
        {
          "output_type": "stream",
          "name": "stdout",
          "text": [
            "X_test: Minimum for each feature\n",
            " Refractive Index    0.0\n",
            "Sodium              0.0\n",
            "Magnesium           0.0\n",
            "Aluminum            0.0\n",
            "Silicon             0.0\n",
            "Potassium           0.0\n",
            "Calcium             0.0\n",
            "Barium              0.0\n",
            "Iron                0.0\n",
            "dtype: float64\n",
            "\n",
            "X_test: Maximum for each feature\n",
            " Refractive Index    1.0\n",
            "Sodium              1.0\n",
            "Magnesium           1.0\n",
            "Aluminum            1.0\n",
            "Silicon             1.0\n",
            "Potassium           1.0\n",
            "Calcium             1.0\n",
            "Barium              1.0\n",
            "Iron                1.0\n",
            "dtype: float64\n"
          ]
        }
      ]
    },
    {
      "cell_type": "markdown",
      "source": [
        "# Step 3: Examine your target attribute\n",
        "\n",
        "Examine and plot the distribution of the target attribute in your training set (e.g., is it Gaussian, uniform, logarithmic). This will help you interpret the performance of different algorithms on your data."
      ],
      "metadata": {
        "id": "_2eQma2Yevcs"
      }
    },
    {
      "cell_type": "code",
      "source": [
        "%matplotlib inline\n",
        "import numpy as np\n",
        "import matplotlib.pyplot as plt\n",
        "from pandas.plotting import scatter_matrix"
      ],
      "metadata": {
        "id": "WPn0P--UlfZO"
      },
      "execution_count": 300,
      "outputs": []
    },
    {
      "cell_type": "code",
      "source": [
        "# y_train is the target variable\n",
        "\n",
        "# Plotting histogram of class distribution in training set\n",
        "# 7 Bins selected because there are 7 in unique classes in target variable\n",
        "plt.figure(figsize=(8, 6))\n",
        "plt.hist(y_train, bins=7)\n",
        "plt.xlabel('Class')\n",
        "plt.ylabel('Frequency')\n",
        "plt.title('Distribution of \"Class\" in Training Set')\n",
        "plt.xticks([1, 2, 3, 4, 5, 6, 7])\n",
        "plt.grid(True)\n",
        "plt.show()"
      ],
      "metadata": {
        "colab": {
          "base_uri": "https://localhost:8080/",
          "height": 564
        },
        "id": "jtGBTf7tl2ry",
        "outputId": "9a9e95f6-1e70-4222-f2e2-1b16410581b0"
      },
      "execution_count": 301,
      "outputs": [
        {
          "output_type": "display_data",
          "data": {
            "text/plain": [
              "<Figure size 800x600 with 1 Axes>"
            ],
            "image/png": "[encoded data removed]"
          },
          "metadata": {}
        }
      ]
    },
    {
      "cell_type": "markdown",
      "source": [
        "When examining the histogram above, the distrubution shows an imbalance across the dataset. The above graph does not display typical gaussian, uniform or logarithmic distribution. Due to the imbalance, this could impact the performance when using algorithms that are sensitive to distribution, like K-Nearest Neighbors. Becuase of the drastic difference in frequency seen in classes, class 2 could potientally influence the predictions, by creating a bias where the class 2 neighbors outnumber another class like 6. This will need to be taken into account when examining how KNN performs.\n",
        "\n",
        "Decision trees are less sensitive to class imbalance and will be used in Step 4."
      ],
      "metadata": {
        "id": "cs2kydu3nw0r"
      }
    },
    {
      "cell_type": "markdown",
      "source": [
        "# Step 4: Apply 2 Supervised Learning algorithms\n",
        "\n",
        "1. Decision Tree (Single Tree)\n",
        "2. K-Nearest Neighbor"
      ],
      "metadata": {
        "id": "lVypTOn2e3yq"
      }
    },
    {
      "cell_type": "markdown",
      "source": [
        "### Decision Tree"
      ],
      "metadata": {
        "id": "LHxAYrxbq6g_"
      }
    },
    {
      "cell_type": "code",
      "source": [
        "from sklearn.tree import DecisionTreeClassifier\n",
        "from sklearn.metrics import classification_report"
      ],
      "metadata": {
        "id": "MPDXvLRlq5xG"
      },
      "execution_count": 302,
      "outputs": []
    },
    {
      "cell_type": "code",
      "source": [
        "# Instantiate the DecisionTreeClassifier\n",
        "tree = DecisionTreeClassifier(random_state=0)\n",
        "\n",
        "# Not going to use the X_train_scaled as it is not needed for Decision trees\n",
        "# Fit the model\n",
        "tree.fit(X_train, y_train)\n",
        "\n",
        "# Evaluate model's accuracy\n",
        "print(\"Accuracy on training set: {:.3f}\".format(tree.score(X_train, y_train)))\n",
        "print(\"Accuracy on test set: {:.3f}\".format(tree.score(X_test, y_test)))"
      ],
      "metadata": {
        "colab": {
          "base_uri": "https://localhost:8080/"
        },
        "id": "zoPjXWXfrW0v",
        "outputId": "f3251f0d-b670-4e8c-daec-d4e091a09183"
      },
      "execution_count": 303,
      "outputs": [
        {
          "output_type": "stream",
          "name": "stdout",
          "text": [
            "Accuracy on training set: 1.000\n",
            "Accuracy on test set: 0.651\n"
          ]
        }
      ]
    },
    {
      "cell_type": "markdown",
      "source": [
        "The accuracy of the training set of 100% shows the model made zero errors. 100% accuracy can signify overfitting.\n",
        "The accuracy on the test set of 65% shows the model does not generalize well. Due to the high accuracy on the training set and low on testing set, it is suggesting that the model is overfitting.\n",
        "Pruning the tree will be required to address overfitting and to see if the model then preforms better."
      ],
      "metadata": {
        "id": "oSA8qb3jtiyE"
      }
    },
    {
      "cell_type": "markdown",
      "source": [
        "Feature importance"
      ],
      "metadata": {
        "id": "AfLg-Vn2zSlQ"
      }
    },
    {
      "cell_type": "code",
      "source": [
        "# Feature names for plotting\n",
        "feature_names = ['Refractive Index', 'Sodium', 'Magnesium', 'Aluminum',\n",
        "    'Silicon', 'Potassium', 'Calcium', 'Barium', 'Iron']\n",
        "\n",
        "# Plotting feature importances\n",
        "def plot_feature_importances(model):\n",
        "    n_features = X_train.shape[1]\n",
        "    plt.barh(np.arange(n_features), model.feature_importances_, align='center')\n",
        "    plt.yticks(np.arange(n_features), feature_names)\n",
        "    plt.xlabel(\"Feature Importance\")\n",
        "    plt.ylabel(\"Feature\")\n",
        "    plt.title(\"Feature Importances in Decision Tree\")\n",
        "    plt.ylim(-1, n_features)\n",
        "    plt.show()\n",
        "\n",
        "\n",
        "plot_feature_importances(tree)"
      ],
      "metadata": {
        "colab": {
          "base_uri": "https://localhost:8080/",
          "height": 472
        },
        "id": "wYBqZYk10Hk4",
        "outputId": "e1abde4c-d8b6-441e-a526-9e033343940d"
      },
      "execution_count": 304,
      "outputs": [
        {
          "output_type": "display_data",
          "data": {
            "text/plain": [
              "<Figure size 640x480 with 1 Axes>"
            ],
            "image/png": "[encoded data removed]"
          },
          "metadata": {}
        }
      ]
    },
    {
      "cell_type": "markdown",
      "source": [
        "Feature importance for decision trees indicates the significance of each feature in predicting the target variable. A higher value is an important feature and impacts the model predicitons. Low scores are less important, possible can be prunned in next ideration.\n",
        "\n",
        "From the graph above, Barium, Magnesium, Aluminum, Refractive index and Calcium have the greatest impact on the models predictions. Iron can be seen to have the least importance.\n",
        "\n"
      ],
      "metadata": {
        "id": "fBH_iPm90-z3"
      }
    },
    {
      "cell_type": "markdown",
      "source": [
        "### K-Nearest Neighbor"
      ],
      "metadata": {
        "id": "wmRCN1jXJQ0-"
      }
    },
    {
      "cell_type": "code",
      "source": [
        "from sklearn.neighbors import KNeighborsClassifier\n",
        "from sklearn.metrics import classification_report\n",
        "import numpy as np"
      ],
      "metadata": {
        "id": "aorPU0CKJUEL"
      },
      "execution_count": 305,
      "outputs": []
    },
    {
      "cell_type": "code",
      "source": [
        "# KNN with scaled data\n",
        "\n",
        "# Instantiate K-Nearest Neighbor\n",
        "knn = KNeighborsClassifier()\n",
        "knn.fit(X_train_scaled, y_train)\n",
        "print(\"KNN score on training set: {}\".format(knn.score(X_train_scaled, y_train)))\n",
        "print(\"KNN score on test set: {}\".format(knn.score(X_test_scaled, y_test)))"
      ],
      "metadata": {
        "colab": {
          "base_uri": "https://localhost:8080/"
        },
        "id": "5b6ZD5G_JsZb",
        "outputId": "8eee2f7a-2901-47b6-cb66-75e13f77d78a"
      },
      "execution_count": 306,
      "outputs": [
        {
          "output_type": "stream",
          "name": "stdout",
          "text": [
            "KNN score on training set: 0.7192982456140351\n",
            "KNN score on test set: 0.627906976744186\n"
          ]
        }
      ]
    },
    {
      "cell_type": "markdown",
      "source": [
        "The model is preforming at ~72% accuracy on the training set and ~63% on the testing set."
      ],
      "metadata": {
        "id": "mXgjrpCLM6om"
      }
    },
    {
      "cell_type": "markdown",
      "source": [
        "# Step 5: For each of your selected models (KNN and Decision tree)\n",
        "\n",
        "\n",
        "\n",
        "*   Run with the default parameters, training on your training set and testing on your testing set\n",
        "  *   Calculate precision, recall, and F1\n",
        "\n",
        "\n",
        "\n",
        "*   Run with the default parameters using cross-validation on the whole dataset\n",
        "  *   Calculate precision, recall, and F1\n",
        "\n",
        "\n",
        "\n",
        "\n",
        "*   (Where possible) adjust 2-3 parameters for each model using grid search\n",
        "  *   Report evaluation metrics for the best and worst-performing parameter settings\n"
      ],
      "metadata": {
        "id": "u1g5FBi6e7mV"
      }
    },
    {
      "cell_type": "code",
      "source": [
        "from sklearn.metrics import classification_report\n",
        "from sklearn.model_selection import GridSearchCV\n",
        "from sklearn.metrics import confusion_matrix\n",
        "from sklearn.model_selection import cross_val_score"
      ],
      "metadata": {
        "id": "Us1JprKJ20bW"
      },
      "execution_count": 307,
      "outputs": []
    },
    {
      "cell_type": "markdown",
      "source": [
        "### Decision Tree Default Parameters\n",
        "\n",
        "\n",
        "*   Calculate precision, recall, and F1 for both Testing and Training sets\n",
        "\n"
      ],
      "metadata": {
        "id": "pX_4aWYyym3U"
      }
    },
    {
      "cell_type": "markdown",
      "source": [
        "Classification report\n",
        "\n",
        "When checking it looks like an error occured due to class 4 not exisiting in the dataset. this is confirmed in UCI webpage which states \"Class attribute: 4 vehicle_windows_non_float_processed (none in this database)\". In the classification report, \"class 4\" will be omited, as it is nonexistent."
      ],
      "metadata": {
        "id": "CTIZNwtexFZE"
      }
    },
    {
      "cell_type": "code",
      "source": [
        "# classification report throwing error, checking the unique classes in y_test. Suspect that because unique class 4 has 0 there is an issue\n",
        "unique_classes = np.unique(y_test)\n",
        "print(\"Unique classes in y_test:\", unique_classes)"
      ],
      "metadata": {
        "colab": {
          "base_uri": "https://localhost:8080/"
        },
        "id": "Ol9kIz3Bvwa8",
        "outputId": "f56933b8-eb63-4b80-eb9e-dd60c864bc50"
      },
      "execution_count": 311,
      "outputs": [
        {
          "output_type": "stream",
          "name": "stdout",
          "text": [
            "Unique classes in y_test: [1 2 3 5 6 7]\n"
          ]
        }
      ]
    },
    {
      "cell_type": "code",
      "source": [
        "# Examine Classification Report on testing set, omitting \"class 4\"\n",
        "print(\"Classification Report for Decision Tree testing set:\")\n",
        "print(classification_report(y_test, tree.predict(X_test),\n",
        "                            target_names=[\"class 1\", \"class 2\",\"class 3\", \"class 5\", \"class 6\", \"class 7\"]))"
      ],
      "metadata": {
        "colab": {
          "base_uri": "https://localhost:8080/"
        },
        "id": "kTJXd_5CudUP",
        "outputId": "de95f02b-3786-4fd4-853e-7503065c42be"
      },
      "execution_count": 312,
      "outputs": [
        {
          "output_type": "stream",
          "name": "stdout",
          "text": [
            "Classification Report for Decision Tree testing set:\n",
            "              precision    recall  f1-score   support\n",
            "\n",
            "     class 1       0.80      0.57      0.67        14\n",
            "     class 2       0.73      0.53      0.62        15\n",
            "     class 3       0.29      0.67      0.40         3\n",
            "     class 5       1.00      0.67      0.80         3\n",
            "     class 6       0.33      1.00      0.50         2\n",
            "     class 7       0.86      1.00      0.92         6\n",
            "\n",
            "    accuracy                           0.65        43\n",
            "   macro avg       0.67      0.74      0.65        43\n",
            "weighted avg       0.74      0.65      0.67        43\n",
            "\n"
          ]
        }
      ]
    },
    {
      "cell_type": "code",
      "source": [
        "# Examine Classification Report on training set, omitting \"class 4\"\n",
        "print(\"Classification Report for Decision Tree:\")\n",
        "print(classification_report(y_train, tree.predict(X_train),\n",
        "                            target_names=[\"class 1\", \"class 2\",\"class 3\", \"class 5\", \"class 6\", \"class 7\"]))"
      ],
      "metadata": {
        "colab": {
          "base_uri": "https://localhost:8080/"
        },
        "id": "kfAh4SSS2L9w",
        "outputId": "c9b994a3-efbe-47c3-9a5a-0d99ea240abe"
      },
      "execution_count": 313,
      "outputs": [
        {
          "output_type": "stream",
          "name": "stdout",
          "text": [
            "Classification Report for Decision Tree:\n",
            "              precision    recall  f1-score   support\n",
            "\n",
            "     class 1       1.00      1.00      1.00        56\n",
            "     class 2       1.00      1.00      1.00        61\n",
            "     class 3       1.00      1.00      1.00        14\n",
            "     class 5       1.00      1.00      1.00        10\n",
            "     class 6       1.00      1.00      1.00         7\n",
            "     class 7       1.00      1.00      1.00        23\n",
            "\n",
            "    accuracy                           1.00       171\n",
            "   macro avg       1.00      1.00      1.00       171\n",
            "weighted avg       1.00      1.00      1.00       171\n",
            "\n"
          ]
        }
      ]
    },
    {
      "cell_type": "markdown",
      "source": [
        "### Decision Tree using Cross Validation on entire Dataset"
      ],
      "metadata": {
        "id": "7n5Eh8go23-w"
      }
    },
    {
      "cell_type": "code",
      "source": [
        "# Instantiate the Decision Tree classifier\n",
        "tree_cv = DecisionTreeClassifier(random_state=0)\n",
        "\n",
        "# Perform 5-fold cross-validation on the entire dataset\n",
        "cv_scores_all = cross_val_score(tree_cv, X, y, cv=5)\n",
        "\n",
        "# Print cross-validation scores and mean\n",
        "print(\"cv_scores:\\n{}\".format(cv_scores_all))\n",
        "print(\"cv_scores mean:\\n{}\".format(np.mean(cv_scores_all)))\n"
      ],
      "metadata": {
        "colab": {
          "base_uri": "https://localhost:8080/"
        },
        "id": "I2cDAmQO3Grn",
        "outputId": "f9e1297f-8043-4c74-e11c-f1257aa0d1da"
      },
      "execution_count": 314,
      "outputs": [
        {
          "output_type": "stream",
          "name": "stdout",
          "text": [
            "cv_scores:\n",
            "[0.62790698 0.55813953 0.62790698 0.41860465 0.52380952]\n",
            "cv_scores mean:\n",
            "0.5512735326688815\n"
          ]
        }
      ]
    },
    {
      "cell_type": "markdown",
      "source": [
        "Cross Validation show how well the model preforms on each fold of the split. The cv_score mean of ~55% indicates that the decision tree model is accurately predicting the class labels 55% of time during cross validation. This indicates room for improvement in the model."
      ],
      "metadata": {
        "id": "ylig7sle5Lxz"
      }
    },
    {
      "cell_type": "markdown",
      "source": [
        "### Decision Tree Parameter Adjustment 1 : Max_depth\n",
        "\n",
        "Adjust parameters using grid search for best and worst performing parameters\n",
        "\n",
        "\n"
      ],
      "metadata": {
        "id": "j_m6964r6irn"
      }
    },
    {
      "cell_type": "markdown",
      "source": [
        "Max_depth chosen to help determine overfitting by limiting the depth to prevent overcomplextion and overfitting of training data. Depth is determined by the number of nodes from root to deepest leaf. Deep trees can lead to overfitting. Selecting the range for the max_depth was base on the 9 features in the dataset and including None."
      ],
      "metadata": {
        "id": "DEd1zT_n7Mc4"
      }
    },
    {
      "cell_type": "code",
      "source": [
        "# Grid Search for max_depth\n",
        "\n",
        "# Max_depth\n",
        "param_grid = {\"max_depth\": [None, 1, 2, 3, 4, 5, 6, 7, 8, 9]}\n",
        "\n",
        "# Grid search\n",
        "grid_search_max_depth = GridSearchCV(DecisionTreeClassifier(random_state=0), param_grid, cv=5)\n",
        "grid_search_max_depth.fit(X_train, y_train)"
      ],
      "metadata": {
        "colab": {
          "base_uri": "https://localhost:8080/",
          "height": 119
        },
        "id": "eZa1wFzw7Qsp",
        "outputId": "a3e755d4-e485-4e6d-fe39-d05dd1d55f51"
      },
      "execution_count": 315,
      "outputs": [
        {
          "output_type": "execute_result",
          "data": {
            "text/plain": [
              "GridSearchCV(cv=5, estimator=DecisionTreeClassifier(random_state=0),\n",
              "             param_grid={'max_depth': [None, 1, 2, 3, 4, 5, 6, 7, 8, 9]})"
            ],
            "text/html": [
              "<style>#sk-container-id-42 {color: black;background-color: white;}#sk-container-id-42 pre{padding: 0;}#sk-container-id-42 div.sk-toggleable {background-color: white;}#sk-container-id-42 label.sk-toggleable__label {cursor: pointer;display: block;width: 100%;margin-bottom: 0;padding: 0.3em;box-sizing: border-box;text-align: center;}#sk-container-id-42 label.sk-toggleable__label-arrow:before {content: \"▸\";float: left;margin-right: 0.25em;color: #696969;}#sk-container-id-42 label.sk-toggleable__label-arrow:hover:before {color: black;}#sk-container-id-42 div.sk-estimator:hover label.sk-toggleable__label-arrow:before {color: black;}#sk-container-id-42 div.sk-toggleable__content {max-height: 0;max-width: 0;overflow: hidden;text-align: left;background-color: #f0f8ff;}#sk-container-id-42 div.sk-toggleable__content pre {margin: 0.2em;color: black;border-radius: 0.25em;background-color: #f0f8ff;}#sk-container-id-42 input.sk-toggleable__control:checked~div.sk-toggleable__content {max-height: 200px;max-width: 100%;overflow: auto;}#sk-container-id-42 input.sk-toggleable__control:checked~label.sk-toggleable__label-arrow:before {content: \"▾\";}#sk-container-id-42 div.sk-estimator input.sk-toggleable__control:checked~label.sk-toggleable__label {background-color: #d4ebff;}#sk-container-id-42 div.sk-label input.sk-toggleable__control:checked~label.sk-toggleable__label {background-color: #d4ebff;}#sk-container-id-42 input.sk-hidden--visually {border: 0;clip: rect(1px 1px 1px 1px);clip: rect(1px, 1px, 1px, 1px);height: 1px;margin: -1px;overflow: hidden;padding: 0;position: absolute;width: 1px;}#sk-container-id-42 div.sk-estimator {font-family: monospace;background-color: #f0f8ff;border: 1px dotted black;border-radius: 0.25em;box-sizing: border-box;margin-bottom: 0.5em;}#sk-container-id-42 div.sk-estimator:hover {background-color: #d4ebff;}#sk-container-id-42 div.sk-parallel-item::after {content: \"\";width: 100%;border-bottom: 1px solid gray;flex-grow: 1;}#sk-container-id-42 div.sk-label:hover label.sk-toggleable__label {background-color: #d4ebff;}#sk-container-id-42 div.sk-serial::before {content: \"\";position: absolute;border-left: 1px solid gray;box-sizing: border-box;top: 0;bottom: 0;left: 50%;z-index: 0;}#sk-container-id-42 div.sk-serial {display: flex;flex-direction: column;align-items: center;background-color: white;padding-right: 0.2em;padding-left: 0.2em;position: relative;}#sk-container-id-42 div.sk-item {position: relative;z-index: 1;}#sk-container-id-42 div.sk-parallel {display: flex;align-items: stretch;justify-content: center;background-color: white;position: relative;}#sk-container-id-42 div.sk-item::before, #sk-container-id-42 div.sk-parallel-item::before {content: \"\";position: absolute;border-left: 1px solid gray;box-sizing: border-box;top: 0;bottom: 0;left: 50%;z-index: -1;}#sk-container-id-42 div.sk-parallel-item {display: flex;flex-direction: column;z-index: 1;position: relative;background-color: white;}#sk-container-id-42 div.sk-parallel-item:first-child::after {align-self: flex-end;width: 50%;}#sk-container-id-42 div.sk-parallel-item:last-child::after {align-self: flex-start;width: 50%;}#sk-container-id-42 div.sk-parallel-item:only-child::after {width: 0;}#sk-container-id-42 div.sk-dashed-wrapped {border: 1px dashed gray;margin: 0 0.4em 0.5em 0.4em;box-sizing: border-box;padding-bottom: 0.4em;background-color: white;}#sk-container-id-42 div.sk-label label {font-family: monospace;font-weight: bold;display: inline-block;line-height: 1.2em;}#sk-container-id-42 div.sk-label-container {text-align: center;}#sk-container-id-42 div.sk-container {/* jupyter's `normalize.less` sets `[hidden] { display: none; }` but bootstrap.min.css set `[hidden] { display: none !important; }` so we also need the `!important` here to be able to override the default hidden behavior on the sphinx rendered scikit-learn.org. See: https://github.com/scikit-learn/scikit-learn/issues/21755 */display: inline-block !important;position: relative;}#sk-container-id-42 div.sk-text-repr-fallback {display: none;}</style><div id=\"sk-container-id-42\" class=\"sk-top-container\"><div class=\"sk-text-repr-fallback\"><pre>GridSearchCV(cv=5, estimator=DecisionTreeClassifier(random_state=0),\n",
              "             param_grid={&#x27;max_depth&#x27;: [None, 1, 2, 3, 4, 5, 6, 7, 8, 9]})</pre><b>In a Jupyter environment, please rerun this cell to show the HTML representation or trust the notebook. <br />On GitHub, the HTML representation is unable to render, please try loading this page with nbviewer.org.</b></div><div class=\"sk-container\" hidden><div class=\"sk-item sk-dashed-wrapped\"><div class=\"sk-label-container\"><div class=\"sk-label sk-toggleable\"><input class=\"sk-toggleable__control sk-hidden--visually\" id=\"sk-estimator-id-122\" type=\"checkbox\" ><label for=\"sk-estimator-id-122\" class=\"sk-toggleable__label sk-toggleable__label-arrow\">GridSearchCV</label><div class=\"sk-toggleable__content\"><pre>GridSearchCV(cv=5, estimator=DecisionTreeClassifier(random_state=0),\n",
              "             param_grid={&#x27;max_depth&#x27;: [None, 1, 2, 3, 4, 5, 6, 7, 8, 9]})</pre></div></div></div><div class=\"sk-parallel\"><div class=\"sk-parallel-item\"><div class=\"sk-item\"><div class=\"sk-label-container\"><div class=\"sk-label sk-toggleable\"><input class=\"sk-toggleable__control sk-hidden--visually\" id=\"sk-estimator-id-123\" type=\"checkbox\" ><label for=\"sk-estimator-id-123\" class=\"sk-toggleable__label sk-toggleable__label-arrow\">estimator: DecisionTreeClassifier</label><div class=\"sk-toggleable__content\"><pre>DecisionTreeClassifier(random_state=0)</pre></div></div></div><div class=\"sk-serial\"><div class=\"sk-item\"><div class=\"sk-estimator sk-toggleable\"><input class=\"sk-toggleable__control sk-hidden--visually\" id=\"sk-estimator-id-124\" type=\"checkbox\" ><label for=\"sk-estimator-id-124\" class=\"sk-toggleable__label sk-toggleable__label-arrow\">DecisionTreeClassifier</label><div class=\"sk-toggleable__content\"><pre>DecisionTreeClassifier(random_state=0)</pre></div></div></div></div></div></div></div></div></div></div>"
            ]
          },
          "metadata": {},
          "execution_count": 315
        }
      ]
    },
    {
      "cell_type": "code",
      "source": [
        "# Best performing on max_depth\n",
        "grid_search_max_depth.best_params_"
      ],
      "metadata": {
        "colab": {
          "base_uri": "https://localhost:8080/"
        },
        "id": "hNnWJoqi8VAf",
        "outputId": "9a118e86-396f-40a9-bea0-0eb34eacd8af"
      },
      "execution_count": 316,
      "outputs": [
        {
          "output_type": "execute_result",
          "data": {
            "text/plain": [
              "{'max_depth': 3}"
            ]
          },
          "metadata": {},
          "execution_count": 316
        }
      ]
    },
    {
      "cell_type": "code",
      "source": [
        "# Accuracy of best performing\n",
        "grid_search_max_depth.best_score_"
      ],
      "metadata": {
        "colab": {
          "base_uri": "https://localhost:8080/"
        },
        "id": "LYpRrAOL8YDQ",
        "outputId": "40860d55-59e5-494d-cf04-37a8f43ec8b3"
      },
      "execution_count": 317,
      "outputs": [
        {
          "output_type": "execute_result",
          "data": {
            "text/plain": [
              "0.678655462184874"
            ]
          },
          "metadata": {},
          "execution_count": 317
        }
      ]
    },
    {
      "cell_type": "code",
      "source": [
        "# Cross validation results with max_depth\n",
        "grid_search_max_depth.cv_results_"
      ],
      "metadata": {
        "colab": {
          "base_uri": "https://localhost:8080/"
        },
        "id": "Og7BqY2u8cXe",
        "outputId": "a412eeee-9455-46e3-e881-491a8e1530b5"
      },
      "execution_count": 318,
      "outputs": [
        {
          "output_type": "execute_result",
          "data": {
            "text/plain": [
              "{'mean_fit_time': array([0.00350199, 0.00280747, 0.00277424, 0.00275984, 0.00295548,\n",
              "        0.00350471, 0.00320735, 0.00307627, 0.00296779, 0.00302629]),\n",
              " 'std_fit_time': array([9.32910429e-04, 2.69961499e-04, 1.05053405e-04, 7.29592952e-05,\n",
              "        2.46624926e-04, 5.82647778e-04, 3.76420659e-04, 2.62315588e-04,\n",
              "        1.64433434e-04, 1.43290431e-04]),\n",
              " 'mean_score_time': array([0.00190306, 0.00188136, 0.00198584, 0.0018353 , 0.00192227,\n",
              "        0.00237494, 0.00193739, 0.00178494, 0.00178757, 0.00180912]),\n",
              " 'std_score_time': array([1.41231487e-04, 1.50568459e-04, 1.93794353e-04, 2.43651190e-05,\n",
              "        8.36462083e-05, 7.38290598e-04, 1.76199750e-04, 9.49697069e-05,\n",
              "        1.04530558e-04, 8.04825696e-05]),\n",
              " 'param_max_depth': masked_array(data=[None, 1, 2, 3, 4, 5, 6, 7, 8, 9],\n",
              "              mask=[False, False, False, False, False, False, False, False,\n",
              "                    False, False],\n",
              "        fill_value='?',\n",
              "             dtype=object),\n",
              " 'params': [{'max_depth': None},\n",
              "  {'max_depth': 1},\n",
              "  {'max_depth': 2},\n",
              "  {'max_depth': 3},\n",
              "  {'max_depth': 4},\n",
              "  {'max_depth': 5},\n",
              "  {'max_depth': 6},\n",
              "  {'max_depth': 7},\n",
              "  {'max_depth': 8},\n",
              "  {'max_depth': 9}],\n",
              " 'split0_test_score': array([0.62857143, 0.42857143, 0.57142857, 0.62857143, 0.45714286,\n",
              "        0.48571429, 0.57142857, 0.57142857, 0.6       , 0.51428571]),\n",
              " 'split1_test_score': array([0.58823529, 0.41176471, 0.61764706, 0.64705882, 0.61764706,\n",
              "        0.58823529, 0.61764706, 0.58823529, 0.58823529, 0.58823529]),\n",
              " 'split2_test_score': array([0.67647059, 0.5       , 0.61764706, 0.70588235, 0.70588235,\n",
              "        0.64705882, 0.64705882, 0.70588235, 0.64705882, 0.64705882]),\n",
              " 'split3_test_score': array([0.76470588, 0.47058824, 0.64705882, 0.73529412, 0.64705882,\n",
              "        0.64705882, 0.67647059, 0.70588235, 0.70588235, 0.76470588]),\n",
              " 'split4_test_score': array([0.5       , 0.5       , 0.58823529, 0.67647059, 0.61764706,\n",
              "        0.61764706, 0.58823529, 0.5       , 0.58823529, 0.5       ]),\n",
              " 'mean_test_score': array([0.63159664, 0.46218487, 0.60840336, 0.67865546, 0.60907563,\n",
              "        0.59714286, 0.62016807, 0.61428571, 0.62588235, 0.60285714]),\n",
              " 'std_test_score': array([0.08824826, 0.03633907, 0.02622603, 0.03862842, 0.08251639,\n",
              "        0.05983193, 0.03819603, 0.08044436, 0.04550372, 0.09673375]),\n",
              " 'rank_test_score': array([ 2, 10,  7,  1,  6,  9,  4,  5,  3,  8], dtype=int32)}"
            ]
          },
          "metadata": {},
          "execution_count": 318
        }
      ]
    },
    {
      "cell_type": "markdown",
      "source": [
        "Best performing paramter setting is 4 and the worst performing is 2"
      ],
      "metadata": {
        "id": "SERCFQNH9TiW"
      }
    },
    {
      "cell_type": "code",
      "source": [
        "# Best Performing Accuracy of max_depth 4 on testing data\n",
        "tree_4 = DecisionTreeClassifier(max_depth=4, random_state=0)\n",
        "tree_4.fit(X_train, y_train)\n",
        "print(\"Best Performing Accuracy of max_depth 4 : {}\".format(tree_4.score(X_test, y_test)))"
      ],
      "metadata": {
        "colab": {
          "base_uri": "https://localhost:8080/"
        },
        "id": "XspgeHrK8ka_",
        "outputId": "d1ce7df4-f6e4-4d0c-eb29-3bfb7eda0c01"
      },
      "execution_count": 319,
      "outputs": [
        {
          "output_type": "stream",
          "name": "stdout",
          "text": [
            "Best Performing Accuracy of max_depth 4 : 0.6744186046511628\n"
          ]
        }
      ]
    },
    {
      "cell_type": "code",
      "source": [
        "# worst Performing Accuracy of max_depth 2 on testing data\n",
        "tree_2 = DecisionTreeClassifier(max_depth=2, random_state=0)\n",
        "tree_2.fit(X_train, y_train)\n",
        "print(\"Worst Performing Accuracy of max_depth 2: {}\".format(tree_2.score(X_test, y_test)))"
      ],
      "metadata": {
        "colab": {
          "base_uri": "https://localhost:8080/"
        },
        "id": "Zxi7rpwM893g",
        "outputId": "6360036b-3f25-4897-c636-4993114ebb80"
      },
      "execution_count": 320,
      "outputs": [
        {
          "output_type": "stream",
          "name": "stdout",
          "text": [
            "Worst Performing Accuracy of max_depth 2: 0.6046511627906976\n"
          ]
        }
      ]
    },
    {
      "cell_type": "code",
      "source": [
        "# Confusion matrix of best performing max_depth decision tree\n",
        "confusion = confusion_matrix(y_test, tree_4.predict(X_test))\n",
        "print(\"Confusion matrix best performer max_depth 4:\\n{}\".format(confusion))"
      ],
      "metadata": {
        "colab": {
          "base_uri": "https://localhost:8080/"
        },
        "id": "jwBnypOw9gpZ",
        "outputId": "5cbdee08-7fc4-421b-d9c1-d55a7cbceedf"
      },
      "execution_count": 321,
      "outputs": [
        {
          "output_type": "stream",
          "name": "stdout",
          "text": [
            "Confusion matrix best performer max_depth 4:\n",
            "[[10  3  0  0  0  1]\n",
            " [ 2  9  0  0  4  0]\n",
            " [ 3  0  0  0  0  0]\n",
            " [ 0  1  0  2  0  0]\n",
            " [ 0  0  0  0  2  0]\n",
            " [ 0  0  0  0  0  6]]\n"
          ]
        }
      ]
    },
    {
      "cell_type": "markdown",
      "source": [
        "Confusion matrix summarizes the performance of a classification model. Rows represent the instances of a class and columns show the predicted instances in a class. Diagonal show correctly classified instances. Ones that do not fall in digonal show misclassifications.\n",
        "\n",
        "Row 1 has 10 instances correctly clasified as class 1, but 3 instance in class3 and 1 in class 6.\n",
        "In row 2, there are 9 instances correctly classifed as class 2, but 2 incorrectly classifed as class 1, and 4 incorrectly classifed as class 5.\n",
        "In row 3, there are 3 instance misclassifed as class 1, and no other instances classifed.\n",
        "Row 4 has one misclassifed as class 2, but 2 correctly classifed as class 4.\n",
        "Row 5 has 2 instances correct classifed in class 5 and zero missclassifed.\n",
        "Row 6 has 6 correct for class 6 and zero others incorrectly classified."
      ],
      "metadata": {
        "id": "anoxkJ_592Mz"
      }
    },
    {
      "cell_type": "code",
      "source": [
        "# Confusion matrix of worst performing max_depth decision tree\n",
        "confusion = confusion_matrix(y_test, tree_2.predict(X_test))\n",
        "print(\"Confusion matrix worst performer max_depth 2:\\n{}\".format(confusion))"
      ],
      "metadata": {
        "colab": {
          "base_uri": "https://localhost:8080/"
        },
        "id": "5REWuD3g9nFS",
        "outputId": "cfcfc6cf-9bb7-469c-8bd4-57bdd2c66026"
      },
      "execution_count": 322,
      "outputs": [
        {
          "output_type": "stream",
          "name": "stdout",
          "text": [
            "Confusion matrix worst performer max_depth 2:\n",
            "[[11  2  0  0  0  1]\n",
            " [ 6  9  0  0  0  0]\n",
            " [ 3  0  0  0  0  0]\n",
            " [ 1  2  0  0  0  0]\n",
            " [ 0  2  0  0  0  0]\n",
            " [ 0  0  0  0  0  6]]\n"
          ]
        }
      ]
    },
    {
      "cell_type": "markdown",
      "source": [
        "### Decision Tree Parameter Adjustment 2 : class_weight\n",
        "\n",
        "Adjust parameters using grid search for best and worst performing parameters"
      ],
      "metadata": {
        "id": "fbrMUkP97Dyv"
      }
    },
    {
      "cell_type": "markdown",
      "source": [
        "Class_weight elected to help control the imbalance seen in the previously where some classes has more instances than others. This can help reduce bias in the model."
      ],
      "metadata": {
        "id": "0_3TTFtHAJt7"
      }
    },
    {
      "cell_type": "code",
      "source": [
        "# Grid Search for class_weight on decision tree\n",
        "\n",
        "# class_weight\n",
        "param_grid = {\"class_weight\": [None, \"balanced\"]}\n",
        "\n",
        "# Grid search\n",
        "grid_search_class_weight = GridSearchCV(DecisionTreeClassifier(random_state=0), param_grid, cv=5)\n",
        "grid_search_class_weight.fit(X_train, y_train)"
      ],
      "metadata": {
        "colab": {
          "base_uri": "https://localhost:8080/",
          "height": 119
        },
        "id": "4FV37-AcAeE0",
        "outputId": "7383d132-a434-4731-f941-63341af852b0"
      },
      "execution_count": 323,
      "outputs": [
        {
          "output_type": "execute_result",
          "data": {
            "text/plain": [
              "GridSearchCV(cv=5, estimator=DecisionTreeClassifier(random_state=0),\n",
              "             param_grid={'class_weight': [None, 'balanced']})"
            ],
            "text/html": [
              "<style>#sk-container-id-43 {color: black;background-color: white;}#sk-container-id-43 pre{padding: 0;}#sk-container-id-43 div.sk-toggleable {background-color: white;}#sk-container-id-43 label.sk-toggleable__label {cursor: pointer;display: block;width: 100%;margin-bottom: 0;padding: 0.3em;box-sizing: border-box;text-align: center;}#sk-container-id-43 label.sk-toggleable__label-arrow:before {content: \"▸\";float: left;margin-right: 0.25em;color: #696969;}#sk-container-id-43 label.sk-toggleable__label-arrow:hover:before {color: black;}#sk-container-id-43 div.sk-estimator:hover label.sk-toggleable__label-arrow:before {color: black;}#sk-container-id-43 div.sk-toggleable__content {max-height: 0;max-width: 0;overflow: hidden;text-align: left;background-color: #f0f8ff;}#sk-container-id-43 div.sk-toggleable__content pre {margin: 0.2em;color: black;border-radius: 0.25em;background-color: #f0f8ff;}#sk-container-id-43 input.sk-toggleable__control:checked~div.sk-toggleable__content {max-height: 200px;max-width: 100%;overflow: auto;}#sk-container-id-43 input.sk-toggleable__control:checked~label.sk-toggleable__label-arrow:before {content: \"▾\";}#sk-container-id-43 div.sk-estimator input.sk-toggleable__control:checked~label.sk-toggleable__label {background-color: #d4ebff;}#sk-container-id-43 div.sk-label input.sk-toggleable__control:checked~label.sk-toggleable__label {background-color: #d4ebff;}#sk-container-id-43 input.sk-hidden--visually {border: 0;clip: rect(1px 1px 1px 1px);clip: rect(1px, 1px, 1px, 1px);height: 1px;margin: -1px;overflow: hidden;padding: 0;position: absolute;width: 1px;}#sk-container-id-43 div.sk-estimator {font-family: monospace;background-color: #f0f8ff;border: 1px dotted black;border-radius: 0.25em;box-sizing: border-box;margin-bottom: 0.5em;}#sk-container-id-43 div.sk-estimator:hover {background-color: #d4ebff;}#sk-container-id-43 div.sk-parallel-item::after {content: \"\";width: 100%;border-bottom: 1px solid gray;flex-grow: 1;}#sk-container-id-43 div.sk-label:hover label.sk-toggleable__label {background-color: #d4ebff;}#sk-container-id-43 div.sk-serial::before {content: \"\";position: absolute;border-left: 1px solid gray;box-sizing: border-box;top: 0;bottom: 0;left: 50%;z-index: 0;}#sk-container-id-43 div.sk-serial {display: flex;flex-direction: column;align-items: center;background-color: white;padding-right: 0.2em;padding-left: 0.2em;position: relative;}#sk-container-id-43 div.sk-item {position: relative;z-index: 1;}#sk-container-id-43 div.sk-parallel {display: flex;align-items: stretch;justify-content: center;background-color: white;position: relative;}#sk-container-id-43 div.sk-item::before, #sk-container-id-43 div.sk-parallel-item::before {content: \"\";position: absolute;border-left: 1px solid gray;box-sizing: border-box;top: 0;bottom: 0;left: 50%;z-index: -1;}#sk-container-id-43 div.sk-parallel-item {display: flex;flex-direction: column;z-index: 1;position: relative;background-color: white;}#sk-container-id-43 div.sk-parallel-item:first-child::after {align-self: flex-end;width: 50%;}#sk-container-id-43 div.sk-parallel-item:last-child::after {align-self: flex-start;width: 50%;}#sk-container-id-43 div.sk-parallel-item:only-child::after {width: 0;}#sk-container-id-43 div.sk-dashed-wrapped {border: 1px dashed gray;margin: 0 0.4em 0.5em 0.4em;box-sizing: border-box;padding-bottom: 0.4em;background-color: white;}#sk-container-id-43 div.sk-label label {font-family: monospace;font-weight: bold;display: inline-block;line-height: 1.2em;}#sk-container-id-43 div.sk-label-container {text-align: center;}#sk-container-id-43 div.sk-container {/* jupyter's `normalize.less` sets `[hidden] { display: none; }` but bootstrap.min.css set `[hidden] { display: none !important; }` so we also need the `!important` here to be able to override the default hidden behavior on the sphinx rendered scikit-learn.org. See: https://github.com/scikit-learn/scikit-learn/issues/21755 */display: inline-block !important;position: relative;}#sk-container-id-43 div.sk-text-repr-fallback {display: none;}</style><div id=\"sk-container-id-43\" class=\"sk-top-container\"><div class=\"sk-text-repr-fallback\"><pre>GridSearchCV(cv=5, estimator=DecisionTreeClassifier(random_state=0),\n",
              "             param_grid={&#x27;class_weight&#x27;: [None, &#x27;balanced&#x27;]})</pre><b>In a Jupyter environment, please rerun this cell to show the HTML representation or trust the notebook. <br />On GitHub, the HTML representation is unable to render, please try loading this page with nbviewer.org.</b></div><div class=\"sk-container\" hidden><div class=\"sk-item sk-dashed-wrapped\"><div class=\"sk-label-container\"><div class=\"sk-label sk-toggleable\"><input class=\"sk-toggleable__control sk-hidden--visually\" id=\"sk-estimator-id-125\" type=\"checkbox\" ><label for=\"sk-estimator-id-125\" class=\"sk-toggleable__label sk-toggleable__label-arrow\">GridSearchCV</label><div class=\"sk-toggleable__content\"><pre>GridSearchCV(cv=5, estimator=DecisionTreeClassifier(random_state=0),\n",
              "             param_grid={&#x27;class_weight&#x27;: [None, &#x27;balanced&#x27;]})</pre></div></div></div><div class=\"sk-parallel\"><div class=\"sk-parallel-item\"><div class=\"sk-item\"><div class=\"sk-label-container\"><div class=\"sk-label sk-toggleable\"><input class=\"sk-toggleable__control sk-hidden--visually\" id=\"sk-estimator-id-126\" type=\"checkbox\" ><label for=\"sk-estimator-id-126\" class=\"sk-toggleable__label sk-toggleable__label-arrow\">estimator: DecisionTreeClassifier</label><div class=\"sk-toggleable__content\"><pre>DecisionTreeClassifier(random_state=0)</pre></div></div></div><div class=\"sk-serial\"><div class=\"sk-item\"><div class=\"sk-estimator sk-toggleable\"><input class=\"sk-toggleable__control sk-hidden--visually\" id=\"sk-estimator-id-127\" type=\"checkbox\" ><label for=\"sk-estimator-id-127\" class=\"sk-toggleable__label sk-toggleable__label-arrow\">DecisionTreeClassifier</label><div class=\"sk-toggleable__content\"><pre>DecisionTreeClassifier(random_state=0)</pre></div></div></div></div></div></div></div></div></div></div>"
            ]
          },
          "metadata": {},
          "execution_count": 323
        }
      ]
    },
    {
      "cell_type": "code",
      "source": [
        "# Best performing\n",
        "print(\"Best parameters found: \", grid_search_class_weight.best_params_)"
      ],
      "metadata": {
        "colab": {
          "base_uri": "https://localhost:8080/"
        },
        "id": "FbAPvkDbAirQ",
        "outputId": "02a7228c-2271-490f-e93d-0cc171a816a7"
      },
      "execution_count": 324,
      "outputs": [
        {
          "output_type": "stream",
          "name": "stdout",
          "text": [
            "Best parameters found:  {'class_weight': 'balanced'}\n"
          ]
        }
      ]
    },
    {
      "cell_type": "code",
      "source": [
        "# Accuracy of best performing with class_weight\n",
        "print(\"Accuracy of best parameters found: \", grid_search_class_weight.best_score_)"
      ],
      "metadata": {
        "colab": {
          "base_uri": "https://localhost:8080/"
        },
        "id": "ZM8gC41zAm0U",
        "outputId": "3cfc388c-0758-4636-d476-19294e183990"
      },
      "execution_count": 325,
      "outputs": [
        {
          "output_type": "stream",
          "name": "stdout",
          "text": [
            "Accuracy of best parameters found:  0.6376470588235295\n"
          ]
        }
      ]
    },
    {
      "cell_type": "code",
      "source": [
        "# Cross validation results with max_features\n",
        "grid_search_class_weight.cv_results_"
      ],
      "metadata": {
        "colab": {
          "base_uri": "https://localhost:8080/"
        },
        "id": "vqL90YPkAsGi",
        "outputId": "83176ad4-5d74-476f-8378-2547e7b3379e"
      },
      "execution_count": 326,
      "outputs": [
        {
          "output_type": "execute_result",
          "data": {
            "text/plain": [
              "{'mean_fit_time': array([0.00346012, 0.00474439]),\n",
              " 'std_fit_time': array([0.00073534, 0.0009397 ]),\n",
              " 'mean_score_time': array([0.00197797, 0.00243635]),\n",
              " 'std_score_time': array([0.00031951, 0.00055425]),\n",
              " 'param_class_weight': masked_array(data=[None, 'balanced'],\n",
              "              mask=[False, False],\n",
              "        fill_value='?',\n",
              "             dtype=object),\n",
              " 'params': [{'class_weight': None}, {'class_weight': 'balanced'}],\n",
              " 'split0_test_score': array([0.62857143, 0.6       ]),\n",
              " 'split1_test_score': array([0.58823529, 0.47058824]),\n",
              " 'split2_test_score': array([0.67647059, 0.73529412]),\n",
              " 'split3_test_score': array([0.76470588, 0.70588235]),\n",
              " 'split4_test_score': array([0.5       , 0.67647059]),\n",
              " 'mean_test_score': array([0.63159664, 0.63764706]),\n",
              " 'std_test_score': array([0.08824826, 0.09489386]),\n",
              " 'rank_test_score': array([2, 1], dtype=int32)}"
            ]
          },
          "metadata": {},
          "execution_count": 326
        }
      ]
    },
    {
      "cell_type": "markdown",
      "source": [
        "Showing Balanced as the best parametered and None as the worst performing parameter."
      ],
      "metadata": {
        "id": "E2Ns8tZGA5Z1"
      }
    },
    {
      "cell_type": "code",
      "source": [
        "# Best Performing Accuracy of class_weight balanced on testing data\n",
        "tree_balanced = DecisionTreeClassifier(class_weight='balanced', random_state=0)\n",
        "tree_balanced.fit(X_train, y_train)\n",
        "print(\"Accuracy of Balanced: {}\".format(tree_balanced.score(X_test, y_test)))"
      ],
      "metadata": {
        "colab": {
          "base_uri": "https://localhost:8080/"
        },
        "id": "-iwUelSVA-Mi",
        "outputId": "a1da6f8a-efe4-4896-ada9-0ed84074e48b"
      },
      "execution_count": 327,
      "outputs": [
        {
          "output_type": "stream",
          "name": "stdout",
          "text": [
            "Accuracy of Balanced: 0.627906976744186\n"
          ]
        }
      ]
    },
    {
      "cell_type": "code",
      "source": [
        "# worst Performing Accuracy of class_weight None on testing data\n",
        "tree_none = DecisionTreeClassifier(class_weight=None, random_state=0)\n",
        "tree_none.fit(X_train, y_train)\n",
        "print(\"Accuracy of None: {}\".format(tree_none.score(X_test, y_test)))"
      ],
      "metadata": {
        "colab": {
          "base_uri": "https://localhost:8080/"
        },
        "id": "XDYLvqN0BCEp",
        "outputId": "8939517c-c51e-4199-826b-9fc39ce62743"
      },
      "execution_count": 328,
      "outputs": [
        {
          "output_type": "stream",
          "name": "stdout",
          "text": [
            "Accuracy of None: 0.6511627906976745\n"
          ]
        }
      ]
    },
    {
      "cell_type": "markdown",
      "source": [
        "Accuracy of none is higher than balanced, even though it said balanced was a better paramet. When examining the cross validation the mean_test_score is showing they they have about the same score. this could be why the accuracy is not showing what was expected. Even though this occured it still may benefit the model to have a class_weight of balance and provide better generalization. It may also not be as beneficial as expected due to decision trees not being greatly impacted by an umbalanced distribution."
      ],
      "metadata": {
        "id": "sHiBxQAQE5p9"
      }
    },
    {
      "cell_type": "code",
      "source": [
        "# Confusion matrix of best performing class_weight balanced decision tree\n",
        "\n",
        "confusion = confusion_matrix(y_test, tree_balanced.predict(X_test))\n",
        "print(\"Confusion matrix class_weight balanced:\\n{}\".format(confusion))"
      ],
      "metadata": {
        "colab": {
          "base_uri": "https://localhost:8080/"
        },
        "id": "BgzbwgMuF0Ms",
        "outputId": "2a31582f-e541-46e1-ade0-338216a99f61"
      },
      "execution_count": 329,
      "outputs": [
        {
          "output_type": "stream",
          "name": "stdout",
          "text": [
            "Confusion matrix class_weight balanced:\n",
            "[[10  2  2  0  0  0]\n",
            " [ 4  6  2  0  1  2]\n",
            " [ 0  0  3  0  0  0]\n",
            " [ 0  0  0  2  0  1]\n",
            " [ 0  0  0  0  2  0]\n",
            " [ 0  1  0  1  0  4]]\n"
          ]
        }
      ]
    },
    {
      "cell_type": "code",
      "source": [
        "# Confusion matrix of worst performing class_weight none decision tree\n",
        "\n",
        "confusion = confusion_matrix(y_test, tree_none.predict(X_test))\n",
        "print(\"Confusion matrix class_weight None:\\n{}\".format(confusion))"
      ],
      "metadata": {
        "colab": {
          "base_uri": "https://localhost:8080/"
        },
        "id": "7O5hxuZBF-uP",
        "outputId": "8d77f83b-fb6a-4288-c73a-31927efea70c"
      },
      "execution_count": 330,
      "outputs": [
        {
          "output_type": "stream",
          "name": "stdout",
          "text": [
            "Confusion matrix class_weight None:\n",
            "[[8 2 3 0 0 1]\n",
            " [1 8 2 0 4 0]\n",
            " [1 0 2 0 0 0]\n",
            " [0 1 0 2 0 0]\n",
            " [0 0 0 0 2 0]\n",
            " [0 0 0 0 0 6]]\n"
          ]
        }
      ]
    },
    {
      "cell_type": "markdown",
      "source": [
        "### Decision Tree Parameter Adjustment 3 : max_leaf_nodes\n",
        "\n",
        "Adjust parameters using grid search for best and worst performing parameters"
      ],
      "metadata": {
        "id": "0dsrSf4SGt3p"
      }
    },
    {
      "cell_type": "markdown",
      "source": [
        "max_leaf_nodes parameter adjustment elected as it can limit complexity and help precent overfitting. This will limited the number of times the leaf nodes are created to improve accuracy."
      ],
      "metadata": {
        "id": "a4psPg2FGx5I"
      }
    },
    {
      "cell_type": "code",
      "source": [
        "# Grid Search for max_leaf_nodes on decision tree\n",
        "\n",
        "# parameters for max_leaf_nodes\n",
        "param_grid = {\"max_leaf_nodes\": [None, 5, 10, 15, 20]}\n",
        "\n",
        "# Grid search\n",
        "grid_search_max_leaf_nodes = GridSearchCV(DecisionTreeClassifier(random_state=0), param_grid, cv=5)\n",
        "grid_search_max_leaf_nodes.fit(X_train, y_train)"
      ],
      "metadata": {
        "colab": {
          "base_uri": "https://localhost:8080/",
          "height": 119
        },
        "id": "vBovKEhAHL75",
        "outputId": "ed1dbe18-6afc-47fc-e8c5-c3ac41119039"
      },
      "execution_count": 331,
      "outputs": [
        {
          "output_type": "execute_result",
          "data": {
            "text/plain": [
              "GridSearchCV(cv=5, estimator=DecisionTreeClassifier(random_state=0),\n",
              "             param_grid={'max_leaf_nodes': [None, 5, 10, 15, 20]})"
            ],
            "text/html": [
              "<style>#sk-container-id-44 {color: black;background-color: white;}#sk-container-id-44 pre{padding: 0;}#sk-container-id-44 div.sk-toggleable {background-color: white;}#sk-container-id-44 label.sk-toggleable__label {cursor: pointer;display: block;width: 100%;margin-bottom: 0;padding: 0.3em;box-sizing: border-box;text-align: center;}#sk-container-id-44 label.sk-toggleable__label-arrow:before {content: \"▸\";float: left;margin-right: 0.25em;color: #696969;}#sk-container-id-44 label.sk-toggleable__label-arrow:hover:before {color: black;}#sk-container-id-44 div.sk-estimator:hover label.sk-toggleable__label-arrow:before {color: black;}#sk-container-id-44 div.sk-toggleable__content {max-height: 0;max-width: 0;overflow: hidden;text-align: left;background-color: #f0f8ff;}#sk-container-id-44 div.sk-toggleable__content pre {margin: 0.2em;color: black;border-radius: 0.25em;background-color: #f0f8ff;}#sk-container-id-44 input.sk-toggleable__control:checked~div.sk-toggleable__content {max-height: 200px;max-width: 100%;overflow: auto;}#sk-container-id-44 input.sk-toggleable__control:checked~label.sk-toggleable__label-arrow:before {content: \"▾\";}#sk-container-id-44 div.sk-estimator input.sk-toggleable__control:checked~label.sk-toggleable__label {background-color: #d4ebff;}#sk-container-id-44 div.sk-label input.sk-toggleable__control:checked~label.sk-toggleable__label {background-color: #d4ebff;}#sk-container-id-44 input.sk-hidden--visually {border: 0;clip: rect(1px 1px 1px 1px);clip: rect(1px, 1px, 1px, 1px);height: 1px;margin: -1px;overflow: hidden;padding: 0;position: absolute;width: 1px;}#sk-container-id-44 div.sk-estimator {font-family: monospace;background-color: #f0f8ff;border: 1px dotted black;border-radius: 0.25em;box-sizing: border-box;margin-bottom: 0.5em;}#sk-container-id-44 div.sk-estimator:hover {background-color: #d4ebff;}#sk-container-id-44 div.sk-parallel-item::after {content: \"\";width: 100%;border-bottom: 1px solid gray;flex-grow: 1;}#sk-container-id-44 div.sk-label:hover label.sk-toggleable__label {background-color: #d4ebff;}#sk-container-id-44 div.sk-serial::before {content: \"\";position: absolute;border-left: 1px solid gray;box-sizing: border-box;top: 0;bottom: 0;left: 50%;z-index: 0;}#sk-container-id-44 div.sk-serial {display: flex;flex-direction: column;align-items: center;background-color: white;padding-right: 0.2em;padding-left: 0.2em;position: relative;}#sk-container-id-44 div.sk-item {position: relative;z-index: 1;}#sk-container-id-44 div.sk-parallel {display: flex;align-items: stretch;justify-content: center;background-color: white;position: relative;}#sk-container-id-44 div.sk-item::before, #sk-container-id-44 div.sk-parallel-item::before {content: \"\";position: absolute;border-left: 1px solid gray;box-sizing: border-box;top: 0;bottom: 0;left: 50%;z-index: -1;}#sk-container-id-44 div.sk-parallel-item {display: flex;flex-direction: column;z-index: 1;position: relative;background-color: white;}#sk-container-id-44 div.sk-parallel-item:first-child::after {align-self: flex-end;width: 50%;}#sk-container-id-44 div.sk-parallel-item:last-child::after {align-self: flex-start;width: 50%;}#sk-container-id-44 div.sk-parallel-item:only-child::after {width: 0;}#sk-container-id-44 div.sk-dashed-wrapped {border: 1px dashed gray;margin: 0 0.4em 0.5em 0.4em;box-sizing: border-box;padding-bottom: 0.4em;background-color: white;}#sk-container-id-44 div.sk-label label {font-family: monospace;font-weight: bold;display: inline-block;line-height: 1.2em;}#sk-container-id-44 div.sk-label-container {text-align: center;}#sk-container-id-44 div.sk-container {/* jupyter's `normalize.less` sets `[hidden] { display: none; }` but bootstrap.min.css set `[hidden] { display: none !important; }` so we also need the `!important` here to be able to override the default hidden behavior on the sphinx rendered scikit-learn.org. See: https://github.com/scikit-learn/scikit-learn/issues/21755 */display: inline-block !important;position: relative;}#sk-container-id-44 div.sk-text-repr-fallback {display: none;}</style><div id=\"sk-container-id-44\" class=\"sk-top-container\"><div class=\"sk-text-repr-fallback\"><pre>GridSearchCV(cv=5, estimator=DecisionTreeClassifier(random_state=0),\n",
              "             param_grid={&#x27;max_leaf_nodes&#x27;: [None, 5, 10, 15, 20]})</pre><b>In a Jupyter environment, please rerun this cell to show the HTML representation or trust the notebook. <br />On GitHub, the HTML representation is unable to render, please try loading this page with nbviewer.org.</b></div><div class=\"sk-container\" hidden><div class=\"sk-item sk-dashed-wrapped\"><div class=\"sk-label-container\"><div class=\"sk-label sk-toggleable\"><input class=\"sk-toggleable__control sk-hidden--visually\" id=\"sk-estimator-id-128\" type=\"checkbox\" ><label for=\"sk-estimator-id-128\" class=\"sk-toggleable__label sk-toggleable__label-arrow\">GridSearchCV</label><div class=\"sk-toggleable__content\"><pre>GridSearchCV(cv=5, estimator=DecisionTreeClassifier(random_state=0),\n",
              "             param_grid={&#x27;max_leaf_nodes&#x27;: [None, 5, 10, 15, 20]})</pre></div></div></div><div class=\"sk-parallel\"><div class=\"sk-parallel-item\"><div class=\"sk-item\"><div class=\"sk-label-container\"><div class=\"sk-label sk-toggleable\"><input class=\"sk-toggleable__control sk-hidden--visually\" id=\"sk-estimator-id-129\" type=\"checkbox\" ><label for=\"sk-estimator-id-129\" class=\"sk-toggleable__label sk-toggleable__label-arrow\">estimator: DecisionTreeClassifier</label><div class=\"sk-toggleable__content\"><pre>DecisionTreeClassifier(random_state=0)</pre></div></div></div><div class=\"sk-serial\"><div class=\"sk-item\"><div class=\"sk-estimator sk-toggleable\"><input class=\"sk-toggleable__control sk-hidden--visually\" id=\"sk-estimator-id-130\" type=\"checkbox\" ><label for=\"sk-estimator-id-130\" class=\"sk-toggleable__label sk-toggleable__label-arrow\">DecisionTreeClassifier</label><div class=\"sk-toggleable__content\"><pre>DecisionTreeClassifier(random_state=0)</pre></div></div></div></div></div></div></div></div></div></div>"
            ]
          },
          "metadata": {},
          "execution_count": 331
        }
      ]
    },
    {
      "cell_type": "code",
      "source": [
        "# Best performing\n",
        "print(\"Best parameters found: \", grid_search_max_leaf_nodes.best_params_)"
      ],
      "metadata": {
        "colab": {
          "base_uri": "https://localhost:8080/"
        },
        "id": "1vPaR_lOHrUL",
        "outputId": "41fd687a-37c1-4ec4-ae50-31fa366e7e30"
      },
      "execution_count": 332,
      "outputs": [
        {
          "output_type": "stream",
          "name": "stdout",
          "text": [
            "Best parameters found:  {'max_leaf_nodes': 5}\n"
          ]
        }
      ]
    },
    {
      "cell_type": "code",
      "source": [
        "# Accuracy of best performing with max_leaf_nodes\n",
        "print(\"Accuracy of best parameters found: \", grid_search_max_leaf_nodes.best_score_)"
      ],
      "metadata": {
        "colab": {
          "base_uri": "https://localhost:8080/"
        },
        "id": "tEUdqUQUHuUo",
        "outputId": "9687a408-174f-44cd-e705-c08fc07ea1e5"
      },
      "execution_count": 333,
      "outputs": [
        {
          "output_type": "stream",
          "name": "stdout",
          "text": [
            "Accuracy of best parameters found:  0.6845378151260505\n"
          ]
        }
      ]
    },
    {
      "cell_type": "code",
      "source": [
        "# Cross validation results with max_leaf_nodes\n",
        "grid_search_max_leaf_nodes.cv_results_"
      ],
      "metadata": {
        "colab": {
          "base_uri": "https://localhost:8080/"
        },
        "id": "CBW9kdKyHwfK",
        "outputId": "8b01578e-d00c-4273-feb7-2f72db53af4f"
      },
      "execution_count": 334,
      "outputs": [
        {
          "output_type": "execute_result",
          "data": {
            "text/plain": [
              "{'mean_fit_time': array([0.004597  , 0.00326371, 0.00333691, 0.00317135, 0.00315719]),\n",
              " 'std_fit_time': array([1.76698099e-03, 5.49386706e-04, 2.62569462e-04, 7.04651102e-05,\n",
              "        1.31303794e-04]),\n",
              " 'mean_score_time': array([0.00203662, 0.00198874, 0.00196357, 0.00194302, 0.00251222]),\n",
              " 'std_score_time': array([1.62376839e-04, 1.24352475e-04, 1.27294214e-04, 6.36418819e-05,\n",
              "        1.26228738e-03]),\n",
              " 'param_max_leaf_nodes': masked_array(data=[None, 5, 10, 15, 20],\n",
              "              mask=[False, False, False, False, False],\n",
              "        fill_value='?',\n",
              "             dtype=object),\n",
              " 'params': [{'max_leaf_nodes': None},\n",
              "  {'max_leaf_nodes': 5},\n",
              "  {'max_leaf_nodes': 10},\n",
              "  {'max_leaf_nodes': 15},\n",
              "  {'max_leaf_nodes': 20}],\n",
              " 'split0_test_score': array([0.62857143, 0.62857143, 0.48571429, 0.42857143, 0.45714286]),\n",
              " 'split1_test_score': array([0.58823529, 0.64705882, 0.58823529, 0.64705882, 0.61764706]),\n",
              " 'split2_test_score': array([0.67647059, 0.73529412, 0.64705882, 0.70588235, 0.67647059]),\n",
              " 'split3_test_score': array([0.76470588, 0.73529412, 0.67647059, 0.73529412, 0.73529412]),\n",
              " 'split4_test_score': array([0.5       , 0.67647059, 0.58823529, 0.5       , 0.58823529]),\n",
              " 'mean_test_score': array([0.63159664, 0.68453782, 0.59714286, 0.60336134, 0.61495798]),\n",
              " 'std_test_score': array([0.08824826, 0.04416876, 0.06535979, 0.11921524, 0.09369262]),\n",
              " 'rank_test_score': array([2, 1, 5, 4, 3], dtype=int32)}"
            ]
          },
          "metadata": {},
          "execution_count": 334
        }
      ]
    },
    {
      "cell_type": "markdown",
      "source": [
        "Showing that 5 is the best amount max_leaf_nodes, followed by None. The worst is 10."
      ],
      "metadata": {
        "id": "s_GELbS9H62i"
      }
    },
    {
      "cell_type": "code",
      "source": [
        "# Best Performing Accuracy of max_leaf_nodes 5 on testing data\n",
        "tree_max_leaf_nodes_5 = DecisionTreeClassifier(max_leaf_nodes=5, random_state=0)\n",
        "tree_max_leaf_nodes_5.fit(X_train, y_train)\n",
        "print(\"Accuracy of Balanced: {}\".format(tree_max_leaf_nodes_5.score(X_test, y_test)))"
      ],
      "metadata": {
        "colab": {
          "base_uri": "https://localhost:8080/"
        },
        "id": "eSAde7HcIGJz",
        "outputId": "27ebb1af-ba21-440c-ea65-0348d1970deb"
      },
      "execution_count": 335,
      "outputs": [
        {
          "output_type": "stream",
          "name": "stdout",
          "text": [
            "Accuracy of Balanced: 0.6976744186046512\n"
          ]
        }
      ]
    },
    {
      "cell_type": "code",
      "source": [
        "# worst Performing Accuracy of max_leaf_nodes None on testing data\n",
        "tree_max_leaf_nodes_none = DecisionTreeClassifier(class_weight=None, random_state=0)\n",
        "tree_max_leaf_nodes_none.fit(X_train, y_train)\n",
        "print(\"Accuracy of None: {}\".format(tree_max_leaf_nodes_none.score(X_test, y_test)))"
      ],
      "metadata": {
        "colab": {
          "base_uri": "https://localhost:8080/"
        },
        "id": "NGGabFOeIIQ-",
        "outputId": "cb436574-5622-426f-e31b-01ee76c89c92"
      },
      "execution_count": 336,
      "outputs": [
        {
          "output_type": "stream",
          "name": "stdout",
          "text": [
            "Accuracy of None: 0.6511627906976745\n"
          ]
        }
      ]
    },
    {
      "cell_type": "code",
      "source": [
        "# Confusion matrix of best performing max_leaf_nodes 5 decision tree\n",
        "\n",
        "confusion = confusion_matrix(y_test, tree_balanced.predict(X_test))\n",
        "print(\"Confusion matrix max_leaf_nodes 5:\\n{}\".format(confusion))"
      ],
      "metadata": {
        "colab": {
          "base_uri": "https://localhost:8080/"
        },
        "id": "bf168l0xIKUZ",
        "outputId": "a8ffb9d4-639f-41d9-ae5c-602c6b2af743"
      },
      "execution_count": 337,
      "outputs": [
        {
          "output_type": "stream",
          "name": "stdout",
          "text": [
            "Confusion matrix max_leaf_nodes 5:\n",
            "[[10  2  2  0  0  0]\n",
            " [ 4  6  2  0  1  2]\n",
            " [ 0  0  3  0  0  0]\n",
            " [ 0  0  0  2  0  1]\n",
            " [ 0  0  0  0  2  0]\n",
            " [ 0  1  0  1  0  4]]\n"
          ]
        }
      ]
    },
    {
      "cell_type": "code",
      "source": [
        "# Confusion matrix of worst performing max_leaf_nodes_none decision tree\n",
        "\n",
        "confusion = confusion_matrix(y_test, tree_max_leaf_nodes_none.predict(X_test))\n",
        "print(\"Confusion matrix max_leaf_nodes None:\\n{}\".format(confusion))"
      ],
      "metadata": {
        "colab": {
          "base_uri": "https://localhost:8080/"
        },
        "id": "VkShBH8AIL_6",
        "outputId": "6af7f8fa-b910-4fff-99fb-1e8828ea0cc3"
      },
      "execution_count": 338,
      "outputs": [
        {
          "output_type": "stream",
          "name": "stdout",
          "text": [
            "Confusion matrix max_leaf_nodes None:\n",
            "[[8 2 3 0 0 1]\n",
            " [1 8 2 0 4 0]\n",
            " [1 0 2 0 0 0]\n",
            " [0 1 0 2 0 0]\n",
            " [0 0 0 0 2 0]\n",
            " [0 0 0 0 0 6]]\n"
          ]
        }
      ]
    },
    {
      "cell_type": "markdown",
      "source": [
        "### K-Nearest Neighbors Default Parameters\n",
        "\n",
        "*   Calculate precision, recall, and F1 for both Testing and Training sets\n"
      ],
      "metadata": {
        "id": "kMdSQlhZNxR8"
      }
    },
    {
      "cell_type": "markdown",
      "source": [
        "Classification Report\n",
        "\n",
        "Similar as the decision tree, class 4 will be omitted as it does not exist in the dataset."
      ],
      "metadata": {
        "id": "fgGutb57OIxO"
      }
    },
    {
      "cell_type": "code",
      "source": [
        "# Examine Classification Report on testing set, omitting \"class 4\"\n",
        "print(\"Classification Report for KNN on testing set:\")\n",
        "print(classification_report(y_test, knn.predict(X_test),\n",
        "                            target_names=[\"class 1\", \"class 2\",\"class 3\", \"class 5\", \"class 6\", \"class 7\"]))"
      ],
      "metadata": {
        "colab": {
          "base_uri": "https://localhost:8080/"
        },
        "id": "C4T6ZTbZOZd_",
        "outputId": "af35f3d7-e9b8-47ce-aee9-f2913dbb5bc4"
      },
      "execution_count": 339,
      "outputs": [
        {
          "output_type": "stream",
          "name": "stdout",
          "text": [
            "Classification Report for KNN on testing set:\n",
            "              precision    recall  f1-score   support\n",
            "\n",
            "     class 1       0.00      0.00      0.00        14\n",
            "     class 2       0.00      0.00      0.00        15\n",
            "     class 3       0.00      0.00      0.00         3\n",
            "     class 5       0.25      1.00      0.40         3\n",
            "     class 6       0.00      0.00      0.00         2\n",
            "     class 7       0.10      0.50      0.16         6\n",
            "\n",
            "    accuracy                           0.14        43\n",
            "   macro avg       0.06      0.25      0.09        43\n",
            "weighted avg       0.03      0.14      0.05        43\n",
            "\n"
          ]
        },
        {
          "output_type": "stream",
          "name": "stderr",
          "text": [
            "/usr/local/lib/python3.10/dist-packages/sklearn/metrics/_classification.py:1344: UndefinedMetricWarning: Precision and F-score are ill-defined and being set to 0.0 in labels with no predicted samples. Use `zero_division` parameter to control this behavior.\n",
            "  _warn_prf(average, modifier, msg_start, len(result))\n",
            "/usr/local/lib/python3.10/dist-packages/sklearn/metrics/_classification.py:1344: UndefinedMetricWarning: Precision and F-score are ill-defined and being set to 0.0 in labels with no predicted samples. Use `zero_division` parameter to control this behavior.\n",
            "  _warn_prf(average, modifier, msg_start, len(result))\n",
            "/usr/local/lib/python3.10/dist-packages/sklearn/metrics/_classification.py:1344: UndefinedMetricWarning: Precision and F-score are ill-defined and being set to 0.0 in labels with no predicted samples. Use `zero_division` parameter to control this behavior.\n",
            "  _warn_prf(average, modifier, msg_start, len(result))\n"
          ]
        }
      ]
    },
    {
      "cell_type": "code",
      "source": [
        "# Examine Classification Report on training set, omitting \"class 4\"\n",
        "print(\"Classification Report for KNN on training set:\")\n",
        "print(classification_report(y_train, knn.predict(X_train),\n",
        "                            target_names=[\"class 1\", \"class 2\",\"class 3\", \"class 5\", \"class 6\", \"class 7\"]))"
      ],
      "metadata": {
        "colab": {
          "base_uri": "https://localhost:8080/"
        },
        "id": "oCrpqjSxOkyE",
        "outputId": "2699d3ce-c1e5-4a10-bbdd-07bcaf5881a2"
      },
      "execution_count": 340,
      "outputs": [
        {
          "output_type": "stream",
          "name": "stdout",
          "text": [
            "Classification Report for KNN on training set:\n",
            "              precision    recall  f1-score   support\n",
            "\n",
            "     class 1       0.00      0.00      0.00        56\n",
            "     class 2       0.00      0.00      0.00        61\n",
            "     class 3       0.00      0.00      0.00        14\n",
            "     class 5       0.25      0.90      0.39        10\n",
            "     class 6       0.67      0.29      0.40         7\n",
            "     class 7       0.09      0.52      0.15        23\n",
            "\n",
            "    accuracy                           0.13       171\n",
            "   macro avg       0.17      0.28      0.16       171\n",
            "weighted avg       0.05      0.13      0.06       171\n",
            "\n"
          ]
        },
        {
          "output_type": "stream",
          "name": "stderr",
          "text": [
            "/usr/local/lib/python3.10/dist-packages/sklearn/metrics/_classification.py:1344: UndefinedMetricWarning: Precision and F-score are ill-defined and being set to 0.0 in labels with no predicted samples. Use `zero_division` parameter to control this behavior.\n",
            "  _warn_prf(average, modifier, msg_start, len(result))\n",
            "/usr/local/lib/python3.10/dist-packages/sklearn/metrics/_classification.py:1344: UndefinedMetricWarning: Precision and F-score are ill-defined and being set to 0.0 in labels with no predicted samples. Use `zero_division` parameter to control this behavior.\n",
            "  _warn_prf(average, modifier, msg_start, len(result))\n",
            "/usr/local/lib/python3.10/dist-packages/sklearn/metrics/_classification.py:1344: UndefinedMetricWarning: Precision and F-score are ill-defined and being set to 0.0 in labels with no predicted samples. Use `zero_division` parameter to control this behavior.\n",
            "  _warn_prf(average, modifier, msg_start, len(result))\n"
          ]
        }
      ]
    },
    {
      "cell_type": "markdown",
      "source": [
        "### K-Nearest Neighbors using Cross Validation on entire Dataset"
      ],
      "metadata": {
        "id": "c12vE34PPafr"
      }
    },
    {
      "cell_type": "code",
      "source": [
        "# Instantiate the KNN classifier\n",
        "knn_cv = KNeighborsClassifier()\n",
        "\n",
        "# Perform 5-fold cross-validation on the entire dataset\n",
        "cv_scores_all = cross_val_score(knn_cv, X, y, cv=5)\n",
        "\n",
        "# Print cross-validation scores and mean\n",
        "print(\"cv_scores:\\n{}\".format(cv_scores_all))\n",
        "print(\"cv_scores mean:\\n{}\".format(np.mean(cv_scores_all)))"
      ],
      "metadata": {
        "colab": {
          "base_uri": "https://localhost:8080/"
        },
        "id": "Lz1r4xQUPTPx",
        "outputId": "0c311418-0794-4c84-e042-aa86a5f64c03"
      },
      "execution_count": 341,
      "outputs": [
        {
          "output_type": "stream",
          "name": "stdout",
          "text": [
            "cv_scores:\n",
            "[0.53488372 0.62790698 0.60465116 0.58139535 0.71428571]\n",
            "cv_scores mean:\n",
            "0.612624584717608\n"
          ]
        }
      ]
    },
    {
      "cell_type": "markdown",
      "source": [
        "Cross Validation show how well the model preforms on each fold of the split. The cv_score mean of ~61% indicates that the KNN model is accurately predicting the class labels 61% of time during cross validation. This indicates room for improvement in the model."
      ],
      "metadata": {
        "id": "p9CZyoORPpZ7"
      }
    },
    {
      "cell_type": "markdown",
      "source": [
        "### K-Nearest Neighbor Parameter Adjustment 1 : n_neighbors\n",
        "Adjust parameters using grid search for best and worst performing parameters"
      ],
      "metadata": {
        "id": "NTwklXU-QFix"
      }
    },
    {
      "cell_type": "markdown",
      "source": [
        "It is important to adjust n_neighbors when using KNN because it helps to determine the number of neighbors used for classification. Below will examine what is the best number to set n_neighbors to."
      ],
      "metadata": {
        "id": "zSiGCm00QtWY"
      }
    },
    {
      "cell_type": "code",
      "source": [
        "# Dictionary of all values of k\n",
        "param_grid = {\"n_neighbors\": np.arange(1, 25)}\n",
        "\n",
        "# Grid search on all values of k in dictionary\n",
        "knn_gscv = GridSearchCV(knn, param_grid, cv=5)\n",
        "knn_gscv.fit(X_train_scaled, y_train)"
      ],
      "metadata": {
        "colab": {
          "base_uri": "https://localhost:8080/",
          "height": 119
        },
        "id": "PhlcDhNiQrCO",
        "outputId": "871183dc-5d0f-4f07-f8d9-19285aa71617"
      },
      "execution_count": 342,
      "outputs": [
        {
          "output_type": "execute_result",
          "data": {
            "text/plain": [
              "GridSearchCV(cv=5, estimator=KNeighborsClassifier(),\n",
              "             param_grid={'n_neighbors': array([ 1,  2,  3,  4,  5,  6,  7,  8,  9, 10, 11, 12, 13, 14, 15, 16, 17,\n",
              "       18, 19, 20, 21, 22, 23, 24])})"
            ],
            "text/html": [
              "<style>#sk-container-id-45 {color: black;background-color: white;}#sk-container-id-45 pre{padding: 0;}#sk-container-id-45 div.sk-toggleable {background-color: white;}#sk-container-id-45 label.sk-toggleable__label {cursor: pointer;display: block;width: 100%;margin-bottom: 0;padding: 0.3em;box-sizing: border-box;text-align: center;}#sk-container-id-45 label.sk-toggleable__label-arrow:before {content: \"▸\";float: left;margin-right: 0.25em;color: #696969;}#sk-container-id-45 label.sk-toggleable__label-arrow:hover:before {color: black;}#sk-container-id-45 div.sk-estimator:hover label.sk-toggleable__label-arrow:before {color: black;}#sk-container-id-45 div.sk-toggleable__content {max-height: 0;max-width: 0;overflow: hidden;text-align: left;background-color: #f0f8ff;}#sk-container-id-45 div.sk-toggleable__content pre {margin: 0.2em;color: black;border-radius: 0.25em;background-color: #f0f8ff;}#sk-container-id-45 input.sk-toggleable__control:checked~div.sk-toggleable__content {max-height: 200px;max-width: 100%;overflow: auto;}#sk-container-id-45 input.sk-toggleable__control:checked~label.sk-toggleable__label-arrow:before {content: \"▾\";}#sk-container-id-45 div.sk-estimator input.sk-toggleable__control:checked~label.sk-toggleable__label {background-color: #d4ebff;}#sk-container-id-45 div.sk-label input.sk-toggleable__control:checked~label.sk-toggleable__label {background-color: #d4ebff;}#sk-container-id-45 input.sk-hidden--visually {border: 0;clip: rect(1px 1px 1px 1px);clip: rect(1px, 1px, 1px, 1px);height: 1px;margin: -1px;overflow: hidden;padding: 0;position: absolute;width: 1px;}#sk-container-id-45 div.sk-estimator {font-family: monospace;background-color: #f0f8ff;border: 1px dotted black;border-radius: 0.25em;box-sizing: border-box;margin-bottom: 0.5em;}#sk-container-id-45 div.sk-estimator:hover {background-color: #d4ebff;}#sk-container-id-45 div.sk-parallel-item::after {content: \"\";width: 100%;border-bottom: 1px solid gray;flex-grow: 1;}#sk-container-id-45 div.sk-label:hover label.sk-toggleable__label {background-color: #d4ebff;}#sk-container-id-45 div.sk-serial::before {content: \"\";position: absolute;border-left: 1px solid gray;box-sizing: border-box;top: 0;bottom: 0;left: 50%;z-index: 0;}#sk-container-id-45 div.sk-serial {display: flex;flex-direction: column;align-items: center;background-color: white;padding-right: 0.2em;padding-left: 0.2em;position: relative;}#sk-container-id-45 div.sk-item {position: relative;z-index: 1;}#sk-container-id-45 div.sk-parallel {display: flex;align-items: stretch;justify-content: center;background-color: white;position: relative;}#sk-container-id-45 div.sk-item::before, #sk-container-id-45 div.sk-parallel-item::before {content: \"\";position: absolute;border-left: 1px solid gray;box-sizing: border-box;top: 0;bottom: 0;left: 50%;z-index: -1;}#sk-container-id-45 div.sk-parallel-item {display: flex;flex-direction: column;z-index: 1;position: relative;background-color: white;}#sk-container-id-45 div.sk-parallel-item:first-child::after {align-self: flex-end;width: 50%;}#sk-container-id-45 div.sk-parallel-item:last-child::after {align-self: flex-start;width: 50%;}#sk-container-id-45 div.sk-parallel-item:only-child::after {width: 0;}#sk-container-id-45 div.sk-dashed-wrapped {border: 1px dashed gray;margin: 0 0.4em 0.5em 0.4em;box-sizing: border-box;padding-bottom: 0.4em;background-color: white;}#sk-container-id-45 div.sk-label label {font-family: monospace;font-weight: bold;display: inline-block;line-height: 1.2em;}#sk-container-id-45 div.sk-label-container {text-align: center;}#sk-container-id-45 div.sk-container {/* jupyter's `normalize.less` sets `[hidden] { display: none; }` but bootstrap.min.css set `[hidden] { display: none !important; }` so we also need the `!important` here to be able to override the default hidden behavior on the sphinx rendered scikit-learn.org. See: https://github.com/scikit-learn/scikit-learn/issues/21755 */display: inline-block !important;position: relative;}#sk-container-id-45 div.sk-text-repr-fallback {display: none;}</style><div id=\"sk-container-id-45\" class=\"sk-top-container\"><div class=\"sk-text-repr-fallback\"><pre>GridSearchCV(cv=5, estimator=KNeighborsClassifier(),\n",
              "             param_grid={&#x27;n_neighbors&#x27;: array([ 1,  2,  3,  4,  5,  6,  7,  8,  9, 10, 11, 12, 13, 14, 15, 16, 17,\n",
              "       18, 19, 20, 21, 22, 23, 24])})</pre><b>In a Jupyter environment, please rerun this cell to show the HTML representation or trust the notebook. <br />On GitHub, the HTML representation is unable to render, please try loading this page with nbviewer.org.</b></div><div class=\"sk-container\" hidden><div class=\"sk-item sk-dashed-wrapped\"><div class=\"sk-label-container\"><div class=\"sk-label sk-toggleable\"><input class=\"sk-toggleable__control sk-hidden--visually\" id=\"sk-estimator-id-131\" type=\"checkbox\" ><label for=\"sk-estimator-id-131\" class=\"sk-toggleable__label sk-toggleable__label-arrow\">GridSearchCV</label><div class=\"sk-toggleable__content\"><pre>GridSearchCV(cv=5, estimator=KNeighborsClassifier(),\n",
              "             param_grid={&#x27;n_neighbors&#x27;: array([ 1,  2,  3,  4,  5,  6,  7,  8,  9, 10, 11, 12, 13, 14, 15, 16, 17,\n",
              "       18, 19, 20, 21, 22, 23, 24])})</pre></div></div></div><div class=\"sk-parallel\"><div class=\"sk-parallel-item\"><div class=\"sk-item\"><div class=\"sk-label-container\"><div class=\"sk-label sk-toggleable\"><input class=\"sk-toggleable__control sk-hidden--visually\" id=\"sk-estimator-id-132\" type=\"checkbox\" ><label for=\"sk-estimator-id-132\" class=\"sk-toggleable__label sk-toggleable__label-arrow\">estimator: KNeighborsClassifier</label><div class=\"sk-toggleable__content\"><pre>KNeighborsClassifier()</pre></div></div></div><div class=\"sk-serial\"><div class=\"sk-item\"><div class=\"sk-estimator sk-toggleable\"><input class=\"sk-toggleable__control sk-hidden--visually\" id=\"sk-estimator-id-133\" type=\"checkbox\" ><label for=\"sk-estimator-id-133\" class=\"sk-toggleable__label sk-toggleable__label-arrow\">KNeighborsClassifier</label><div class=\"sk-toggleable__content\"><pre>KNeighborsClassifier()</pre></div></div></div></div></div></div></div></div></div></div>"
            ]
          },
          "metadata": {},
          "execution_count": 342
        }
      ]
    },
    {
      "cell_type": "code",
      "source": [
        "# What is the best performing k (on training set)\n",
        "knn_gscv.best_params_"
      ],
      "metadata": {
        "colab": {
          "base_uri": "https://localhost:8080/"
        },
        "id": "y2qtSmWSRZas",
        "outputId": "fd84366b-0b38-403f-f19c-410b7553b477"
      },
      "execution_count": 343,
      "outputs": [
        {
          "output_type": "execute_result",
          "data": {
            "text/plain": [
              "{'n_neighbors': 1}"
            ]
          },
          "metadata": {},
          "execution_count": 343
        }
      ]
    },
    {
      "cell_type": "code",
      "source": [
        "# Accuracy of best performing k\n",
        "knn_gscv.best_score_"
      ],
      "metadata": {
        "colab": {
          "base_uri": "https://localhost:8080/"
        },
        "id": "nllduX4BRdId",
        "outputId": "bf72a864-0a42-4403-ac0b-020db359f219"
      },
      "execution_count": 344,
      "outputs": [
        {
          "output_type": "execute_result",
          "data": {
            "text/plain": [
              "0.673109243697479"
            ]
          },
          "metadata": {},
          "execution_count": 344
        }
      ]
    },
    {
      "cell_type": "code",
      "source": [
        "# Full cross valiadation results from grid search\n",
        "knn_gscv.cv_results_"
      ],
      "metadata": {
        "colab": {
          "base_uri": "https://localhost:8080/"
        },
        "id": "Thnxb_lsRgUU",
        "outputId": "f3cff6ab-ff4d-4c3f-9b0d-1204be304fce"
      },
      "execution_count": 345,
      "outputs": [
        {
          "output_type": "execute_result",
          "data": {
            "text/plain": [
              "{'mean_fit_time': array([0.00498657, 0.00377722, 0.0044529 , 0.00478005, 0.00330153,\n",
              "        0.00465126, 0.00369   , 0.0034565 , 0.00333538, 0.00422959,\n",
              "        0.0048718 , 0.00373745, 0.00358534, 0.00429506, 0.00380297,\n",
              "        0.00423517, 0.00465293, 0.00347877, 0.00360808, 0.00394201,\n",
              "        0.00377092, 0.0063334 , 0.00385537, 0.00374537]),\n",
              " 'std_fit_time': array([2.01393291e-03, 2.17741067e-04, 8.00696948e-04, 1.06511286e-03,\n",
              "        9.03013760e-05, 2.08818125e-03, 6.94070382e-04, 2.64927335e-04,\n",
              "        2.36743603e-04, 6.86649372e-04, 1.14109951e-03, 4.44889247e-04,\n",
              "        2.71632496e-04, 1.37459678e-03, 2.76194990e-04, 1.29103130e-04,\n",
              "        9.79022603e-04, 1.79051623e-04, 1.87023874e-04, 4.46701829e-04,\n",
              "        1.74390282e-04, 3.47233711e-03, 2.87671301e-04, 1.91068084e-04]),\n",
              " 'mean_score_time': array([0.01042252, 0.00756421, 0.00849404, 0.00887089, 0.00723372,\n",
              "        0.00799489, 0.00683999, 0.00676188, 0.0079957 , 0.00969024,\n",
              "        0.0087719 , 0.00798378, 0.00740342, 0.00832067, 0.00817332,\n",
              "        0.01004834, 0.00783615, 0.00746613, 0.00764589, 0.00862889,\n",
              "        0.00783644, 0.0086586 , 0.00838275, 0.00759192]),\n",
              " 'std_score_time': array([0.0034483 , 0.00054099, 0.00072553, 0.00100558, 0.00091143,\n",
              "        0.00249567, 0.00032262, 0.00020663, 0.00151803, 0.00309433,\n",
              "        0.00094763, 0.00084138, 0.00060142, 0.00023678, 0.00068265,\n",
              "        0.00234856, 0.00056846, 0.00094612, 0.00037966, 0.00094893,\n",
              "        0.00015227, 0.00110034, 0.00081075, 0.00015157]),\n",
              " 'param_n_neighbors': masked_array(data=[1, 2, 3, 4, 5, 6, 7, 8, 9, 10, 11, 12, 13, 14, 15, 16,\n",
              "                    17, 18, 19, 20, 21, 22, 23, 24],\n",
              "              mask=[False, False, False, False, False, False, False, False,\n",
              "                    False, False, False, False, False, False, False, False,\n",
              "                    False, False, False, False, False, False, False, False],\n",
              "        fill_value='?',\n",
              "             dtype=object),\n",
              " 'params': [{'n_neighbors': 1},\n",
              "  {'n_neighbors': 2},\n",
              "  {'n_neighbors': 3},\n",
              "  {'n_neighbors': 4},\n",
              "  {'n_neighbors': 5},\n",
              "  {'n_neighbors': 6},\n",
              "  {'n_neighbors': 7},\n",
              "  {'n_neighbors': 8},\n",
              "  {'n_neighbors': 9},\n",
              "  {'n_neighbors': 10},\n",
              "  {'n_neighbors': 11},\n",
              "  {'n_neighbors': 12},\n",
              "  {'n_neighbors': 13},\n",
              "  {'n_neighbors': 14},\n",
              "  {'n_neighbors': 15},\n",
              "  {'n_neighbors': 16},\n",
              "  {'n_neighbors': 17},\n",
              "  {'n_neighbors': 18},\n",
              "  {'n_neighbors': 19},\n",
              "  {'n_neighbors': 20},\n",
              "  {'n_neighbors': 21},\n",
              "  {'n_neighbors': 22},\n",
              "  {'n_neighbors': 23},\n",
              "  {'n_neighbors': 24}],\n",
              " 'split0_test_score': array([0.57142857, 0.54285714, 0.54285714, 0.51428571, 0.45714286,\n",
              "        0.51428571, 0.6       , 0.57142857, 0.57142857, 0.62857143,\n",
              "        0.51428571, 0.6       , 0.51428571, 0.51428571, 0.57142857,\n",
              "        0.51428571, 0.54285714, 0.51428571, 0.54285714, 0.48571429,\n",
              "        0.51428571, 0.48571429, 0.51428571, 0.51428571]),\n",
              " 'split1_test_score': array([0.67647059, 0.64705882, 0.64705882, 0.67647059, 0.61764706,\n",
              "        0.67647059, 0.67647059, 0.67647059, 0.67647059, 0.67647059,\n",
              "        0.64705882, 0.64705882, 0.61764706, 0.67647059, 0.61764706,\n",
              "        0.64705882, 0.58823529, 0.61764706, 0.58823529, 0.58823529,\n",
              "        0.55882353, 0.55882353, 0.55882353, 0.58823529]),\n",
              " 'split2_test_score': array([0.73529412, 0.67647059, 0.61764706, 0.61764706, 0.61764706,\n",
              "        0.61764706, 0.58823529, 0.58823529, 0.58823529, 0.58823529,\n",
              "        0.58823529, 0.55882353, 0.55882353, 0.55882353, 0.55882353,\n",
              "        0.58823529, 0.61764706, 0.58823529, 0.58823529, 0.58823529,\n",
              "        0.58823529, 0.58823529, 0.58823529, 0.58823529]),\n",
              " 'split3_test_score': array([0.70588235, 0.67647059, 0.70588235, 0.70588235, 0.67647059,\n",
              "        0.64705882, 0.61764706, 0.64705882, 0.67647059, 0.70588235,\n",
              "        0.67647059, 0.67647059, 0.64705882, 0.61764706, 0.64705882,\n",
              "        0.61764706, 0.64705882, 0.58823529, 0.64705882, 0.61764706,\n",
              "        0.64705882, 0.61764706, 0.61764706, 0.61764706]),\n",
              " 'split4_test_score': array([0.67647059, 0.67647059, 0.67647059, 0.61764706, 0.67647059,\n",
              "        0.58823529, 0.5       , 0.52941176, 0.55882353, 0.55882353,\n",
              "        0.52941176, 0.58823529, 0.55882353, 0.55882353, 0.55882353,\n",
              "        0.61764706, 0.61764706, 0.64705882, 0.61764706, 0.61764706,\n",
              "        0.58823529, 0.55882353, 0.58823529, 0.64705882]),\n",
              " 'mean_test_score': array([0.67310924, 0.64386555, 0.63798319, 0.62638655, 0.60907563,\n",
              "        0.6087395 , 0.59647059, 0.60252101, 0.61428571, 0.63159664,\n",
              "        0.59109244, 0.61411765, 0.57932773, 0.58521008, 0.5907563 ,\n",
              "        0.59697479, 0.60268908, 0.59109244, 0.59680672, 0.5794958 ,\n",
              "        0.57932773, 0.56184874, 0.57344538, 0.59109244]),\n",
              " 'std_test_score': array([0.05532195, 0.05177289, 0.05592221, 0.06564655, 0.08039237,\n",
              "        0.0556366 , 0.05698297, 0.0528544 , 0.05162428, 0.0542537 ,\n",
              "        0.06345645, 0.04218923, 0.04717453, 0.05621993, 0.03551352,\n",
              "        0.04533643, 0.03522763, 0.04416556, 0.03469031, 0.04870065,\n",
              "        0.04335222, 0.04387359, 0.03494263, 0.04416556]),\n",
              " 'rank_test_score': array([ 1,  2,  3,  5,  8,  9, 14, 11,  6,  4, 15,  7, 21, 19, 18, 12, 10,\n",
              "        15, 13, 20, 22, 24, 23, 15], dtype=int32)}"
            ]
          },
          "metadata": {},
          "execution_count": 345
        }
      ]
    },
    {
      "cell_type": "markdown",
      "source": [
        "Rank_test_score is showing that 1, 2, and 3 are the best performing while 24 is the worst."
      ],
      "metadata": {
        "id": "x3w73b_4R0FG"
      }
    },
    {
      "cell_type": "code",
      "source": [
        "# Best Performing Accuracy of k=1 on testing data\n",
        "\n",
        "knn1 = KNeighborsClassifier(n_neighbors=1)\n",
        "knn1.fit(X_train_scaled, y_train)\n",
        "print(\"Best Performing k = 1 score: {}\".format(knn1.score(X_test_scaled, y_test)))"
      ],
      "metadata": {
        "colab": {
          "base_uri": "https://localhost:8080/"
        },
        "id": "mQ1yupJASBZ_",
        "outputId": "a9e16e51-6a53-4a60-b64e-1e88aeb8fdcb"
      },
      "execution_count": 346,
      "outputs": [
        {
          "output_type": "stream",
          "name": "stdout",
          "text": [
            "Best Performing k = 1 score: 0.6744186046511628\n"
          ]
        }
      ]
    },
    {
      "cell_type": "code",
      "source": [
        "# Worst Performing Accuracy of k=24 on testing data\n",
        "\n",
        "knn24 = KNeighborsClassifier(n_neighbors=24)\n",
        "knn24.fit(X_train_scaled, y_train)\n",
        "print(\"Worst Performing k = 24 score: {}\".format(knn24.score(X_test_scaled, y_test)))"
      ],
      "metadata": {
        "colab": {
          "base_uri": "https://localhost:8080/"
        },
        "id": "ub1PLK1hSrUC",
        "outputId": "b9e290ef-ad3b-4d19-dfe6-3456541ddeca"
      },
      "execution_count": 347,
      "outputs": [
        {
          "output_type": "stream",
          "name": "stdout",
          "text": [
            "Worst Performing k = 24 score: 0.627906976744186\n"
          ]
        }
      ]
    },
    {
      "cell_type": "code",
      "source": [
        "# Confusion matrix of best performing k=1\n",
        "confusion = confusion_matrix(y_test, knn1.predict(X_test))\n",
        "print(\"Confusion matrix best performer k = 1:\\n{}\".format(confusion))"
      ],
      "metadata": {
        "colab": {
          "base_uri": "https://localhost:8080/"
        },
        "id": "w_mA4eMgTKyL",
        "outputId": "3498c11c-79d7-42c8-ee7c-1256142ea2aa"
      },
      "execution_count": 348,
      "outputs": [
        {
          "output_type": "stream",
          "name": "stdout",
          "text": [
            "Confusion matrix best performer k = 1:\n",
            "[[ 0  0  0  0 14  0]\n",
            " [ 0  0  0  0 15  0]\n",
            " [ 0  0  0  0  3  0]\n",
            " [ 0  0  0  0  3  0]\n",
            " [ 0  0  0  0  2  0]\n",
            " [ 0  0  0  0  6  0]]\n"
          ]
        }
      ]
    },
    {
      "cell_type": "code",
      "source": [
        "# Confusion matrix of worst performing k=24\n",
        "confusion = confusion_matrix(y_test, knn24.predict(X_test))\n",
        "print(\"Confusion matrix best performer k = 24:\\n{}\".format(confusion))"
      ],
      "metadata": {
        "colab": {
          "base_uri": "https://localhost:8080/"
        },
        "id": "tUhQ8uzfTZbV",
        "outputId": "79deebc4-3ad3-4847-cf97-1c089a01b7cd"
      },
      "execution_count": 349,
      "outputs": [
        {
          "output_type": "stream",
          "name": "stdout",
          "text": [
            "Confusion matrix best performer k = 24:\n",
            "[[ 0  0  0  0  0 14]\n",
            " [ 0  0  0  0  0 15]\n",
            " [ 0  0  0  0  0  3]\n",
            " [ 0  0  0  0  0  3]\n",
            " [ 0  0  0  0  0  2]\n",
            " [ 0  0  0  0  0  6]]\n"
          ]
        }
      ]
    },
    {
      "cell_type": "markdown",
      "source": [
        "### K-Nearest Neighbor Parameter Adjustment 2 : weights\n",
        "Adjust parameters using grid search for best and worst performing parameters"
      ],
      "metadata": {
        "id": "sHCVYh-SQR26"
      }
    },
    {
      "cell_type": "markdown",
      "source": [
        "Knowing that there is a class imbalance in the dataset, adjusting the weights parameters to distance might help improve the model. When weight = 'distance' closer neighbors are more influencial in classification than farther neighbors."
      ],
      "metadata": {
        "id": "AK2JmbbAUaIk"
      }
    },
    {
      "cell_type": "code",
      "source": [
        "# Dictionary of all values of k\n",
        "param_grid = {\"n_neighbors\": np.arange(1, 25),\n",
        "              'weights': ['uniform', 'distance']}\n",
        "\n",
        "# Grid search on all values of k in dictionary,\n",
        "grid_search_weights = GridSearchCV(knn, param_grid, cv=5)\n",
        "grid_search_weights.fit(X_train_scaled, y_train)"
      ],
      "metadata": {
        "colab": {
          "base_uri": "https://localhost:8080/",
          "height": 119
        },
        "id": "_Av7UtTiVXuL",
        "outputId": "f151bc19-6cc8-4894-db71-d6bae9d849aa"
      },
      "execution_count": 350,
      "outputs": [
        {
          "output_type": "execute_result",
          "data": {
            "text/plain": [
              "GridSearchCV(cv=5, estimator=KNeighborsClassifier(),\n",
              "             param_grid={'n_neighbors': array([ 1,  2,  3,  4,  5,  6,  7,  8,  9, 10, 11, 12, 13, 14, 15, 16, 17,\n",
              "       18, 19, 20, 21, 22, 23, 24]),\n",
              "                         'weights': ['uniform', 'distance']})"
            ],
            "text/html": [
              "<style>#sk-container-id-46 {color: black;background-color: white;}#sk-container-id-46 pre{padding: 0;}#sk-container-id-46 div.sk-toggleable {background-color: white;}#sk-container-id-46 label.sk-toggleable__label {cursor: pointer;display: block;width: 100%;margin-bottom: 0;padding: 0.3em;box-sizing: border-box;text-align: center;}#sk-container-id-46 label.sk-toggleable__label-arrow:before {content: \"▸\";float: left;margin-right: 0.25em;color: #696969;}#sk-container-id-46 label.sk-toggleable__label-arrow:hover:before {color: black;}#sk-container-id-46 div.sk-estimator:hover label.sk-toggleable__label-arrow:before {color: black;}#sk-container-id-46 div.sk-toggleable__content {max-height: 0;max-width: 0;overflow: hidden;text-align: left;background-color: #f0f8ff;}#sk-container-id-46 div.sk-toggleable__content pre {margin: 0.2em;color: black;border-radius: 0.25em;background-color: #f0f8ff;}#sk-container-id-46 input.sk-toggleable__control:checked~div.sk-toggleable__content {max-height: 200px;max-width: 100%;overflow: auto;}#sk-container-id-46 input.sk-toggleable__control:checked~label.sk-toggleable__label-arrow:before {content: \"▾\";}#sk-container-id-46 div.sk-estimator input.sk-toggleable__control:checked~label.sk-toggleable__label {background-color: #d4ebff;}#sk-container-id-46 div.sk-label input.sk-toggleable__control:checked~label.sk-toggleable__label {background-color: #d4ebff;}#sk-container-id-46 input.sk-hidden--visually {border: 0;clip: rect(1px 1px 1px 1px);clip: rect(1px, 1px, 1px, 1px);height: 1px;margin: -1px;overflow: hidden;padding: 0;position: absolute;width: 1px;}#sk-container-id-46 div.sk-estimator {font-family: monospace;background-color: #f0f8ff;border: 1px dotted black;border-radius: 0.25em;box-sizing: border-box;margin-bottom: 0.5em;}#sk-container-id-46 div.sk-estimator:hover {background-color: #d4ebff;}#sk-container-id-46 div.sk-parallel-item::after {content: \"\";width: 100%;border-bottom: 1px solid gray;flex-grow: 1;}#sk-container-id-46 div.sk-label:hover label.sk-toggleable__label {background-color: #d4ebff;}#sk-container-id-46 div.sk-serial::before {content: \"\";position: absolute;border-left: 1px solid gray;box-sizing: border-box;top: 0;bottom: 0;left: 50%;z-index: 0;}#sk-container-id-46 div.sk-serial {display: flex;flex-direction: column;align-items: center;background-color: white;padding-right: 0.2em;padding-left: 0.2em;position: relative;}#sk-container-id-46 div.sk-item {position: relative;z-index: 1;}#sk-container-id-46 div.sk-parallel {display: flex;align-items: stretch;justify-content: center;background-color: white;position: relative;}#sk-container-id-46 div.sk-item::before, #sk-container-id-46 div.sk-parallel-item::before {content: \"\";position: absolute;border-left: 1px solid gray;box-sizing: border-box;top: 0;bottom: 0;left: 50%;z-index: -1;}#sk-container-id-46 div.sk-parallel-item {display: flex;flex-direction: column;z-index: 1;position: relative;background-color: white;}#sk-container-id-46 div.sk-parallel-item:first-child::after {align-self: flex-end;width: 50%;}#sk-container-id-46 div.sk-parallel-item:last-child::after {align-self: flex-start;width: 50%;}#sk-container-id-46 div.sk-parallel-item:only-child::after {width: 0;}#sk-container-id-46 div.sk-dashed-wrapped {border: 1px dashed gray;margin: 0 0.4em 0.5em 0.4em;box-sizing: border-box;padding-bottom: 0.4em;background-color: white;}#sk-container-id-46 div.sk-label label {font-family: monospace;font-weight: bold;display: inline-block;line-height: 1.2em;}#sk-container-id-46 div.sk-label-container {text-align: center;}#sk-container-id-46 div.sk-container {/* jupyter's `normalize.less` sets `[hidden] { display: none; }` but bootstrap.min.css set `[hidden] { display: none !important; }` so we also need the `!important` here to be able to override the default hidden behavior on the sphinx rendered scikit-learn.org. See: https://github.com/scikit-learn/scikit-learn/issues/21755 */display: inline-block !important;position: relative;}#sk-container-id-46 div.sk-text-repr-fallback {display: none;}</style><div id=\"sk-container-id-46\" class=\"sk-top-container\"><div class=\"sk-text-repr-fallback\"><pre>GridSearchCV(cv=5, estimator=KNeighborsClassifier(),\n",
              "             param_grid={&#x27;n_neighbors&#x27;: array([ 1,  2,  3,  4,  5,  6,  7,  8,  9, 10, 11, 12, 13, 14, 15, 16, 17,\n",
              "       18, 19, 20, 21, 22, 23, 24]),\n",
              "                         &#x27;weights&#x27;: [&#x27;uniform&#x27;, &#x27;distance&#x27;]})</pre><b>In a Jupyter environment, please rerun this cell to show the HTML representation or trust the notebook. <br />On GitHub, the HTML representation is unable to render, please try loading this page with nbviewer.org.</b></div><div class=\"sk-container\" hidden><div class=\"sk-item sk-dashed-wrapped\"><div class=\"sk-label-container\"><div class=\"sk-label sk-toggleable\"><input class=\"sk-toggleable__control sk-hidden--visually\" id=\"sk-estimator-id-134\" type=\"checkbox\" ><label for=\"sk-estimator-id-134\" class=\"sk-toggleable__label sk-toggleable__label-arrow\">GridSearchCV</label><div class=\"sk-toggleable__content\"><pre>GridSearchCV(cv=5, estimator=KNeighborsClassifier(),\n",
              "             param_grid={&#x27;n_neighbors&#x27;: array([ 1,  2,  3,  4,  5,  6,  7,  8,  9, 10, 11, 12, 13, 14, 15, 16, 17,\n",
              "       18, 19, 20, 21, 22, 23, 24]),\n",
              "                         &#x27;weights&#x27;: [&#x27;uniform&#x27;, &#x27;distance&#x27;]})</pre></div></div></div><div class=\"sk-parallel\"><div class=\"sk-parallel-item\"><div class=\"sk-item\"><div class=\"sk-label-container\"><div class=\"sk-label sk-toggleable\"><input class=\"sk-toggleable__control sk-hidden--visually\" id=\"sk-estimator-id-135\" type=\"checkbox\" ><label for=\"sk-estimator-id-135\" class=\"sk-toggleable__label sk-toggleable__label-arrow\">estimator: KNeighborsClassifier</label><div class=\"sk-toggleable__content\"><pre>KNeighborsClassifier()</pre></div></div></div><div class=\"sk-serial\"><div class=\"sk-item\"><div class=\"sk-estimator sk-toggleable\"><input class=\"sk-toggleable__control sk-hidden--visually\" id=\"sk-estimator-id-136\" type=\"checkbox\" ><label for=\"sk-estimator-id-136\" class=\"sk-toggleable__label sk-toggleable__label-arrow\">KNeighborsClassifier</label><div class=\"sk-toggleable__content\"><pre>KNeighborsClassifier()</pre></div></div></div></div></div></div></div></div></div></div>"
            ]
          },
          "metadata": {},
          "execution_count": 350
        }
      ]
    },
    {
      "cell_type": "code",
      "source": [
        "# Best performing weight\n",
        "grid_search_weights.best_params_"
      ],
      "metadata": {
        "colab": {
          "base_uri": "https://localhost:8080/"
        },
        "id": "od0L5_3EVb4C",
        "outputId": "ae1a2b56-d9d8-465b-f7e7-0e542642b8b3"
      },
      "execution_count": 351,
      "outputs": [
        {
          "output_type": "execute_result",
          "data": {
            "text/plain": [
              "{'n_neighbors': 1, 'weights': 'uniform'}"
            ]
          },
          "metadata": {},
          "execution_count": 351
        }
      ]
    },
    {
      "cell_type": "markdown",
      "source": [
        "When k =1 the best identifed weight is uniform\n",
        "\n",
        "When K is not set the best weight is distance"
      ],
      "metadata": {
        "id": "FSk8tV3_Xumd"
      }
    },
    {
      "cell_type": "code",
      "source": [
        "# Accuracy of best weight\n",
        "\n",
        "grid_search_weights.best_score_"
      ],
      "metadata": {
        "colab": {
          "base_uri": "https://localhost:8080/"
        },
        "id": "EpKLGtD6XNiQ",
        "outputId": "85f7aaaf-df01-4229-8c55-f8980b0dd10d"
      },
      "execution_count": 353,
      "outputs": [
        {
          "output_type": "execute_result",
          "data": {
            "text/plain": [
              "0.673109243697479"
            ]
          },
          "metadata": {},
          "execution_count": 353
        }
      ]
    },
    {
      "cell_type": "markdown",
      "source": [
        "when k = 1 the accuracy of uniform is ~67%\n",
        "when k is not set the accuracy falls to ~65%"
      ],
      "metadata": {
        "id": "kfwOQj3fXmub"
      }
    },
    {
      "cell_type": "code",
      "source": [
        "# Cross validation results with weights\n",
        "grid_search_weights.cv_results_"
      ],
      "metadata": {
        "colab": {
          "base_uri": "https://localhost:8080/"
        },
        "id": "HqiI46tUXZJp",
        "outputId": "e78803d6-632e-499c-f8f4-a3b82bc55fc5"
      },
      "execution_count": 354,
      "outputs": [
        {
          "output_type": "execute_result",
          "data": {
            "text/plain": [
              "{'mean_fit_time': array([0.00281239, 0.00319862, 0.00263162, 0.0025485 , 0.0023994 ,\n",
              "        0.00272985, 0.00240107, 0.00238552, 0.00284457, 0.00299907,\n",
              "        0.00253458, 0.00230885, 0.0024682 , 0.00257325, 0.00270157,\n",
              "        0.00265493, 0.00247006, 0.00233536, 0.00260415, 0.002318  ,\n",
              "        0.00230708, 0.00219221, 0.00237131, 0.00222912, 0.00273767,\n",
              "        0.0024117 , 0.00257664, 0.00226998, 0.00255747, 0.0022047 ,\n",
              "        0.00302286, 0.00223789, 0.00229549, 0.00239797, 0.0026319 ,\n",
              "        0.00275135, 0.00256672, 0.0022161 , 0.00225935, 0.00269146,\n",
              "        0.00262766, 0.00282421, 0.00246539, 0.00230269, 0.00231533,\n",
              "        0.00234461, 0.00235028, 0.00229096]),\n",
              " 'std_fit_time': array([8.76532163e-04, 6.94125007e-04, 5.51901416e-04, 5.74636584e-04,\n",
              "        1.26598640e-04, 2.86487019e-04, 1.10711936e-04, 1.47288785e-04,\n",
              "        5.73286127e-04, 5.21841336e-04, 2.21852217e-04, 5.27020481e-05,\n",
              "        9.96527601e-05, 2.26732183e-04, 5.16474241e-04, 5.39953049e-04,\n",
              "        6.41595693e-05, 4.06584144e-05, 4.31528818e-04, 9.99790736e-05,\n",
              "        3.91534124e-05, 4.57583332e-05, 1.61868833e-04, 1.01882438e-04,\n",
              "        6.26551063e-04, 2.06863182e-04, 4.79929846e-04, 1.20824740e-04,\n",
              "        5.24401725e-04, 1.36807182e-04, 9.11654778e-04, 1.01659692e-04,\n",
              "        1.92837274e-04, 1.88980582e-04, 4.67851931e-04, 3.72081293e-04,\n",
              "        4.01515422e-04, 1.80594984e-04, 1.09508599e-04, 3.98759572e-04,\n",
              "        1.49309768e-04, 5.88070483e-04, 2.04657631e-04, 1.25479170e-04,\n",
              "        6.08611981e-05, 3.02511822e-04, 1.39401726e-04, 2.11907152e-04]),\n",
              " 'mean_score_time': array([0.00535097, 0.00357852, 0.00483651, 0.00259566, 0.00510755,\n",
              "        0.0029954 , 0.00544786, 0.00264163, 0.00563593, 0.00318837,\n",
              "        0.00500903, 0.00271811, 0.00528588, 0.00299473, 0.00546408,\n",
              "        0.00340357, 0.00548058, 0.00275459, 0.00560536, 0.0027473 ,\n",
              "        0.0047936 , 0.00257688, 0.00490179, 0.00255127, 0.00715208,\n",
              "        0.00275126, 0.00525651, 0.00284247, 0.00529022, 0.00268312,\n",
              "        0.0068891 , 0.00270481, 0.00475531, 0.00283937, 0.0055552 ,\n",
              "        0.00319982, 0.00517859, 0.00263395, 0.00491762, 0.00303035,\n",
              "        0.00510845, 0.00306101, 0.00505962, 0.00279884, 0.00529661,\n",
              "        0.00270648, 0.00498028, 0.00274329]),\n",
              " 'std_score_time': array([1.02446256e-03, 9.64438942e-04, 3.67011540e-04, 8.50128576e-05,\n",
              "        5.96648915e-04, 2.93497071e-04, 6.93629677e-04, 5.88605980e-05,\n",
              "        8.36227890e-04, 5.50471666e-04, 1.95827134e-04, 8.50260423e-05,\n",
              "        4.48491663e-04, 3.91011075e-04, 5.89189243e-04, 1.03347218e-03,\n",
              "        6.03399986e-04, 6.79586806e-05, 1.00327681e-03, 2.01908135e-04,\n",
              "        5.38993489e-05, 6.11072725e-05, 2.01661340e-04, 1.54670275e-05,\n",
              "        2.23573881e-03, 8.43452825e-05, 7.22041219e-04, 2.09241144e-04,\n",
              "        7.59812794e-04, 2.43177058e-04, 1.76776116e-03, 1.23237768e-04,\n",
              "        1.36453466e-04, 2.36850992e-04, 1.13813731e-03, 6.09577161e-04,\n",
              "        5.75115797e-04, 5.28254227e-05, 2.49487061e-04, 5.29890908e-04,\n",
              "        1.09310340e-04, 2.75238504e-04, 3.81354690e-04, 1.96761143e-04,\n",
              "        7.48949571e-04, 8.01121052e-05, 2.98400503e-04, 1.26921243e-04]),\n",
              " 'param_n_neighbors': masked_array(data=[1, 1, 2, 2, 3, 3, 4, 4, 5, 5, 6, 6, 7, 7, 8, 8, 9, 9,\n",
              "                    10, 10, 11, 11, 12, 12, 13, 13, 14, 14, 15, 15, 16, 16,\n",
              "                    17, 17, 18, 18, 19, 19, 20, 20, 21, 21, 22, 22, 23, 23,\n",
              "                    24, 24],\n",
              "              mask=[False, False, False, False, False, False, False, False,\n",
              "                    False, False, False, False, False, False, False, False,\n",
              "                    False, False, False, False, False, False, False, False,\n",
              "                    False, False, False, False, False, False, False, False,\n",
              "                    False, False, False, False, False, False, False, False,\n",
              "                    False, False, False, False, False, False, False, False],\n",
              "        fill_value='?',\n",
              "             dtype=object),\n",
              " 'param_weights': masked_array(data=['uniform', 'distance', 'uniform', 'distance',\n",
              "                    'uniform', 'distance', 'uniform', 'distance',\n",
              "                    'uniform', 'distance', 'uniform', 'distance',\n",
              "                    'uniform', 'distance', 'uniform', 'distance',\n",
              "                    'uniform', 'distance', 'uniform', 'distance',\n",
              "                    'uniform', 'distance', 'uniform', 'distance',\n",
              "                    'uniform', 'distance', 'uniform', 'distance',\n",
              "                    'uniform', 'distance', 'uniform', 'distance',\n",
              "                    'uniform', 'distance', 'uniform', 'distance',\n",
              "                    'uniform', 'distance', 'uniform', 'distance',\n",
              "                    'uniform', 'distance', 'uniform', 'distance',\n",
              "                    'uniform', 'distance', 'uniform', 'distance'],\n",
              "              mask=[False, False, False, False, False, False, False, False,\n",
              "                    False, False, False, False, False, False, False, False,\n",
              "                    False, False, False, False, False, False, False, False,\n",
              "                    False, False, False, False, False, False, False, False,\n",
              "                    False, False, False, False, False, False, False, False,\n",
              "                    False, False, False, False, False, False, False, False],\n",
              "        fill_value='?',\n",
              "             dtype=object),\n",
              " 'params': [{'n_neighbors': 1, 'weights': 'uniform'},\n",
              "  {'n_neighbors': 1, 'weights': 'distance'},\n",
              "  {'n_neighbors': 2, 'weights': 'uniform'},\n",
              "  {'n_neighbors': 2, 'weights': 'distance'},\n",
              "  {'n_neighbors': 3, 'weights': 'uniform'},\n",
              "  {'n_neighbors': 3, 'weights': 'distance'},\n",
              "  {'n_neighbors': 4, 'weights': 'uniform'},\n",
              "  {'n_neighbors': 4, 'weights': 'distance'},\n",
              "  {'n_neighbors': 5, 'weights': 'uniform'},\n",
              "  {'n_neighbors': 5, 'weights': 'distance'},\n",
              "  {'n_neighbors': 6, 'weights': 'uniform'},\n",
              "  {'n_neighbors': 6, 'weights': 'distance'},\n",
              "  {'n_neighbors': 7, 'weights': 'uniform'},\n",
              "  {'n_neighbors': 7, 'weights': 'distance'},\n",
              "  {'n_neighbors': 8, 'weights': 'uniform'},\n",
              "  {'n_neighbors': 8, 'weights': 'distance'},\n",
              "  {'n_neighbors': 9, 'weights': 'uniform'},\n",
              "  {'n_neighbors': 9, 'weights': 'distance'},\n",
              "  {'n_neighbors': 10, 'weights': 'uniform'},\n",
              "  {'n_neighbors': 10, 'weights': 'distance'},\n",
              "  {'n_neighbors': 11, 'weights': 'uniform'},\n",
              "  {'n_neighbors': 11, 'weights': 'distance'},\n",
              "  {'n_neighbors': 12, 'weights': 'uniform'},\n",
              "  {'n_neighbors': 12, 'weights': 'distance'},\n",
              "  {'n_neighbors': 13, 'weights': 'uniform'},\n",
              "  {'n_neighbors': 13, 'weights': 'distance'},\n",
              "  {'n_neighbors': 14, 'weights': 'uniform'},\n",
              "  {'n_neighbors': 14, 'weights': 'distance'},\n",
              "  {'n_neighbors': 15, 'weights': 'uniform'},\n",
              "  {'n_neighbors': 15, 'weights': 'distance'},\n",
              "  {'n_neighbors': 16, 'weights': 'uniform'},\n",
              "  {'n_neighbors': 16, 'weights': 'distance'},\n",
              "  {'n_neighbors': 17, 'weights': 'uniform'},\n",
              "  {'n_neighbors': 17, 'weights': 'distance'},\n",
              "  {'n_neighbors': 18, 'weights': 'uniform'},\n",
              "  {'n_neighbors': 18, 'weights': 'distance'},\n",
              "  {'n_neighbors': 19, 'weights': 'uniform'},\n",
              "  {'n_neighbors': 19, 'weights': 'distance'},\n",
              "  {'n_neighbors': 20, 'weights': 'uniform'},\n",
              "  {'n_neighbors': 20, 'weights': 'distance'},\n",
              "  {'n_neighbors': 21, 'weights': 'uniform'},\n",
              "  {'n_neighbors': 21, 'weights': 'distance'},\n",
              "  {'n_neighbors': 22, 'weights': 'uniform'},\n",
              "  {'n_neighbors': 22, 'weights': 'distance'},\n",
              "  {'n_neighbors': 23, 'weights': 'uniform'},\n",
              "  {'n_neighbors': 23, 'weights': 'distance'},\n",
              "  {'n_neighbors': 24, 'weights': 'uniform'},\n",
              "  {'n_neighbors': 24, 'weights': 'distance'}],\n",
              " 'split0_test_score': array([0.57142857, 0.57142857, 0.54285714, 0.57142857, 0.54285714,\n",
              "        0.57142857, 0.51428571, 0.51428571, 0.45714286, 0.51428571,\n",
              "        0.51428571, 0.57142857, 0.6       , 0.68571429, 0.57142857,\n",
              "        0.62857143, 0.57142857, 0.6       , 0.62857143, 0.62857143,\n",
              "        0.51428571, 0.54285714, 0.6       , 0.6       , 0.51428571,\n",
              "        0.57142857, 0.51428571, 0.57142857, 0.57142857, 0.6       ,\n",
              "        0.51428571, 0.6       , 0.54285714, 0.6       , 0.51428571,\n",
              "        0.57142857, 0.54285714, 0.6       , 0.48571429, 0.6       ,\n",
              "        0.51428571, 0.6       , 0.48571429, 0.57142857, 0.51428571,\n",
              "        0.54285714, 0.51428571, 0.51428571]),\n",
              " 'split1_test_score': array([0.67647059, 0.67647059, 0.64705882, 0.67647059, 0.64705882,\n",
              "        0.61764706, 0.67647059, 0.61764706, 0.61764706, 0.67647059,\n",
              "        0.67647059, 0.70588235, 0.67647059, 0.70588235, 0.67647059,\n",
              "        0.70588235, 0.67647059, 0.73529412, 0.67647059, 0.73529412,\n",
              "        0.64705882, 0.67647059, 0.64705882, 0.67647059, 0.61764706,\n",
              "        0.67647059, 0.67647059, 0.67647059, 0.61764706, 0.61764706,\n",
              "        0.64705882, 0.64705882, 0.58823529, 0.58823529, 0.61764706,\n",
              "        0.61764706, 0.58823529, 0.61764706, 0.58823529, 0.58823529,\n",
              "        0.55882353, 0.55882353, 0.55882353, 0.52941176, 0.55882353,\n",
              "        0.52941176, 0.58823529, 0.52941176]),\n",
              " 'split2_test_score': array([0.73529412, 0.73529412, 0.67647059, 0.73529412, 0.61764706,\n",
              "        0.64705882, 0.61764706, 0.64705882, 0.61764706, 0.67647059,\n",
              "        0.61764706, 0.67647059, 0.58823529, 0.67647059, 0.58823529,\n",
              "        0.64705882, 0.58823529, 0.58823529, 0.58823529, 0.58823529,\n",
              "        0.58823529, 0.58823529, 0.55882353, 0.58823529, 0.55882353,\n",
              "        0.58823529, 0.55882353, 0.58823529, 0.55882353, 0.58823529,\n",
              "        0.58823529, 0.58823529, 0.61764706, 0.64705882, 0.58823529,\n",
              "        0.58823529, 0.58823529, 0.61764706, 0.58823529, 0.58823529,\n",
              "        0.58823529, 0.58823529, 0.58823529, 0.58823529, 0.58823529,\n",
              "        0.58823529, 0.58823529, 0.58823529]),\n",
              " 'split3_test_score': array([0.70588235, 0.70588235, 0.67647059, 0.70588235, 0.70588235,\n",
              "        0.73529412, 0.70588235, 0.70588235, 0.67647059, 0.73529412,\n",
              "        0.64705882, 0.70588235, 0.61764706, 0.67647059, 0.64705882,\n",
              "        0.73529412, 0.67647059, 0.67647059, 0.70588235, 0.70588235,\n",
              "        0.67647059, 0.67647059, 0.67647059, 0.73529412, 0.64705882,\n",
              "        0.70588235, 0.61764706, 0.73529412, 0.64705882, 0.67647059,\n",
              "        0.61764706, 0.67647059, 0.64705882, 0.67647059, 0.58823529,\n",
              "        0.70588235, 0.64705882, 0.67647059, 0.61764706, 0.64705882,\n",
              "        0.64705882, 0.64705882, 0.61764706, 0.61764706, 0.61764706,\n",
              "        0.64705882, 0.61764706, 0.64705882]),\n",
              " 'split4_test_score': array([0.67647059, 0.67647059, 0.67647059, 0.67647059, 0.67647059,\n",
              "        0.67647059, 0.61764706, 0.64705882, 0.67647059, 0.67647059,\n",
              "        0.58823529, 0.67647059, 0.5       , 0.61764706, 0.52941176,\n",
              "        0.55882353, 0.55882353, 0.58823529, 0.55882353, 0.58823529,\n",
              "        0.52941176, 0.61764706, 0.58823529, 0.61764706, 0.55882353,\n",
              "        0.58823529, 0.55882353, 0.58823529, 0.55882353, 0.58823529,\n",
              "        0.61764706, 0.58823529, 0.61764706, 0.58823529, 0.64705882,\n",
              "        0.61764706, 0.61764706, 0.58823529, 0.61764706, 0.61764706,\n",
              "        0.58823529, 0.61764706, 0.55882353, 0.55882353, 0.58823529,\n",
              "        0.55882353, 0.64705882, 0.58823529]),\n",
              " 'mean_test_score': array([0.67310924, 0.67310924, 0.64386555, 0.67310924, 0.63798319,\n",
              "        0.64957983, 0.62638655, 0.62638655, 0.60907563, 0.65579832,\n",
              "        0.6087395 , 0.66722689, 0.59647059, 0.67243697, 0.60252101,\n",
              "        0.65512605, 0.61428571, 0.63764706, 0.63159664, 0.6492437 ,\n",
              "        0.59109244, 0.62033613, 0.61411765, 0.64352941, 0.57932773,\n",
              "        0.62605042, 0.58521008, 0.63193277, 0.5907563 , 0.61411765,\n",
              "        0.59697479, 0.62      , 0.60268908, 0.62      , 0.59109244,\n",
              "        0.62016807, 0.59680672, 0.62      , 0.5794958 , 0.60823529,\n",
              "        0.57932773, 0.60235294, 0.56184874, 0.57310924, 0.57344538,\n",
              "        0.57327731, 0.59109244, 0.57344538]),\n",
              " 'std_test_score': array([0.05532195, 0.05532195, 0.05177289, 0.05532195, 0.05592221,\n",
              "        0.05514296, 0.06564655, 0.06295593, 0.08039237, 0.07433361,\n",
              "        0.0556366 , 0.04967233, 0.05698297, 0.02942569, 0.0528544 ,\n",
              "        0.06172119, 0.05162428, 0.05889408, 0.0542537 , 0.06080132,\n",
              "        0.06345645, 0.05165819, 0.04218923, 0.0550055 , 0.04717453,\n",
              "        0.05433018, 0.05621993, 0.06347737, 0.03551352, 0.03298317,\n",
              "        0.04533643, 0.03560646, 0.03522763, 0.03560646, 0.04416556,\n",
              "        0.04637864, 0.03469031, 0.03036115, 0.04870065, 0.0221976 ,\n",
              "        0.04335222, 0.02943528, 0.04387359, 0.02942377, 0.03494263,\n",
              "        0.04177544, 0.04416556, 0.04752946]),\n",
              " 'rank_test_score': array([ 1,  1, 10,  1, 12,  8, 16, 16, 27,  6, 28,  5, 35,  4, 31,  7, 24,\n",
              "        13, 15,  9, 36, 19, 25, 11, 42, 18, 40, 14, 39, 25, 33, 21, 30, 21,\n",
              "        36, 20, 34, 21, 41, 29, 43, 32, 48, 47, 44, 46, 36, 44],\n",
              "       dtype=int32)}"
            ]
          },
          "metadata": {},
          "execution_count": 354
        }
      ]
    },
    {
      "cell_type": "markdown",
      "source": [
        "That is of interest. Both weight uniform and distance are the same when k =1\n",
        "\n",
        "When k is not set distance is identifed as the best option."
      ],
      "metadata": {
        "id": "N6VO1HldXdWB"
      }
    },
    {
      "cell_type": "code",
      "source": [
        "# Best Performing Accuracy weights=distance\n",
        "knn_distance = KNeighborsClassifier(weights='distance')\n",
        "knn_distance.fit(X_train_scaled, y_train)\n",
        "print(\"Weights = distance knn score: {}\".format(knn_distance.score(X_test_scaled, y_test)))"
      ],
      "metadata": {
        "colab": {
          "base_uri": "https://localhost:8080/"
        },
        "id": "gyvIfXYVYcNq",
        "outputId": "bc7a13d0-b9a1-4c0d-e580-bb4e9adb77e8"
      },
      "execution_count": 355,
      "outputs": [
        {
          "output_type": "stream",
          "name": "stdout",
          "text": [
            "Weights = distance knn score: 0.6976744186046512\n"
          ]
        }
      ]
    },
    {
      "cell_type": "code",
      "source": [
        "# Worst Performing Accuracy weights = uniform\n",
        "knn_uniform = KNeighborsClassifier(weights='uniform')\n",
        "knn_uniform.fit(X_train_scaled, y_train)\n",
        "print(\"Weights = uniform knn score: {}\".format(knn_uniform.score(X_test_scaled, y_test)))"
      ],
      "metadata": {
        "colab": {
          "base_uri": "https://localhost:8080/"
        },
        "id": "ZwZv8HsbYzce",
        "outputId": "de9b0b70-978c-4d60-dff7-63c8be12ef66"
      },
      "execution_count": 356,
      "outputs": [
        {
          "output_type": "stream",
          "name": "stdout",
          "text": [
            "Weights = uniform knn score: 0.627906976744186\n"
          ]
        }
      ]
    },
    {
      "cell_type": "markdown",
      "source": [
        "The accuracy of weights = distance is ~70% while uniform is about ~63%."
      ],
      "metadata": {
        "id": "bvyIqaw0ZBVC"
      }
    },
    {
      "cell_type": "code",
      "source": [
        "# Confusion matrix of weights=distance\n",
        "confusion = confusion_matrix(y_test, knn_distance.predict(X_test))\n",
        "print(\"Confusion matrix weights = distance:\\n{}\".format(confusion))"
      ],
      "metadata": {
        "colab": {
          "base_uri": "https://localhost:8080/"
        },
        "id": "obYFTE0HaIPN",
        "outputId": "9ed59cd5-2823-4ac4-9ea0-a5d6e889edfe"
      },
      "execution_count": 357,
      "outputs": [
        {
          "output_type": "stream",
          "name": "stdout",
          "text": [
            "Confusion matrix weights = distance:\n",
            "[[ 0  0  0  0  0 14]\n",
            " [ 0  0  0  0  1 14]\n",
            " [ 0  0  0  0  0  3]\n",
            " [ 0  0  0  0  0  3]\n",
            " [ 0  0  0  0  0  2]\n",
            " [ 0  0  0  0  0  6]]\n"
          ]
        }
      ]
    },
    {
      "cell_type": "code",
      "source": [
        "# Confusion matrix of weights=uniform\n",
        "confusion = confusion_matrix(y_test, knn_uniform.predict(X_test))\n",
        "print(\"Confusion matrix weights = uniform:\\n{}\".format(confusion))"
      ],
      "metadata": {
        "colab": {
          "base_uri": "https://localhost:8080/"
        },
        "id": "fT8ySrVEaRVD",
        "outputId": "90cd07e6-a6d0-4637-dde3-05ced77a2892"
      },
      "execution_count": 358,
      "outputs": [
        {
          "output_type": "stream",
          "name": "stdout",
          "text": [
            "Confusion matrix weights = uniform:\n",
            "[[ 0  0  0  0  0 14]\n",
            " [ 0  0  0  4  0 11]\n",
            " [ 0  0  0  0  0  3]\n",
            " [ 0  0  0  3  0  0]\n",
            " [ 0  0  0  2  0  0]\n",
            " [ 0  0  0  3  0  3]]\n"
          ]
        }
      ]
    },
    {
      "cell_type": "markdown",
      "source": [
        "### K-Nearest Neighbor Parameter Adjustment 3 : metric\n",
        "Adjust parameters using grid search for best and worst performing parameters"
      ],
      "metadata": {
        "id": "BQC14a-xbjS9"
      }
    },
    {
      "cell_type": "code",
      "source": [
        "# Dictionary of all values of k\n",
        "param_grid = {\"n_neighbors\": np.arange(1, 25),\n",
        "              #'weights': ['uniform', 'distance'],\n",
        "               'metric': ['euclidean', 'manhattan', 'chebyshev']}\n",
        "\n",
        "# Grid search on all values of k in dictionary,\n",
        "grid_search_metric = GridSearchCV(knn, param_grid, cv=5)\n",
        "grid_search_metric.fit(X_train_scaled, y_train)"
      ],
      "metadata": {
        "colab": {
          "base_uri": "https://localhost:8080/",
          "height": 119
        },
        "id": "ec_5pQ57br6N",
        "outputId": "a085ead6-84ae-4f67-eb82-2117cbd157c5"
      },
      "execution_count": 359,
      "outputs": [
        {
          "output_type": "execute_result",
          "data": {
            "text/plain": [
              "GridSearchCV(cv=5, estimator=KNeighborsClassifier(),\n",
              "             param_grid={'metric': ['euclidean', 'manhattan', 'chebyshev'],\n",
              "                         'n_neighbors': array([ 1,  2,  3,  4,  5,  6,  7,  8,  9, 10, 11, 12, 13, 14, 15, 16, 17,\n",
              "       18, 19, 20, 21, 22, 23, 24])})"
            ],
            "text/html": [
              "<style>#sk-container-id-47 {color: black;background-color: white;}#sk-container-id-47 pre{padding: 0;}#sk-container-id-47 div.sk-toggleable {background-color: white;}#sk-container-id-47 label.sk-toggleable__label {cursor: pointer;display: block;width: 100%;margin-bottom: 0;padding: 0.3em;box-sizing: border-box;text-align: center;}#sk-container-id-47 label.sk-toggleable__label-arrow:before {content: \"▸\";float: left;margin-right: 0.25em;color: #696969;}#sk-container-id-47 label.sk-toggleable__label-arrow:hover:before {color: black;}#sk-container-id-47 div.sk-estimator:hover label.sk-toggleable__label-arrow:before {color: black;}#sk-container-id-47 div.sk-toggleable__content {max-height: 0;max-width: 0;overflow: hidden;text-align: left;background-color: #f0f8ff;}#sk-container-id-47 div.sk-toggleable__content pre {margin: 0.2em;color: black;border-radius: 0.25em;background-color: #f0f8ff;}#sk-container-id-47 input.sk-toggleable__control:checked~div.sk-toggleable__content {max-height: 200px;max-width: 100%;overflow: auto;}#sk-container-id-47 input.sk-toggleable__control:checked~label.sk-toggleable__label-arrow:before {content: \"▾\";}#sk-container-id-47 div.sk-estimator input.sk-toggleable__control:checked~label.sk-toggleable__label {background-color: #d4ebff;}#sk-container-id-47 div.sk-label input.sk-toggleable__control:checked~label.sk-toggleable__label {background-color: #d4ebff;}#sk-container-id-47 input.sk-hidden--visually {border: 0;clip: rect(1px 1px 1px 1px);clip: rect(1px, 1px, 1px, 1px);height: 1px;margin: -1px;overflow: hidden;padding: 0;position: absolute;width: 1px;}#sk-container-id-47 div.sk-estimator {font-family: monospace;background-color: #f0f8ff;border: 1px dotted black;border-radius: 0.25em;box-sizing: border-box;margin-bottom: 0.5em;}#sk-container-id-47 div.sk-estimator:hover {background-color: #d4ebff;}#sk-container-id-47 div.sk-parallel-item::after {content: \"\";width: 100%;border-bottom: 1px solid gray;flex-grow: 1;}#sk-container-id-47 div.sk-label:hover label.sk-toggleable__label {background-color: #d4ebff;}#sk-container-id-47 div.sk-serial::before {content: \"\";position: absolute;border-left: 1px solid gray;box-sizing: border-box;top: 0;bottom: 0;left: 50%;z-index: 0;}#sk-container-id-47 div.sk-serial {display: flex;flex-direction: column;align-items: center;background-color: white;padding-right: 0.2em;padding-left: 0.2em;position: relative;}#sk-container-id-47 div.sk-item {position: relative;z-index: 1;}#sk-container-id-47 div.sk-parallel {display: flex;align-items: stretch;justify-content: center;background-color: white;position: relative;}#sk-container-id-47 div.sk-item::before, #sk-container-id-47 div.sk-parallel-item::before {content: \"\";position: absolute;border-left: 1px solid gray;box-sizing: border-box;top: 0;bottom: 0;left: 50%;z-index: -1;}#sk-container-id-47 div.sk-parallel-item {display: flex;flex-direction: column;z-index: 1;position: relative;background-color: white;}#sk-container-id-47 div.sk-parallel-item:first-child::after {align-self: flex-end;width: 50%;}#sk-container-id-47 div.sk-parallel-item:last-child::after {align-self: flex-start;width: 50%;}#sk-container-id-47 div.sk-parallel-item:only-child::after {width: 0;}#sk-container-id-47 div.sk-dashed-wrapped {border: 1px dashed gray;margin: 0 0.4em 0.5em 0.4em;box-sizing: border-box;padding-bottom: 0.4em;background-color: white;}#sk-container-id-47 div.sk-label label {font-family: monospace;font-weight: bold;display: inline-block;line-height: 1.2em;}#sk-container-id-47 div.sk-label-container {text-align: center;}#sk-container-id-47 div.sk-container {/* jupyter's `normalize.less` sets `[hidden] { display: none; }` but bootstrap.min.css set `[hidden] { display: none !important; }` so we also need the `!important` here to be able to override the default hidden behavior on the sphinx rendered scikit-learn.org. See: https://github.com/scikit-learn/scikit-learn/issues/21755 */display: inline-block !important;position: relative;}#sk-container-id-47 div.sk-text-repr-fallback {display: none;}</style><div id=\"sk-container-id-47\" class=\"sk-top-container\"><div class=\"sk-text-repr-fallback\"><pre>GridSearchCV(cv=5, estimator=KNeighborsClassifier(),\n",
              "             param_grid={&#x27;metric&#x27;: [&#x27;euclidean&#x27;, &#x27;manhattan&#x27;, &#x27;chebyshev&#x27;],\n",
              "                         &#x27;n_neighbors&#x27;: array([ 1,  2,  3,  4,  5,  6,  7,  8,  9, 10, 11, 12, 13, 14, 15, 16, 17,\n",
              "       18, 19, 20, 21, 22, 23, 24])})</pre><b>In a Jupyter environment, please rerun this cell to show the HTML representation or trust the notebook. <br />On GitHub, the HTML representation is unable to render, please try loading this page with nbviewer.org.</b></div><div class=\"sk-container\" hidden><div class=\"sk-item sk-dashed-wrapped\"><div class=\"sk-label-container\"><div class=\"sk-label sk-toggleable\"><input class=\"sk-toggleable__control sk-hidden--visually\" id=\"sk-estimator-id-137\" type=\"checkbox\" ><label for=\"sk-estimator-id-137\" class=\"sk-toggleable__label sk-toggleable__label-arrow\">GridSearchCV</label><div class=\"sk-toggleable__content\"><pre>GridSearchCV(cv=5, estimator=KNeighborsClassifier(),\n",
              "             param_grid={&#x27;metric&#x27;: [&#x27;euclidean&#x27;, &#x27;manhattan&#x27;, &#x27;chebyshev&#x27;],\n",
              "                         &#x27;n_neighbors&#x27;: array([ 1,  2,  3,  4,  5,  6,  7,  8,  9, 10, 11, 12, 13, 14, 15, 16, 17,\n",
              "       18, 19, 20, 21, 22, 23, 24])})</pre></div></div></div><div class=\"sk-parallel\"><div class=\"sk-parallel-item\"><div class=\"sk-item\"><div class=\"sk-label-container\"><div class=\"sk-label sk-toggleable\"><input class=\"sk-toggleable__control sk-hidden--visually\" id=\"sk-estimator-id-138\" type=\"checkbox\" ><label for=\"sk-estimator-id-138\" class=\"sk-toggleable__label sk-toggleable__label-arrow\">estimator: KNeighborsClassifier</label><div class=\"sk-toggleable__content\"><pre>KNeighborsClassifier()</pre></div></div></div><div class=\"sk-serial\"><div class=\"sk-item\"><div class=\"sk-estimator sk-toggleable\"><input class=\"sk-toggleable__control sk-hidden--visually\" id=\"sk-estimator-id-139\" type=\"checkbox\" ><label for=\"sk-estimator-id-139\" class=\"sk-toggleable__label sk-toggleable__label-arrow\">KNeighborsClassifier</label><div class=\"sk-toggleable__content\"><pre>KNeighborsClassifier()</pre></div></div></div></div></div></div></div></div></div></div>"
            ]
          },
          "metadata": {},
          "execution_count": 359
        }
      ]
    },
    {
      "cell_type": "code",
      "source": [
        "# Best performing weight\n",
        "grid_search_metric.best_params_"
      ],
      "metadata": {
        "colab": {
          "base_uri": "https://localhost:8080/"
        },
        "id": "Dyl6ldPfb4hV",
        "outputId": "31959746-e353-41ee-8682-d9ac4e9cc08a"
      },
      "execution_count": 360,
      "outputs": [
        {
          "output_type": "execute_result",
          "data": {
            "text/plain": [
              "{'metric': 'manhattan', 'n_neighbors': 1}"
            ]
          },
          "metadata": {},
          "execution_count": 360
        }
      ]
    },
    {
      "cell_type": "code",
      "source": [
        "# Accuracy of best weight\n",
        "grid_search_metric.best_score_"
      ],
      "metadata": {
        "colab": {
          "base_uri": "https://localhost:8080/"
        },
        "id": "-iale-0EcI3L",
        "outputId": "f6aa7902-dda0-477f-b1a0-def8383ecb22"
      },
      "execution_count": 361,
      "outputs": [
        {
          "output_type": "execute_result",
          "data": {
            "text/plain": [
              "0.7077310924369749"
            ]
          },
          "metadata": {},
          "execution_count": 361
        }
      ]
    },
    {
      "cell_type": "markdown",
      "source": [
        "Accuracy is jumping from ~67% without the adjusted metric parameter to 72% with metric = manhattan"
      ],
      "metadata": {
        "id": "TFMhKQC3cY42"
      }
    },
    {
      "cell_type": "code",
      "source": [
        "# Cross validation results with weights\n",
        "grid_search_metric.cv_results_"
      ],
      "metadata": {
        "colab": {
          "base_uri": "https://localhost:8080/"
        },
        "id": "vyy4-Pb3ck3W",
        "outputId": "643fd582-cd19-4aea-aacc-a944b069b6ed"
      },
      "execution_count": 362,
      "outputs": [
        {
          "output_type": "execute_result",
          "data": {
            "text/plain": [
              "{'mean_fit_time': array([0.00382972, 0.00251989, 0.00296798, 0.00280895, 0.00245366,\n",
              "        0.00242682, 0.00246758, 0.00293064, 0.00260601, 0.00276542,\n",
              "        0.00325422, 0.00348582, 0.00313892, 0.00283809, 0.00297585,\n",
              "        0.00280838, 0.0028964 , 0.00326333, 0.00365419, 0.00297217,\n",
              "        0.00273175, 0.00331335, 0.00373769, 0.00275998, 0.00268626,\n",
              "        0.00280275, 0.00255108, 0.00252056, 0.00266113, 0.00316739,\n",
              "        0.00311356, 0.00347228, 0.00258708, 0.00253429, 0.0025804 ,\n",
              "        0.00232916, 0.00246329, 0.00281725, 0.00239201, 0.00241585,\n",
              "        0.00244503, 0.00234003, 0.00241756, 0.00238452, 0.00305748,\n",
              "        0.00321908, 0.00318861, 0.00256791, 0.00255241, 0.00248141,\n",
              "        0.00252962, 0.00239925, 0.00230875, 0.00242949, 0.00232739,\n",
              "        0.00239601, 0.00389056, 0.00400815, 0.00354972, 0.0044395 ,\n",
              "        0.00381584, 0.00412426, 0.00356131, 0.00327935, 0.00361218,\n",
              "        0.0035224 , 0.00422225, 0.00382643, 0.00341001, 0.00450854,\n",
              "        0.0033412 , 0.00410571]),\n",
              " 'std_fit_time': array([1.35516147e-03, 1.18890278e-04, 1.78351988e-04, 4.77669980e-04,\n",
              "        1.21900936e-04, 1.20055665e-04, 1.52224869e-04, 4.53532302e-04,\n",
              "        1.88568424e-04, 4.13659272e-04, 5.38283860e-04, 8.91123975e-04,\n",
              "        6.50074786e-04, 3.68908216e-04, 5.11016164e-04, 3.42174550e-04,\n",
              "        8.69093247e-05, 7.19071930e-04, 9.92120177e-04, 1.79365858e-04,\n",
              "        1.18287086e-04, 6.32274518e-04, 8.90819351e-04, 1.99393402e-04,\n",
              "        2.15349132e-04, 4.14557755e-04, 7.83063311e-05, 7.05466032e-05,\n",
              "        2.09790663e-04, 5.64207399e-04, 2.94461883e-04, 1.37891449e-03,\n",
              "        2.34236323e-04, 2.01930577e-04, 1.14492762e-04, 1.62365678e-05,\n",
              "        2.53360611e-04, 5.10569111e-04, 6.72437444e-05, 2.41913923e-05,\n",
              "        1.14180487e-04, 5.24497899e-05, 4.48685776e-05, 6.68871160e-05,\n",
              "        5.67175461e-04, 9.37214081e-04, 5.66266622e-04, 2.01178190e-04,\n",
              "        2.15367270e-04, 2.91659248e-04, 3.10339309e-04, 4.61396071e-05,\n",
              "        5.36454730e-05, 1.97162449e-04, 7.54707450e-05, 1.64681330e-04,\n",
              "        8.52114691e-04, 4.42859044e-04, 3.59199808e-04, 1.38647616e-03,\n",
              "        3.19540474e-04, 4.10773655e-04, 4.02354120e-04, 2.77720703e-05,\n",
              "        2.97977505e-04, 3.22148693e-04, 1.01301925e-03, 4.92476009e-04,\n",
              "        1.28564053e-04, 2.39941846e-03, 4.54245899e-05, 4.88419057e-04]),\n",
              " 'mean_score_time': array([0.00705361, 0.00524921, 0.00599613, 0.00518112, 0.0048934 ,\n",
              "        0.00485501, 0.00516586, 0.00660653, 0.00525618, 0.0068212 ,\n",
              "        0.00668135, 0.00705309, 0.00594225, 0.00582304, 0.00567579,\n",
              "        0.00606656, 0.00598617, 0.00649114, 0.00661364, 0.00603333,\n",
              "        0.00624251, 0.00655131, 0.00708346, 0.00566006, 0.00560627,\n",
              "        0.00534573, 0.00505457, 0.00510921, 0.00527177, 0.00690508,\n",
              "        0.00679331, 0.00610924, 0.00506797, 0.00594902, 0.00509038,\n",
              "        0.00493121, 0.00506754, 0.00557976, 0.0049746 , 0.00500469,\n",
              "        0.00505018, 0.00498486, 0.00522795, 0.00508537, 0.00815778,\n",
              "        0.00674539, 0.0063889 , 0.00509257, 0.00486546, 0.00482869,\n",
              "        0.00548935, 0.00490189, 0.00478773, 0.004842  , 0.00510488,\n",
              "        0.00484633, 0.00755067, 0.00797744, 0.00820289, 0.0076139 ,\n",
              "        0.00810008, 0.00807333, 0.00757632, 0.00694838, 0.00729694,\n",
              "        0.00733085, 0.00769272, 0.00745025, 0.00755892, 0.00751171,\n",
              "        0.00708723, 0.00727859]),\n",
              " 'std_score_time': array([2.06151259e-03, 3.16516352e-04, 1.81317453e-04, 4.92075487e-04,\n",
              "        3.01222739e-04, 5.57666306e-05, 4.30993807e-04, 1.89722807e-03,\n",
              "        2.71278019e-04, 2.04535686e-03, 1.55240220e-03, 1.62177533e-03,\n",
              "        3.82209317e-04, 7.20090115e-04, 3.23736543e-04, 7.43735849e-04,\n",
              "        3.76947280e-04, 1.41939916e-03, 7.06319627e-04, 1.67398953e-04,\n",
              "        7.85678568e-04, 1.28474850e-03, 1.84155799e-03, 4.08547527e-04,\n",
              "        4.11482249e-04, 2.18109851e-04, 1.00040118e-04, 1.23467459e-04,\n",
              "        3.05721629e-04, 1.54242723e-03, 1.49303925e-03, 4.86239691e-04,\n",
              "        3.48774311e-04, 8.85161423e-04, 8.83724249e-05, 1.42868641e-04,\n",
              "        1.49172040e-04, 5.88264001e-04, 8.89988166e-05, 4.98463406e-05,\n",
              "        2.14919399e-04, 1.20122558e-04, 3.55070750e-04, 1.53445027e-04,\n",
              "        2.19137877e-03, 2.72640975e-03, 1.40104423e-03, 1.37070853e-04,\n",
              "        2.07425392e-04, 3.18556237e-04, 1.19533337e-03, 7.67258993e-05,\n",
              "        2.17833253e-04, 4.29193797e-04, 3.53296615e-04, 1.18510391e-04,\n",
              "        9.04094549e-04, 1.05221917e-04, 1.45676388e-03, 1.27311566e-03,\n",
              "        1.01834212e-03, 7.33035251e-04, 4.64982630e-04, 2.06580177e-04,\n",
              "        4.00924291e-04, 5.89174721e-04, 3.13349235e-04, 3.88406202e-04,\n",
              "        1.08643045e-03, 7.65254778e-04, 2.21113200e-04, 6.39344723e-04]),\n",
              " 'param_metric': masked_array(data=['euclidean', 'euclidean', 'euclidean', 'euclidean',\n",
              "                    'euclidean', 'euclidean', 'euclidean', 'euclidean',\n",
              "                    'euclidean', 'euclidean', 'euclidean', 'euclidean',\n",
              "                    'euclidean', 'euclidean', 'euclidean', 'euclidean',\n",
              "                    'euclidean', 'euclidean', 'euclidean', 'euclidean',\n",
              "                    'euclidean', 'euclidean', 'euclidean', 'euclidean',\n",
              "                    'manhattan', 'manhattan', 'manhattan', 'manhattan',\n",
              "                    'manhattan', 'manhattan', 'manhattan', 'manhattan',\n",
              "                    'manhattan', 'manhattan', 'manhattan', 'manhattan',\n",
              "                    'manhattan', 'manhattan', 'manhattan', 'manhattan',\n",
              "                    'manhattan', 'manhattan', 'manhattan', 'manhattan',\n",
              "                    'manhattan', 'manhattan', 'manhattan', 'manhattan',\n",
              "                    'chebyshev', 'chebyshev', 'chebyshev', 'chebyshev',\n",
              "                    'chebyshev', 'chebyshev', 'chebyshev', 'chebyshev',\n",
              "                    'chebyshev', 'chebyshev', 'chebyshev', 'chebyshev',\n",
              "                    'chebyshev', 'chebyshev', 'chebyshev', 'chebyshev',\n",
              "                    'chebyshev', 'chebyshev', 'chebyshev', 'chebyshev',\n",
              "                    'chebyshev', 'chebyshev', 'chebyshev', 'chebyshev'],\n",
              "              mask=[False, False, False, False, False, False, False, False,\n",
              "                    False, False, False, False, False, False, False, False,\n",
              "                    False, False, False, False, False, False, False, False,\n",
              "                    False, False, False, False, False, False, False, False,\n",
              "                    False, False, False, False, False, False, False, False,\n",
              "                    False, False, False, False, False, False, False, False,\n",
              "                    False, False, False, False, False, False, False, False,\n",
              "                    False, False, False, False, False, False, False, False,\n",
              "                    False, False, False, False, False, False, False, False],\n",
              "        fill_value='?',\n",
              "             dtype=object),\n",
              " 'param_n_neighbors': masked_array(data=[1, 2, 3, 4, 5, 6, 7, 8, 9, 10, 11, 12, 13, 14, 15, 16,\n",
              "                    17, 18, 19, 20, 21, 22, 23, 24, 1, 2, 3, 4, 5, 6, 7, 8,\n",
              "                    9, 10, 11, 12, 13, 14, 15, 16, 17, 18, 19, 20, 21, 22,\n",
              "                    23, 24, 1, 2, 3, 4, 5, 6, 7, 8, 9, 10, 11, 12, 13, 14,\n",
              "                    15, 16, 17, 18, 19, 20, 21, 22, 23, 24],\n",
              "              mask=[False, False, False, False, False, False, False, False,\n",
              "                    False, False, False, False, False, False, False, False,\n",
              "                    False, False, False, False, False, False, False, False,\n",
              "                    False, False, False, False, False, False, False, False,\n",
              "                    False, False, False, False, False, False, False, False,\n",
              "                    False, False, False, False, False, False, False, False,\n",
              "                    False, False, False, False, False, False, False, False,\n",
              "                    False, False, False, False, False, False, False, False,\n",
              "                    False, False, False, False, False, False, False, False],\n",
              "        fill_value='?',\n",
              "             dtype=object),\n",
              " 'params': [{'metric': 'euclidean', 'n_neighbors': 1},\n",
              "  {'metric': 'euclidean', 'n_neighbors': 2},\n",
              "  {'metric': 'euclidean', 'n_neighbors': 3},\n",
              "  {'metric': 'euclidean', 'n_neighbors': 4},\n",
              "  {'metric': 'euclidean', 'n_neighbors': 5},\n",
              "  {'metric': 'euclidean', 'n_neighbors': 6},\n",
              "  {'metric': 'euclidean', 'n_neighbors': 7},\n",
              "  {'metric': 'euclidean', 'n_neighbors': 8},\n",
              "  {'metric': 'euclidean', 'n_neighbors': 9},\n",
              "  {'metric': 'euclidean', 'n_neighbors': 10},\n",
              "  {'metric': 'euclidean', 'n_neighbors': 11},\n",
              "  {'metric': 'euclidean', 'n_neighbors': 12},\n",
              "  {'metric': 'euclidean', 'n_neighbors': 13},\n",
              "  {'metric': 'euclidean', 'n_neighbors': 14},\n",
              "  {'metric': 'euclidean', 'n_neighbors': 15},\n",
              "  {'metric': 'euclidean', 'n_neighbors': 16},\n",
              "  {'metric': 'euclidean', 'n_neighbors': 17},\n",
              "  {'metric': 'euclidean', 'n_neighbors': 18},\n",
              "  {'metric': 'euclidean', 'n_neighbors': 19},\n",
              "  {'metric': 'euclidean', 'n_neighbors': 20},\n",
              "  {'metric': 'euclidean', 'n_neighbors': 21},\n",
              "  {'metric': 'euclidean', 'n_neighbors': 22},\n",
              "  {'metric': 'euclidean', 'n_neighbors': 23},\n",
              "  {'metric': 'euclidean', 'n_neighbors': 24},\n",
              "  {'metric': 'manhattan', 'n_neighbors': 1},\n",
              "  {'metric': 'manhattan', 'n_neighbors': 2},\n",
              "  {'metric': 'manhattan', 'n_neighbors': 3},\n",
              "  {'metric': 'manhattan', 'n_neighbors': 4},\n",
              "  {'metric': 'manhattan', 'n_neighbors': 5},\n",
              "  {'metric': 'manhattan', 'n_neighbors': 6},\n",
              "  {'metric': 'manhattan', 'n_neighbors': 7},\n",
              "  {'metric': 'manhattan', 'n_neighbors': 8},\n",
              "  {'metric': 'manhattan', 'n_neighbors': 9},\n",
              "  {'metric': 'manhattan', 'n_neighbors': 10},\n",
              "  {'metric': 'manhattan', 'n_neighbors': 11},\n",
              "  {'metric': 'manhattan', 'n_neighbors': 12},\n",
              "  {'metric': 'manhattan', 'n_neighbors': 13},\n",
              "  {'metric': 'manhattan', 'n_neighbors': 14},\n",
              "  {'metric': 'manhattan', 'n_neighbors': 15},\n",
              "  {'metric': 'manhattan', 'n_neighbors': 16},\n",
              "  {'metric': 'manhattan', 'n_neighbors': 17},\n",
              "  {'metric': 'manhattan', 'n_neighbors': 18},\n",
              "  {'metric': 'manhattan', 'n_neighbors': 19},\n",
              "  {'metric': 'manhattan', 'n_neighbors': 20},\n",
              "  {'metric': 'manhattan', 'n_neighbors': 21},\n",
              "  {'metric': 'manhattan', 'n_neighbors': 22},\n",
              "  {'metric': 'manhattan', 'n_neighbors': 23},\n",
              "  {'metric': 'manhattan', 'n_neighbors': 24},\n",
              "  {'metric': 'chebyshev', 'n_neighbors': 1},\n",
              "  {'metric': 'chebyshev', 'n_neighbors': 2},\n",
              "  {'metric': 'chebyshev', 'n_neighbors': 3},\n",
              "  {'metric': 'chebyshev', 'n_neighbors': 4},\n",
              "  {'metric': 'chebyshev', 'n_neighbors': 5},\n",
              "  {'metric': 'chebyshev', 'n_neighbors': 6},\n",
              "  {'metric': 'chebyshev', 'n_neighbors': 7},\n",
              "  {'metric': 'chebyshev', 'n_neighbors': 8},\n",
              "  {'metric': 'chebyshev', 'n_neighbors': 9},\n",
              "  {'metric': 'chebyshev', 'n_neighbors': 10},\n",
              "  {'metric': 'chebyshev', 'n_neighbors': 11},\n",
              "  {'metric': 'chebyshev', 'n_neighbors': 12},\n",
              "  {'metric': 'chebyshev', 'n_neighbors': 13},\n",
              "  {'metric': 'chebyshev', 'n_neighbors': 14},\n",
              "  {'metric': 'chebyshev', 'n_neighbors': 15},\n",
              "  {'metric': 'chebyshev', 'n_neighbors': 16},\n",
              "  {'metric': 'chebyshev', 'n_neighbors': 17},\n",
              "  {'metric': 'chebyshev', 'n_neighbors': 18},\n",
              "  {'metric': 'chebyshev', 'n_neighbors': 19},\n",
              "  {'metric': 'chebyshev', 'n_neighbors': 20},\n",
              "  {'metric': 'chebyshev', 'n_neighbors': 21},\n",
              "  {'metric': 'chebyshev', 'n_neighbors': 22},\n",
              "  {'metric': 'chebyshev', 'n_neighbors': 23},\n",
              "  {'metric': 'chebyshev', 'n_neighbors': 24}],\n",
              " 'split0_test_score': array([0.57142857, 0.54285714, 0.54285714, 0.51428571, 0.45714286,\n",
              "        0.51428571, 0.6       , 0.57142857, 0.57142857, 0.62857143,\n",
              "        0.51428571, 0.6       , 0.51428571, 0.51428571, 0.57142857,\n",
              "        0.51428571, 0.54285714, 0.51428571, 0.54285714, 0.48571429,\n",
              "        0.51428571, 0.48571429, 0.51428571, 0.51428571, 0.68571429,\n",
              "        0.62857143, 0.6       , 0.54285714, 0.54285714, 0.62857143,\n",
              "        0.57142857, 0.65714286, 0.62857143, 0.6       , 0.6       ,\n",
              "        0.6       , 0.62857143, 0.62857143, 0.62857143, 0.6       ,\n",
              "        0.57142857, 0.6       , 0.6       , 0.6       , 0.6       ,\n",
              "        0.6       , 0.6       , 0.6       , 0.62857143, 0.54285714,\n",
              "        0.45714286, 0.57142857, 0.34285714, 0.42857143, 0.37142857,\n",
              "        0.42857143, 0.4       , 0.4       , 0.45714286, 0.51428571,\n",
              "        0.6       , 0.54285714, 0.6       , 0.57142857, 0.57142857,\n",
              "        0.57142857, 0.51428571, 0.42857143, 0.48571429, 0.48571429,\n",
              "        0.51428571, 0.48571429]),\n",
              " 'split1_test_score': array([0.67647059, 0.64705882, 0.64705882, 0.67647059, 0.61764706,\n",
              "        0.67647059, 0.67647059, 0.67647059, 0.67647059, 0.67647059,\n",
              "        0.64705882, 0.64705882, 0.61764706, 0.67647059, 0.61764706,\n",
              "        0.64705882, 0.58823529, 0.61764706, 0.58823529, 0.58823529,\n",
              "        0.55882353, 0.55882353, 0.55882353, 0.58823529, 0.64705882,\n",
              "        0.64705882, 0.70588235, 0.67647059, 0.64705882, 0.73529412,\n",
              "        0.67647059, 0.70588235, 0.64705882, 0.64705882, 0.67647059,\n",
              "        0.67647059, 0.67647059, 0.64705882, 0.64705882, 0.64705882,\n",
              "        0.64705882, 0.64705882, 0.67647059, 0.64705882, 0.64705882,\n",
              "        0.67647059, 0.64705882, 0.61764706, 0.64705882, 0.58823529,\n",
              "        0.61764706, 0.55882353, 0.58823529, 0.55882353, 0.52941176,\n",
              "        0.5       , 0.52941176, 0.52941176, 0.52941176, 0.52941176,\n",
              "        0.52941176, 0.52941176, 0.52941176, 0.5       , 0.47058824,\n",
              "        0.5       , 0.5       , 0.52941176, 0.5       , 0.5       ,\n",
              "        0.47058824, 0.52941176]),\n",
              " 'split2_test_score': array([0.73529412, 0.67647059, 0.61764706, 0.61764706, 0.61764706,\n",
              "        0.61764706, 0.58823529, 0.58823529, 0.58823529, 0.58823529,\n",
              "        0.58823529, 0.55882353, 0.55882353, 0.55882353, 0.55882353,\n",
              "        0.58823529, 0.61764706, 0.58823529, 0.58823529, 0.58823529,\n",
              "        0.58823529, 0.58823529, 0.58823529, 0.58823529, 0.76470588,\n",
              "        0.70588235, 0.64705882, 0.67647059, 0.64705882, 0.64705882,\n",
              "        0.64705882, 0.70588235, 0.70588235, 0.64705882, 0.67647059,\n",
              "        0.67647059, 0.64705882, 0.67647059, 0.67647059, 0.64705882,\n",
              "        0.67647059, 0.67647059, 0.64705882, 0.64705882, 0.61764706,\n",
              "        0.61764706, 0.64705882, 0.64705882, 0.70588235, 0.61764706,\n",
              "        0.58823529, 0.64705882, 0.58823529, 0.58823529, 0.58823529,\n",
              "        0.55882353, 0.58823529, 0.55882353, 0.58823529, 0.55882353,\n",
              "        0.55882353, 0.58823529, 0.58823529, 0.58823529, 0.58823529,\n",
              "        0.55882353, 0.55882353, 0.55882353, 0.52941176, 0.55882353,\n",
              "        0.55882353, 0.55882353]),\n",
              " 'split3_test_score': array([0.70588235, 0.67647059, 0.70588235, 0.70588235, 0.67647059,\n",
              "        0.64705882, 0.61764706, 0.64705882, 0.67647059, 0.70588235,\n",
              "        0.67647059, 0.67647059, 0.64705882, 0.61764706, 0.64705882,\n",
              "        0.61764706, 0.64705882, 0.58823529, 0.64705882, 0.61764706,\n",
              "        0.64705882, 0.61764706, 0.61764706, 0.61764706, 0.73529412,\n",
              "        0.73529412, 0.82352941, 0.73529412, 0.76470588, 0.76470588,\n",
              "        0.76470588, 0.73529412, 0.73529412, 0.73529412, 0.73529412,\n",
              "        0.73529412, 0.73529412, 0.73529412, 0.70588235, 0.73529412,\n",
              "        0.70588235, 0.70588235, 0.67647059, 0.70588235, 0.70588235,\n",
              "        0.70588235, 0.70588235, 0.67647059, 0.70588235, 0.64705882,\n",
              "        0.67647059, 0.67647059, 0.61764706, 0.64705882, 0.61764706,\n",
              "        0.64705882, 0.70588235, 0.67647059, 0.64705882, 0.58823529,\n",
              "        0.61764706, 0.58823529, 0.58823529, 0.52941176, 0.58823529,\n",
              "        0.61764706, 0.61764706, 0.55882353, 0.55882353, 0.55882353,\n",
              "        0.58823529, 0.61764706]),\n",
              " 'split4_test_score': array([0.67647059, 0.67647059, 0.67647059, 0.61764706, 0.67647059,\n",
              "        0.58823529, 0.5       , 0.52941176, 0.55882353, 0.55882353,\n",
              "        0.52941176, 0.58823529, 0.55882353, 0.55882353, 0.55882353,\n",
              "        0.61764706, 0.61764706, 0.64705882, 0.61764706, 0.61764706,\n",
              "        0.58823529, 0.55882353, 0.58823529, 0.64705882, 0.70588235,\n",
              "        0.64705882, 0.70588235, 0.70588235, 0.67647059, 0.61764706,\n",
              "        0.67647059, 0.64705882, 0.67647059, 0.64705882, 0.61764706,\n",
              "        0.58823529, 0.61764706, 0.58823529, 0.61764706, 0.61764706,\n",
              "        0.58823529, 0.61764706, 0.61764706, 0.61764706, 0.55882353,\n",
              "        0.55882353, 0.58823529, 0.61764706, 0.61764706, 0.67647059,\n",
              "        0.61764706, 0.58823529, 0.58823529, 0.58823529, 0.52941176,\n",
              "        0.52941176, 0.55882353, 0.5       , 0.5       , 0.5       ,\n",
              "        0.47058824, 0.47058824, 0.5       , 0.52941176, 0.5       ,\n",
              "        0.52941176, 0.5       , 0.47058824, 0.47058824, 0.58823529,\n",
              "        0.52941176, 0.52941176]),\n",
              " 'mean_test_score': array([0.67310924, 0.64386555, 0.63798319, 0.62638655, 0.60907563,\n",
              "        0.6087395 , 0.59647059, 0.60252101, 0.61428571, 0.63159664,\n",
              "        0.59109244, 0.61411765, 0.57932773, 0.58521008, 0.5907563 ,\n",
              "        0.59697479, 0.60268908, 0.59109244, 0.59680672, 0.5794958 ,\n",
              "        0.57932773, 0.56184874, 0.57344538, 0.59109244, 0.70773109,\n",
              "        0.67277311, 0.69647059, 0.66739496, 0.65563025, 0.67865546,\n",
              "        0.66722689, 0.6902521 , 0.67865546, 0.65529412, 0.66117647,\n",
              "        0.65529412, 0.6610084 , 0.65512605, 0.65512605, 0.64941176,\n",
              "        0.63781513, 0.64941176, 0.64352941, 0.64352941, 0.62588235,\n",
              "        0.63176471, 0.63764706, 0.63176471, 0.6610084 , 0.61445378,\n",
              "        0.59142857, 0.60840336, 0.54504202, 0.56218487, 0.52722689,\n",
              "        0.53277311, 0.55647059, 0.53294118, 0.54436975, 0.53815126,\n",
              "        0.55529412, 0.54386555, 0.56117647, 0.54369748, 0.54369748,\n",
              "        0.55546218, 0.53815126, 0.5092437 , 0.50890756, 0.53831933,\n",
              "        0.53226891, 0.54420168]),\n",
              " 'std_test_score': array([0.05532195, 0.05177289, 0.05592221, 0.06564655, 0.08039237,\n",
              "        0.0556366 , 0.05698297, 0.0528544 , 0.05162428, 0.0542537 ,\n",
              "        0.06345645, 0.04218923, 0.04717453, 0.05621993, 0.03551352,\n",
              "        0.04533643, 0.03522763, 0.04416556, 0.03469031, 0.04870065,\n",
              "        0.04335222, 0.04387359, 0.03494263, 0.04416556, 0.04043545,\n",
              "        0.04069726, 0.07492557, 0.06597875, 0.07098806, 0.05973507,\n",
              "        0.06205983, 0.0331037 , 0.03862842, 0.04395657, 0.0481635 ,\n",
              "        0.05449993, 0.04215306, 0.04924857, 0.03226978, 0.04655614,\n",
              "        0.05114327, 0.03841136, 0.03081365, 0.03599308, 0.04915902,\n",
              "        0.05295425, 0.04169422, 0.02698199, 0.0378267 , 0.04633111,\n",
              "        0.07300659, 0.04551799, 0.10173219, 0.07269758, 0.08506526,\n",
              "        0.07167038, 0.09854302, 0.08948913, 0.06673856, 0.03174024,\n",
              "        0.05242889, 0.04362761, 0.03930187, 0.03184419, 0.04897076,\n",
              "        0.03971866, 0.04522726, 0.05162428, 0.03161541, 0.03890529,\n",
              "        0.03993357, 0.04351156]),\n",
              " 'rank_test_score': array([ 6, 20, 23, 29, 34, 35, 41, 38, 32, 28, 43, 33, 49, 47, 46, 39, 37,\n",
              "        43, 40, 48, 50, 53, 51, 43,  1,  7,  2,  8, 13,  5,  9,  3,  4, 15,\n",
              "        10, 14, 11, 16, 17, 18, 24, 18, 22, 21, 30, 26, 25, 27, 11, 31, 42,\n",
              "        36, 58, 52, 70, 68, 55, 67, 59, 66, 57, 61, 54, 63, 62, 56, 65, 71,\n",
              "        72, 64, 69, 60], dtype=int32)}"
            ]
          },
          "metadata": {},
          "execution_count": 362
        }
      ]
    },
    {
      "cell_type": "markdown",
      "source": [
        "KNN Distances - KNN using Manhattan distance metric plotted below."
      ],
      "metadata": {
        "id": "9qUwEYi7f889"
      }
    },
    {
      "cell_type": "code",
      "source": [
        "# Test with cross validation on test set\n",
        "training_accuracy = []\n",
        "test_accuracy = []\n",
        "# n_neighbors from 1 to 10\n",
        "neighbors_settings = range(1, 11)\n",
        "\n",
        "for n_neighbors in neighbors_settings:\n",
        "    # Build the model\n",
        "    knn = KNeighborsClassifier(n_neighbors=n_neighbors,metric='manhattan')\n",
        "    knn.fit(X_train_scaled, y_train)\n",
        "    # Record training set accuracy\n",
        "    training_accuracy.append(knn.score(X_train_scaled, y_train))\n",
        "    # Record generalization accuracy\n",
        "    test_accuracy.append(knn.score(X_test_scaled, y_test))\n",
        "\n",
        "plt.plot(neighbors_settings, training_accuracy, label=\"training accuracy\")\n",
        "plt.plot(neighbors_settings, test_accuracy, label=\"test accuracy\")\n",
        "plt.title(\"K-Nearest Neighbors (Manhattan Distance): Accuracy vs. Number of Neighbors\")\n",
        "plt.ylabel(\"Accuracy\")\n",
        "plt.xlabel(\"n_neighbors\")\n",
        "plt.legend()"
      ],
      "metadata": {
        "colab": {
          "base_uri": "https://localhost:8080/",
          "height": 489
        },
        "id": "Bp0Qb5UufSMd",
        "outputId": "0179a9af-7307-431e-849c-3e4f141b89c8"
      },
      "execution_count": 363,
      "outputs": [
        {
          "output_type": "execute_result",
          "data": {
            "text/plain": [
              "<matplotlib.legend.Legend at 0x7d6969ab4a30>"
            ]
          },
          "metadata": {},
          "execution_count": 363
        },
        {
          "output_type": "display_data",
          "data": {
            "text/plain": [
              "<Figure size 640x480 with 1 Axes>"
            ],
            "image/png": "[encoded data removed]"
          },
          "metadata": {}
        }
      ]
    },
    {
      "cell_type": "markdown",
      "source": [
        "KNN Distances - KNN using Euclidean distance metric plotted below."
      ],
      "metadata": {
        "id": "Lvg7u5Orf56s"
      }
    },
    {
      "cell_type": "code",
      "source": [
        "# Lists to store training and test accuracies\n",
        "training_accuracy = []\n",
        "test_accuracy = []\n",
        "\n",
        "# Define range of neighbors settings to try\n",
        "neighbors_settings = range(1, 11)\n",
        "\n",
        "\n",
        "# Loop over different values of n_neighbors\n",
        "for n_neighbors in neighbors_settings:\n",
        "    # Build the model with Euclidean distance\n",
        "    knn = KNeighborsClassifier(n_neighbors=n_neighbors, metric='euclidean')\n",
        "    knn.fit(X_train_scaled, y_train)\n",
        "    # Record training set accuracy\n",
        "    training_accuracy.append(knn.score(X_train_scaled, y_train))\n",
        "    # Record generalization accuracy\n",
        "    test_accuracy.append(knn.score(X_test_scaled, y_test))\n",
        "\n",
        "plt.plot(neighbors_settings, training_accuracy, label=\"training accuracy\")\n",
        "plt.plot(neighbors_settings, test_accuracy, label=\"test accuracy\")\n",
        "plt.title(\"K-Nearest Neighbors (Euclidean Distance): Accuracy vs. Number of Neighbors\")\n",
        "plt.ylabel(\"Accuracy\")\n",
        "plt.xlabel(\"n_neighbors\")\n",
        "plt.legend()"
      ],
      "metadata": {
        "colab": {
          "base_uri": "https://localhost:8080/",
          "height": 489
        },
        "id": "19QpSm6SMlrT",
        "outputId": "3b02e66d-805e-4a06-ca35-3a8e8733c956"
      },
      "execution_count": 364,
      "outputs": [
        {
          "output_type": "execute_result",
          "data": {
            "text/plain": [
              "<matplotlib.legend.Legend at 0x7d6969824a30>"
            ]
          },
          "metadata": {},
          "execution_count": 364
        },
        {
          "output_type": "display_data",
          "data": {
            "text/plain": [
              "<Figure size 640x480 with 1 Axes>"
            ],
            "image/png": "[encoded data removed]"
          },
          "metadata": {}
        }
      ]
    },
    {
      "cell_type": "markdown",
      "source": [
        "The graph above is showing that the training accuracy is falling after 3 and not increasing again. At the same time there is a spike in testing accuracy at 3. This would be a point that would want to be examined further."
      ],
      "metadata": {
        "id": "1QhNr3BhNVTV"
      }
    }
  ]
}