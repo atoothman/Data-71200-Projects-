{
  "nbformat": 4,
  "nbformat_minor": 0,
  "metadata": {
    "colab": {
      "provenance": [],
      "authorship_tag": "ABX9TyOj1eSr2vRAWCIAwlsg7Aud",
      "include_colab_link": true
    },
    "kernelspec": {
      "name": "python3",
      "display_name": "Python 3"
    },
    "language_info": {
      "name": "python"
    }
  },
  "cells": [
    {
      "cell_type": "markdown",
      "metadata": {
        "id": "view-in-github",
        "colab_type": "text"
      },
      "source": [
        "<a href=\"https://colab.research.google.com/github/atoothman/Data-71200-Projects-/blob/main/DATA_71200_Project_3_Glass_ID.ipynb\" target=\"_parent\"><img src=\"https://colab.research.google.com/assets/colab-badge.svg\" alt=\"Open In Colab\"/></a>"
      ]
    },
    {
      "cell_type": "markdown",
      "source": [
        "# DATA 71200 - Project 3 Glass Identification\n",
        "\n",
        "This project involves the analysis of the [Glass Identification](https://archive.ics.uci.edu/dataset/42/glass+identification) dataset, sourced from the UC Irvine Machine Learning Repository. The dataset contains information on 6 types of glass defined in terms of their oxide content. The study of classification of types of glass was motivated by criminological investigation and broken glass left at crime scenes.\n",
        "\n",
        "**Dataset Description**\n",
        "\n",
        "1. ID Number\n",
        "2. RI (refractive Index)\n",
        "3. Na (Sodium)\n",
        "4. MG (Magnesium)\n",
        "5. Al (Aluminum)\n",
        "6. Si (Silicon)\n",
        "7. K (Potassium)\n",
        "8. Ca (Calcium)\n",
        "9. Ba (Barium)\n",
        "10. Fe (Iron)\n",
        "11. Type of Glass (Class)\n",
        "      *   building_windows_float_processed\n",
        "      *   building_windows_non_float_processed\n",
        "      *   vehicle_windows_float_processed\n",
        "      *   vehicle_windows_non_float_processed (none in this database)\n",
        "      *   containers\n",
        "      *   tableware\n",
        "      *   headlamps\n",
        "\n",
        "9 Features are included in the dataset. There are 8 continuous features, 1 integer feature and 1 categorical feature.\n",
        "\n",
        "The categorical feature Type of Glass/\"Class\" is divided into seven distinct categories (listed above) which are associated with the product the glass created. \"Class\" will serve as the target in this project.\n",
        "\n",
        "**Objective**\n",
        "Project 3 is building off the work of [Project 1](https://colab.research.google.com/drive/1i24JixOkYadlSOzYcKsIA-W-WyRru1XJ#scrollTo=VQdeW82USQMA) & [Project 2](https://colab.research.google.com/drive/14o56wCeCk9yekREo-ReIgmDQYlM0dmbh).\n",
        "\n",
        "The objective of this project is the application of unsupervised learning techniques on the Glass Identification dataset.\n"
      ],
      "metadata": {
        "id": "tTclae3BWTCF"
      }
    },
    {
      "cell_type": "markdown",
      "source": [
        "# Step 1: Load data including testing/training split from Project 1\n",
        "\n",
        "\n",
        "*   Your testing and training split should be balanced\n",
        "*   Your data should be clean and missing data should be addressed\n",
        "*   All appropriate variables are converted to categorical variables (as ordinal or one hot)\n",
        "*   Any necessary feature scaling should be performed\n",
        "*   YOU SHOULD ONLY WORK ON YOUR TRAINING SET\n",
        "\n",
        "\n",
        "\n",
        "\n",
        "\n",
        "\n",
        "\n",
        "\n",
        "\n"
      ],
      "metadata": {
        "id": "Wbkn3Un7W9Jg"
      }
    },
    {
      "cell_type": "markdown",
      "source": [
        "# Step 2: PCA for feature selection\n",
        "\n",
        "*  Show how many features do you need to retain to capture 95% of the variance\n",
        "*  Evaluate whether this improves your best-performing model from Project 2"
      ],
      "metadata": {
        "id": "vtZK_I4CXRyz"
      }
    },
    {
      "cell_type": "markdown",
      "source": [
        "# Step 3: Apply 3-types of clustering on your data and visualize the output of each both with and without PCA run on it first. Calculate both ARI and Silhouette Coefficient for all six of the combinations.\n",
        "\n",
        "\n",
        "*   k-Means (use an elbow visualization to determine the optimal numbers of clusters)\n",
        "*   Aggolmerate/Hierarchical\n",
        "*   DBSCAN\n",
        "\n",
        "\n",
        "\n",
        "\n",
        "\n",
        "\n",
        "\n"
      ],
      "metadata": {
        "id": "PPCYSkA9Xefh"
      }
    }
  ]
}