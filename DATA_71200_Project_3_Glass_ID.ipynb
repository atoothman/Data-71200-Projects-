{
  "nbformat": 4,
  "nbformat_minor": 0,
  "metadata": {
    "colab": {
      "provenance": [],
      "authorship_tag": "ABX9TyPfzOIbZIn+J05NyH+apqwx",
      "include_colab_link": true
    },
    "kernelspec": {
      "name": "python3",
      "display_name": "Python 3"
    },
    "language_info": {
      "name": "python"
    }
  },
  "cells": [
    {
      "cell_type": "markdown",
      "metadata": {
        "id": "view-in-github",
        "colab_type": "text"
      },
      "source": [
        "<a href=\"https://colab.research.google.com/github/atoothman/Data-71200-Projects-/blob/main/DATA_71200_Project_3_Glass_ID.ipynb\" target=\"_parent\"><img src=\"https://colab.research.google.com/assets/colab-badge.svg\" alt=\"Open In Colab\"/></a>"
      ]
    },
    {
      "cell_type": "markdown",
      "source": [
        "# DATA 71200 - Project 3 Glass Identification\n",
        "\n",
        "This project involves the analysis of the [Glass Identification](https://archive.ics.uci.edu/dataset/42/glass+identification) dataset, sourced from the UC Irvine Machine Learning Repository. The dataset contains information on 6 types of glass defined in terms of their oxide content. The study of classification of types of glass was motivated by criminological investigation and broken glass left at crime scenes.\n",
        "\n",
        "**Dataset Description**\n",
        "\n",
        "1. ID Number\n",
        "2. RI (refractive Index)\n",
        "3. Na (Sodium)\n",
        "4. MG (Magnesium)\n",
        "5. Al (Aluminum)\n",
        "6. Si (Silicon)\n",
        "7. K (Potassium)\n",
        "8. Ca (Calcium)\n",
        "9. Ba (Barium)\n",
        "10. Fe (Iron)\n",
        "11. Type of Glass (Class)\n",
        "      *   building_windows_float_processed\n",
        "      *   building_windows_non_float_processed\n",
        "      *   vehicle_windows_float_processed\n",
        "      *   vehicle_windows_non_float_processed (none in this database)\n",
        "      *   containers\n",
        "      *   tableware\n",
        "      *   headlamps\n",
        "\n",
        "9 Features are included in the dataset. There are 8 continuous features, 1 integer feature and 1 categorical feature.\n",
        "\n",
        "The categorical feature Type of Glass/\"Class\" is divided into seven distinct categories (listed above) which are associated with the product the glass created. \"Class\" will serve as the target in this project.\n",
        "\n",
        "**Objective**\n",
        "Project 3 is building off the work of [Project 1](https://colab.research.google.com/drive/1i24JixOkYadlSOzYcKsIA-W-WyRru1XJ#scrollTo=VQdeW82USQMA) & [Project 2](https://colab.research.google.com/drive/14o56wCeCk9yekREo-ReIgmDQYlM0dmbh).\n",
        "\n",
        "The objective of this project is the application of unsupervised learning techniques on the Glass Identification dataset.\n"
      ],
      "metadata": {
        "id": "tTclae3BWTCF"
      }
    },
    {
      "cell_type": "markdown",
      "source": [
        "# Step 1: Load data including testing/training split from Project 1\n",
        "\n",
        "\n",
        "*   Your testing and training split should be balanced\n",
        "*   Your data should be clean and missing data should be addressed\n",
        "*   All appropriate variables are converted to categorical variables (as ordinal or one hot)\n",
        "*   Any necessary feature scaling should be performed\n",
        "*   YOU SHOULD ONLY WORK ON YOUR TRAINING SET\n",
        "\n",
        "\n",
        "\n",
        "\n",
        "\n",
        "\n",
        "\n",
        "\n",
        "\n"
      ],
      "metadata": {
        "id": "Wbkn3Un7W9Jg"
      }
    },
    {
      "cell_type": "markdown",
      "source": [
        "### Load data from project 1 and drop ID Column\n",
        "\n",
        "Dropped ID column as it contained sequential numbers for the dataset which is redundant information and provided by the index column"
      ],
      "metadata": {
        "id": "5fCPC_im-I0Q"
      }
    },
    {
      "cell_type": "code",
      "source": [
        "import pandas as pd\n",
        "\n",
        "# Raw URL of the dataset file on GitHub\n",
        "url = \"https://raw.githubusercontent.com/atoothman/Data-71200-Projects-/main/glass%2Bidentification/glass.data\"\n",
        "\n",
        "\n",
        "# Load the dataset into DataFrame\n",
        "glass_df = pd.read_csv(url, header=None, index_col=False, names=[\n",
        "    'ID', 'Refractive Index', 'Sodium', 'Magnesium', 'Aluminum',\n",
        "    'Silicon', 'Potassium', 'Calcium', 'Barium', 'Iron', 'Class'])\n",
        "\n",
        "# Display the DataFrame before dropping 'ID'\n",
        "print(\"Before dropping 'ID':\")\n",
        "print(glass_df.head())\n",
        "\n",
        "# Drop the 'ID' column\n",
        "glass_df.drop(columns=['ID'], inplace=True)\n",
        "\n",
        "# Display the DataFrame after dropping 'ID'\n",
        "print(\"\\nAfter dropping 'ID':\")\n",
        "print(glass_df.head())"
      ],
      "metadata": {
        "colab": {
          "base_uri": "https://localhost:8080/"
        },
        "id": "LqSnnVrs-ICv",
        "outputId": "4e7bc4e5-ff3d-4627-89b8-bdfd9bee4280"
      },
      "execution_count": 1,
      "outputs": [
        {
          "output_type": "stream",
          "name": "stdout",
          "text": [
            "Before dropping 'ID':\n",
            "   ID  Refractive Index  Sodium  Magnesium  Aluminum  Silicon  Potassium  \\\n",
            "0   1           1.52101   13.64       4.49      1.10    71.78       0.06   \n",
            "1   2           1.51761   13.89       3.60      1.36    72.73       0.48   \n",
            "2   3           1.51618   13.53       3.55      1.54    72.99       0.39   \n",
            "3   4           1.51766   13.21       3.69      1.29    72.61       0.57   \n",
            "4   5           1.51742   13.27       3.62      1.24    73.08       0.55   \n",
            "\n",
            "   Calcium  Barium  Iron  Class  \n",
            "0     8.75     0.0   0.0      1  \n",
            "1     7.83     0.0   0.0      1  \n",
            "2     7.78     0.0   0.0      1  \n",
            "3     8.22     0.0   0.0      1  \n",
            "4     8.07     0.0   0.0      1  \n",
            "\n",
            "After dropping 'ID':\n",
            "   Refractive Index  Sodium  Magnesium  Aluminum  Silicon  Potassium  Calcium  \\\n",
            "0           1.52101   13.64       4.49      1.10    71.78       0.06     8.75   \n",
            "1           1.51761   13.89       3.60      1.36    72.73       0.48     7.83   \n",
            "2           1.51618   13.53       3.55      1.54    72.99       0.39     7.78   \n",
            "3           1.51766   13.21       3.69      1.29    72.61       0.57     8.22   \n",
            "4           1.51742   13.27       3.62      1.24    73.08       0.55     8.07   \n",
            "\n",
            "   Barium  Iron  Class  \n",
            "0     0.0   0.0      1  \n",
            "1     0.0   0.0      1  \n",
            "2     0.0   0.0      1  \n",
            "3     0.0   0.0      1  \n",
            "4     0.0   0.0      1  \n"
          ]
        }
      ]
    },
    {
      "cell_type": "markdown",
      "source": [
        "### Show info and description of data"
      ],
      "metadata": {
        "id": "A7HwrH4l-T0P"
      }
    },
    {
      "cell_type": "code",
      "source": [
        "# Display glass_data DF and check that all features are listed\n",
        "display(glass_df)\n",
        "\n",
        "# Show info on glass_df\n",
        "print(\"Info on glass_df:\")\n",
        "glass_df.info()\n",
        "print()\n",
        "\n",
        "# Show description of glass_df\n",
        "print(\"Description of glass_df:\")\n",
        "glass_df.describe()"
      ],
      "metadata": {
        "colab": {
          "base_uri": "https://localhost:8080/",
          "height": 1000
        },
        "id": "e3Y_RZ-P-WsU",
        "outputId": "61b50e47-da73-46d1-c76c-86ec612e26e3"
      },
      "execution_count": 2,
      "outputs": [
        {
          "output_type": "display_data",
          "data": {
            "text/plain": [
              "     Refractive Index  Sodium  Magnesium  Aluminum  Silicon  Potassium  \\\n",
              "0             1.52101   13.64       4.49      1.10    71.78       0.06   \n",
              "1             1.51761   13.89       3.60      1.36    72.73       0.48   \n",
              "2             1.51618   13.53       3.55      1.54    72.99       0.39   \n",
              "3             1.51766   13.21       3.69      1.29    72.61       0.57   \n",
              "4             1.51742   13.27       3.62      1.24    73.08       0.55   \n",
              "..                ...     ...        ...       ...      ...        ...   \n",
              "209           1.51623   14.14       0.00      2.88    72.61       0.08   \n",
              "210           1.51685   14.92       0.00      1.99    73.06       0.00   \n",
              "211           1.52065   14.36       0.00      2.02    73.42       0.00   \n",
              "212           1.51651   14.38       0.00      1.94    73.61       0.00   \n",
              "213           1.51711   14.23       0.00      2.08    73.36       0.00   \n",
              "\n",
              "     Calcium  Barium  Iron  Class  \n",
              "0       8.75    0.00   0.0      1  \n",
              "1       7.83    0.00   0.0      1  \n",
              "2       7.78    0.00   0.0      1  \n",
              "3       8.22    0.00   0.0      1  \n",
              "4       8.07    0.00   0.0      1  \n",
              "..       ...     ...   ...    ...  \n",
              "209     9.18    1.06   0.0      7  \n",
              "210     8.40    1.59   0.0      7  \n",
              "211     8.44    1.64   0.0      7  \n",
              "212     8.48    1.57   0.0      7  \n",
              "213     8.62    1.67   0.0      7  \n",
              "\n",
              "[214 rows x 10 columns]"
            ],
            "text/html": [
              "\n",
              "  <div id=\"df-f437fbcd-d1a7-45d7-b02d-8ea97c972714\" class=\"colab-df-container\">\n",
              "    <div>\n",
              "<style scoped>\n",
              "    .dataframe tbody tr th:only-of-type {\n",
              "        vertical-align: middle;\n",
              "    }\n",
              "\n",
              "    .dataframe tbody tr th {\n",
              "        vertical-align: top;\n",
              "    }\n",
              "\n",
              "    .dataframe thead th {\n",
              "        text-align: right;\n",
              "    }\n",
              "</style>\n",
              "<table border=\"1\" class=\"dataframe\">\n",
              "  <thead>\n",
              "    <tr style=\"text-align: right;\">\n",
              "      <th></th>\n",
              "      <th>Refractive Index</th>\n",
              "      <th>Sodium</th>\n",
              "      <th>Magnesium</th>\n",
              "      <th>Aluminum</th>\n",
              "      <th>Silicon</th>\n",
              "      <th>Potassium</th>\n",
              "      <th>Calcium</th>\n",
              "      <th>Barium</th>\n",
              "      <th>Iron</th>\n",
              "      <th>Class</th>\n",
              "    </tr>\n",
              "  </thead>\n",
              "  <tbody>\n",
              "    <tr>\n",
              "      <th>0</th>\n",
              "      <td>1.52101</td>\n",
              "      <td>13.64</td>\n",
              "      <td>4.49</td>\n",
              "      <td>1.10</td>\n",
              "      <td>71.78</td>\n",
              "      <td>0.06</td>\n",
              "      <td>8.75</td>\n",
              "      <td>0.00</td>\n",
              "      <td>0.0</td>\n",
              "      <td>1</td>\n",
              "    </tr>\n",
              "    <tr>\n",
              "      <th>1</th>\n",
              "      <td>1.51761</td>\n",
              "      <td>13.89</td>\n",
              "      <td>3.60</td>\n",
              "      <td>1.36</td>\n",
              "      <td>72.73</td>\n",
              "      <td>0.48</td>\n",
              "      <td>7.83</td>\n",
              "      <td>0.00</td>\n",
              "      <td>0.0</td>\n",
              "      <td>1</td>\n",
              "    </tr>\n",
              "    <tr>\n",
              "      <th>2</th>\n",
              "      <td>1.51618</td>\n",
              "      <td>13.53</td>\n",
              "      <td>3.55</td>\n",
              "      <td>1.54</td>\n",
              "      <td>72.99</td>\n",
              "      <td>0.39</td>\n",
              "      <td>7.78</td>\n",
              "      <td>0.00</td>\n",
              "      <td>0.0</td>\n",
              "      <td>1</td>\n",
              "    </tr>\n",
              "    <tr>\n",
              "      <th>3</th>\n",
              "      <td>1.51766</td>\n",
              "      <td>13.21</td>\n",
              "      <td>3.69</td>\n",
              "      <td>1.29</td>\n",
              "      <td>72.61</td>\n",
              "      <td>0.57</td>\n",
              "      <td>8.22</td>\n",
              "      <td>0.00</td>\n",
              "      <td>0.0</td>\n",
              "      <td>1</td>\n",
              "    </tr>\n",
              "    <tr>\n",
              "      <th>4</th>\n",
              "      <td>1.51742</td>\n",
              "      <td>13.27</td>\n",
              "      <td>3.62</td>\n",
              "      <td>1.24</td>\n",
              "      <td>73.08</td>\n",
              "      <td>0.55</td>\n",
              "      <td>8.07</td>\n",
              "      <td>0.00</td>\n",
              "      <td>0.0</td>\n",
              "      <td>1</td>\n",
              "    </tr>\n",
              "    <tr>\n",
              "      <th>...</th>\n",
              "      <td>...</td>\n",
              "      <td>...</td>\n",
              "      <td>...</td>\n",
              "      <td>...</td>\n",
              "      <td>...</td>\n",
              "      <td>...</td>\n",
              "      <td>...</td>\n",
              "      <td>...</td>\n",
              "      <td>...</td>\n",
              "      <td>...</td>\n",
              "    </tr>\n",
              "    <tr>\n",
              "      <th>209</th>\n",
              "      <td>1.51623</td>\n",
              "      <td>14.14</td>\n",
              "      <td>0.00</td>\n",
              "      <td>2.88</td>\n",
              "      <td>72.61</td>\n",
              "      <td>0.08</td>\n",
              "      <td>9.18</td>\n",
              "      <td>1.06</td>\n",
              "      <td>0.0</td>\n",
              "      <td>7</td>\n",
              "    </tr>\n",
              "    <tr>\n",
              "      <th>210</th>\n",
              "      <td>1.51685</td>\n",
              "      <td>14.92</td>\n",
              "      <td>0.00</td>\n",
              "      <td>1.99</td>\n",
              "      <td>73.06</td>\n",
              "      <td>0.00</td>\n",
              "      <td>8.40</td>\n",
              "      <td>1.59</td>\n",
              "      <td>0.0</td>\n",
              "      <td>7</td>\n",
              "    </tr>\n",
              "    <tr>\n",
              "      <th>211</th>\n",
              "      <td>1.52065</td>\n",
              "      <td>14.36</td>\n",
              "      <td>0.00</td>\n",
              "      <td>2.02</td>\n",
              "      <td>73.42</td>\n",
              "      <td>0.00</td>\n",
              "      <td>8.44</td>\n",
              "      <td>1.64</td>\n",
              "      <td>0.0</td>\n",
              "      <td>7</td>\n",
              "    </tr>\n",
              "    <tr>\n",
              "      <th>212</th>\n",
              "      <td>1.51651</td>\n",
              "      <td>14.38</td>\n",
              "      <td>0.00</td>\n",
              "      <td>1.94</td>\n",
              "      <td>73.61</td>\n",
              "      <td>0.00</td>\n",
              "      <td>8.48</td>\n",
              "      <td>1.57</td>\n",
              "      <td>0.0</td>\n",
              "      <td>7</td>\n",
              "    </tr>\n",
              "    <tr>\n",
              "      <th>213</th>\n",
              "      <td>1.51711</td>\n",
              "      <td>14.23</td>\n",
              "      <td>0.00</td>\n",
              "      <td>2.08</td>\n",
              "      <td>73.36</td>\n",
              "      <td>0.00</td>\n",
              "      <td>8.62</td>\n",
              "      <td>1.67</td>\n",
              "      <td>0.0</td>\n",
              "      <td>7</td>\n",
              "    </tr>\n",
              "  </tbody>\n",
              "</table>\n",
              "<p>214 rows × 10 columns</p>\n",
              "</div>\n",
              "    <div class=\"colab-df-buttons\">\n",
              "\n",
              "  <div class=\"colab-df-container\">\n",
              "    <button class=\"colab-df-convert\" onclick=\"convertToInteractive('df-f437fbcd-d1a7-45d7-b02d-8ea97c972714')\"\n",
              "            title=\"Convert this dataframe to an interactive table.\"\n",
              "            style=\"display:none;\">\n",
              "\n",
              "  <svg xmlns=\"http://www.w3.org/2000/svg\" height=\"24px\" viewBox=\"0 -960 960 960\">\n",
              "    <path d=\"M120-120v-720h720v720H120Zm60-500h600v-160H180v160Zm220 220h160v-160H400v160Zm0 220h160v-160H400v160ZM180-400h160v-160H180v160Zm440 0h160v-160H620v160ZM180-180h160v-160H180v160Zm440 0h160v-160H620v160Z\"/>\n",
              "  </svg>\n",
              "    </button>\n",
              "\n",
              "  <style>\n",
              "    .colab-df-container {\n",
              "      display:flex;\n",
              "      gap: 12px;\n",
              "    }\n",
              "\n",
              "    .colab-df-convert {\n",
              "      background-color: #E8F0FE;\n",
              "      border: none;\n",
              "      border-radius: 50%;\n",
              "      cursor: pointer;\n",
              "      display: none;\n",
              "      fill: #1967D2;\n",
              "      height: 32px;\n",
              "      padding: 0 0 0 0;\n",
              "      width: 32px;\n",
              "    }\n",
              "\n",
              "    .colab-df-convert:hover {\n",
              "      background-color: #E2EBFA;\n",
              "      box-shadow: 0px 1px 2px rgba(60, 64, 67, 0.3), 0px 1px 3px 1px rgba(60, 64, 67, 0.15);\n",
              "      fill: #174EA6;\n",
              "    }\n",
              "\n",
              "    .colab-df-buttons div {\n",
              "      margin-bottom: 4px;\n",
              "    }\n",
              "\n",
              "    [theme=dark] .colab-df-convert {\n",
              "      background-color: #3B4455;\n",
              "      fill: #D2E3FC;\n",
              "    }\n",
              "\n",
              "    [theme=dark] .colab-df-convert:hover {\n",
              "      background-color: #434B5C;\n",
              "      box-shadow: 0px 1px 3px 1px rgba(0, 0, 0, 0.15);\n",
              "      filter: drop-shadow(0px 1px 2px rgba(0, 0, 0, 0.3));\n",
              "      fill: #FFFFFF;\n",
              "    }\n",
              "  </style>\n",
              "\n",
              "    <script>\n",
              "      const buttonEl =\n",
              "        document.querySelector('#df-f437fbcd-d1a7-45d7-b02d-8ea97c972714 button.colab-df-convert');\n",
              "      buttonEl.style.display =\n",
              "        google.colab.kernel.accessAllowed ? 'block' : 'none';\n",
              "\n",
              "      async function convertToInteractive(key) {\n",
              "        const element = document.querySelector('#df-f437fbcd-d1a7-45d7-b02d-8ea97c972714');\n",
              "        const dataTable =\n",
              "          await google.colab.kernel.invokeFunction('convertToInteractive',\n",
              "                                                    [key], {});\n",
              "        if (!dataTable) return;\n",
              "\n",
              "        const docLinkHtml = 'Like what you see? Visit the ' +\n",
              "          '<a target=\"_blank\" href=https://colab.research.google.com/notebooks/data_table.ipynb>data table notebook</a>'\n",
              "          + ' to learn more about interactive tables.';\n",
              "        element.innerHTML = '';\n",
              "        dataTable['output_type'] = 'display_data';\n",
              "        await google.colab.output.renderOutput(dataTable, element);\n",
              "        const docLink = document.createElement('div');\n",
              "        docLink.innerHTML = docLinkHtml;\n",
              "        element.appendChild(docLink);\n",
              "      }\n",
              "    </script>\n",
              "  </div>\n",
              "\n",
              "\n",
              "<div id=\"df-6fcc0b86-389c-45f4-8ca0-a1e01757c078\">\n",
              "  <button class=\"colab-df-quickchart\" onclick=\"quickchart('df-6fcc0b86-389c-45f4-8ca0-a1e01757c078')\"\n",
              "            title=\"Suggest charts\"\n",
              "            style=\"display:none;\">\n",
              "\n",
              "<svg xmlns=\"http://www.w3.org/2000/svg\" height=\"24px\"viewBox=\"0 0 24 24\"\n",
              "     width=\"24px\">\n",
              "    <g>\n",
              "        <path d=\"M19 3H5c-1.1 0-2 .9-2 2v14c0 1.1.9 2 2 2h14c1.1 0 2-.9 2-2V5c0-1.1-.9-2-2-2zM9 17H7v-7h2v7zm4 0h-2V7h2v10zm4 0h-2v-4h2v4z\"/>\n",
              "    </g>\n",
              "</svg>\n",
              "  </button>\n",
              "\n",
              "<style>\n",
              "  .colab-df-quickchart {\n",
              "      --bg-color: #E8F0FE;\n",
              "      --fill-color: #1967D2;\n",
              "      --hover-bg-color: #E2EBFA;\n",
              "      --hover-fill-color: #174EA6;\n",
              "      --disabled-fill-color: #AAA;\n",
              "      --disabled-bg-color: #DDD;\n",
              "  }\n",
              "\n",
              "  [theme=dark] .colab-df-quickchart {\n",
              "      --bg-color: #3B4455;\n",
              "      --fill-color: #D2E3FC;\n",
              "      --hover-bg-color: #434B5C;\n",
              "      --hover-fill-color: #FFFFFF;\n",
              "      --disabled-bg-color: #3B4455;\n",
              "      --disabled-fill-color: #666;\n",
              "  }\n",
              "\n",
              "  .colab-df-quickchart {\n",
              "    background-color: var(--bg-color);\n",
              "    border: none;\n",
              "    border-radius: 50%;\n",
              "    cursor: pointer;\n",
              "    display: none;\n",
              "    fill: var(--fill-color);\n",
              "    height: 32px;\n",
              "    padding: 0;\n",
              "    width: 32px;\n",
              "  }\n",
              "\n",
              "  .colab-df-quickchart:hover {\n",
              "    background-color: var(--hover-bg-color);\n",
              "    box-shadow: 0 1px 2px rgba(60, 64, 67, 0.3), 0 1px 3px 1px rgba(60, 64, 67, 0.15);\n",
              "    fill: var(--button-hover-fill-color);\n",
              "  }\n",
              "\n",
              "  .colab-df-quickchart-complete:disabled,\n",
              "  .colab-df-quickchart-complete:disabled:hover {\n",
              "    background-color: var(--disabled-bg-color);\n",
              "    fill: var(--disabled-fill-color);\n",
              "    box-shadow: none;\n",
              "  }\n",
              "\n",
              "  .colab-df-spinner {\n",
              "    border: 2px solid var(--fill-color);\n",
              "    border-color: transparent;\n",
              "    border-bottom-color: var(--fill-color);\n",
              "    animation:\n",
              "      spin 1s steps(1) infinite;\n",
              "  }\n",
              "\n",
              "  @keyframes spin {\n",
              "    0% {\n",
              "      border-color: transparent;\n",
              "      border-bottom-color: var(--fill-color);\n",
              "      border-left-color: var(--fill-color);\n",
              "    }\n",
              "    20% {\n",
              "      border-color: transparent;\n",
              "      border-left-color: var(--fill-color);\n",
              "      border-top-color: var(--fill-color);\n",
              "    }\n",
              "    30% {\n",
              "      border-color: transparent;\n",
              "      border-left-color: var(--fill-color);\n",
              "      border-top-color: var(--fill-color);\n",
              "      border-right-color: var(--fill-color);\n",
              "    }\n",
              "    40% {\n",
              "      border-color: transparent;\n",
              "      border-right-color: var(--fill-color);\n",
              "      border-top-color: var(--fill-color);\n",
              "    }\n",
              "    60% {\n",
              "      border-color: transparent;\n",
              "      border-right-color: var(--fill-color);\n",
              "    }\n",
              "    80% {\n",
              "      border-color: transparent;\n",
              "      border-right-color: var(--fill-color);\n",
              "      border-bottom-color: var(--fill-color);\n",
              "    }\n",
              "    90% {\n",
              "      border-color: transparent;\n",
              "      border-bottom-color: var(--fill-color);\n",
              "    }\n",
              "  }\n",
              "</style>\n",
              "\n",
              "  <script>\n",
              "    async function quickchart(key) {\n",
              "      const quickchartButtonEl =\n",
              "        document.querySelector('#' + key + ' button');\n",
              "      quickchartButtonEl.disabled = true;  // To prevent multiple clicks.\n",
              "      quickchartButtonEl.classList.add('colab-df-spinner');\n",
              "      try {\n",
              "        const charts = await google.colab.kernel.invokeFunction(\n",
              "            'suggestCharts', [key], {});\n",
              "      } catch (error) {\n",
              "        console.error('Error during call to suggestCharts:', error);\n",
              "      }\n",
              "      quickchartButtonEl.classList.remove('colab-df-spinner');\n",
              "      quickchartButtonEl.classList.add('colab-df-quickchart-complete');\n",
              "    }\n",
              "    (() => {\n",
              "      let quickchartButtonEl =\n",
              "        document.querySelector('#df-6fcc0b86-389c-45f4-8ca0-a1e01757c078 button');\n",
              "      quickchartButtonEl.style.display =\n",
              "        google.colab.kernel.accessAllowed ? 'block' : 'none';\n",
              "    })();\n",
              "  </script>\n",
              "</div>\n",
              "\n",
              "  <div id=\"id_e3a4a273-9b53-4460-bddd-80f6ef70b008\">\n",
              "    <style>\n",
              "      .colab-df-generate {\n",
              "        background-color: #E8F0FE;\n",
              "        border: none;\n",
              "        border-radius: 50%;\n",
              "        cursor: pointer;\n",
              "        display: none;\n",
              "        fill: #1967D2;\n",
              "        height: 32px;\n",
              "        padding: 0 0 0 0;\n",
              "        width: 32px;\n",
              "      }\n",
              "\n",
              "      .colab-df-generate:hover {\n",
              "        background-color: #E2EBFA;\n",
              "        box-shadow: 0px 1px 2px rgba(60, 64, 67, 0.3), 0px 1px 3px 1px rgba(60, 64, 67, 0.15);\n",
              "        fill: #174EA6;\n",
              "      }\n",
              "\n",
              "      [theme=dark] .colab-df-generate {\n",
              "        background-color: #3B4455;\n",
              "        fill: #D2E3FC;\n",
              "      }\n",
              "\n",
              "      [theme=dark] .colab-df-generate:hover {\n",
              "        background-color: #434B5C;\n",
              "        box-shadow: 0px 1px 3px 1px rgba(0, 0, 0, 0.15);\n",
              "        filter: drop-shadow(0px 1px 2px rgba(0, 0, 0, 0.3));\n",
              "        fill: #FFFFFF;\n",
              "      }\n",
              "    </style>\n",
              "    <button class=\"colab-df-generate\" onclick=\"generateWithVariable('glass_df')\"\n",
              "            title=\"Generate code using this dataframe.\"\n",
              "            style=\"display:none;\">\n",
              "\n",
              "  <svg xmlns=\"http://www.w3.org/2000/svg\" height=\"24px\"viewBox=\"0 0 24 24\"\n",
              "       width=\"24px\">\n",
              "    <path d=\"M7,19H8.4L18.45,9,17,7.55,7,17.6ZM5,21V16.75L18.45,3.32a2,2,0,0,1,2.83,0l1.4,1.43a1.91,1.91,0,0,1,.58,1.4,1.91,1.91,0,0,1-.58,1.4L9.25,21ZM18.45,9,17,7.55Zm-12,3A5.31,5.31,0,0,0,4.9,8.1,5.31,5.31,0,0,0,1,6.5,5.31,5.31,0,0,0,4.9,4.9,5.31,5.31,0,0,0,6.5,1,5.31,5.31,0,0,0,8.1,4.9,5.31,5.31,0,0,0,12,6.5,5.46,5.46,0,0,0,6.5,12Z\"/>\n",
              "  </svg>\n",
              "    </button>\n",
              "    <script>\n",
              "      (() => {\n",
              "      const buttonEl =\n",
              "        document.querySelector('#id_e3a4a273-9b53-4460-bddd-80f6ef70b008 button.colab-df-generate');\n",
              "      buttonEl.style.display =\n",
              "        google.colab.kernel.accessAllowed ? 'block' : 'none';\n",
              "\n",
              "      buttonEl.onclick = () => {\n",
              "        google.colab.notebook.generateWithVariable('glass_df');\n",
              "      }\n",
              "      })();\n",
              "    </script>\n",
              "  </div>\n",
              "\n",
              "    </div>\n",
              "  </div>\n"
            ],
            "application/vnd.google.colaboratory.intrinsic+json": {
              "type": "dataframe",
              "variable_name": "glass_df",
              "summary": "{\n  \"name\": \"glass_df\",\n  \"rows\": 214,\n  \"fields\": [\n    {\n      \"column\": \"Refractive Index\",\n      \"properties\": {\n        \"dtype\": \"number\",\n        \"std\": 0.0030368637393854334,\n        \"min\": 1.51115,\n        \"max\": 1.53393,\n        \"num_unique_values\": 178,\n        \"samples\": [\n          1.51966,\n          1.51808,\n          1.51969\n        ],\n        \"semantic_type\": \"\",\n        \"description\": \"\"\n      }\n    },\n    {\n      \"column\": \"Sodium\",\n      \"properties\": {\n        \"dtype\": \"number\",\n        \"std\": 0.816603555714983,\n        \"min\": 10.73,\n        \"max\": 17.38,\n        \"num_unique_values\": 142,\n        \"samples\": [\n          14.38,\n          13.02,\n          13.83\n        ],\n        \"semantic_type\": \"\",\n        \"description\": \"\"\n      }\n    },\n    {\n      \"column\": \"Magnesium\",\n      \"properties\": {\n        \"dtype\": \"number\",\n        \"std\": 1.442407844870442,\n        \"min\": 0.0,\n        \"max\": 4.49,\n        \"num_unique_values\": 94,\n        \"samples\": [\n          3.86,\n          3.47,\n          2.9\n        ],\n        \"semantic_type\": \"\",\n        \"description\": \"\"\n      }\n    },\n    {\n      \"column\": \"Aluminum\",\n      \"properties\": {\n        \"dtype\": \"number\",\n        \"std\": 0.4992696456004845,\n        \"min\": 0.29,\n        \"max\": 3.5,\n        \"num_unique_values\": 118,\n        \"samples\": [\n          1.48,\n          1.65,\n          1.24\n        ],\n        \"semantic_type\": \"\",\n        \"description\": \"\"\n      }\n    },\n    {\n      \"column\": \"Silicon\",\n      \"properties\": {\n        \"dtype\": \"number\",\n        \"std\": 0.7745457947651124,\n        \"min\": 69.81,\n        \"max\": 75.41,\n        \"num_unique_values\": 133,\n        \"samples\": [\n          72.22,\n          73.06,\n          71.81\n        ],\n        \"semantic_type\": \"\",\n        \"description\": \"\"\n      }\n    },\n    {\n      \"column\": \"Potassium\",\n      \"properties\": {\n        \"dtype\": \"number\",\n        \"std\": 0.65219184555898,\n        \"min\": 0.0,\n        \"max\": 6.21,\n        \"num_unique_values\": 65,\n        \"samples\": [\n          0.47,\n          0.31,\n          0.06\n        ],\n        \"semantic_type\": \"\",\n        \"description\": \"\"\n      }\n    },\n    {\n      \"column\": \"Calcium\",\n      \"properties\": {\n        \"dtype\": \"number\",\n        \"std\": 1.423153487281395,\n        \"min\": 5.43,\n        \"max\": 16.19,\n        \"num_unique_values\": 143,\n        \"samples\": [\n          12.5,\n          8.52,\n          11.52\n        ],\n        \"semantic_type\": \"\",\n        \"description\": \"\"\n      }\n    },\n    {\n      \"column\": \"Barium\",\n      \"properties\": {\n        \"dtype\": \"number\",\n        \"std\": 0.49721926059970356,\n        \"min\": 0.0,\n        \"max\": 3.15,\n        \"num_unique_values\": 34,\n        \"samples\": [\n          0.64,\n          0.61,\n          1.55\n        ],\n        \"semantic_type\": \"\",\n        \"description\": \"\"\n      }\n    },\n    {\n      \"column\": \"Iron\",\n      \"properties\": {\n        \"dtype\": \"number\",\n        \"std\": 0.09743870063650084,\n        \"min\": 0.0,\n        \"max\": 0.51,\n        \"num_unique_values\": 32,\n        \"samples\": [\n          0.51,\n          0.03,\n          0.21\n        ],\n        \"semantic_type\": \"\",\n        \"description\": \"\"\n      }\n    },\n    {\n      \"column\": \"Class\",\n      \"properties\": {\n        \"dtype\": \"number\",\n        \"std\": 2,\n        \"min\": 1,\n        \"max\": 7,\n        \"num_unique_values\": 6,\n        \"samples\": [\n          1,\n          2,\n          7\n        ],\n        \"semantic_type\": \"\",\n        \"description\": \"\"\n      }\n    }\n  ]\n}"
            }
          },
          "metadata": {}
        },
        {
          "output_type": "stream",
          "name": "stdout",
          "text": [
            "Info on glass_df:\n",
            "<class 'pandas.core.frame.DataFrame'>\n",
            "RangeIndex: 214 entries, 0 to 213\n",
            "Data columns (total 10 columns):\n",
            " #   Column            Non-Null Count  Dtype  \n",
            "---  ------            --------------  -----  \n",
            " 0   Refractive Index  214 non-null    float64\n",
            " 1   Sodium            214 non-null    float64\n",
            " 2   Magnesium         214 non-null    float64\n",
            " 3   Aluminum          214 non-null    float64\n",
            " 4   Silicon           214 non-null    float64\n",
            " 5   Potassium         214 non-null    float64\n",
            " 6   Calcium           214 non-null    float64\n",
            " 7   Barium            214 non-null    float64\n",
            " 8   Iron              214 non-null    float64\n",
            " 9   Class             214 non-null    int64  \n",
            "dtypes: float64(9), int64(1)\n",
            "memory usage: 16.8 KB\n",
            "\n",
            "Description of glass_df:\n"
          ]
        },
        {
          "output_type": "execute_result",
          "data": {
            "text/plain": [
              "       Refractive Index      Sodium   Magnesium    Aluminum     Silicon  \\\n",
              "count        214.000000  214.000000  214.000000  214.000000  214.000000   \n",
              "mean           1.518365   13.407850    2.684533    1.444907   72.650935   \n",
              "std            0.003037    0.816604    1.442408    0.499270    0.774546   \n",
              "min            1.511150   10.730000    0.000000    0.290000   69.810000   \n",
              "25%            1.516522   12.907500    2.115000    1.190000   72.280000   \n",
              "50%            1.517680   13.300000    3.480000    1.360000   72.790000   \n",
              "75%            1.519157   13.825000    3.600000    1.630000   73.087500   \n",
              "max            1.533930   17.380000    4.490000    3.500000   75.410000   \n",
              "\n",
              "        Potassium     Calcium      Barium        Iron       Class  \n",
              "count  214.000000  214.000000  214.000000  214.000000  214.000000  \n",
              "mean     0.497056    8.956963    0.175047    0.057009    2.780374  \n",
              "std      0.652192    1.423153    0.497219    0.097439    2.103739  \n",
              "min      0.000000    5.430000    0.000000    0.000000    1.000000  \n",
              "25%      0.122500    8.240000    0.000000    0.000000    1.000000  \n",
              "50%      0.555000    8.600000    0.000000    0.000000    2.000000  \n",
              "75%      0.610000    9.172500    0.000000    0.100000    3.000000  \n",
              "max      6.210000   16.190000    3.150000    0.510000    7.000000  "
            ],
            "text/html": [
              "\n",
              "  <div id=\"df-185aa0f0-a42a-47ff-ba50-6328f5fa94ff\" class=\"colab-df-container\">\n",
              "    <div>\n",
              "<style scoped>\n",
              "    .dataframe tbody tr th:only-of-type {\n",
              "        vertical-align: middle;\n",
              "    }\n",
              "\n",
              "    .dataframe tbody tr th {\n",
              "        vertical-align: top;\n",
              "    }\n",
              "\n",
              "    .dataframe thead th {\n",
              "        text-align: right;\n",
              "    }\n",
              "</style>\n",
              "<table border=\"1\" class=\"dataframe\">\n",
              "  <thead>\n",
              "    <tr style=\"text-align: right;\">\n",
              "      <th></th>\n",
              "      <th>Refractive Index</th>\n",
              "      <th>Sodium</th>\n",
              "      <th>Magnesium</th>\n",
              "      <th>Aluminum</th>\n",
              "      <th>Silicon</th>\n",
              "      <th>Potassium</th>\n",
              "      <th>Calcium</th>\n",
              "      <th>Barium</th>\n",
              "      <th>Iron</th>\n",
              "      <th>Class</th>\n",
              "    </tr>\n",
              "  </thead>\n",
              "  <tbody>\n",
              "    <tr>\n",
              "      <th>count</th>\n",
              "      <td>214.000000</td>\n",
              "      <td>214.000000</td>\n",
              "      <td>214.000000</td>\n",
              "      <td>214.000000</td>\n",
              "      <td>214.000000</td>\n",
              "      <td>214.000000</td>\n",
              "      <td>214.000000</td>\n",
              "      <td>214.000000</td>\n",
              "      <td>214.000000</td>\n",
              "      <td>214.000000</td>\n",
              "    </tr>\n",
              "    <tr>\n",
              "      <th>mean</th>\n",
              "      <td>1.518365</td>\n",
              "      <td>13.407850</td>\n",
              "      <td>2.684533</td>\n",
              "      <td>1.444907</td>\n",
              "      <td>72.650935</td>\n",
              "      <td>0.497056</td>\n",
              "      <td>8.956963</td>\n",
              "      <td>0.175047</td>\n",
              "      <td>0.057009</td>\n",
              "      <td>2.780374</td>\n",
              "    </tr>\n",
              "    <tr>\n",
              "      <th>std</th>\n",
              "      <td>0.003037</td>\n",
              "      <td>0.816604</td>\n",
              "      <td>1.442408</td>\n",
              "      <td>0.499270</td>\n",
              "      <td>0.774546</td>\n",
              "      <td>0.652192</td>\n",
              "      <td>1.423153</td>\n",
              "      <td>0.497219</td>\n",
              "      <td>0.097439</td>\n",
              "      <td>2.103739</td>\n",
              "    </tr>\n",
              "    <tr>\n",
              "      <th>min</th>\n",
              "      <td>1.511150</td>\n",
              "      <td>10.730000</td>\n",
              "      <td>0.000000</td>\n",
              "      <td>0.290000</td>\n",
              "      <td>69.810000</td>\n",
              "      <td>0.000000</td>\n",
              "      <td>5.430000</td>\n",
              "      <td>0.000000</td>\n",
              "      <td>0.000000</td>\n",
              "      <td>1.000000</td>\n",
              "    </tr>\n",
              "    <tr>\n",
              "      <th>25%</th>\n",
              "      <td>1.516522</td>\n",
              "      <td>12.907500</td>\n",
              "      <td>2.115000</td>\n",
              "      <td>1.190000</td>\n",
              "      <td>72.280000</td>\n",
              "      <td>0.122500</td>\n",
              "      <td>8.240000</td>\n",
              "      <td>0.000000</td>\n",
              "      <td>0.000000</td>\n",
              "      <td>1.000000</td>\n",
              "    </tr>\n",
              "    <tr>\n",
              "      <th>50%</th>\n",
              "      <td>1.517680</td>\n",
              "      <td>13.300000</td>\n",
              "      <td>3.480000</td>\n",
              "      <td>1.360000</td>\n",
              "      <td>72.790000</td>\n",
              "      <td>0.555000</td>\n",
              "      <td>8.600000</td>\n",
              "      <td>0.000000</td>\n",
              "      <td>0.000000</td>\n",
              "      <td>2.000000</td>\n",
              "    </tr>\n",
              "    <tr>\n",
              "      <th>75%</th>\n",
              "      <td>1.519157</td>\n",
              "      <td>13.825000</td>\n",
              "      <td>3.600000</td>\n",
              "      <td>1.630000</td>\n",
              "      <td>73.087500</td>\n",
              "      <td>0.610000</td>\n",
              "      <td>9.172500</td>\n",
              "      <td>0.000000</td>\n",
              "      <td>0.100000</td>\n",
              "      <td>3.000000</td>\n",
              "    </tr>\n",
              "    <tr>\n",
              "      <th>max</th>\n",
              "      <td>1.533930</td>\n",
              "      <td>17.380000</td>\n",
              "      <td>4.490000</td>\n",
              "      <td>3.500000</td>\n",
              "      <td>75.410000</td>\n",
              "      <td>6.210000</td>\n",
              "      <td>16.190000</td>\n",
              "      <td>3.150000</td>\n",
              "      <td>0.510000</td>\n",
              "      <td>7.000000</td>\n",
              "    </tr>\n",
              "  </tbody>\n",
              "</table>\n",
              "</div>\n",
              "    <div class=\"colab-df-buttons\">\n",
              "\n",
              "  <div class=\"colab-df-container\">\n",
              "    <button class=\"colab-df-convert\" onclick=\"convertToInteractive('df-185aa0f0-a42a-47ff-ba50-6328f5fa94ff')\"\n",
              "            title=\"Convert this dataframe to an interactive table.\"\n",
              "            style=\"display:none;\">\n",
              "\n",
              "  <svg xmlns=\"http://www.w3.org/2000/svg\" height=\"24px\" viewBox=\"0 -960 960 960\">\n",
              "    <path d=\"M120-120v-720h720v720H120Zm60-500h600v-160H180v160Zm220 220h160v-160H400v160Zm0 220h160v-160H400v160ZM180-400h160v-160H180v160Zm440 0h160v-160H620v160ZM180-180h160v-160H180v160Zm440 0h160v-160H620v160Z\"/>\n",
              "  </svg>\n",
              "    </button>\n",
              "\n",
              "  <style>\n",
              "    .colab-df-container {\n",
              "      display:flex;\n",
              "      gap: 12px;\n",
              "    }\n",
              "\n",
              "    .colab-df-convert {\n",
              "      background-color: #E8F0FE;\n",
              "      border: none;\n",
              "      border-radius: 50%;\n",
              "      cursor: pointer;\n",
              "      display: none;\n",
              "      fill: #1967D2;\n",
              "      height: 32px;\n",
              "      padding: 0 0 0 0;\n",
              "      width: 32px;\n",
              "    }\n",
              "\n",
              "    .colab-df-convert:hover {\n",
              "      background-color: #E2EBFA;\n",
              "      box-shadow: 0px 1px 2px rgba(60, 64, 67, 0.3), 0px 1px 3px 1px rgba(60, 64, 67, 0.15);\n",
              "      fill: #174EA6;\n",
              "    }\n",
              "\n",
              "    .colab-df-buttons div {\n",
              "      margin-bottom: 4px;\n",
              "    }\n",
              "\n",
              "    [theme=dark] .colab-df-convert {\n",
              "      background-color: #3B4455;\n",
              "      fill: #D2E3FC;\n",
              "    }\n",
              "\n",
              "    [theme=dark] .colab-df-convert:hover {\n",
              "      background-color: #434B5C;\n",
              "      box-shadow: 0px 1px 3px 1px rgba(0, 0, 0, 0.15);\n",
              "      filter: drop-shadow(0px 1px 2px rgba(0, 0, 0, 0.3));\n",
              "      fill: #FFFFFF;\n",
              "    }\n",
              "  </style>\n",
              "\n",
              "    <script>\n",
              "      const buttonEl =\n",
              "        document.querySelector('#df-185aa0f0-a42a-47ff-ba50-6328f5fa94ff button.colab-df-convert');\n",
              "      buttonEl.style.display =\n",
              "        google.colab.kernel.accessAllowed ? 'block' : 'none';\n",
              "\n",
              "      async function convertToInteractive(key) {\n",
              "        const element = document.querySelector('#df-185aa0f0-a42a-47ff-ba50-6328f5fa94ff');\n",
              "        const dataTable =\n",
              "          await google.colab.kernel.invokeFunction('convertToInteractive',\n",
              "                                                    [key], {});\n",
              "        if (!dataTable) return;\n",
              "\n",
              "        const docLinkHtml = 'Like what you see? Visit the ' +\n",
              "          '<a target=\"_blank\" href=https://colab.research.google.com/notebooks/data_table.ipynb>data table notebook</a>'\n",
              "          + ' to learn more about interactive tables.';\n",
              "        element.innerHTML = '';\n",
              "        dataTable['output_type'] = 'display_data';\n",
              "        await google.colab.output.renderOutput(dataTable, element);\n",
              "        const docLink = document.createElement('div');\n",
              "        docLink.innerHTML = docLinkHtml;\n",
              "        element.appendChild(docLink);\n",
              "      }\n",
              "    </script>\n",
              "  </div>\n",
              "\n",
              "\n",
              "<div id=\"df-05a35d31-d23b-459c-b917-415cb165b2ea\">\n",
              "  <button class=\"colab-df-quickchart\" onclick=\"quickchart('df-05a35d31-d23b-459c-b917-415cb165b2ea')\"\n",
              "            title=\"Suggest charts\"\n",
              "            style=\"display:none;\">\n",
              "\n",
              "<svg xmlns=\"http://www.w3.org/2000/svg\" height=\"24px\"viewBox=\"0 0 24 24\"\n",
              "     width=\"24px\">\n",
              "    <g>\n",
              "        <path d=\"M19 3H5c-1.1 0-2 .9-2 2v14c0 1.1.9 2 2 2h14c1.1 0 2-.9 2-2V5c0-1.1-.9-2-2-2zM9 17H7v-7h2v7zm4 0h-2V7h2v10zm4 0h-2v-4h2v4z\"/>\n",
              "    </g>\n",
              "</svg>\n",
              "  </button>\n",
              "\n",
              "<style>\n",
              "  .colab-df-quickchart {\n",
              "      --bg-color: #E8F0FE;\n",
              "      --fill-color: #1967D2;\n",
              "      --hover-bg-color: #E2EBFA;\n",
              "      --hover-fill-color: #174EA6;\n",
              "      --disabled-fill-color: #AAA;\n",
              "      --disabled-bg-color: #DDD;\n",
              "  }\n",
              "\n",
              "  [theme=dark] .colab-df-quickchart {\n",
              "      --bg-color: #3B4455;\n",
              "      --fill-color: #D2E3FC;\n",
              "      --hover-bg-color: #434B5C;\n",
              "      --hover-fill-color: #FFFFFF;\n",
              "      --disabled-bg-color: #3B4455;\n",
              "      --disabled-fill-color: #666;\n",
              "  }\n",
              "\n",
              "  .colab-df-quickchart {\n",
              "    background-color: var(--bg-color);\n",
              "    border: none;\n",
              "    border-radius: 50%;\n",
              "    cursor: pointer;\n",
              "    display: none;\n",
              "    fill: var(--fill-color);\n",
              "    height: 32px;\n",
              "    padding: 0;\n",
              "    width: 32px;\n",
              "  }\n",
              "\n",
              "  .colab-df-quickchart:hover {\n",
              "    background-color: var(--hover-bg-color);\n",
              "    box-shadow: 0 1px 2px rgba(60, 64, 67, 0.3), 0 1px 3px 1px rgba(60, 64, 67, 0.15);\n",
              "    fill: var(--button-hover-fill-color);\n",
              "  }\n",
              "\n",
              "  .colab-df-quickchart-complete:disabled,\n",
              "  .colab-df-quickchart-complete:disabled:hover {\n",
              "    background-color: var(--disabled-bg-color);\n",
              "    fill: var(--disabled-fill-color);\n",
              "    box-shadow: none;\n",
              "  }\n",
              "\n",
              "  .colab-df-spinner {\n",
              "    border: 2px solid var(--fill-color);\n",
              "    border-color: transparent;\n",
              "    border-bottom-color: var(--fill-color);\n",
              "    animation:\n",
              "      spin 1s steps(1) infinite;\n",
              "  }\n",
              "\n",
              "  @keyframes spin {\n",
              "    0% {\n",
              "      border-color: transparent;\n",
              "      border-bottom-color: var(--fill-color);\n",
              "      border-left-color: var(--fill-color);\n",
              "    }\n",
              "    20% {\n",
              "      border-color: transparent;\n",
              "      border-left-color: var(--fill-color);\n",
              "      border-top-color: var(--fill-color);\n",
              "    }\n",
              "    30% {\n",
              "      border-color: transparent;\n",
              "      border-left-color: var(--fill-color);\n",
              "      border-top-color: var(--fill-color);\n",
              "      border-right-color: var(--fill-color);\n",
              "    }\n",
              "    40% {\n",
              "      border-color: transparent;\n",
              "      border-right-color: var(--fill-color);\n",
              "      border-top-color: var(--fill-color);\n",
              "    }\n",
              "    60% {\n",
              "      border-color: transparent;\n",
              "      border-right-color: var(--fill-color);\n",
              "    }\n",
              "    80% {\n",
              "      border-color: transparent;\n",
              "      border-right-color: var(--fill-color);\n",
              "      border-bottom-color: var(--fill-color);\n",
              "    }\n",
              "    90% {\n",
              "      border-color: transparent;\n",
              "      border-bottom-color: var(--fill-color);\n",
              "    }\n",
              "  }\n",
              "</style>\n",
              "\n",
              "  <script>\n",
              "    async function quickchart(key) {\n",
              "      const quickchartButtonEl =\n",
              "        document.querySelector('#' + key + ' button');\n",
              "      quickchartButtonEl.disabled = true;  // To prevent multiple clicks.\n",
              "      quickchartButtonEl.classList.add('colab-df-spinner');\n",
              "      try {\n",
              "        const charts = await google.colab.kernel.invokeFunction(\n",
              "            'suggestCharts', [key], {});\n",
              "      } catch (error) {\n",
              "        console.error('Error during call to suggestCharts:', error);\n",
              "      }\n",
              "      quickchartButtonEl.classList.remove('colab-df-spinner');\n",
              "      quickchartButtonEl.classList.add('colab-df-quickchart-complete');\n",
              "    }\n",
              "    (() => {\n",
              "      let quickchartButtonEl =\n",
              "        document.querySelector('#df-05a35d31-d23b-459c-b917-415cb165b2ea button');\n",
              "      quickchartButtonEl.style.display =\n",
              "        google.colab.kernel.accessAllowed ? 'block' : 'none';\n",
              "    })();\n",
              "  </script>\n",
              "</div>\n",
              "\n",
              "    </div>\n",
              "  </div>\n"
            ],
            "application/vnd.google.colaboratory.intrinsic+json": {
              "type": "dataframe",
              "summary": "{\n  \"name\": \"glass_df\",\n  \"rows\": 8,\n  \"fields\": [\n    {\n      \"column\": \"Refractive Index\",\n      \"properties\": {\n        \"dtype\": \"number\",\n        \"std\": 75.20167645196685,\n        \"min\": 0.0030368637393854334,\n        \"max\": 214.0,\n        \"num_unique_values\": 8,\n        \"samples\": [\n          1.5183654205607477,\n          1.51768,\n          214.0\n        ],\n        \"semantic_type\": \"\",\n        \"description\": \"\"\n      }\n    },\n    {\n      \"column\": \"Sodium\",\n      \"properties\": {\n        \"dtype\": \"number\",\n        \"std\": 71.66298840222413,\n        \"min\": 0.816603555714983,\n        \"max\": 214.0,\n        \"num_unique_values\": 8,\n        \"samples\": [\n          13.407850467289718,\n          13.3,\n          214.0\n        ],\n        \"semantic_type\": \"\",\n        \"description\": \"\"\n      }\n    },\n    {\n      \"column\": \"Magnesium\",\n      \"properties\": {\n        \"dtype\": \"number\",\n        \"std\": 74.77384379224597,\n        \"min\": 0.0,\n        \"max\": 214.0,\n        \"num_unique_values\": 8,\n        \"samples\": [\n          2.684532710280374,\n          3.48,\n          214.0\n        ],\n        \"semantic_type\": \"\",\n        \"description\": \"\"\n      }\n    },\n    {\n      \"column\": \"Aluminum\",\n      \"properties\": {\n        \"dtype\": \"number\",\n        \"std\": 75.16591071743483,\n        \"min\": 0.29,\n        \"max\": 214.0,\n        \"num_unique_values\": 8,\n        \"samples\": [\n          1.444906542056075,\n          1.36,\n          214.0\n        ],\n        \"semantic_type\": \"\",\n        \"description\": \"\"\n      }\n    },\n    {\n      \"column\": \"Silicon\",\n      \"properties\": {\n        \"dtype\": \"number\",\n        \"std\": 59.22880894669753,\n        \"min\": 0.7745457947651124,\n        \"max\": 214.0,\n        \"num_unique_values\": 8,\n        \"samples\": [\n          72.65093457943925,\n          72.79,\n          214.0\n        ],\n        \"semantic_type\": \"\",\n        \"description\": \"\"\n      }\n    },\n    {\n      \"column\": \"Potassium\",\n      \"properties\": {\n        \"dtype\": \"number\",\n        \"std\": 75.25146876142092,\n        \"min\": 0.0,\n        \"max\": 214.0,\n        \"num_unique_values\": 8,\n        \"samples\": [\n          0.4970560747663551,\n          0.555,\n          214.0\n        ],\n        \"semantic_type\": \"\",\n        \"description\": \"\"\n      }\n    },\n    {\n      \"column\": \"Calcium\",\n      \"properties\": {\n        \"dtype\": \"number\",\n        \"std\": 72.8471864212463,\n        \"min\": 1.423153487281395,\n        \"max\": 214.0,\n        \"num_unique_values\": 8,\n        \"samples\": [\n          8.95696261682243,\n          8.6,\n          214.0\n        ],\n        \"semantic_type\": \"\",\n        \"description\": \"\"\n      }\n    },\n    {\n      \"column\": \"Barium\",\n      \"properties\": {\n        \"dtype\": \"number\",\n        \"std\": 75.47505067735626,\n        \"min\": 0.0,\n        \"max\": 214.0,\n        \"num_unique_values\": 5,\n        \"samples\": [\n          0.17504672897196263,\n          3.15,\n          0.49721926059970356\n        ],\n        \"semantic_type\": \"\",\n        \"description\": \"\"\n      }\n    },\n    {\n      \"column\": \"Iron\",\n      \"properties\": {\n        \"dtype\": \"number\",\n        \"std\": 75.6220034365281,\n        \"min\": 0.0,\n        \"max\": 214.0,\n        \"num_unique_values\": 6,\n        \"samples\": [\n          214.0,\n          0.05700934579439253,\n          0.51\n        ],\n        \"semantic_type\": \"\",\n        \"description\": \"\"\n      }\n    },\n    {\n      \"column\": \"Class\",\n      \"properties\": {\n        \"dtype\": \"number\",\n        \"std\": 74.73073565843298,\n        \"min\": 1.0,\n        \"max\": 214.0,\n        \"num_unique_values\": 7,\n        \"samples\": [\n          214.0,\n          2.7803738317757007,\n          3.0\n        ],\n        \"semantic_type\": \"\",\n        \"description\": \"\"\n      }\n    }\n  ]\n}"
            }
          },
          "metadata": {},
          "execution_count": 2
        }
      ]
    },
    {
      "cell_type": "markdown",
      "source": [
        "### Divide into training and testing set\n",
        "\n",
        "To create a balanced split StratifiedShuffleSplit will be utilized below with a 20% test size and 80% training size"
      ],
      "metadata": {
        "id": "qvgkt79P-akJ"
      }
    },
    {
      "cell_type": "code",
      "source": [
        "# Utilize scikitlearn for a stratify split\n",
        "from sklearn.model_selection import StratifiedShuffleSplit\n",
        "\n",
        "# Separate the features (X) and the target variable (y) aka Class\n",
        "X = glass_df.drop('Class', axis=1)\n",
        "y = glass_df['Class']\n",
        "\n",
        "# Create StratifiedShuffleSplit with 1 split, 20% test size, 80% training and random state 42\n",
        "split = StratifiedShuffleSplit(n_splits=1, test_size=0.2, random_state=42)\n",
        "# Split data\n",
        "for train_index, test_index in split.split(X, y):\n",
        "   X_train = X.iloc[train_index]\n",
        "   X_test = X.iloc[test_index]\n",
        "   y_train = y.iloc[train_index]\n",
        "   y_test = y.iloc[test_index]\n",
        "\n",
        "# Check to confirm successful 80 : 20 split\n",
        "print(\"X_train:\", X_train.shape)\n",
        "print(\"X_test:\", X_test.shape)\n",
        "print(\"y_train:\", y_train.shape)\n",
        "print(\"y_test:\", y_test.shape)"
      ],
      "metadata": {
        "colab": {
          "base_uri": "https://localhost:8080/"
        },
        "id": "gDe14nXD-hF-",
        "outputId": "91b759ca-eb76-4572-ccf4-f5f5d7bc3c1c"
      },
      "execution_count": 3,
      "outputs": [
        {
          "output_type": "stream",
          "name": "stdout",
          "text": [
            "X_train: (171, 9)\n",
            "X_test: (43, 9)\n",
            "y_train: (171,)\n",
            "y_test: (43,)\n"
          ]
        }
      ]
    },
    {
      "cell_type": "markdown",
      "source": [
        "Confirming the split was successful. The training set has 80% of the original 214 instances, while the testing set has 20% of the original instances. 9 in the X-train and X_test show the number of columns/features."
      ],
      "metadata": {
        "id": "l_Mq3gsF-mgv"
      }
    },
    {
      "cell_type": "markdown",
      "source": [
        "### Check for missing values in the training and testing set"
      ],
      "metadata": {
        "id": "B_Yo8Qh2-qVu"
      }
    },
    {
      "cell_type": "code",
      "source": [
        "# Checking missing values in training set\n",
        "\n",
        "# Check for missing values in X_train\n",
        "missing_values = X_train.isnull().sum()\n",
        "\n",
        "# Print missing values in X_train\n",
        "print(\"Missing Values in X_train:\")\n",
        "print(missing_values)\n",
        "print()\n",
        "\n",
        "# Check for missing values in y_train\n",
        "missing_values = y_train.isnull().sum()\n",
        "\n",
        "# Print missing values in y_train\n",
        "print(\"Missing Values in y_train:\")\n",
        "print(missing_values)\n",
        "\n",
        "# Checking missing values in test set\n",
        "\n",
        "# Check for missing values in X_test\n",
        "missing_values = X_test.isnull().sum()\n",
        "\n",
        "# Print missing values in X_test\n",
        "print(\"Missing Values in X_test:\")\n",
        "print(missing_values)\n",
        "print()\n",
        "\n",
        "# Check for missing values in y_test\n",
        "missing_values = y_test.isnull().sum()\n",
        "\n",
        "# Print missing values in y_test\n",
        "print(\"Missing Values in y_test:\")\n",
        "print(missing_values)"
      ],
      "metadata": {
        "colab": {
          "base_uri": "https://localhost:8080/"
        },
        "id": "Ik5d_cwY-vKM",
        "outputId": "c0b9e15c-5fcf-402f-a659-b1ee8a262ab6"
      },
      "execution_count": 4,
      "outputs": [
        {
          "output_type": "stream",
          "name": "stdout",
          "text": [
            "Missing Values in X_train:\n",
            "Refractive Index    0\n",
            "Sodium              0\n",
            "Magnesium           0\n",
            "Aluminum            0\n",
            "Silicon             0\n",
            "Potassium           0\n",
            "Calcium             0\n",
            "Barium              0\n",
            "Iron                0\n",
            "dtype: int64\n",
            "\n",
            "Missing Values in y_train:\n",
            "0\n",
            "Missing Values in X_test:\n",
            "Refractive Index    0\n",
            "Sodium              0\n",
            "Magnesium           0\n",
            "Aluminum            0\n",
            "Silicon             0\n",
            "Potassium           0\n",
            "Calcium             0\n",
            "Barium              0\n",
            "Iron                0\n",
            "dtype: int64\n",
            "\n",
            "Missing Values in y_test:\n",
            "0\n"
          ]
        }
      ]
    },
    {
      "cell_type": "markdown",
      "source": [
        "0 missing values in training and testing set"
      ],
      "metadata": {
        "id": "A7Hu3KKi-yL6"
      }
    },
    {
      "cell_type": "markdown",
      "source": [
        "### Prepare data: Convert variables and preform feature scaling\n"
      ],
      "metadata": {
        "id": "xBgZfEHa_A0I"
      }
    },
    {
      "cell_type": "markdown",
      "source": [
        "The target variable \"Class\" is already a categorical variable an encoded as an integer: 1, 2, 3, 4, 5, 6, or 7. No need to convert with on hot encoded. No need to convert to ordinal as the classes are associated with glass from a particular object. For example, class 6 is table glass. They are not actually ranked."
      ],
      "metadata": {
        "id": "aFIHDVHI_QKs"
      }
    },
    {
      "cell_type": "code",
      "source": [
        "# Target is already encoded as integer\n",
        "display(y_train)"
      ],
      "metadata": {
        "colab": {
          "base_uri": "https://localhost:8080/",
          "height": 225
        },
        "id": "75tvXnWY_PnE",
        "outputId": "90832e9f-a0d3-4813-cb5b-be210fde4731"
      },
      "execution_count": 5,
      "outputs": [
        {
          "output_type": "display_data",
          "data": {
            "text/plain": [
              "201    7\n",
              "38     1\n",
              "30     1\n",
              "48     1\n",
              "71     2\n",
              "      ..\n",
              "198    7\n",
              "63     1\n",
              "157    3\n",
              "150    3\n",
              "178    6\n",
              "Name: Class, Length: 171, dtype: int64"
            ]
          },
          "metadata": {}
        }
      ]
    },
    {
      "cell_type": "markdown",
      "source": [
        "Feature Scaling on X_train, no scaling needed for y_train"
      ],
      "metadata": {
        "id": "aXKZi3yL_gkO"
      }
    },
    {
      "cell_type": "code",
      "source": [
        "# Feature Scaling on X_train, no scaling needed for y_train\n",
        "\n",
        "# Scaling method below used from class 6 lab\n",
        "\n",
        "# Compute the minimum value per feature on the training set\n",
        "min_on_training = X_train.min(axis=0)\n",
        "\n",
        "# Compute the range of each feature (max - min) on the training set\n",
        "range_on_training = (X_train - min_on_training).max(axis=0)\n",
        "\n",
        "# Subtract the min, divide by range\n",
        "# Afterward, min=0 and max=1 for each feature\n",
        "X_train_scaled = (X_train - min_on_training) / range_on_training\n",
        "print(\"X_train: Minimum for each feature\\n\", X_train_scaled.min(axis=0))\n",
        "print()\n",
        "print(\"X_train: Maximum for each feature\\n\", X_train_scaled.max(axis=0))\n",
        "print()"
      ],
      "metadata": {
        "colab": {
          "base_uri": "https://localhost:8080/"
        },
        "id": "RQVNqqcv_e3X",
        "outputId": "453bbf8d-a619-4e0b-d4a5-8e29b928d5d3"
      },
      "execution_count": 6,
      "outputs": [
        {
          "output_type": "stream",
          "name": "stdout",
          "text": [
            "X_train: Minimum for each feature\n",
            " Refractive Index    0.0\n",
            "Sodium              0.0\n",
            "Magnesium           0.0\n",
            "Aluminum            0.0\n",
            "Silicon             0.0\n",
            "Potassium           0.0\n",
            "Calcium             0.0\n",
            "Barium              0.0\n",
            "Iron                0.0\n",
            "dtype: float64\n",
            "\n",
            "X_train: Maximum for each feature\n",
            " Refractive Index    1.0\n",
            "Sodium              1.0\n",
            "Magnesium           1.0\n",
            "Aluminum            1.0\n",
            "Silicon             1.0\n",
            "Potassium           1.0\n",
            "Calcium             1.0\n",
            "Barium              1.0\n",
            "Iron                1.0\n",
            "dtype: float64\n",
            "\n"
          ]
        }
      ]
    },
    {
      "cell_type": "markdown",
      "source": [
        "Feature Scaling on X_test"
      ],
      "metadata": {
        "id": "pxtDwFOk_r0K"
      }
    },
    {
      "cell_type": "code",
      "source": [
        "# Feature Scaling on X_test, no scaling needed for y_test\n",
        "\n",
        "# Compute the minimum value per feature on the test set\n",
        "min_on_testing = X_test.min(axis=0)\n",
        "\n",
        "# Compute the range of each feature (max - min) on the test set\n",
        "range_on_testing = (X_test - min_on_testing).max(axis=0)\n",
        "\n",
        "# Subtract the min, divide by range\n",
        "# Afterward, min=0 and max=1 for each feature\n",
        "X_test_scaled = (X_test - min_on_testing) / range_on_testing\n",
        "print(\"X_test: Minimum for each feature\\n\", X_test_scaled.min(axis=0))\n",
        "print()\n",
        "print(\"X_test: Maximum for each feature\\n\", X_test_scaled.max(axis=0))"
      ],
      "metadata": {
        "colab": {
          "base_uri": "https://localhost:8080/"
        },
        "id": "RWF_BydV_sS3",
        "outputId": "1e5752f1-ea53-41d8-f57f-551a63f7f634"
      },
      "execution_count": 7,
      "outputs": [
        {
          "output_type": "stream",
          "name": "stdout",
          "text": [
            "X_test: Minimum for each feature\n",
            " Refractive Index    0.0\n",
            "Sodium              0.0\n",
            "Magnesium           0.0\n",
            "Aluminum            0.0\n",
            "Silicon             0.0\n",
            "Potassium           0.0\n",
            "Calcium             0.0\n",
            "Barium              0.0\n",
            "Iron                0.0\n",
            "dtype: float64\n",
            "\n",
            "X_test: Maximum for each feature\n",
            " Refractive Index    1.0\n",
            "Sodium              1.0\n",
            "Magnesium           1.0\n",
            "Aluminum            1.0\n",
            "Silicon             1.0\n",
            "Potassium           1.0\n",
            "Calcium             1.0\n",
            "Barium              1.0\n",
            "Iron                1.0\n",
            "dtype: float64\n"
          ]
        }
      ]
    },
    {
      "cell_type": "markdown",
      "source": [
        "# Step 2: PCA for feature selection\n",
        "\n",
        "*  Show how many features do you need to retain to capture 95% of the variance\n",
        "*  Evaluate whether this improves your best-performing model from Project 2"
      ],
      "metadata": {
        "id": "vtZK_I4CXRyz"
      }
    },
    {
      "cell_type": "code",
      "source": [
        "%matplotlib inline\n",
        "import matplotlib.pyplot as plt\n",
        "import numpy as np\n",
        "import pandas as pd\n",
        "from sklearn.decomposition import PCA\n",
        "from sklearn.tree import DecisionTreeClassifier"
      ],
      "metadata": {
        "id": "M8ct7Ax0C03c"
      },
      "execution_count": 17,
      "outputs": []
    },
    {
      "cell_type": "code",
      "source": [
        "# Fit PCA to data\n",
        "pca = PCA(n_components=0.95)\n",
        "\n",
        "# fit on and transforming the training set and then transform the test set\n",
        "X_train_pca = pca.fit_transform(X_train)\n",
        "X_test_pca = pca.transform(X_test)"
      ],
      "metadata": {
        "id": "-gsjVV10Cqi8"
      },
      "execution_count": 18,
      "outputs": []
    },
    {
      "cell_type": "markdown",
      "source": [
        "### PCA (95% variance)"
      ],
      "metadata": {
        "id": "mR07zsYVKDjl"
      }
    },
    {
      "cell_type": "markdown",
      "source": [
        "### PCA on supervised learning\n",
        "\n",
        "PCA feature selection accurately performed as a pre-processing step for supervised learning"
      ],
      "metadata": {
        "id": "xg8cmyQtKJFI"
      }
    },
    {
      "cell_type": "code",
      "source": [
        "# Decision Tree from preprocessed data\n",
        "\n",
        "model = DecisionTreeClassifier(random_state=0).fit(X_train, y_train)\n",
        "\n",
        "print(\"Accuracy on training set: {:.2f}\".format(model.score(X_train, y_train)))\n",
        "print(\"Accuracy on test set: {:.2f}\".format(model.score(X_test, y_test)))"
      ],
      "metadata": {
        "colab": {
          "base_uri": "https://localhost:8080/"
        },
        "id": "kYEtwIaXGNI_",
        "outputId": "6d8edcd7-5226-43bf-b6dc-9f9144b6f0c8"
      },
      "execution_count": 23,
      "outputs": [
        {
          "output_type": "stream",
          "name": "stdout",
          "text": [
            "Accuracy on training set: 1.00\n",
            "Accuracy on test set: 0.65\n"
          ]
        }
      ]
    },
    {
      "cell_type": "code",
      "source": [
        "# keep all the principal components of the data\n",
        "pca1 = PCA()\n",
        "# fit PCA model to data\n",
        "pca1.fit(X_train)\n",
        "\n",
        "print('-'*20 + 'Explained variance ratio' + '-'*20)\n",
        "print(pca1.explained_variance_ratio_)"
      ],
      "metadata": {
        "colab": {
          "base_uri": "https://localhost:8080/"
        },
        "id": "f4ixr57eFbgz",
        "outputId": "e2634c06-de4b-4621-fea3-55c73aac1bb3"
      },
      "execution_count": 19,
      "outputs": [
        {
          "output_type": "stream",
          "name": "stdout",
          "text": [
            "--------------------Explained variance ratio--------------------\n",
            "[4.64992829e-01 2.74213171e-01 1.19789288e-01 9.03112789e-02\n",
            " 3.22091928e-02 1.65603839e-02 1.66203880e-03 2.61653583e-04\n",
            " 1.64849354e-07]\n"
          ]
        }
      ]
    },
    {
      "cell_type": "code",
      "source": [
        "# keep the components that explain 95% of the variance in the data\n",
        "pca4 = PCA(n_components=0.95)\n",
        "# fit PCA model to data\n",
        "X_train_pca4 = pca4.fit_transform(X_train)\n",
        "# transform data onto the first two principal components\n",
        "X_test_pca4 = pca4.transform(X_test)\n",
        "\n",
        "\n",
        "#model=LogisticRegression().fit(X2_train, y2_train)\n",
        "model3 = DecisionTreeClassifier(random_state=0).fit(X_train_pca4, y_train)\n",
        "\n",
        "print(\"Accuracy on training set: {:.2f}\".format(model3.score(X_train_pca4, y_train)))\n",
        "print(\"Accuracy on test set: {:.2f}\".format(model3.score(X_test_pca4, y_test)))"
      ],
      "metadata": {
        "colab": {
          "base_uri": "https://localhost:8080/"
        },
        "id": "YUdBDA7mG9J-",
        "outputId": "86aff3be-10bc-4945-c269-ffe3d68d21bd"
      },
      "execution_count": 24,
      "outputs": [
        {
          "output_type": "stream",
          "name": "stdout",
          "text": [
            "Accuracy on training set: 1.00\n",
            "Accuracy on test set: 0.67\n"
          ]
        }
      ]
    },
    {
      "cell_type": "code",
      "source": [
        "# keep components to explain 95% of the variance\n",
        "pca2 = PCA(n_components=0.95)\n",
        "# fit PCA model to data\n",
        "pca2.fit(X_train)\n",
        "\n",
        "print('-'*20 + 'Explained variance ratio' + '-'*20)\n",
        "print(pca2.explained_variance_ratio_)\n"
      ],
      "metadata": {
        "colab": {
          "base_uri": "https://localhost:8080/"
        },
        "id": "z5LWRUUvF0HW",
        "outputId": "e0a3e299-ad35-4616-e4d9-169e1565bd9c"
      },
      "execution_count": 20,
      "outputs": [
        {
          "output_type": "stream",
          "name": "stdout",
          "text": [
            "--------------------Explained variance ratio--------------------\n",
            "[0.46499283 0.27421317 0.11978929 0.09031128 0.03220919]\n"
          ]
        }
      ]
    },
    {
      "cell_type": "code",
      "source": [
        "# Feature names for plotting\n",
        "feature_names = ['Refractive Index', 'Sodium', 'Magnesium', 'Aluminum',\n",
        "    'Silicon', 'Potassium', 'Calcium', 'Barium', 'Iron']\n",
        "\n",
        "# plot the principal components\n",
        "plt.matshow(pca.components_, cmap='viridis')\n",
        "plt.yticks([0, 1], [\"First component\", \"Second component\"])\n",
        "plt.colorbar()\n",
        "plt.xticks(range(len(feat)),\n",
        "           glass_df, rotation=60, ha='left')\n",
        "plt.xlabel(\"Feature\")\n",
        "plt.ylabel(\"Principal components\")\n",
        ""
      ],
      "metadata": {
        "colab": {
          "base_uri": "https://localhost:8080/",
          "height": 748
        },
        "id": "7HK12x-4Cvn0",
        "outputId": "e231495a-3f3f-4474-aff6-701a4db78924"
      },
      "execution_count": 28,
      "outputs": [
        {
          "output_type": "error",
          "ename": "ValueError",
          "evalue": "The number of FixedLocator locations (9), usually from a call to set_ticks, does not match the number of labels (10).",
          "traceback": [
            "\u001b[0;31m---------------------------------------------------------------------------\u001b[0m",
            "\u001b[0;31mValueError\u001b[0m                                Traceback (most recent call last)",
            "\u001b[0;32m<ipython-input-28-9cccdfd9c218>\u001b[0m in \u001b[0;36m<cell line: 9>\u001b[0;34m()\u001b[0m\n\u001b[1;32m      7\u001b[0m \u001b[0mplt\u001b[0m\u001b[0;34m.\u001b[0m\u001b[0myticks\u001b[0m\u001b[0;34m(\u001b[0m\u001b[0;34m[\u001b[0m\u001b[0;36m0\u001b[0m\u001b[0;34m,\u001b[0m \u001b[0;36m1\u001b[0m\u001b[0;34m]\u001b[0m\u001b[0;34m,\u001b[0m \u001b[0;34m[\u001b[0m\u001b[0;34m\"First component\"\u001b[0m\u001b[0;34m,\u001b[0m \u001b[0;34m\"Second component\"\u001b[0m\u001b[0;34m]\u001b[0m\u001b[0;34m)\u001b[0m\u001b[0;34m\u001b[0m\u001b[0;34m\u001b[0m\u001b[0m\n\u001b[1;32m      8\u001b[0m \u001b[0mplt\u001b[0m\u001b[0;34m.\u001b[0m\u001b[0mcolorbar\u001b[0m\u001b[0;34m(\u001b[0m\u001b[0;34m)\u001b[0m\u001b[0;34m\u001b[0m\u001b[0;34m\u001b[0m\u001b[0m\n\u001b[0;32m----> 9\u001b[0;31m plt.xticks(range(len(feature_names)),\n\u001b[0m\u001b[1;32m     10\u001b[0m            glass_df, rotation=60, ha='left')\n\u001b[1;32m     11\u001b[0m \u001b[0mplt\u001b[0m\u001b[0;34m.\u001b[0m\u001b[0mxlabel\u001b[0m\u001b[0;34m(\u001b[0m\u001b[0;34m\"Feature\"\u001b[0m\u001b[0;34m)\u001b[0m\u001b[0;34m\u001b[0m\u001b[0;34m\u001b[0m\u001b[0m\n",
            "\u001b[0;32m/usr/local/lib/python3.10/dist-packages/matplotlib/pyplot.py\u001b[0m in \u001b[0;36mxticks\u001b[0;34m(ticks, labels, minor, **kwargs)\u001b[0m\n\u001b[1;32m   1891\u001b[0m             \u001b[0ml\u001b[0m\u001b[0;34m.\u001b[0m\u001b[0m_internal_update\u001b[0m\u001b[0;34m(\u001b[0m\u001b[0mkwargs\u001b[0m\u001b[0;34m)\u001b[0m\u001b[0;34m\u001b[0m\u001b[0;34m\u001b[0m\u001b[0m\n\u001b[1;32m   1892\u001b[0m     \u001b[0;32melse\u001b[0m\u001b[0;34m:\u001b[0m\u001b[0;34m\u001b[0m\u001b[0;34m\u001b[0m\u001b[0m\n\u001b[0;32m-> 1893\u001b[0;31m         \u001b[0mlabels\u001b[0m \u001b[0;34m=\u001b[0m \u001b[0max\u001b[0m\u001b[0;34m.\u001b[0m\u001b[0mset_xticklabels\u001b[0m\u001b[0;34m(\u001b[0m\u001b[0mlabels\u001b[0m\u001b[0;34m,\u001b[0m \u001b[0mminor\u001b[0m\u001b[0;34m=\u001b[0m\u001b[0mminor\u001b[0m\u001b[0;34m,\u001b[0m \u001b[0;34m**\u001b[0m\u001b[0mkwargs\u001b[0m\u001b[0;34m)\u001b[0m\u001b[0;34m\u001b[0m\u001b[0;34m\u001b[0m\u001b[0m\n\u001b[0m\u001b[1;32m   1894\u001b[0m \u001b[0;34m\u001b[0m\u001b[0m\n\u001b[1;32m   1895\u001b[0m     \u001b[0;32mreturn\u001b[0m \u001b[0mlocs\u001b[0m\u001b[0;34m,\u001b[0m \u001b[0mlabels\u001b[0m\u001b[0;34m\u001b[0m\u001b[0;34m\u001b[0m\u001b[0m\n",
            "\u001b[0;32m/usr/local/lib/python3.10/dist-packages/matplotlib/axes/_base.py\u001b[0m in \u001b[0;36mwrapper\u001b[0;34m(self, *args, **kwargs)\u001b[0m\n\u001b[1;32m     72\u001b[0m \u001b[0;34m\u001b[0m\u001b[0m\n\u001b[1;32m     73\u001b[0m         \u001b[0;32mdef\u001b[0m \u001b[0mwrapper\u001b[0m\u001b[0;34m(\u001b[0m\u001b[0mself\u001b[0m\u001b[0;34m,\u001b[0m \u001b[0;34m*\u001b[0m\u001b[0margs\u001b[0m\u001b[0;34m,\u001b[0m \u001b[0;34m**\u001b[0m\u001b[0mkwargs\u001b[0m\u001b[0;34m)\u001b[0m\u001b[0;34m:\u001b[0m\u001b[0;34m\u001b[0m\u001b[0;34m\u001b[0m\u001b[0m\n\u001b[0;32m---> 74\u001b[0;31m             \u001b[0;32mreturn\u001b[0m \u001b[0mget_method\u001b[0m\u001b[0;34m(\u001b[0m\u001b[0mself\u001b[0m\u001b[0;34m)\u001b[0m\u001b[0;34m(\u001b[0m\u001b[0;34m*\u001b[0m\u001b[0margs\u001b[0m\u001b[0;34m,\u001b[0m \u001b[0;34m**\u001b[0m\u001b[0mkwargs\u001b[0m\u001b[0;34m)\u001b[0m\u001b[0;34m\u001b[0m\u001b[0;34m\u001b[0m\u001b[0m\n\u001b[0m\u001b[1;32m     75\u001b[0m \u001b[0;34m\u001b[0m\u001b[0m\n\u001b[1;32m     76\u001b[0m         \u001b[0mwrapper\u001b[0m\u001b[0;34m.\u001b[0m\u001b[0m__module__\u001b[0m \u001b[0;34m=\u001b[0m \u001b[0mowner\u001b[0m\u001b[0;34m.\u001b[0m\u001b[0m__module__\u001b[0m\u001b[0;34m\u001b[0m\u001b[0;34m\u001b[0m\u001b[0m\n",
            "\u001b[0;32m/usr/local/lib/python3.10/dist-packages/matplotlib/_api/deprecation.py\u001b[0m in \u001b[0;36mwrapper\u001b[0;34m(*args, **kwargs)\u001b[0m\n\u001b[1;32m    295\u001b[0m                 f\"for the old name will be dropped %(removal)s.\")\n\u001b[1;32m    296\u001b[0m             \u001b[0mkwargs\u001b[0m\u001b[0;34m[\u001b[0m\u001b[0mnew\u001b[0m\u001b[0;34m]\u001b[0m \u001b[0;34m=\u001b[0m \u001b[0mkwargs\u001b[0m\u001b[0;34m.\u001b[0m\u001b[0mpop\u001b[0m\u001b[0;34m(\u001b[0m\u001b[0mold\u001b[0m\u001b[0;34m)\u001b[0m\u001b[0;34m\u001b[0m\u001b[0;34m\u001b[0m\u001b[0m\n\u001b[0;32m--> 297\u001b[0;31m         \u001b[0;32mreturn\u001b[0m \u001b[0mfunc\u001b[0m\u001b[0;34m(\u001b[0m\u001b[0;34m*\u001b[0m\u001b[0margs\u001b[0m\u001b[0;34m,\u001b[0m \u001b[0;34m**\u001b[0m\u001b[0mkwargs\u001b[0m\u001b[0;34m)\u001b[0m\u001b[0;34m\u001b[0m\u001b[0;34m\u001b[0m\u001b[0m\n\u001b[0m\u001b[1;32m    298\u001b[0m \u001b[0;34m\u001b[0m\u001b[0m\n\u001b[1;32m    299\u001b[0m     \u001b[0;31m# wrapper() must keep the same documented signature as func(): if we\u001b[0m\u001b[0;34m\u001b[0m\u001b[0;34m\u001b[0m\u001b[0m\n",
            "\u001b[0;32m/usr/local/lib/python3.10/dist-packages/matplotlib/axis.py\u001b[0m in \u001b[0;36mset_ticklabels\u001b[0;34m(self, labels, minor, fontdict, **kwargs)\u001b[0m\n\u001b[1;32m   1967\u001b[0m             \u001b[0;31m# remove all tick labels, so only error for > 0 labels\u001b[0m\u001b[0;34m\u001b[0m\u001b[0;34m\u001b[0m\u001b[0m\n\u001b[1;32m   1968\u001b[0m             \u001b[0;32mif\u001b[0m \u001b[0mlen\u001b[0m\u001b[0;34m(\u001b[0m\u001b[0mlocator\u001b[0m\u001b[0;34m.\u001b[0m\u001b[0mlocs\u001b[0m\u001b[0;34m)\u001b[0m \u001b[0;34m!=\u001b[0m \u001b[0mlen\u001b[0m\u001b[0;34m(\u001b[0m\u001b[0mlabels\u001b[0m\u001b[0;34m)\u001b[0m \u001b[0;32mand\u001b[0m \u001b[0mlen\u001b[0m\u001b[0;34m(\u001b[0m\u001b[0mlabels\u001b[0m\u001b[0;34m)\u001b[0m \u001b[0;34m!=\u001b[0m \u001b[0;36m0\u001b[0m\u001b[0;34m:\u001b[0m\u001b[0;34m\u001b[0m\u001b[0;34m\u001b[0m\u001b[0m\n\u001b[0;32m-> 1969\u001b[0;31m                 raise ValueError(\n\u001b[0m\u001b[1;32m   1970\u001b[0m                     \u001b[0;34m\"The number of FixedLocator locations\"\u001b[0m\u001b[0;34m\u001b[0m\u001b[0;34m\u001b[0m\u001b[0m\n\u001b[1;32m   1971\u001b[0m                     \u001b[0;34mf\" ({len(locator.locs)}), usually from a call to\"\u001b[0m\u001b[0;34m\u001b[0m\u001b[0;34m\u001b[0m\u001b[0m\n",
            "\u001b[0;31mValueError\u001b[0m: The number of FixedLocator locations (9), usually from a call to set_ticks, does not match the number of labels (10)."
          ]
        },
        {
          "output_type": "display_data",
          "data": {
            "text/plain": [
              "<Figure size 864x480 with 2 Axes>"
            ],
            "image/png": "[encoded data removed]"
          },
          "metadata": {}
        }
      ]
    },
    {
      "cell_type": "markdown",
      "source": [
        "# Step 3: Apply 3-types of clustering on your data and visualize the output of each both with and without PCA run on it first. Calculate both ARI and Silhouette Coefficient for all six of the combinations.\n",
        "\n",
        "\n",
        "*   k-Means (use an elbow visualization to determine the optimal numbers of clusters)\n",
        "*   Aggolmerate/Hierarchical\n",
        "*   DBSCAN\n",
        "\n",
        "\n",
        "\n",
        "\n",
        "\n",
        "\n",
        "\n"
      ],
      "metadata": {
        "id": "PPCYSkA9Xefh"
      }
    },
    {
      "cell_type": "markdown",
      "source": [
        "### K-Means run and visualized without PCA\n",
        "\n",
        "Calculate both ARI and Silhouette Coefficient"
      ],
      "metadata": {
        "id": "1oMmRiaxIeSC"
      }
    },
    {
      "cell_type": "markdown",
      "source": [
        "### K-Means run and visualized with PCA\n",
        "Calculate both ARI and Silhouette Coefficient"
      ],
      "metadata": {
        "id": "WXAjV7AJIuAk"
      }
    },
    {
      "cell_type": "markdown",
      "source": [
        "### K-Means elbow visualization"
      ],
      "metadata": {
        "id": "ZwZ3FtbDJk9G"
      }
    },
    {
      "cell_type": "markdown",
      "source": [
        "### Aggolmerate/Hierarchical run and visualized without PCA\n",
        "\n",
        "Calculate both ARI and Silhouette Coefficient"
      ],
      "metadata": {
        "id": "opfw7kNnJF00"
      }
    },
    {
      "cell_type": "markdown",
      "source": [
        "### Aggolmerate/Hierarchical run and visualized with PCA\n",
        "\n",
        "Calculate both ARI and Silhouette Coefficient"
      ],
      "metadata": {
        "id": "Z6OXjp_4JPeb"
      }
    },
    {
      "cell_type": "markdown",
      "source": [
        "### DBSCAN run and visualized without PCA\n",
        "\n",
        "Calculate both ARI and Silhouette Coefficient"
      ],
      "metadata": {
        "id": "4vLiUnprJWOd"
      }
    },
    {
      "cell_type": "markdown",
      "source": [
        "### DBSCAN run and visualized with PCA\n",
        "\n",
        "Calculate both ARI and Silhouette Coefficient"
      ],
      "metadata": {
        "id": "aHlJ0hZFJd2d"
      }
    }
  ]
}